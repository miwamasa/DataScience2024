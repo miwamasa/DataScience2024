{
 "cells": [
  {
   "attachments": {},
   "cell_type": "markdown",
   "metadata": {},
   "source": [
    "# Lecture7　回帰分析2\n",
    "<div dir='rtl'>\n",
    "2024.4岩政\n",
    "</div>\n"
   ]
  },
  {
   "cell_type": "markdown",
   "metadata": {},
   "source": [
    "## 重回帰分析\n",
    "2つの説明変数と関係しない変数の誤ったモデル"
   ]
  },
  {
   "cell_type": "code",
   "execution_count": null,
   "metadata": {},
   "outputs": [],
   "source": [
    "# -*- coding: utf-8 -*-\n",
    "import numpy as np\n",
    "import pandas as pd\n",
    "\n",
    "import matplotlib.pyplot as plt\n",
    "%matplotlib inline\n",
    "\n",
    "import statsmodels.formula.api as smf\n",
    "\n",
    "from mpl_toolkits.mplot3d import Axes3D # for 3D-graph, 明示的には使わないが、インポートしておく必要がある\n",
    "import seaborn as sns\n",
    "np.random.seed(123) #再現性を得るため"
   ]
  },
  {
   "cell_type": "markdown",
   "metadata": {},
   "source": [
    "## F検定の値を見る\n",
    "真のシステム：y = b1*x1 + b2*x2 + noise  \n",
    "モデル:　y = b1*x1 + b2*x2"
   ]
  },
  {
   "cell_type": "code",
   "execution_count": null,
   "metadata": {},
   "outputs": [],
   "source": [
    "num = 30\n",
    "noise = np.random.normal(0.0, 0.1, num)\n",
    "rad = np.linspace(-np.pi,np.pi,num)\n",
    "x1 = np.sin(rad)\n",
    "x2 = np.random.normal(-2.0, 3.0, num)"
   ]
  },
  {
   "cell_type": "code",
   "execution_count": null,
   "metadata": {},
   "outputs": [],
   "source": [
    "b1, b2 = 1.1, -0.55 # beta_0, beta_1\n",
    "y = b1*x1 + b2*x2 + noise\n",
    "df = pd.DataFrame({'y':y, 'x1':x1, 'x2':x2})\n",
    "sns_plot = sns.pairplot(df,  diag_kind='hist')"
   ]
  },
  {
   "cell_type": "code",
   "execution_count": null,
   "metadata": {
    "vscode": {
     "languageId": "markdown"
    }
   },
   "outputs": [],
   "source": [
    "\n",
    "results = smf.ols('y ~ x1 + x2 -1', data=df).fit()\n",
    "results.summary()"
   ]
  },
  {
   "cell_type": "code",
   "execution_count": null,
   "metadata": {},
   "outputs": [],
   "source": [
    "plt.scatter(y,results.predict())"
   ]
  },
  {
   "cell_type": "code",
   "execution_count": null,
   "metadata": {},
   "outputs": [],
   "source": [
    "b1, b2 = 0.0001, -0.000055\n",
    "y = b1*x1 + b2*x2 + noise\n",
    "df = pd.DataFrame({'y':y, 'x1':x1, 'x2':x2})\n",
    "sns_plot = sns.pairplot(df,  diag_kind='hist')"
   ]
  },
  {
   "cell_type": "code",
   "execution_count": null,
   "metadata": {},
   "outputs": [],
   "source": [
    "results = smf.ols('y ~ x1 + x2 -1', data=df).fit()\n",
    "results.summary()"
   ]
  },
  {
   "cell_type": "code",
   "execution_count": null,
   "metadata": {},
   "outputs": [],
   "source": [
    "plt.scatter(y,results.predict())"
   ]
  },
  {
   "cell_type": "markdown",
   "metadata": {},
   "source": [
    "## 多重共線性（multicollinearity）の影響を見る"
   ]
  },
  {
   "cell_type": "code",
   "execution_count": null,
   "metadata": {},
   "outputs": [],
   "source": [
    "num = 30\n",
    "rad = np.linspace(-np.pi, np.pi, num)\n",
    "x1 = np.sin(rad)\n",
    "x2 = np.random.normal(-2.0, 3.0, num)\n",
    "\n",
    "b1, b2 = 3.3, -1.25\n",
    "noise = 0.001*np.random.normal( 0.0, 1.0, num)\n",
    "y = b1*x1 + b2*x2 + noise"
   ]
  },
  {
   "cell_type": "markdown",
   "metadata": {},
   "source": [
    "関係のないx3を測定したと仮定する"
   ]
  },
  {
   "cell_type": "code",
   "execution_count": null,
   "metadata": {},
   "outputs": [],
   "source": [
    "x3 = 3.35*np.sin((rad+0.001))+ 0.001*np.random.normal( 0.0, 1.0, num)\n",
    "df = pd.DataFrame({'y':y, 'x1':x1, 'x2':x2, 'x3':x3})"
   ]
  },
  {
   "cell_type": "code",
   "execution_count": null,
   "metadata": {},
   "outputs": [],
   "source": [
    "sns_plot = sns.pairplot(df,  diag_kind='hist')"
   ]
  },
  {
   "cell_type": "code",
   "execution_count": null,
   "metadata": {},
   "outputs": [],
   "source": [
    "results = smf.ols('y ~ x1 + x2 + x3 -1', data=df).fit()\n",
    "results.summary()"
   ]
  },
  {
   "cell_type": "markdown",
   "metadata": {},
   "source": [
    "\"The condition number is large\"というWarningメッセージが出た場合。<br>\n",
    "condition number（条件数）は、行列の固有値から計算される数値であり、この値が大きいほど連立方程式が解きにくくなり、<br>\n",
    "解に誤差を含む可能性が高いことを示唆する。したがって、出力された数値解は、盲目的に信じることなく、注意して見守る必要がある。"
   ]
  },
  {
   "cell_type": "markdown",
   "metadata": {},
   "source": [
    "#### モデル次数をシステムに合わせる"
   ]
  },
  {
   "cell_type": "code",
   "execution_count": null,
   "metadata": {},
   "outputs": [],
   "source": [
    "results = smf.ols('y ~ x1 + x2 -1', data=df).fit()\n",
    "results.summary()"
   ]
  },
  {
   "cell_type": "markdown",
   "metadata": {},
   "source": [
    "#### ３Dプロット，\n",
    "参照　https://matplotlib.org/mpl_toolkits/mplot3d/tutorial.html"
   ]
  },
  {
   "cell_type": "code",
   "execution_count": null,
   "metadata": {},
   "outputs": [],
   "source": [
    "fig = plt.figure()\n",
    "ax = fig.add_subplot(111, projection='3d')\n",
    "\n",
    "# 軸ラベルの設定\n",
    "ax.set_xlabel(\"x1-axis\")\n",
    "ax.set_ylabel(\"x2-axis\")\n",
    "ax.set_zlabel(\"y-axis\")\n",
    "\n",
    "# 表示範囲の設定\n",
    "ax.set_xlim(-5, 5)\n",
    "ax.set_ylim(-4, 4)\n",
    "ax.set_zlim(-6, 10)\n",
    "\n",
    "#観測データのプロット\n",
    "ax.scatter(x1, x2, y, s=10, color='green')\n",
    "\n",
    "# モデル式の表示\n",
    "xx1 = np.linspace(-5,5,num)\n",
    "xx2 = np.linspace(-4,4,num)\n",
    "\n",
    "c1, c2 = results.params\n",
    "\n",
    "y0 = c1*xx1 + c2*xx2\n",
    "ax.plot(xx1, xx2, y0, color='black', linestyle='dashed')\n",
    "plt.show()"
   ]
  },
  {
   "cell_type": "markdown",
   "metadata": {},
   "source": [
    "## 電力と気温"
   ]
  },
  {
   "cell_type": "code",
   "execution_count": null,
   "metadata": {},
   "outputs": [],
   "source": [
    "\n",
    "url = 'https://sites.google.com/site/datasciencehiro/datasets/ElectricPower.csv'\n",
    "#url = 'datasets/ElectricPower.csv'\n",
    "df_pow = pd.read_csv(url, comment='#', \n",
    "                    index_col='DATE', parse_dates=['DATE'],  \n",
    "                     encoding='SHIFT-JIS' )\n",
    "df_pow.head()"
   ]
  },
  {
   "cell_type": "code",
   "execution_count": null,
   "metadata": {},
   "outputs": [],
   "source": [
    "df_pow.tail()"
   ]
  },
  {
   "cell_type": "markdown",
   "metadata": {},
   "source": [
    "#### ダウンサンプリング\n",
    "https://pandas.pydata.org/pandas-docs/stable/generated/pandas.DataFrame.resample.html  \n",
    "時間軸を日単位として，最大電力だけとする"
   ]
  },
  {
   "cell_type": "code",
   "execution_count": null,
   "metadata": {},
   "outputs": [],
   "source": [
    "df_pow2 = df_pow.resample('D').max() # Dayへのダウンサンプリングと最大電力"
   ]
  },
  {
   "cell_type": "code",
   "execution_count": null,
   "metadata": {},
   "outputs": [],
   "source": [
    "print(df_pow2.head())\n",
    "print(df_pow2.shape)"
   ]
  },
  {
   "cell_type": "markdown",
   "metadata": {},
   "source": [
    "#### 最高気温，最低気温のデータ読込み"
   ]
  },
  {
   "cell_type": "code",
   "execution_count": null,
   "metadata": {},
   "outputs": [],
   "source": [
    "df = pd.read_csv('https://sites.google.com/site/datasciencehiro/datasets/AirTemperature.csv', comment='#', \n",
    "                    index_col='Date', parse_dates=['Date'],  \n",
    "                     encoding='SHIFT-JIS' )\n",
    "print(df.head())\n",
    "print(df.shape)"
   ]
  },
  {
   "cell_type": "markdown",
   "metadata": {},
   "source": [
    "#### データの結合"
   ]
  },
  {
   "cell_type": "code",
   "execution_count": null,
   "metadata": {},
   "outputs": [],
   "source": [
    "df['MaxPower'] = df_pow2.Power"
   ]
  },
  {
   "cell_type": "code",
   "execution_count": null,
   "metadata": {},
   "outputs": [],
   "source": [
    "df"
   ]
  },
  {
   "cell_type": "code",
   "execution_count": null,
   "metadata": {},
   "outputs": [],
   "source": [
    "result = smf.ols('MaxPower ~ MaxTemp + MinTemp', data=df).fit()\n",
    "print(result.summary())"
   ]
  },
  {
   "cell_type": "code",
   "execution_count": null,
   "metadata": {},
   "outputs": [],
   "source": [
    "FLAG_fig=True\n",
    "df.MaxPower.plot()\n",
    "plt.legend()\n"
   ]
  },
  {
   "cell_type": "code",
   "execution_count": null,
   "metadata": {},
   "outputs": [],
   "source": [
    "df.MaxTemp.plot()\n",
    "df.MinTemp.plot()\n",
    "plt.legend()\n"
   ]
  },
  {
   "cell_type": "code",
   "execution_count": null,
   "metadata": {},
   "outputs": [],
   "source": [
    "df1 = df['2017/1/15':'2017/4/30']\n",
    "df2 = df['2017/5/1':'2017/8/31']"
   ]
  },
  {
   "cell_type": "code",
   "execution_count": null,
   "metadata": {},
   "outputs": [],
   "source": [
    "result1 = smf.ols('MaxPower ~ MaxTemp + MinTemp', data=df1).fit()\n",
    "result1.summary()"
   ]
  },
  {
   "cell_type": "code",
   "execution_count": null,
   "metadata": {},
   "outputs": [],
   "source": [
    "#予測\n",
    "NewData = {'MaxTemp':[18.5, 14.0], 'MinTemp':[9.0, 6.5]}\n",
    "NewDf = pd.DataFrame(NewData)\n",
    "NewDf"
   ]
  },
  {
   "cell_type": "code",
   "execution_count": null,
   "metadata": {},
   "outputs": [],
   "source": [
    "pred = result.predict(NewDf)\n",
    "pred"
   ]
  },
  {
   "cell_type": "code",
   "execution_count": null,
   "metadata": {},
   "outputs": [],
   "source": [
    "result2 = smf.ols('MaxPower ~ MaxTemp + MinTemp', data=df2).fit()\n",
    "result2.summary()"
   ]
  },
  {
   "attachments": {},
   "cell_type": "markdown",
   "metadata": {},
   "source": [
    "## 一般化線形モデル　\n",
    "### ロジスティック回帰モデル\n",
    "対象：Spector and Mazzeo (1980) - Program Effectiveness Data <br>\n",
    "http://www.statsmodels.org/dev/datasets/generated/spector.html\n",
    "\n",
    "橋本本5.5.5ロジスティック回帰モデルに出てきた例\n",
    "\n",
    "PSIが成績アップに有効化を検証する例\n",
    "\n",
    "- GPA：前期の成績(0～4)\n",
    "- TUCE:統一テストの結果\n",
    "- PSI:ある教育プログラムを受けた(1)、受けない(0)\n",
    "- GRADE: 成績が上がった(1)、上がっていない(0)"
   ]
  },
  {
   "cell_type": "code",
   "execution_count": null,
   "metadata": {},
   "outputs": [],
   "source": [
    "# -*- coding: utf-8 -*-\n",
    "import numpy as np\n",
    "import pandas as pd\n",
    "import statsmodels.api as sm\n",
    "import statsmodels.formula.api as smf\n",
    "import matplotlib.pyplot as plt\n",
    "\n",
    "#import seaborn as sns\n",
    "\n",
    "np.random.seed(123)"
   ]
  },
  {
   "cell_type": "code",
   "execution_count": null,
   "metadata": {},
   "outputs": [],
   "source": [
    "data = sm.datasets.spector.load().data\n",
    "df = pd.DataFrame(data)\n",
    "print(df.head())"
   ]
  },
  {
   "cell_type": "markdown",
   "metadata": {},
   "source": [
    "ロジスティック回帰は，リンク関数にLogit() を用いる一般化回帰モデル(GLM)の一種であるので，以下のようにも書くことができる\n",
    "https://qiita.com/TomokIshii/items/374ac7d4231adf6a39f4"
   ]
  },
  {
   "cell_type": "code",
   "execution_count": null,
   "metadata": {},
   "outputs": [],
   "source": [
    "glm_model = 'GRADE ~ GPA + TUCE + PSI'\n",
    "#fit = smf.glm(formula=glm_model, data=df, family=sm.families.Binomial(link=sm.families.links.logit))\n",
    "fit = smf.glm(formula=glm_model, data=df, family=sm.families.Binomial())\n",
    "result = fit.fit()\n",
    "result.summary()"
   ]
  },
  {
   "cell_type": "markdown",
   "metadata": {},
   "source": [
    "sm.GLM() で family オプションをつけて使用する分布がBinomial となる指示をする．これで，リンク関数は(Binomialのディフォルトの) logit() を使う処理となる．出力される summary() は次の通り"
   ]
  },
  {
   "cell_type": "code",
   "execution_count": null,
   "metadata": {},
   "outputs": [],
   "source": [
    "df.corr()"
   ]
  },
  {
   "cell_type": "markdown",
   "metadata": {},
   "source": [
    "念のため，縦軸にGRADEをとり，横軸にGPA,色でPSI=1,0を区別したグラフから何かを言えるかを確かめてみた。　 しかし，あまり，有意な特徴を見出すことはできない。"
   ]
  },
  {
   "cell_type": "code",
   "execution_count": null,
   "metadata": {},
   "outputs": [],
   "source": [
    "plt.scatter(df.GPA[df.PSI==1.0], df.GRADE[df.PSI == 1.0] ,c = \"red\", label = \"PSI=1\")\n",
    "plt.scatter(df.GPA[df.PSI==0.0], df.GRADE[df.PSI == 0.0] ,c = \"blue\", label = \"PSI=0\")\n",
    "\n",
    "plt.xlabel('GPA')\n",
    "plt.ylabel('GRADE')\n",
    "#plt.title('Red:PSI=1,  Blue:PSI=0')\n",
    "plt.legend(loc='center left')"
   ]
  },
  {
   "cell_type": "markdown",
   "metadata": {},
   "source": [
    "## 一般化線形モデル　\n",
    "### ポアソン回帰モデル\n",
    "\n",
    "Ref. \n",
    " Possion GLM, https://onlinecourses.science.psu.edu/stat504/node/169  \n",
    " \n",
    "$\\lambda = \\exp(\\beta_0+ \\beta_1)$"
   ]
  },
  {
   "cell_type": "code",
   "execution_count": null,
   "metadata": {},
   "outputs": [],
   "source": [
    "# -*- coding: utf-8 -*-\n",
    "import numpy as np\n",
    "import pandas as pd\n",
    "\n",
    "import statsmodels.api as sm\n",
    "import statsmodels.formula.api as smf\n",
    "import matplotlib.pyplot as plt\n",
    "%matplotlib inline\n",
    "\n",
    "np.random.seed(123)"
   ]
  },
  {
   "cell_type": "markdown",
   "metadata": {},
   "source": [
    "#### ポアソン分布に従う確率変数ｙのデータ生成\n",
    "$\\lambda = \\exp(\\beta_0), \\hspace{3mm} \\beta_1 = 0$ の場合  \n",
    "平均値をlamとおいた"
   ]
  },
  {
   "cell_type": "code",
   "execution_count": null,
   "metadata": {},
   "outputs": [],
   "source": [
    "Num = 1000\n",
    "lam = 5 # lambda\n",
    "y = np.random.poisson(lam,Num)"
   ]
  },
  {
   "cell_type": "code",
   "execution_count": null,
   "metadata": {},
   "outputs": [],
   "source": [
    "count, bins, ignored = plt.hist(y, 14, density=False)\n",
    "\n",
    "if FLAG_fig: plt.savefig('fig_REG_GLM_Poisson1_hist.png')"
   ]
  },
  {
   "cell_type": "markdown",
   "metadata": {},
   "source": [
    "#### 一部をプロット"
   ]
  },
  {
   "cell_type": "code",
   "execution_count": null,
   "metadata": {},
   "outputs": [],
   "source": [
    "n = 100\n",
    "plt.plot( y[0:n])\n"
   ]
  },
  {
   "cell_type": "markdown",
   "metadata": {},
   "source": [
    "一般化線形モデル問題を解く"
   ]
  },
  {
   "cell_type": "code",
   "execution_count": null,
   "metadata": {},
   "outputs": [],
   "source": [
    "x = range(len(y))\n",
    "df = pd.DataFrame({'x':x, 'y':y})"
   ]
  },
  {
   "cell_type": "code",
   "execution_count": null,
   "metadata": {},
   "outputs": [],
   "source": [
    "glm_model = 'y ~ x'\n",
    "result = smf.glm(formula=glm_model, data=df, family=sm.families.Poisson()).fit()\n",
    "print(result.summary())"
   ]
  },
  {
   "cell_type": "code",
   "execution_count": null,
   "metadata": {},
   "outputs": [],
   "source": [
    "b0, b1 = result.params\n",
    "print('exp(b0) =',np.exp(b0))"
   ]
  },
  {
   "cell_type": "code",
   "execution_count": null,
   "metadata": {},
   "outputs": [],
   "source": [
    "print('Mean of y =',df.y.mean())"
   ]
  },
  {
   "cell_type": "markdown",
   "metadata": {},
   "source": [
    "#### ポアソン分布に従う確率変数ｙのデータ生成\n",
    "$\\lambda = \\exp(\\beta_0 + \\beta_1 x1)$, の場合  "
   ]
  },
  {
   "cell_type": "code",
   "execution_count": null,
   "metadata": {},
   "outputs": [],
   "source": [
    "Num = 1000\n",
    "x = np.zeros(Num)\n",
    "y = np.zeros(Num)"
   ]
  },
  {
   "cell_type": "code",
   "execution_count": null,
   "metadata": {},
   "outputs": [],
   "source": [
    "b0 , b1 = 0.5, 3.5\n",
    "for i in range(Num):\n",
    "    x[i] = i\n",
    "    lam = np.exp( b0 + (b1/float(Num)) * (float(i)))\n",
    "    y[i] = np.random.poisson(lam,1)"
   ]
  },
  {
   "cell_type": "code",
   "execution_count": null,
   "metadata": {},
   "outputs": [],
   "source": [
    "count, bins, ignored = plt.hist(y, 14, density=False)\n"
   ]
  },
  {
   "cell_type": "code",
   "execution_count": null,
   "metadata": {},
   "outputs": [],
   "source": [
    "plt.scatter(x, y)\n",
    "plt.title(\"Poisson Distribution\")"
   ]
  },
  {
   "cell_type": "code",
   "execution_count": null,
   "metadata": {},
   "outputs": [],
   "source": [
    "df = pd.DataFrame({'x':x, 'y':y})\n",
    "glm_model = 'y ~ x'\n",
    "result = smf.glm(formula=glm_model, data=df, family=sm.families.Poisson()).fit()\n",
    "print(result.summary())"
   ]
  },
  {
   "cell_type": "markdown",
   "metadata": {},
   "source": [
    "下記で　b1 = b1 * num としているのは，glmはlamの生成式にある(b1/float(num))を予測しており，この分母を払うため"
   ]
  },
  {
   "cell_type": "code",
   "execution_count": null,
   "metadata": {},
   "outputs": [],
   "source": [
    "b0, b1 = result.params\n",
    "b1 = b1 * Num  # 見掛け上のパラメータの分母に(num)があるため，これを払う\n",
    "print(\"b0 = %f  b1 = %f\" % (b0,b1))"
   ]
  },
  {
   "cell_type": "code",
   "execution_count": null,
   "metadata": {},
   "outputs": [],
   "source": [
    "y_pre = np.exp(b0 + (b1/float(Num))*x)\n",
    "plt.scatter(x[0:Num], y[0:Num])\n",
    "plt.plot(x, y_pre, color = 'white')\n"
   ]
  },
  {
   "cell_type": "markdown",
   "metadata": {},
   "source": [
    "#### データの前半500個[0:499]と後半500個[500:999]を入れ替える"
   ]
  },
  {
   "cell_type": "code",
   "execution_count": null,
   "metadata": {},
   "outputs": [],
   "source": [
    "nlen = len(x)\n",
    "n2 = int(nlen/2)\n",
    "\n",
    "xx = np.zeros(nlen)  # この1行は，いわゆる copy.deepcopy() ( import copy )の意味のメモリ確保\n",
    "if nlen % 2 == 0: #even\n",
    "    nst = n2\n",
    "else:\n",
    "    nst = n2 + 1\n",
    "    xx[n2] = x[n2]\n",
    "    \n",
    "xx[0:n2] = x[nst:nlen]\n",
    "xx[nst:nlen]= x[0:n2]\n",
    "\"\"\"\n",
    "print(xx[0:5])\n",
    "print(xx[(n2-1):(n2+4)])\n",
    "print(xx[-5:])\n",
    "\"\"\"\n",
    "yy = np.zeros(nlen)  # この1行は，いわゆる copy.deepcopy() ( import copy )の意味のメモリ確保\n",
    "yy[0:n2] = y[nst:nlen]\n",
    "yy[nst:nlen]= y[0:n2]\n",
    "\n",
    "plt.plot(yy[0:nlen]) # 注意：plot(xx,yy)とすると，先のグラフと同じになる\n",
    "\n"
   ]
  },
  {
   "cell_type": "code",
   "execution_count": null,
   "metadata": {},
   "outputs": [],
   "source": [
    "df = pd.DataFrame({'x':xx, 'y':yy})\n",
    "glm_model = 'y ~ x'\n",
    "result = smf.glm(formula=glm_model, data=df, family=sm.families.Poisson()).fit()\n",
    "print(result.summary())"
   ]
  },
  {
   "cell_type": "markdown",
   "metadata": {},
   "source": [
    "## ロジスティック回帰の例\n",
    " 薬品とカブトムシの生存率\n",
    "原著：Annette J. Dobson and Adrian G. Barnett, An Introduction to Generalized Linear Models, 3rd ed. , CRCPress 2008, p.127  \n",
    "https://reneues.files.wordpress.com/2010/01/an-introduction-to-generalized-linear-models-second-edition-dobson.pdf\n"
   ]
  },
  {
   "cell_type": "code",
   "execution_count": null,
   "metadata": {},
   "outputs": [],
   "source": [
    "# -*- coding: utf-8 -*-\n",
    "import numpy as np\n",
    "import pandas as pd\n",
    "\n",
    "import matplotlib.pyplot as plt\n",
    "%matplotlib inline\n",
    "\n",
    "import statsmodels.api as sm\n",
    "import statsmodels.formula.api as smf\n"
   ]
  },
  {
   "cell_type": "markdown",
   "metadata": {},
   "source": [
    "x:投薬量，n:カブトムシの総数，y:死亡数"
   ]
  },
  {
   "cell_type": "code",
   "execution_count": null,
   "metadata": {},
   "outputs": [],
   "source": [
    "df = pd.DataFrame({'x':[1.6907, 1.7242, 1.7552, 1.7842, 1.8113, 1.8369, 1.861, 1.8839],\n",
    "                   'n':[59, 60, 62, 56, 63, 59, 62, 60],\n",
    "                   'y':[ 6, 13, 18, 28, 52, 53, 61, 60]})\n",
    "print(df)"
   ]
  },
  {
   "cell_type": "code",
   "execution_count": null,
   "metadata": {},
   "outputs": [],
   "source": [
    "plt.plot(df.x,df.y/df.n,label=\"y/n\",linestyle='None', marker='o')\n",
    "plt.title('beetle Survival rate')\n",
    "plt.legend()\n"
   ]
  },
  {
   "cell_type": "markdown",
   "metadata": {},
   "source": [
    "生存(n-y)とそうでない（y）という表現の場合，n-yが生存であることを利用して，<br>\n",
    "glm_model = 'y + I(n-y) ~ x' <br>\n",
    "という表現を用いる。I()内の'-'は算術減算を表す。I()が無いと，かっこ内の'-’はPatsyの表記と見なされ'-y'はyを除去することとなる。"
   ]
  },
  {
   "cell_type": "code",
   "execution_count": null,
   "metadata": {},
   "outputs": [],
   "source": [
    "glm_model = 'y + I(n-y) ~ x'\n",
    "result = smf.glm(formula=glm_model, data=df, family=sm.families.Binomial()).fit()\n",
    "print(result.summary())"
   ]
  },
  {
   "cell_type": "code",
   "execution_count": null,
   "metadata": {},
   "outputs": [],
   "source": [
    "b0 , b1 = result.params\n",
    "#x = np.arange(df.x.min(), df.x.max(), 0.1)\n",
    "xx = np.arange(1.5, 2.0, 0.01)\n",
    "#p = 1.0 /( 1.0 + np.exp( -(b0 + b1*xx ))) \n",
    "p = result.predict(exog = pd.DataFrame({'x': xx}))\n",
    "plt.plot(xx,p)\n",
    "plt.plot(df.x,df.y/df.n,label=\"y/n\",linestyle='None', marker='o')\n",
    "\n",
    "plt.xlabel('z')\n",
    "plt.ylabel('p')\n"
   ]
  },
  {
   "cell_type": "markdown",
   "metadata": {},
   "source": [
    "## ポアソン回帰の例\n",
    "ある病院の入院日数のデータセットを用いてPoisson回帰を解説する． 従属変数であるlos（入院日数：length of stay)を，性別(gender)，救急か否か(type1)，75歳以上か(age75)から予測する．\n",
    "\n",
    "入院日数は負の値をとらない，いわゆるカウントデータであるので，Poisson回帰を適用する．"
   ]
  },
  {
   "cell_type": "code",
   "execution_count": 7,
   "metadata": {},
   "outputs": [
    {
     "data": {
      "text/html": [
       "<div>\n",
       "<style scoped>\n",
       "    .dataframe tbody tr th:only-of-type {\n",
       "        vertical-align: middle;\n",
       "    }\n",
       "\n",
       "    .dataframe tbody tr th {\n",
       "        vertical-align: top;\n",
       "    }\n",
       "\n",
       "    .dataframe thead th {\n",
       "        text-align: right;\n",
       "    }\n",
       "</style>\n",
       "<table border=\"1\" class=\"dataframe\">\n",
       "  <thead>\n",
       "    <tr style=\"text-align: right;\">\n",
       "      <th></th>\n",
       "      <th>los</th>\n",
       "      <th>gender</th>\n",
       "      <th>type1</th>\n",
       "      <th>age75</th>\n",
       "    </tr>\n",
       "  </thead>\n",
       "  <tbody>\n",
       "    <tr>\n",
       "      <th>1</th>\n",
       "      <td>53</td>\n",
       "      <td>0</td>\n",
       "      <td>1</td>\n",
       "      <td>0</td>\n",
       "    </tr>\n",
       "    <tr>\n",
       "      <th>2</th>\n",
       "      <td>30</td>\n",
       "      <td>0</td>\n",
       "      <td>1</td>\n",
       "      <td>0</td>\n",
       "    </tr>\n",
       "    <tr>\n",
       "      <th>3</th>\n",
       "      <td>28</td>\n",
       "      <td>0</td>\n",
       "      <td>1</td>\n",
       "      <td>1</td>\n",
       "    </tr>\n",
       "    <tr>\n",
       "      <th>4</th>\n",
       "      <td>22</td>\n",
       "      <td>0</td>\n",
       "      <td>1</td>\n",
       "      <td>0</td>\n",
       "    </tr>\n",
       "    <tr>\n",
       "      <th>5</th>\n",
       "      <td>25</td>\n",
       "      <td>0</td>\n",
       "      <td>1</td>\n",
       "      <td>0</td>\n",
       "    </tr>\n",
       "  </tbody>\n",
       "</table>\n",
       "</div>"
      ],
      "text/plain": [
       "   los  gender  type1  age75\n",
       "1   53       0      1      0\n",
       "2   30       0      1      0\n",
       "3   28       0      1      1\n",
       "4   22       0      1      0\n",
       "5   25       0      1      0"
      ]
     },
     "execution_count": 7,
     "metadata": {},
     "output_type": "execute_result"
    }
   ],
   "source": [
    "import pandas as pd\n",
    "import statsmodels.api as sm\n",
    "import statsmodels.formula.api as smf\n",
    "%matplotlib inline\n",
    "\n",
    "hospital = pd.read_csv(\"http://logopt.com/data/hospital-stay.csv\",index_col=0)\n",
    "hospital.head()"
   ]
  },
  {
   "cell_type": "code",
   "execution_count": 10,
   "metadata": {},
   "outputs": [
    {
     "name": "stdout",
     "output_type": "stream",
     "text": [
      "               Results: Generalized linear model\n",
      "================================================================\n",
      "Model:              GLM              AIC:            9178.5450  \n",
      "Link Function:      Log              BIC:            -10080.9611\n",
      "Dependent Variable: los              Log-Likelihood: -4585.3    \n",
      "Date:               2022-04-23 11:12 LL-Null:        -4975.9    \n",
      "No. Observations:   1798             Deviance:       3364.0     \n",
      "Df Model:           3                Pearson chi2:   4.16e+03   \n",
      "Df Residuals:       1794             Scale:          1.0000     \n",
      "Method:             IRLS                                        \n",
      "----------------------------------------------------------------\n",
      "                  Coef.  Std.Err.    z    P>|z|   [0.025  0.975]\n",
      "----------------------------------------------------------------\n",
      "Intercept         1.1822   0.0276 42.8441 0.0000  1.1282  1.2363\n",
      "C(gender)[T.1]   -0.1475   0.0218 -6.7523 0.0000 -0.1903 -0.1047\n",
      "C(type1)[T.1]     0.6280   0.0258 24.3094 0.0000  0.5774  0.6787\n",
      "age75             0.1298   0.0232  5.6016 0.0000  0.0844  0.1752\n",
      "================================================================\n",
      "\n"
     ]
    }
   ],
   "source": [
    "model = smf.glm(formula=\"los ~ C(gender) + C(type1) + age75 \", data=hospital, family= sm.families.Poisson() )\n",
    "res = model.fit()\n",
    "print(res.summary2())"
   ]
  },
  {
   "cell_type": "code",
   "execution_count": 14,
   "metadata": {},
   "outputs": [
    {
     "data": {
      "image/png": "[encoded data removed]",
      "text/plain": [
       "<Figure size 432x288 with 1 Axes>"
      ]
     },
     "metadata": {
      "needs_background": "light"
     },
     "output_type": "display_data"
    }
   ],
   "source": [
    "hospital['predict'] = res.predict() #予測を行い，結果を'predict'列に追加\n",
    "hospital.plot.scatter(x='predict',y='los'); #描画"
   ]
  },
  {
   "cell_type": "markdown",
   "metadata": {},
   "source": [
    "得られた結果"
   ]
  },
  {
   "cell_type": "code",
   "execution_count": 62,
   "metadata": {},
   "outputs": [
    {
     "data": {
      "text/plain": [
       "[<matplotlib.lines.Line2D at 0x1f661157a30>]"
      ]
     },
     "execution_count": 62,
     "metadata": {},
     "output_type": "execute_result"
    },
    {
     "data": {
      "image/png": "[encoded data removed]",
      "text/plain": [
       "<Figure size 432x288 with 1 Axes>"
      ]
     },
     "metadata": {
      "needs_background": "light"
     },
     "output_type": "display_data"
    }
   ],
   "source": [
    "%matplotlib inline\n",
    "import matplotlib.pyplot as plt\n",
    "from scipy.stats import poisson\n",
    "import numpy as np\n",
    "\n",
    "k = np.arange(0,100)\n",
    "\n",
    "lamb = np.exp(hospital['predict'] [8])\n",
    "lamb=3\n",
    "p = poisson.pmf(k, lamb)\n",
    "plt.plot(k, p, label='lamb='+str(lamb))\n",
    "\n",
    "#plt.legend()"
   ]
  },
  {
   "cell_type": "code",
   "execution_count": 52,
   "metadata": {},
   "outputs": [
    {
     "data": {
      "text/plain": [
       "(array([434., 155.,  46.,   0.,   0., 512.,   0., 506.,   0., 145.]),\n",
       " array([2.81449548, 3.22896137, 3.64342725, 4.05789314, 4.47235903,\n",
       "        4.88682491, 5.3012908 , 5.71575669, 6.13022257, 6.54468846,\n",
       "        6.95915434]),\n",
       " <BarContainer object of 10 artists>)"
      ]
     },
     "execution_count": 52,
     "metadata": {},
     "output_type": "execute_result"
    },
    {
     "data": {
      "image/png": "[encoded data removed]",
      "text/plain": [
       "<Figure size 432x288 with 1 Axes>"
      ]
     },
     "metadata": {
      "needs_background": "light"
     },
     "output_type": "display_data"
    }
   ],
   "source": [
    "plt.hist(hospital['predict'])"
   ]
  },
  {
   "cell_type": "markdown",
   "metadata": {},
   "source": [
    "# 線形回帰(OLS)は一般化線形モデルの一部である件"
   ]
  },
  {
   "cell_type": "code",
   "execution_count": 1,
   "metadata": {},
   "outputs": [
    {
     "data": {
      "text/html": [
       "<div>\n",
       "<style scoped>\n",
       "    .dataframe tbody tr th:only-of-type {\n",
       "        vertical-align: middle;\n",
       "    }\n",
       "\n",
       "    .dataframe tbody tr th {\n",
       "        vertical-align: top;\n",
       "    }\n",
       "\n",
       "    .dataframe thead th {\n",
       "        text-align: right;\n",
       "    }\n",
       "</style>\n",
       "<table border=\"1\" class=\"dataframe\">\n",
       "  <thead>\n",
       "    <tr style=\"text-align: right;\">\n",
       "      <th></th>\n",
       "      <th>carat</th>\n",
       "      <th>colour</th>\n",
       "      <th>clarity</th>\n",
       "      <th>certification</th>\n",
       "      <th>price</th>\n",
       "    </tr>\n",
       "  </thead>\n",
       "  <tbody>\n",
       "    <tr>\n",
       "      <th>1</th>\n",
       "      <td>0.30</td>\n",
       "      <td>D</td>\n",
       "      <td>VS2</td>\n",
       "      <td>GIA</td>\n",
       "      <td>1302</td>\n",
       "    </tr>\n",
       "    <tr>\n",
       "      <th>2</th>\n",
       "      <td>0.30</td>\n",
       "      <td>E</td>\n",
       "      <td>VS1</td>\n",
       "      <td>GIA</td>\n",
       "      <td>1510</td>\n",
       "    </tr>\n",
       "    <tr>\n",
       "      <th>3</th>\n",
       "      <td>0.30</td>\n",
       "      <td>G</td>\n",
       "      <td>VVS1</td>\n",
       "      <td>GIA</td>\n",
       "      <td>1510</td>\n",
       "    </tr>\n",
       "    <tr>\n",
       "      <th>4</th>\n",
       "      <td>0.30</td>\n",
       "      <td>G</td>\n",
       "      <td>VS1</td>\n",
       "      <td>GIA</td>\n",
       "      <td>1260</td>\n",
       "    </tr>\n",
       "    <tr>\n",
       "      <th>5</th>\n",
       "      <td>0.31</td>\n",
       "      <td>D</td>\n",
       "      <td>VS1</td>\n",
       "      <td>GIA</td>\n",
       "      <td>1641</td>\n",
       "    </tr>\n",
       "  </tbody>\n",
       "</table>\n",
       "</div>"
      ],
      "text/plain": [
       "   carat colour clarity certification  price\n",
       "1   0.30      D     VS2           GIA   1302\n",
       "2   0.30      E     VS1           GIA   1510\n",
       "3   0.30      G    VVS1           GIA   1510\n",
       "4   0.30      G     VS1           GIA   1260\n",
       "5   0.31      D     VS1           GIA   1641"
      ]
     },
     "execution_count": 1,
     "metadata": {},
     "output_type": "execute_result"
    }
   ],
   "source": [
    "import pandas as pd\n",
    "%matplotlib inline\n",
    "diamond = pd.read_csv('http://logopt.com/data/Diamond.csv', index_col=0)\n",
    "diamond.head()"
   ]
  },
  {
   "cell_type": "markdown",
   "metadata": {},
   "source": [
    "glmを何も確率関数族を指定しないと、正規分布を指定したことになる"
   ]
  },
  {
   "cell_type": "code",
   "execution_count": 2,
   "metadata": {},
   "outputs": [
    {
     "name": "stdout",
     "output_type": "stream",
     "text": [
      "                      Results: Generalized linear model\n",
      "==============================================================================\n",
      "Model:                   GLM                 AIC:               4931.3248     \n",
      "Link Function:           identity            BIC:               148870958.0331\n",
      "Dependent Variable:      price               Log-Likelihood:    -2452.7       \n",
      "Date:                    2022-04-23 11:04    LL-Null:           -5827.9       \n",
      "No. Observations:        308                 Deviance:          1.4887e+08    \n",
      "Df Model:                12                  Pearson chi2:      1.49e+08      \n",
      "Df Residuals:            295                 Scale:             5.0465e+05    \n",
      "Method:                  IRLS                                                 \n",
      "------------------------------------------------------------------------------\n",
      "                       Coef.    Std.Err.    z     P>|z|    [0.025     0.975]  \n",
      "------------------------------------------------------------------------------\n",
      "Intercept              169.1760 255.0156   0.6634 0.5071  -330.6454   668.9975\n",
      "colour[T.E]          -1439.0853 207.9816  -6.9193 0.0000 -1846.7217 -1031.4490\n",
      "colour[T.F]          -1841.6905 195.2316  -9.4334 0.0000 -2224.3375 -1459.0436\n",
      "colour[T.G]          -2176.6722 200.3933 -10.8620 0.0000 -2569.4359 -1783.9085\n",
      "colour[T.H]          -2747.1500 202.9140 -13.5385 0.0000 -3144.8541 -2349.4459\n",
      "colour[T.I]          -3313.1024 212.7145 -15.5753 0.0000 -3730.0152 -2896.1896\n",
      "clarity[T.VS1]       -1474.5661 159.6750  -9.2348 0.0000 -1787.5234 -1161.6089\n",
      "clarity[T.VS2]       -1792.0109 171.1855 -10.4682 0.0000 -2127.5283 -1456.4936\n",
      "clarity[T.VVS1]       -689.2904 159.9250  -4.3101 0.0000 -1002.7377  -375.8431\n",
      "clarity[T.VVS2]      -1191.1643 148.7582  -8.0074 0.0000 -1482.7249  -899.6036\n",
      "certification[T.HRD]    15.2267 107.2475   0.1420 0.8871  -194.9745   225.4280\n",
      "certification[T.IGI]   141.2624 128.2585   1.1014 0.2707  -110.1195   392.6444\n",
      "carat                12766.3960 190.0244  67.1829 0.0000 12393.9549 13138.8370\n",
      "==============================================================================\n",
      "\n"
     ]
    }
   ],
   "source": [
    "import statsmodels.formula.api as smf\n",
    "model = smf.glm('price ~ carat + colour + clarity +certification', diamond) \n",
    "fit = model.fit()                                \n",
    "print(fit.summary2()) "
   ]
  },
  {
   "cell_type": "markdown",
   "metadata": {},
   "source": [
    "- No. Observations : サンプル数 (=308)\n",
    "- Df Model : 自由度(Degree of Freedom) 変数の数なので  12 \n",
    "- AIC : 赤池情報量基準(Akaike Information Criterion) ( =4931.3248=−2×対数尤度+2×(自由度+1)=−2×(−2452.7)+2×(12+1)  )　(小さいほどモデルの適合度が良い）\n",
    "- Log-Likelihood: 尤度の対数（最大尤度のものを求めている）最尤推定\n",
    "- Corf. : 係数（一番上のInterceptはy切片）\n",
    "- Std. Err. : 標準誤差\n",
    "- z : 標準偏差．大きいほど係数が信頼できる\n",
    "- P : P値（偶然|z|を超える確率）．小さいほど係数が信頼できる（以下の表参照）\n",
    "- [0.025, 0.975] : 係数の信頼区間"
   ]
  },
  {
   "cell_type": "markdown",
   "metadata": {},
   "source": [
    "## カテゴリ変数を認識してくれている\n",
    "'colour[T.E]'などのように、カテゴリ変数として認識されていることがわかる。\n",
    "\n",
    "明示的に'C()'でカテゴリ変数であることを指定しても結果は同じ"
   ]
  },
  {
   "cell_type": "code",
   "execution_count": 3,
   "metadata": {},
   "outputs": [
    {
     "name": "stdout",
     "output_type": "stream",
     "text": [
      "                        Results: Generalized linear model\n",
      "=================================================================================\n",
      "Model:                    GLM                  AIC:                4931.3248     \n",
      "Link Function:            identity             BIC:                148870958.0331\n",
      "Dependent Variable:       price                Log-Likelihood:     -2452.7       \n",
      "Date:                     2022-04-23 11:06     LL-Null:            -5827.9       \n",
      "No. Observations:         308                  Deviance:           1.4887e+08    \n",
      "Df Model:                 12                   Pearson chi2:       1.49e+08      \n",
      "Df Residuals:             295                  Scale:              5.0465e+05    \n",
      "Method:                   IRLS                                                   \n",
      "---------------------------------------------------------------------------------\n",
      "                          Coef.    Std.Err.    z     P>|z|    [0.025     0.975]  \n",
      "---------------------------------------------------------------------------------\n",
      "Intercept                 169.1760 255.0156   0.6634 0.5071  -330.6454   668.9975\n",
      "C(colour)[T.E]          -1439.0853 207.9816  -6.9193 0.0000 -1846.7217 -1031.4490\n",
      "C(colour)[T.F]          -1841.6905 195.2316  -9.4334 0.0000 -2224.3375 -1459.0436\n",
      "C(colour)[T.G]          -2176.6722 200.3933 -10.8620 0.0000 -2569.4359 -1783.9085\n",
      "C(colour)[T.H]          -2747.1500 202.9140 -13.5385 0.0000 -3144.8541 -2349.4459\n",
      "C(colour)[T.I]          -3313.1024 212.7145 -15.5753 0.0000 -3730.0152 -2896.1896\n",
      "C(clarity)[T.VS1]       -1474.5661 159.6750  -9.2348 0.0000 -1787.5234 -1161.6089\n",
      "C(clarity)[T.VS2]       -1792.0109 171.1855 -10.4682 0.0000 -2127.5283 -1456.4936\n",
      "C(clarity)[T.VVS1]       -689.2904 159.9250  -4.3101 0.0000 -1002.7377  -375.8431\n",
      "C(clarity)[T.VVS2]      -1191.1643 148.7582  -8.0074 0.0000 -1482.7249  -899.6036\n",
      "C(certification)[T.HRD]    15.2267 107.2475   0.1420 0.8871  -194.9745   225.4280\n",
      "C(certification)[T.IGI]   141.2624 128.2585   1.1014 0.2707  -110.1195   392.6444\n",
      "carat                   12766.3960 190.0244  67.1829 0.0000 12393.9549 13138.8370\n",
      "=================================================================================\n",
      "\n"
     ]
    }
   ],
   "source": [
    "model2 = smf.glm('price ~ carat + C(colour) + C(clarity) +C(certification)', diamond) \n",
    "fit2 = model2.fit()                                \n",
    "print(fit2.summary2())  "
   ]
  },
  {
   "cell_type": "markdown",
   "metadata": {},
   "source": [
    "### 線形回帰が一般化線形モデルの一部である"
   ]
  },
  {
   "cell_type": "code",
   "execution_count": 4,
   "metadata": {},
   "outputs": [
    {
     "data": {
      "text/html": [
       "<table class=\"simpletable\">\n",
       "<caption>OLS Regression Results</caption>\n",
       "<tr>\n",
       "  <th>Dep. Variable:</th>          <td>price</td>      <th>  R-squared:         </th> <td>   0.958</td> \n",
       "</tr>\n",
       "<tr>\n",
       "  <th>Model:</th>                   <td>OLS</td>       <th>  Adj. R-squared:    </th> <td>   0.956</td> \n",
       "</tr>\n",
       "<tr>\n",
       "  <th>Method:</th>             <td>Least Squares</td>  <th>  F-statistic:       </th> <td>   562.5</td> \n",
       "</tr>\n",
       "<tr>\n",
       "  <th>Date:</th>             <td>Sat, 23 Apr 2022</td> <th>  Prob (F-statistic):</th> <td>2.82e-195</td>\n",
       "</tr>\n",
       "<tr>\n",
       "  <th>Time:</th>                 <td>11:07:42</td>     <th>  Log-Likelihood:    </th> <td> -2452.7</td> \n",
       "</tr>\n",
       "<tr>\n",
       "  <th>No. Observations:</th>      <td>   308</td>      <th>  AIC:               </th> <td>   4931.</td> \n",
       "</tr>\n",
       "<tr>\n",
       "  <th>Df Residuals:</th>          <td>   295</td>      <th>  BIC:               </th> <td>   4980.</td> \n",
       "</tr>\n",
       "<tr>\n",
       "  <th>Df Model:</th>              <td>    12</td>      <th>                     </th>     <td> </td>    \n",
       "</tr>\n",
       "<tr>\n",
       "  <th>Covariance Type:</th>      <td>nonrobust</td>    <th>                     </th>     <td> </td>    \n",
       "</tr>\n",
       "</table>\n",
       "<table class=\"simpletable\">\n",
       "<tr>\n",
       "            <td></td>              <th>coef</th>     <th>std err</th>      <th>t</th>      <th>P>|t|</th>  <th>[0.025</th>    <th>0.975]</th>  \n",
       "</tr>\n",
       "<tr>\n",
       "  <th>Intercept</th>            <td>  169.1760</td> <td>  255.016</td> <td>    0.663</td> <td> 0.508</td> <td> -332.704</td> <td>  671.056</td>\n",
       "</tr>\n",
       "<tr>\n",
       "  <th>colour[T.E]</th>          <td>-1439.0853</td> <td>  207.982</td> <td>   -6.919</td> <td> 0.000</td> <td>-1848.401</td> <td>-1029.770</td>\n",
       "</tr>\n",
       "<tr>\n",
       "  <th>colour[T.F]</th>          <td>-1841.6905</td> <td>  195.232</td> <td>   -9.433</td> <td> 0.000</td> <td>-2225.914</td> <td>-1457.467</td>\n",
       "</tr>\n",
       "<tr>\n",
       "  <th>colour[T.G]</th>          <td>-2176.6722</td> <td>  200.393</td> <td>  -10.862</td> <td> 0.000</td> <td>-2571.054</td> <td>-1782.290</td>\n",
       "</tr>\n",
       "<tr>\n",
       "  <th>colour[T.H]</th>          <td>-2747.1500</td> <td>  202.914</td> <td>  -13.538</td> <td> 0.000</td> <td>-3146.492</td> <td>-2347.808</td>\n",
       "</tr>\n",
       "<tr>\n",
       "  <th>colour[T.I]</th>          <td>-3313.1024</td> <td>  212.715</td> <td>  -15.575</td> <td> 0.000</td> <td>-3731.733</td> <td>-2894.472</td>\n",
       "</tr>\n",
       "<tr>\n",
       "  <th>clarity[T.VS1]</th>       <td>-1474.5661</td> <td>  159.675</td> <td>   -9.235</td> <td> 0.000</td> <td>-1788.813</td> <td>-1160.320</td>\n",
       "</tr>\n",
       "<tr>\n",
       "  <th>clarity[T.VS2]</th>       <td>-1792.0109</td> <td>  171.185</td> <td>  -10.468</td> <td> 0.000</td> <td>-2128.910</td> <td>-1455.111</td>\n",
       "</tr>\n",
       "<tr>\n",
       "  <th>clarity[T.VVS1]</th>      <td> -689.2904</td> <td>  159.925</td> <td>   -4.310</td> <td> 0.000</td> <td>-1004.029</td> <td> -374.552</td>\n",
       "</tr>\n",
       "<tr>\n",
       "  <th>clarity[T.VVS2]</th>      <td>-1191.1643</td> <td>  148.758</td> <td>   -8.007</td> <td> 0.000</td> <td>-1483.926</td> <td> -898.403</td>\n",
       "</tr>\n",
       "<tr>\n",
       "  <th>certification[T.HRD]</th> <td>   15.2267</td> <td>  107.247</td> <td>    0.142</td> <td> 0.887</td> <td> -195.840</td> <td>  226.294</td>\n",
       "</tr>\n",
       "<tr>\n",
       "  <th>certification[T.IGI]</th> <td>  141.2624</td> <td>  128.258</td> <td>    1.101</td> <td> 0.272</td> <td> -111.155</td> <td>  393.680</td>\n",
       "</tr>\n",
       "<tr>\n",
       "  <th>carat</th>                <td> 1.277e+04</td> <td>  190.024</td> <td>   67.183</td> <td> 0.000</td> <td> 1.24e+04</td> <td> 1.31e+04</td>\n",
       "</tr>\n",
       "</table>\n",
       "<table class=\"simpletable\">\n",
       "<tr>\n",
       "  <th>Omnibus:</th>       <td>124.131</td> <th>  Durbin-Watson:     </th> <td>   1.138</td> \n",
       "</tr>\n",
       "<tr>\n",
       "  <th>Prob(Omnibus):</th> <td> 0.000</td>  <th>  Jarque-Bera (JB):  </th> <td> 547.121</td> \n",
       "</tr>\n",
       "<tr>\n",
       "  <th>Skew:</th>          <td> 1.667</td>  <th>  Prob(JB):          </th> <td>1.56e-119</td>\n",
       "</tr>\n",
       "<tr>\n",
       "  <th>Kurtosis:</th>      <td> 8.614</td>  <th>  Cond. No.          </th> <td>    15.9</td> \n",
       "</tr>\n",
       "</table><br/><br/>Notes:<br/>[1] Standard Errors assume that the covariance matrix of the errors is correctly specified."
      ],
      "text/plain": [
       "<class 'statsmodels.iolib.summary.Summary'>\n",
       "\"\"\"\n",
       "                            OLS Regression Results                            \n",
       "==============================================================================\n",
       "Dep. Variable:                  price   R-squared:                       0.958\n",
       "Model:                            OLS   Adj. R-squared:                  0.956\n",
       "Method:                 Least Squares   F-statistic:                     562.5\n",
       "Date:                Sat, 23 Apr 2022   Prob (F-statistic):          2.82e-195\n",
       "Time:                        11:07:42   Log-Likelihood:                -2452.7\n",
       "No. Observations:                 308   AIC:                             4931.\n",
       "Df Residuals:                     295   BIC:                             4980.\n",
       "Df Model:                          12                                         \n",
       "Covariance Type:            nonrobust                                         \n",
       "========================================================================================\n",
       "                           coef    std err          t      P>|t|      [0.025      0.975]\n",
       "----------------------------------------------------------------------------------------\n",
       "Intercept              169.1760    255.016      0.663      0.508    -332.704     671.056\n",
       "colour[T.E]          -1439.0853    207.982     -6.919      0.000   -1848.401   -1029.770\n",
       "colour[T.F]          -1841.6905    195.232     -9.433      0.000   -2225.914   -1457.467\n",
       "colour[T.G]          -2176.6722    200.393    -10.862      0.000   -2571.054   -1782.290\n",
       "colour[T.H]          -2747.1500    202.914    -13.538      0.000   -3146.492   -2347.808\n",
       "colour[T.I]          -3313.1024    212.715    -15.575      0.000   -3731.733   -2894.472\n",
       "clarity[T.VS1]       -1474.5661    159.675     -9.235      0.000   -1788.813   -1160.320\n",
       "clarity[T.VS2]       -1792.0109    171.185    -10.468      0.000   -2128.910   -1455.111\n",
       "clarity[T.VVS1]       -689.2904    159.925     -4.310      0.000   -1004.029    -374.552\n",
       "clarity[T.VVS2]      -1191.1643    148.758     -8.007      0.000   -1483.926    -898.403\n",
       "certification[T.HRD]    15.2267    107.247      0.142      0.887    -195.840     226.294\n",
       "certification[T.IGI]   141.2624    128.258      1.101      0.272    -111.155     393.680\n",
       "carat                 1.277e+04    190.024     67.183      0.000    1.24e+04    1.31e+04\n",
       "==============================================================================\n",
       "Omnibus:                      124.131   Durbin-Watson:                   1.138\n",
       "Prob(Omnibus):                  0.000   Jarque-Bera (JB):              547.121\n",
       "Skew:                           1.667   Prob(JB):                    1.56e-119\n",
       "Kurtosis:                       8.614   Cond. No.                         15.9\n",
       "==============================================================================\n",
       "\n",
       "Notes:\n",
       "[1] Standard Errors assume that the covariance matrix of the errors is correctly specified.\n",
       "\"\"\""
      ]
     },
     "execution_count": 4,
     "metadata": {},
     "output_type": "execute_result"
    }
   ],
   "source": [
    "results = smf.ols('price ~ carat + colour + clarity +certification', data=diamond).fit()\n",
    "results.summary()"
   ]
  },
  {
   "cell_type": "markdown",
   "metadata": {},
   "source": []
  },
  {
   "cell_type": "code",
   "execution_count": 5,
   "metadata": {},
   "outputs": [
    {
     "data": {
      "image/png": "[encoded data removed]",
      "text/plain": [
       "<Figure size 432x288 with 1 Axes>"
      ]
     },
     "metadata": {
      "needs_background": "light"
     },
     "output_type": "display_data"
    }
   ],
   "source": [
    "diamond['predict'] = fit.predict() #予測を行い，結果を'predict'列に追加\n",
    "diamond.plot.scatter(x='predict',y='price'); #描画"
   ]
  },
  {
   "cell_type": "code",
   "execution_count": null,
   "metadata": {},
   "outputs": [],
   "source": [
    "## "
   ]
  }
 ],
 "metadata": {
  "interpreter": {
   "hash": "2db524e06e9f5f4ffedc911c917cb75e12dbc923643829bf417064a77eb14d37"
  },
  "kernelspec": {
   "display_name": "Environment (conda_caret2test)",
   "language": "python",
   "name": "conda_caret2test"
  },
  "language_info": {
   "codemirror_mode": {
    "name": "ipython",
    "version": 3
   },
   "file_extension": ".py",
   "mimetype": "text/x-python",
   "name": "python",
   "nbconvert_exporter": "python",
   "pygments_lexer": "ipython3",
   "version": "3.8.5"
  },
  "orig_nbformat": 4
 },
 "nbformat": 4,
 "nbformat_minor": 2
}
