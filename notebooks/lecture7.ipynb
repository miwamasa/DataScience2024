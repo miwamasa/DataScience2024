{
  "cells": [
    {
      "cell_type": "markdown",
      "metadata": {
        "id": "2meFYyR8AkzK"
      },
      "source": [
        "# Lecture7　回帰分析2\n",
        "<div dir='rtl'>\n",
        "2024.5岩政\n",
        "</div>\n"
      ]
    },
    {
      "cell_type": "markdown",
      "metadata": {
        "id": "vzYEAXiEAkzP"
      },
      "source": [
        "## 重回帰分析\n",
        "2つの説明変数と関係しない変数の誤ったモデル"
      ]
    },
    {
      "cell_type": "code",
      "execution_count": null,
      "metadata": {
        "id": "fEWYM3LwAkzQ"
      },
      "outputs": [],
      "source": [
        "# -*- coding: utf-8 -*-\n",
        "import numpy as np\n",
        "import pandas as pd\n",
        "\n",
        "import matplotlib.pyplot as plt\n",
        "%matplotlib inline\n",
        "\n",
        "import statsmodels.formula.api as smf\n",
        "\n",
        "from mpl_toolkits.mplot3d import Axes3D # for 3D-graph, 明示的には使わないが、インポートしておく必要がある\n",
        "import seaborn as sns\n",
        "np.random.seed(123) #再現性を得るため"
      ]
    },
    {
      "cell_type": "markdown",
      "metadata": {
        "id": "ndBigKN3AkzT"
      },
      "source": [
        "## F検定の値を見る\n",
        "真のシステム： $y = b1*x1 + b2*x2 + noise$  \n",
        "モデル:　$y = b1*x1 + b2*x2$"
      ]
    },
    {
      "cell_type": "code",
      "execution_count": null,
      "metadata": {
        "id": "nbFhNt2rAkzT"
      },
      "outputs": [],
      "source": [
        "num = 30\n",
        "noise = np.random.normal(0.0, 0.1, num)\n",
        "rad = np.linspace(-np.pi,np.pi,num)\n",
        "x1 = np.sin(rad)\n",
        "x2 = np.random.normal(-2.0, 3.0, num)"
      ]
    },
    {
      "cell_type": "code",
      "execution_count": null,
      "metadata": {
        "id": "3kET7PCzAkzU"
      },
      "outputs": [],
      "source": [
        "b1, b2 = 1.1, -0.55 # beta_0, beta_1\n",
        "y = b1*x1 + b2*x2 + noise\n",
        "df = pd.DataFrame({'y':y, 'x1':x1, 'x2':x2})\n",
        "sns_plot = sns.pairplot(df,  diag_kind='hist')"
      ]
    },
    {
      "cell_type": "code",
      "execution_count": null,
      "metadata": {
        "vscode": {
          "languageId": "markdown"
        },
        "id": "nrRDmm46AkzV"
      },
      "outputs": [],
      "source": [
        "\n",
        "results = smf.ols('y ~ x1 + x2 -1', data=df).fit()\n",
        "results.summary()"
      ]
    },
    {
      "cell_type": "code",
      "execution_count": null,
      "metadata": {
        "id": "XhA3yDOiAkzW"
      },
      "outputs": [],
      "source": [
        "plt.scatter(y,results.predict())"
      ]
    },
    {
      "cell_type": "code",
      "execution_count": null,
      "metadata": {
        "id": "WlIMKJsmAkzX"
      },
      "outputs": [],
      "source": [
        "b1, b2 = 0.0001, -0.000055\n",
        "y = b1*x1 + b2*x2 + noise\n",
        "df = pd.DataFrame({'y':y, 'x1':x1, 'x2':x2})\n",
        "sns_plot = sns.pairplot(df,  diag_kind='hist')"
      ]
    },
    {
      "cell_type": "code",
      "execution_count": null,
      "metadata": {
        "id": "RXEREaiiAkzY"
      },
      "outputs": [],
      "source": [
        "results = smf.ols('y ~ x1 + x2 -1', data=df).fit()\n",
        "results.summary()"
      ]
    },
    {
      "cell_type": "code",
      "execution_count": null,
      "metadata": {
        "id": "nbbaB_MoAkzZ"
      },
      "outputs": [],
      "source": [
        "plt.scatter(y,results.predict())"
      ]
    },
    {
      "cell_type": "markdown",
      "metadata": {
        "id": "xikElv72AkzZ"
      },
      "source": [
        "## 多重共線性（multicollinearity）の影響を見る"
      ]
    },
    {
      "cell_type": "code",
      "execution_count": null,
      "metadata": {
        "id": "qifyGnZ_AkzZ"
      },
      "outputs": [],
      "source": [
        "num = 30\n",
        "rad = np.linspace(-np.pi, np.pi, num)\n",
        "x1 = np.sin(rad)\n",
        "x2 = np.random.normal(-2.0, 3.0, num)\n",
        "\n",
        "b1, b2 = 3.3, -1.25\n",
        "noise = 0.001*np.random.normal( 0.0, 1.0, num)\n",
        "y = b1*x1 + b2*x2 + noise"
      ]
    },
    {
      "cell_type": "markdown",
      "metadata": {
        "id": "Ow3-84XVAkza"
      },
      "source": [
        "関係のないx3を測定したと仮定する"
      ]
    },
    {
      "cell_type": "code",
      "execution_count": null,
      "metadata": {
        "id": "5mCcEY6rAkza"
      },
      "outputs": [],
      "source": [
        "x3 = 3.35*np.sin((rad+0.001))+ 0.001*np.random.normal( 0.0, 1.0, num)\n",
        "df = pd.DataFrame({'y':y, 'x1':x1, 'x2':x2, 'x3':x3})"
      ]
    },
    {
      "cell_type": "code",
      "execution_count": null,
      "metadata": {
        "id": "wrwcaHsSAkza"
      },
      "outputs": [],
      "source": [
        "sns_plot = sns.pairplot(df,  diag_kind='hist')"
      ]
    },
    {
      "cell_type": "code",
      "execution_count": null,
      "metadata": {
        "id": "jxbm5jnUAkzb"
      },
      "outputs": [],
      "source": [
        "results = smf.ols('y ~ x1 + x2 + x3 -1', data=df).fit()\n",
        "results.summary()"
      ]
    },
    {
      "cell_type": "markdown",
      "metadata": {
        "id": "uqWpVKn0Akzb"
      },
      "source": [
        "\"The condition number is large\"というWarningメッセージが出た場合。<br>\n",
        "condition number（条件数）は、行列の固有値から計算される数値であり、この値が大きいほど連立方程式が解きにくくなり、<br>\n",
        "解に誤差を含む可能性が高いことを示唆する。したがって、出力された数値解は、盲目的に信じることなく、注意して見守る必要がある。"
      ]
    },
    {
      "cell_type": "markdown",
      "metadata": {
        "id": "gMTLboafAkzb"
      },
      "source": [
        "#### モデル次数をシステムに合わせる"
      ]
    },
    {
      "cell_type": "code",
      "execution_count": null,
      "metadata": {
        "id": "la6cmaTkAkzc"
      },
      "outputs": [],
      "source": [
        "results = smf.ols('y ~ x1 + x2 -1', data=df).fit()\n",
        "results.summary()"
      ]
    },
    {
      "cell_type": "markdown",
      "metadata": {
        "id": "ejt6-Wb_Akzc"
      },
      "source": [
        "#### ３Dプロット，\n",
        "参照　https://matplotlib.org/mpl_toolkits/mplot3d/tutorial.html"
      ]
    },
    {
      "cell_type": "code",
      "execution_count": null,
      "metadata": {
        "id": "Ujl6A2y-Akzc"
      },
      "outputs": [],
      "source": [
        "fig = plt.figure()\n",
        "ax = fig.add_subplot(111, projection='3d')\n",
        "\n",
        "# 軸ラベルの設定\n",
        "ax.set_xlabel(\"x1-axis\")\n",
        "ax.set_ylabel(\"x2-axis\")\n",
        "ax.set_zlabel(\"y-axis\")\n",
        "\n",
        "# 表示範囲の設定\n",
        "ax.set_xlim(-5, 5)\n",
        "ax.set_ylim(-4, 4)\n",
        "ax.set_zlim(-6, 10)\n",
        "\n",
        "#観測データのプロット\n",
        "ax.scatter(x1, x2, y, s=10, color='green')\n",
        "\n",
        "# モデル式の表示\n",
        "xx1 = np.linspace(-5,5,num)\n",
        "xx2 = np.linspace(-4,4,num)\n",
        "\n",
        "c1, c2 = results.params\n",
        "\n",
        "y0 = c1*xx1 + c2*xx2\n",
        "ax.plot(xx1, xx2, y0, color='black', linestyle='dashed')\n",
        "plt.show()"
      ]
    },
    {
      "cell_type": "markdown",
      "source": [
        "3次元でプロットしてみる"
      ],
      "metadata": {
        "id": "eQQdQF-uy2kf"
      }
    },
    {
      "cell_type": "code",
      "source": [
        "import plotly.express as px\n",
        "import pandas as pd\n",
        "\n",
        "\n",
        "# データを作成しデータフレームに格納する\n",
        "data=np.array([x1,x2,y])\n",
        "\n",
        "df = pd.DataFrame(data.T,columns=['x1','x2','y'])\n",
        "\n",
        "fig = px.scatter_3d(df, x='x1', y='x2', z='y')\n",
        "fig.show()"
      ],
      "metadata": {
        "id": "txC5P_knu3N5"
      },
      "execution_count": null,
      "outputs": []
    },
    {
      "cell_type": "markdown",
      "metadata": {
        "id": "d7xElOm1Akzc"
      },
      "source": [
        "## 電力と気温"
      ]
    },
    {
      "cell_type": "code",
      "execution_count": null,
      "metadata": {
        "id": "HCwCL_xwAkzc"
      },
      "outputs": [],
      "source": [
        "url = 'https://raw.githubusercontent.com/miwamasa/DataScience2024/main/notebooks/datasets/dsbook/ElectricPower.csv'\n",
        "#url = 'datasets/ElectricPower.csv'\n",
        "df_pow = pd.read_csv(url, comment='#',\n",
        "                    index_col='DATE', parse_dates=['DATE'],\n",
        "                     encoding='SHIFT-JIS' )\n",
        "df_pow.head()"
      ]
    },
    {
      "cell_type": "code",
      "execution_count": null,
      "metadata": {
        "id": "3QBJ0SNEAkzc"
      },
      "outputs": [],
      "source": [
        "df_pow.tail()"
      ]
    },
    {
      "cell_type": "markdown",
      "metadata": {
        "id": "Qj0uyypMAkzd"
      },
      "source": [
        "#### ダウンサンプリング\n",
        "https://pandas.pydata.org/pandas-docs/stable/generated/pandas.DataFrame.resample.html  \n",
        "時間軸を日単位として，最大電力だけとする"
      ]
    },
    {
      "cell_type": "code",
      "execution_count": null,
      "metadata": {
        "id": "jp5L8dmpAkzd"
      },
      "outputs": [],
      "source": [
        "df_pow2 = df_pow.resample('D').max() # Dayへのダウンサンプリングと最大電力"
      ]
    },
    {
      "cell_type": "code",
      "execution_count": null,
      "metadata": {
        "id": "xmmVzEj7Akzd"
      },
      "outputs": [],
      "source": [
        "print(df_pow2.head())\n",
        "print(df_pow2.shape)"
      ]
    },
    {
      "cell_type": "markdown",
      "metadata": {
        "id": "uyZ2_PTdAkzd"
      },
      "source": [
        "#### 最高気温，最低気温のデータ読込み"
      ]
    },
    {
      "cell_type": "code",
      "execution_count": null,
      "metadata": {
        "id": "Xz4lJNbkAkzd"
      },
      "outputs": [],
      "source": [
        "df = pd.read_csv('https://raw.githubusercontent.com/miwamasa/DataScience2024/main/notebooks/datasets/dsbook/AirTemperature.csv', comment='#',\n",
        "                    index_col='Date', parse_dates=['Date'],\n",
        "                     encoding='SHIFT-JIS' )\n",
        "print(df.head())\n",
        "print(df.shape)"
      ]
    },
    {
      "cell_type": "markdown",
      "metadata": {
        "id": "JFGPGyrNAkzd"
      },
      "source": [
        "#### データの結合"
      ]
    },
    {
      "cell_type": "code",
      "execution_count": null,
      "metadata": {
        "id": "yAYDPckzAkzd"
      },
      "outputs": [],
      "source": [
        "df['MaxPower'] = df_pow2.Power"
      ]
    },
    {
      "cell_type": "code",
      "execution_count": null,
      "metadata": {
        "id": "RqF51oWzAkze"
      },
      "outputs": [],
      "source": [
        "df"
      ]
    },
    {
      "cell_type": "code",
      "execution_count": null,
      "metadata": {
        "id": "Tu3dPim8Akze"
      },
      "outputs": [],
      "source": [
        "result = smf.ols('MaxPower ~ MaxTemp + MinTemp', data=df).fit()\n",
        "print(result.summary())"
      ]
    },
    {
      "cell_type": "code",
      "execution_count": null,
      "metadata": {
        "id": "wI4pAIOnAkzf"
      },
      "outputs": [],
      "source": [
        "FLAG_fig=True\n",
        "df.MaxPower.plot()\n",
        "plt.legend()\n"
      ]
    },
    {
      "cell_type": "code",
      "execution_count": null,
      "metadata": {
        "id": "eo17jL7-Akzf"
      },
      "outputs": [],
      "source": [
        "df.MaxTemp.plot()\n",
        "df.MinTemp.plot()\n",
        "plt.legend()\n"
      ]
    },
    {
      "cell_type": "code",
      "execution_count": null,
      "metadata": {
        "id": "G55G4slsAkzf"
      },
      "outputs": [],
      "source": [
        "df1 = df['2017/1/15':'2017/4/30']\n",
        "df2 = df['2017/5/1':'2017/8/31']"
      ]
    },
    {
      "cell_type": "code",
      "execution_count": null,
      "metadata": {
        "id": "SkLSPGe-Akzf"
      },
      "outputs": [],
      "source": [
        "result1 = smf.ols('MaxPower ~ MaxTemp + MinTemp', data=df1).fit()\n",
        "result1.summary()"
      ]
    },
    {
      "cell_type": "code",
      "execution_count": null,
      "metadata": {
        "id": "mTH-yUQmAkzg"
      },
      "outputs": [],
      "source": [
        "#予測\n",
        "NewData = {'MaxTemp':[18.5, 14.0], 'MinTemp':[9.0, 6.5]}\n",
        "NewDf = pd.DataFrame(NewData)\n",
        "NewDf"
      ]
    },
    {
      "cell_type": "code",
      "execution_count": null,
      "metadata": {
        "id": "xX9UtLqWAkzm"
      },
      "outputs": [],
      "source": [
        "pred = result.predict(NewDf)\n",
        "pred"
      ]
    },
    {
      "cell_type": "code",
      "execution_count": null,
      "metadata": {
        "id": "c3jpTbSjAkzm"
      },
      "outputs": [],
      "source": [
        "result2 = smf.ols('MaxPower ~ MaxTemp + MinTemp', data=df2).fit()\n",
        "result2.summary()"
      ]
    },
    {
      "cell_type": "markdown",
      "metadata": {
        "id": "6HeCL1zPAkzn"
      },
      "source": [
        "## 一般化線形モデル\n",
        "### ロジスティック回帰モデル\n",
        "対象：Spector and Mazzeo (1980) - Program Effectiveness Data <br>\n",
        "http://www.statsmodels.org/dev/datasets/generated/spector.html\n",
        "\n",
        "橋本本5.5.5ロジスティック回帰モデルに出てきた例\n",
        "\n",
        "PSIが成績アップに有効化を検証する例\n",
        "\n",
        "- GPA：前期の成績(0～4)\n",
        "- TUCE:統一テストの結果\n",
        "- PSI:ある教育プログラムを受けた(1)、受けない(0)\n",
        "- GRADE: 成績が上がった(1)、上がっていない(0)"
      ]
    },
    {
      "cell_type": "code",
      "execution_count": null,
      "metadata": {
        "id": "fCww4KMmAkzn"
      },
      "outputs": [],
      "source": [
        "# -*- coding: utf-8 -*-\n",
        "import numpy as np\n",
        "import pandas as pd\n",
        "import statsmodels.api as sm\n",
        "import statsmodels.formula.api as smf\n",
        "import matplotlib.pyplot as plt\n",
        "\n",
        "#import seaborn as sns\n",
        "\n",
        "np.random.seed(123)"
      ]
    },
    {
      "cell_type": "code",
      "execution_count": null,
      "metadata": {
        "id": "agJbj4h-Akzn"
      },
      "outputs": [],
      "source": [
        "data = sm.datasets.spector.load().data\n",
        "df = pd.DataFrame(data)\n",
        "print(df.head())"
      ]
    },
    {
      "cell_type": "markdown",
      "metadata": {
        "id": "3cJhlq9EAkzo"
      },
      "source": [
        "ロジスティック回帰は，リンク関数にLogit() を用いる一般化回帰モデル(GLM)の一種であるので，以下のようにも書くことができる\n",
        "https://qiita.com/TomokIshii/items/374ac7d4231adf6a39f4"
      ]
    },
    {
      "cell_type": "code",
      "execution_count": null,
      "metadata": {
        "id": "FKhagPfoAkzo"
      },
      "outputs": [],
      "source": [
        "glm_model = 'GRADE ~ GPA + TUCE + PSI'\n",
        "#fit = smf.glm(formula=glm_model, data=df, family=sm.families.Binomial(link=sm.families.links.logit))\n",
        "fit = smf.glm(formula=glm_model, data=df, family=sm.families.Binomial())\n",
        "result = fit.fit()\n",
        "result.summary()"
      ]
    },
    {
      "cell_type": "markdown",
      "metadata": {
        "id": "zy9veIrKAkzo"
      },
      "source": [
        "sm.GLM() で family オプションをつけて使用する分布がBinomial となる指示をする．これで，リンク関数は(Binomialのディフォルトの) logit() を使う処理となる．出力される summary() は次の通り"
      ]
    },
    {
      "cell_type": "code",
      "execution_count": null,
      "metadata": {
        "id": "d-d_tTWlAkzo"
      },
      "outputs": [],
      "source": [
        "df.corr()"
      ]
    },
    {
      "cell_type": "markdown",
      "metadata": {
        "id": "si3TWnUhAkzo"
      },
      "source": [
        "念のため，縦軸にGRADEをとり，横軸にGPA,色でPSI=1,0を区別したグラフから何かを言えるかを確かめてみた。　 しかし，あまり，有意な特徴を見出すことはできない。"
      ]
    },
    {
      "cell_type": "code",
      "execution_count": null,
      "metadata": {
        "id": "P1qt3Y1EAkzo"
      },
      "outputs": [],
      "source": [
        "plt.scatter(df.GPA[df.PSI==1.0], df.GRADE[df.PSI == 1.0] ,c = \"red\", label = \"PSI=1\")\n",
        "plt.scatter(df.GPA[df.PSI==0.0], df.GRADE[df.PSI == 0.0] ,c = \"blue\", label = \"PSI=0\")\n",
        "\n",
        "plt.xlabel('GPA')\n",
        "plt.ylabel('GRADE')\n",
        "#plt.title('Red:PSI=1,  Blue:PSI=0')\n",
        "plt.legend(loc='center left')"
      ]
    },
    {
      "cell_type": "markdown",
      "metadata": {
        "id": "5iPyGq0ZAkzo"
      },
      "source": [
        "## 一般化線形モデル\n",
        "### ポアソン回帰モデル\n",
        "\n",
        "Ref.\n",
        " Possion GLM, https://onlinecourses.science.psu.edu/stat504/node/169  \n",
        "\n",
        "$\\lambda = \\exp(\\beta_0+ \\beta_1)$"
      ]
    },
    {
      "cell_type": "code",
      "execution_count": null,
      "metadata": {
        "id": "c3crKULcAkzp"
      },
      "outputs": [],
      "source": [
        "# -*- coding: utf-8 -*-\n",
        "import numpy as np\n",
        "import pandas as pd\n",
        "\n",
        "import statsmodels.api as sm\n",
        "import statsmodels.formula.api as smf\n",
        "import matplotlib.pyplot as plt\n",
        "%matplotlib inline\n",
        "\n",
        "np.random.seed(123)"
      ]
    },
    {
      "cell_type": "markdown",
      "metadata": {
        "id": "cM6HXC18Akzp"
      },
      "source": [
        "#### ポアソン分布に従う確率変数ｙのデータ生成\n",
        "$\\lambda = \\exp(\\beta_0), \\hspace{3mm} \\beta_1 = 0$ の場合  \n",
        "平均値をlamとおいた"
      ]
    },
    {
      "cell_type": "code",
      "execution_count": null,
      "metadata": {
        "id": "nO19BZ9wAkzp"
      },
      "outputs": [],
      "source": [
        "Num = 1000\n",
        "lam = 5 # lambda\n",
        "y = np.random.poisson(lam,Num)"
      ]
    },
    {
      "cell_type": "code",
      "execution_count": null,
      "metadata": {
        "id": "h2DwMbd4Akzq"
      },
      "outputs": [],
      "source": [
        "count, bins, ignored = plt.hist(y, 14, density=False)\n",
        "\n",
        "if FLAG_fig: plt.savefig('fig_REG_GLM_Poisson1_hist.png')"
      ]
    },
    {
      "cell_type": "markdown",
      "metadata": {
        "id": "GBtyz8qSAkzq"
      },
      "source": [
        "#### 一部をプロット"
      ]
    },
    {
      "cell_type": "code",
      "execution_count": null,
      "metadata": {
        "id": "vV3WPzYIAkzq"
      },
      "outputs": [],
      "source": [
        "n = 100\n",
        "plt.plot( y[0:n])\n"
      ]
    },
    {
      "cell_type": "markdown",
      "metadata": {
        "id": "VdKAsMwIAkzq"
      },
      "source": [
        "一般化線形モデル問題を解く"
      ]
    },
    {
      "cell_type": "code",
      "execution_count": null,
      "metadata": {
        "id": "HEli-9MjAkzr"
      },
      "outputs": [],
      "source": [
        "x = range(len(y))\n",
        "df = pd.DataFrame({'x':x, 'y':y})"
      ]
    },
    {
      "cell_type": "code",
      "execution_count": null,
      "metadata": {
        "id": "drmIdvA5Akzr"
      },
      "outputs": [],
      "source": [
        "glm_model = 'y ~ x'\n",
        "result = smf.glm(formula=glm_model, data=df, family=sm.families.Poisson()).fit()\n",
        "print(result.summary())"
      ]
    },
    {
      "cell_type": "code",
      "execution_count": null,
      "metadata": {
        "id": "Hd3FVb24Akzr"
      },
      "outputs": [],
      "source": [
        "b0, b1 = result.params\n",
        "print('exp(b0) =',np.exp(b0))"
      ]
    },
    {
      "cell_type": "code",
      "execution_count": null,
      "metadata": {
        "id": "qjNDNKzXAkzs"
      },
      "outputs": [],
      "source": [
        "print('Mean of y =',df.y.mean())"
      ]
    },
    {
      "cell_type": "markdown",
      "metadata": {
        "id": "rbdEoibwAkzs"
      },
      "source": [
        "#### ポアソン分布に従う確率変数ｙのデータ生成\n",
        "$\\lambda = \\exp(\\beta_0 + \\beta_1 x1)$, の場合  "
      ]
    },
    {
      "cell_type": "code",
      "execution_count": null,
      "metadata": {
        "id": "CJhwgijBAkzs"
      },
      "outputs": [],
      "source": [
        "Num = 1000\n",
        "x = np.zeros(Num)\n",
        "y = np.zeros(Num)"
      ]
    },
    {
      "cell_type": "code",
      "execution_count": null,
      "metadata": {
        "id": "g2uJJvyUAkzt"
      },
      "outputs": [],
      "source": [
        "b0 , b1 = 0.5, 3.5\n",
        "for i in range(Num):\n",
        "    x[i] = i\n",
        "    lam = np.exp( b0 + (b1/float(Num)) * (float(i)))\n",
        "    y[i] = np.random.poisson(lam,1)"
      ]
    },
    {
      "cell_type": "code",
      "execution_count": null,
      "metadata": {
        "id": "cA6v3YNpAkzt"
      },
      "outputs": [],
      "source": [
        "count, bins, ignored = plt.hist(y, 14, density=False)\n"
      ]
    },
    {
      "cell_type": "code",
      "execution_count": null,
      "metadata": {
        "id": "4HUxE7NgAkzt"
      },
      "outputs": [],
      "source": [
        "plt.scatter(x, y)\n",
        "plt.title(\"Poisson Distribution\")"
      ]
    },
    {
      "cell_type": "code",
      "execution_count": null,
      "metadata": {
        "id": "0rriUBusAkzt"
      },
      "outputs": [],
      "source": [
        "df = pd.DataFrame({'x':x, 'y':y})\n",
        "glm_model = 'y ~ x'\n",
        "result = smf.glm(formula=glm_model, data=df, family=sm.families.Poisson()).fit()\n",
        "print(result.summary())"
      ]
    },
    {
      "cell_type": "markdown",
      "metadata": {
        "id": "EJi0vlGaAkzt"
      },
      "source": [
        "下記で　b1 = b1 * num としているのは，glmはlamの生成式にある(b1/float(num))を予測しており，この分母を払うため"
      ]
    },
    {
      "cell_type": "code",
      "execution_count": null,
      "metadata": {
        "id": "wztxOFuiAkzu"
      },
      "outputs": [],
      "source": [
        "b0, b1 = result.params\n",
        "b1 = b1 * Num  # 見掛け上のパラメータの分母に(num)があるため，これを払う\n",
        "print(\"b0 = %f  b1 = %f\" % (b0,b1))"
      ]
    },
    {
      "cell_type": "code",
      "execution_count": null,
      "metadata": {
        "id": "sc_1FztiAkzu"
      },
      "outputs": [],
      "source": [
        "y_pre = np.exp(b0 + (b1/float(Num))*x)\n",
        "plt.scatter(x[0:Num], y[0:Num])\n",
        "plt.plot(x, y_pre, color = 'white')\n"
      ]
    },
    {
      "cell_type": "markdown",
      "metadata": {
        "id": "tzNTLyHiAkzu"
      },
      "source": [
        "#### データの前半500個[0:499]と後半500個[500:999]を入れ替える"
      ]
    },
    {
      "cell_type": "code",
      "execution_count": null,
      "metadata": {
        "id": "v1yk31iaAkzu"
      },
      "outputs": [],
      "source": [
        "nlen = len(x)\n",
        "n2 = int(nlen/2)\n",
        "\n",
        "xx = np.zeros(nlen)  # この1行は，いわゆる copy.deepcopy() ( import copy )の意味のメモリ確保\n",
        "if nlen % 2 == 0: #even\n",
        "    nst = n2\n",
        "else:\n",
        "    nst = n2 + 1\n",
        "    xx[n2] = x[n2]\n",
        "\n",
        "xx[0:n2] = x[nst:nlen]\n",
        "xx[nst:nlen]= x[0:n2]\n",
        "\"\"\"\n",
        "print(xx[0:5])\n",
        "print(xx[(n2-1):(n2+4)])\n",
        "print(xx[-5:])\n",
        "\"\"\"\n",
        "yy = np.zeros(nlen)  # この1行は，いわゆる copy.deepcopy() ( import copy )の意味のメモリ確保\n",
        "yy[0:n2] = y[nst:nlen]\n",
        "yy[nst:nlen]= y[0:n2]\n",
        "\n",
        "plt.plot(yy[0:nlen]) # 注意：plot(xx,yy)とすると，先のグラフと同じになる\n",
        "\n"
      ]
    },
    {
      "cell_type": "code",
      "execution_count": null,
      "metadata": {
        "id": "Yj1e1cg4Akzv"
      },
      "outputs": [],
      "source": [
        "df = pd.DataFrame({'x':xx, 'y':yy})\n",
        "glm_model = 'y ~ x'\n",
        "result = smf.glm(formula=glm_model, data=df, family=sm.families.Poisson()).fit()\n",
        "print(result.summary())"
      ]
    },
    {
      "cell_type": "markdown",
      "metadata": {
        "id": "CKB32ycMAkzv"
      },
      "source": [
        "## ロジスティック回帰の例\n",
        " 薬品とカブトムシの生存率\n",
        "原著：Annette J. Dobson and Adrian G. Barnett, An Introduction to Generalized Linear Models, 3rd ed. , CRCPress 2008, p.127  \n",
        "https://reneues.files.wordpress.com/2010/01/an-introduction-to-generalized-linear-models-second-edition-dobson.pdf\n"
      ]
    },
    {
      "cell_type": "code",
      "execution_count": null,
      "metadata": {
        "id": "6NhF0iRtAkzv"
      },
      "outputs": [],
      "source": [
        "# -*- coding: utf-8 -*-\n",
        "import numpy as np\n",
        "import pandas as pd\n",
        "\n",
        "import matplotlib.pyplot as plt\n",
        "%matplotlib inline\n",
        "\n",
        "import statsmodels.api as sm\n",
        "import statsmodels.formula.api as smf\n"
      ]
    },
    {
      "cell_type": "markdown",
      "metadata": {
        "id": "cpXVBT-YAkzw"
      },
      "source": [
        "x:投薬量，n:カブトムシの総数，y:死亡数"
      ]
    },
    {
      "cell_type": "code",
      "execution_count": null,
      "metadata": {
        "id": "4IPsKsl3Akzx"
      },
      "outputs": [],
      "source": [
        "df = pd.DataFrame({'x':[1.6907, 1.7242, 1.7552, 1.7842, 1.8113, 1.8369, 1.861, 1.8839],\n",
        "                   'n':[59, 60, 62, 56, 63, 59, 62, 60],\n",
        "                   'y':[ 6, 13, 18, 28, 52, 53, 61, 60]})\n",
        "print(df)"
      ]
    },
    {
      "cell_type": "code",
      "execution_count": null,
      "metadata": {
        "id": "_TiMDxSqAkzx"
      },
      "outputs": [],
      "source": [
        "plt.plot(df.x,df.y/df.n,label=\"y/n\",linestyle='None', marker='o')\n",
        "plt.title('beetle Survival rate')\n",
        "plt.legend()\n"
      ]
    },
    {
      "cell_type": "markdown",
      "metadata": {
        "id": "Bylq5Lc4Akzx"
      },
      "source": [
        "生存(n-y)とそうでない（y）という表現の場合，n-yが生存であることを利用して，<br>\n",
        "glm_model = 'y + I(n-y) ~ x' <br>\n",
        "という表現を用いる。I()内の'-'は算術減算を表す。I()が無いと，かっこ内の'-’はPatsyの表記と見なされ'-y'はyを除去することとなる。"
      ]
    },
    {
      "cell_type": "code",
      "execution_count": null,
      "metadata": {
        "id": "VvpLtZpxAkzx"
      },
      "outputs": [],
      "source": [
        "glm_model = 'y + I(n-y) ~ x'\n",
        "result = smf.glm(formula=glm_model, data=df, family=sm.families.Binomial()).fit()\n",
        "print(result.summary())"
      ]
    },
    {
      "cell_type": "code",
      "execution_count": null,
      "metadata": {
        "id": "I3kTT07bAkzy"
      },
      "outputs": [],
      "source": [
        "b0 , b1 = result.params\n",
        "#x = np.arange(df.x.min(), df.x.max(), 0.1)\n",
        "xx = np.arange(1.5, 2.0, 0.01)\n",
        "#p = 1.0 /( 1.0 + np.exp( -(b0 + b1*xx )))\n",
        "p = result.predict(exog = pd.DataFrame({'x': xx}))\n",
        "plt.plot(xx,p)\n",
        "plt.plot(df.x,df.y/df.n,label=\"y/n\",linestyle='None', marker='o')\n",
        "\n",
        "plt.xlabel('z')\n",
        "plt.ylabel('p')\n"
      ]
    },
    {
      "cell_type": "markdown",
      "metadata": {
        "id": "sfJGa_31Akzy"
      },
      "source": [
        "## ポアソン回帰の例\n",
        "ある病院の入院日数のデータセットを用いてPoisson回帰を解説する． 従属変数であるlos（入院日数：length of stay)を，性別(gender)，救急か否か(type1)，75歳以上か(age75)から予測する．\n",
        "\n",
        "入院日数は負の値をとらない，いわゆるカウントデータであるので，Poisson回帰を適用する．"
      ]
    },
    {
      "cell_type": "code",
      "execution_count": null,
      "metadata": {
        "id": "wBieIvTRAkzy"
      },
      "outputs": [],
      "source": [
        "import pandas as pd\n",
        "import statsmodels.api as sm\n",
        "import statsmodels.formula.api as smf\n",
        "%matplotlib inline\n",
        "\n",
        "hospital = pd.read_csv(\"http://logopt.com/data/hospital-stay.csv\",index_col=0)\n",
        "hospital.head()"
      ]
    },
    {
      "cell_type": "code",
      "execution_count": null,
      "metadata": {
        "id": "WrziLjdUAkzz"
      },
      "outputs": [],
      "source": [
        "model = smf.glm(formula=\"los ~ C(gender) + C(type1) + age75 \", data=hospital, family= sm.families.Poisson() )\n",
        "res = model.fit()\n",
        "print(res.summary2())"
      ]
    },
    {
      "cell_type": "code",
      "execution_count": null,
      "metadata": {
        "id": "PM8ciacRAkz0"
      },
      "outputs": [],
      "source": [
        "hospital['predict'] = res.predict() #予測を行い，結果を'predict'列に追加\n",
        "hospital.plot.scatter(x='predict',y='los'); #描画"
      ]
    },
    {
      "cell_type": "markdown",
      "metadata": {
        "id": "vHURKqYUAkz0"
      },
      "source": [
        "得られた結果"
      ]
    },
    {
      "cell_type": "code",
      "execution_count": null,
      "metadata": {
        "id": "OZ5YhrNXAkz1"
      },
      "outputs": [],
      "source": [
        "%matplotlib inline\n",
        "import matplotlib.pyplot as plt\n",
        "from scipy.stats import poisson\n",
        "import numpy as np\n",
        "\n",
        "k = np.arange(0,100)\n",
        "\n",
        "lamb = np.exp(hospital['predict'] [8])\n",
        "lamb=3\n",
        "p = poisson.pmf(k, lamb)\n",
        "plt.plot(k, p, label='lamb='+str(lamb))\n",
        "\n",
        "#plt.legend()"
      ]
    },
    {
      "cell_type": "code",
      "execution_count": null,
      "metadata": {
        "id": "cdTl2CgHAkz1"
      },
      "outputs": [],
      "source": [
        "plt.hist(hospital['predict'])"
      ]
    },
    {
      "cell_type": "markdown",
      "metadata": {
        "id": "nnB7LID3Akz4"
      },
      "source": [
        "# 線形回帰(OLS)は一般化線形モデルの一部である件"
      ]
    },
    {
      "cell_type": "code",
      "execution_count": null,
      "metadata": {
        "id": "ScbpiIvRAkz4"
      },
      "outputs": [],
      "source": [
        "import pandas as pd\n",
        "%matplotlib inline\n",
        "diamond = pd.read_csv('http://logopt.com/data/Diamond.csv', index_col=0)\n",
        "diamond.head()"
      ]
    },
    {
      "cell_type": "markdown",
      "metadata": {
        "id": "t7TJUK56Akz5"
      },
      "source": [
        "glmを何も確率関数族を指定しないと、正規分布を指定したことになる"
      ]
    },
    {
      "cell_type": "code",
      "execution_count": null,
      "metadata": {
        "id": "KZG3vQrwAkz5"
      },
      "outputs": [],
      "source": [
        "import statsmodels.formula.api as smf\n",
        "model = smf.glm('price ~ carat + colour + clarity +certification', diamond)\n",
        "fit = model.fit()\n",
        "print(fit.summary2())"
      ]
    },
    {
      "cell_type": "markdown",
      "metadata": {
        "id": "1co-yMP7Akz5"
      },
      "source": [
        "- No. Observations : サンプル数 (=308)\n",
        "- Df Model : 自由度(Degree of Freedom) 変数の数なので  12\n",
        "- AIC : 赤池情報量基準(Akaike Information Criterion) ( =4931.3248=−2×対数尤度+2×(自由度+1)=−2×(−2452.7)+2×(12+1)  )　(小さいほどモデルの適合度が良い）\n",
        "- Log-Likelihood: 尤度の対数（最大尤度のものを求めている）最尤推定\n",
        "- Corf. : 係数（一番上のInterceptはy切片）\n",
        "- Std. Err. : 標準誤差\n",
        "- z : 標準偏差．大きいほど係数が信頼できる\n",
        "- P : P値（偶然|z|を超える確率）．小さいほど係数が信頼できる（以下の表参照）\n",
        "- [0.025, 0.975] : 係数の信頼区間"
      ]
    },
    {
      "cell_type": "markdown",
      "metadata": {
        "id": "N2HDDONlAkz5"
      },
      "source": [
        "## カテゴリ変数を認識してくれている\n",
        "'colour[T.E]'などのように、カテゴリ変数として認識されていることがわかる。\n",
        "\n",
        "明示的に'C()'でカテゴリ変数であることを指定しても結果は同じ"
      ]
    },
    {
      "cell_type": "code",
      "execution_count": null,
      "metadata": {
        "id": "tZ3vaw-bAkz6"
      },
      "outputs": [],
      "source": [
        "model2 = smf.glm('price ~ carat + C(colour) + C(clarity) +C(certification)', diamond)\n",
        "fit2 = model2.fit()\n",
        "print(fit2.summary2())"
      ]
    },
    {
      "cell_type": "markdown",
      "metadata": {
        "id": "43x7NbDbAkz6"
      },
      "source": [
        "### 線形回帰が一般化線形モデルの一部である"
      ]
    },
    {
      "cell_type": "code",
      "execution_count": null,
      "metadata": {
        "id": "2PpswvOfAkz6"
      },
      "outputs": [],
      "source": [
        "results = smf.ols('price ~ carat + colour + clarity +certification', data=diamond).fit()\n",
        "results.summary()"
      ]
    },
    {
      "cell_type": "markdown",
      "metadata": {
        "id": "QhTcY5E0Akz7"
      },
      "source": []
    },
    {
      "cell_type": "code",
      "execution_count": null,
      "metadata": {
        "id": "mgpEunjZAkz7"
      },
      "outputs": [],
      "source": [
        "diamond['predict'] = fit.predict() #予測を行い，結果を'predict'列に追加\n",
        "diamond.plot.scatter(x='predict',y='price'); #描画"
      ]
    },
    {
      "cell_type": "code",
      "execution_count": null,
      "metadata": {
        "id": "HtRaQdaEAkz7"
      },
      "outputs": [],
      "source": [
        "##"
      ]
    }
  ],
  "metadata": {
    "interpreter": {
      "hash": "2db524e06e9f5f4ffedc911c917cb75e12dbc923643829bf417064a77eb14d37"
    },
    "kernelspec": {
      "display_name": "Python 3",
      "name": "python3"
    },
    "language_info": {
      "name": "python"
    },
    "orig_nbformat": 4,
    "colab": {
      "provenance": []
    }
  },
  "nbformat": 4,
  "nbformat_minor": 0
}