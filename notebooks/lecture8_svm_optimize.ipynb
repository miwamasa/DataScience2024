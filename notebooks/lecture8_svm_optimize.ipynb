{
 "cells": [
  {
   "attachments": {},
   "cell_type": "markdown",
   "metadata": {},
   "source": [
    "# Lecture8 最適化を使ってSVMを解く\n",
    "<div dir='rtl'>\n",
    "2022.4岩政\n",
    "</div>\n",
    "\n",
    "ここでは、sklearn.svmを使わずに、定式化を愚直に、最適化計算で決定境界とマージンを求める例を示す。\n",
    "\n",
    "参考：[線形SVM(Support Vector Machine)を敢えてscipy.optimizeで実装してみた](https://qiita.com/rtok/items/f50e3ed2483a5ac55e31)"
   ]
  },
  {
   "cell_type": "markdown",
   "metadata": {},
   "source": [
    "SMVにおける双対問題の定式化では、以下の$f(\\alpha)$を最小化する$\\alpha$を求める問題に帰着できた。（スライドでは、符号が逆で、最大化問題(argmax)であるとしたが、同じこと)\n",
    "\n",
    "$$\n",
    "\\argmin_{\\alpha} f(\\alpha)\n",
    "$$\n",
    "\n",
    "\\begin{align}\n",
    "f(\\alpha) &=  \\frac{1}{2}\\sum_{i,j=1}^l\\alpha_i\\alpha_jy_iy_jx_i^{\\mathrm{T}}x_j - \\sum_{i=1}^l\\alpha_i \\\\\n",
    "g_i(\\alpha_i) &= \\alpha_i \\ge 0, \\quad i = 1, \\dots, l \\\\\n",
    "h(\\alpha) &= \\sum_{i=1}^l{\\alpha_iy_i} = 0\n",
    "\\end{align}\n",
    "\n",
    "\n",
    "scipyパッケージのoptimizeライブラリには、この最適化問題（最小化）をもとめる関数minimizeがある\n",
    "\n",
    "```\n",
    "from scipy.optimize import minimize\n",
    "\n",
    "cons = [{\"type\": \"ineq\", \"fun\": g}]\n",
    "res = minimize(fun, x0, method=\"SLSQP\", constraints=cons)\n",
    "\n",
    "```\n",
    "\n",
    "- funは最適化する関数\n",
    "- x0は初期値、0でよい\n",
    "- methodは最適化の手法で、\"SLSQP\"(=Sequential Least SQuares Programming(逐次二次計画法))をここではつかう\n",
    "- constraintsは制約で、上記例だと、等式制約$g(x)=0$を指定していることになります。 "
   ]
  },
  {
   "cell_type": "markdown",
   "metadata": {},
   "source": [
    "最初に、データを作成する"
   ]
  },
  {
   "cell_type": "code",
   "execution_count": 31,
   "metadata": {},
   "outputs": [],
   "source": [
    "import numpy as np\n",
    "from scipy.optimize import minimize\n",
    "from matplotlib import pyplot as plt\n",
    "\n",
    "ONE_DATA = 30\n",
    "x = np.vstack((np.random.normal(loc=-2, scale=1.0, size=(ONE_DATA, 2)),\\\n",
    "        np.random.normal(loc=2, scale=1.0, size=(ONE_DATA, 2))))\n",
    "y = np.hstack((np.repeat(-1, ONE_DATA), np.repeat(1, ONE_DATA)))"
   ]
  },
  {
   "cell_type": "markdown",
   "metadata": {},
   "source": [
    "生成されたデータはこちら"
   ]
  },
  {
   "cell_type": "code",
   "execution_count": 32,
   "metadata": {},
   "outputs": [
    {
     "data": {
      "text/plain": [
       "<matplotlib.collections.PathCollection at 0x186329e84f0>"
      ]
     },
     "execution_count": 32,
     "metadata": {},
     "output_type": "execute_result"
    },
    {
     "data": {
      "image/png": "[encoded data removed]",
      "text/plain": [
       "<Figure size 432x288 with 1 Axes>"
      ]
     },
     "metadata": {
      "needs_background": "light"
     },
     "output_type": "display_data"
    }
   ],
   "source": [
    "plt.scatter(x[:,0],x[:,1],c=y)"
   ]
  },
  {
   "cell_type": "markdown",
   "metadata": {},
   "source": [
    "目的関数、不等式制約、等式制約を定義します。ここでは、pythonのクロージャーというやり方で関数を定義しています（関数を返す関数といういみ）"
   ]
  },
  {
   "cell_type": "code",
   "execution_count": 33,
   "metadata": {},
   "outputs": [],
   "source": [
    "# 目的関数\n",
    "# x, yはデータで、データを指定して関数を実行すると引数が$\\alpha$の関数が返ってくるのでそれを`minimize`に使わせる。\n",
    "def get_obj(x, y):\n",
    "    def obj(alpha):\n",
    "        second = np.array([alpha[i]*alpha[j]*y[i]*y[j]*np.dot(x[i], x[j]) \\\n",
    "                for i in range(len(alpha)) for j in range(len(alpha))])\n",
    "        return  - np.sum(alpha) + .5 * np.sum(second)\n",
    "    return obj\n",
    "\n",
    "# 不等式制約（制約の数だけ作れるようにしていることに注意）\n",
    "def get_g(i):\n",
    "    def g(alpha):\n",
    "        return alpha[i]\n",
    "    return g\n",
    "\n",
    "# 等式制約\n",
    "def get_h(y):\n",
    "    def h(alpha):\n",
    "        return np.sum([alpha[i]*y[i] for i in range(len(alpha))])\n",
    "    return h"
   ]
  },
  {
   "cell_type": "markdown",
   "metadata": {},
   "source": [
    "目的関数や制約を、constraintsに積みます"
   ]
  },
  {
   "cell_type": "code",
   "execution_count": 34,
   "metadata": {},
   "outputs": [],
   "source": [
    "cons = [\n",
    "    {'type': 'eq', 'fun': get_h(y)}  # 等式制約\n",
    "]\n",
    "for i in range(len(x)):\n",
    "    cons.append({'type': 'ineq', 'fun': get_g(i)})  # 不等式制約"
   ]
  },
  {
   "cell_type": "markdown",
   "metadata": {},
   "source": [
    "最適化(minimize)を実行します。\n",
    "\n"
   ]
  },
  {
   "cell_type": "code",
   "execution_count": 35,
   "metadata": {},
   "outputs": [
    {
     "data": {
      "text/plain": [
       "     fun: -0.2118760584383288\n",
       "     jac: array([ 1.42196708,  2.05071852,  1.43612298,  1.59944294,  0.49742597,\n",
       "        0.05188346,  0.71497243,  0.40666428,  0.97439515,  1.72406037,\n",
       "        1.66853388,  2.22240538,  2.14150348,  0.55766934,  0.74513804,\n",
       "        0.4436715 ,  0.16830567,  0.56425565,  0.96207988,  1.11094765,\n",
       "        1.96200003,  1.34864786,  0.03573991,  0.95521435,  1.31362914,\n",
       "        0.15626596,  0.38743508,  0.48620488,  1.42213699,  0.45091385,\n",
       "        1.38014479,  1.58527352,  1.1364772 ,  0.39368512,  1.07020434,\n",
       "        0.37067184,  0.13975737,  0.97566527,  0.29795209,  0.11862013,\n",
       "        1.38323165,  0.56982012,  1.35271766,  0.60008703,  1.15449805,\n",
       "        0.93804403,  1.30158815,  0.86869402,  1.17631928,  1.53460445,\n",
       "       -0.03574262,  0.12183705,  1.32516665,  0.22347445,  0.13818084,\n",
       "        0.75220088,  0.11668587, -0.03649266,  0.90049279,  0.28654385])\n",
       " message: 'Optimization terminated successfully'\n",
       "    nfev: 614\n",
       "     nit: 10\n",
       "    njev: 10\n",
       "  status: 0\n",
       " success: True\n",
       "       x: array([-4.13293551e-16, -1.84197566e-16,  3.53829801e-16, -3.45674610e-16,\n",
       "       -1.49390205e-15, -6.20357430e-15, -4.67712250e-16, -5.78665671e-16,\n",
       "        1.68578805e-16,  1.54753381e-15,  9.28009697e-16,  2.00020414e-15,\n",
       "        2.63274435e-15, -1.56351275e-15, -2.04128368e-15, -1.97910350e-15,\n",
       "       -2.08171598e-15, -1.54631094e-15,  8.60618846e-16,  6.63512165e-17,\n",
       "        2.91397819e-15, -4.11461115e-16,  2.11861866e-01, -2.06826605e-16,\n",
       "        1.41720406e-15, -4.06569132e-15, -1.72401446e-15, -2.93023844e-15,\n",
       "        2.33189946e-17, -1.57326143e-15,  1.11577821e-15,  2.11927147e-15,\n",
       "        8.96279041e-16,  8.16518148e-17,  6.34247215e-17, -1.56715519e-15,\n",
       "       -2.30940315e-15,  1.02699668e-15, -3.32188717e-15,  8.12400383e-16,\n",
       "        1.24895416e-15, -8.10035048e-16,  1.27653039e-15,  1.18543310e-17,\n",
       "        3.18390319e-16,  1.24453447e-15,  1.50392618e-15,  2.54134777e-16,\n",
       "        9.64094905e-16,  7.41111441e-16,  1.74795062e-01, -2.39812093e-15,\n",
       "        7.13887606e-16, -1.96334012e-15, -1.82865462e-15, -1.69296094e-15,\n",
       "       -1.48047029e-15,  3.70668044e-02,  6.04800838e-16, -1.32575517e-15])"
      ]
     },
     "execution_count": 35,
     "metadata": {},
     "output_type": "execute_result"
    }
   ],
   "source": [
    "res = minimize(get_obj(x, y), np.zeros(len(x)), constraints=cons, method=\"SLSQP\")\n",
    "res"
   ]
  },
  {
   "cell_type": "markdown",
   "metadata": {},
   "source": [
    "res.xが求めた$\\alpha$であり、\n",
    "\n",
    "$$w = \\sum_{i=1}^l\\alpha_iy_ix_i$$\n",
    "\n",
    "であったから、$w$を求める"
   ]
  },
  {
   "cell_type": "code",
   "execution_count": 41,
   "metadata": {},
   "outputs": [],
   "source": [
    "\n",
    "alpha_hat = res.x\n",
    "tol = 1e-10\n",
    "support_index = np.where(alpha_hat > tol)[0]\n",
    "non_suppoert_index = np.where(alpha_hat <= tol)[0]\n",
    "alpha_hat[non_suppoert_index] = 0\n",
    "w = np.sum([alpha_hat[i]*y[i]*x[i] for i in range(len(x))], axis=0)"
   ]
  },
  {
   "cell_type": "markdown",
   "metadata": {},
   "source": [
    "bを求める"
   ]
  },
  {
   "cell_type": "code",
   "execution_count": 37,
   "metadata": {},
   "outputs": [],
   "source": [
    "# ラベルが-1のサポートベクトルを選出\n",
    "x_m = x[support_index][np.where(y[support_index]==-1)]\n",
    "# ラベルが+1のサポートベクトルを選出\n",
    "x_p = x[support_index][np.where(y[support_index]==1)]\n",
    "# サポートベクトルを一つだけ採用してbを計算\n",
    "b = - ( np.dot(w, x_p[0]) + np.dot(w, x_m[0]) ) / 2"
   ]
  },
  {
   "cell_type": "code",
   "execution_count": 38,
   "metadata": {},
   "outputs": [
    {
     "data": {
      "text/plain": [
       "(array([0.5293153, 0.3788412]), 0.035741266363856716)"
      ]
     },
     "execution_count": 38,
     "metadata": {},
     "output_type": "execute_result"
    }
   ],
   "source": [
    "w,b"
   ]
  },
  {
   "cell_type": "markdown",
   "metadata": {},
   "source": [
    "結果を描画します\n",
    "\n",
    "- 決定境界:\n",
    "  - $ \\vec{x}\\cdot\\vec{w}+b=0$\n",
    "- マージン線：\n",
    "  - $ \\vec{x}\\cdot\\vec{w}+b=1$\n",
    "  - $ \\vec{x}\\cdot\\vec{w}+b=-1$\n",
    "\n",
    "であるから、"
   ]
  },
  {
   "cell_type": "code",
   "execution_count": 40,
   "metadata": {},
   "outputs": [
    {
     "data": {
      "text/plain": [
       "(-5.0, 5.0)"
      ]
     },
     "execution_count": 40,
     "metadata": {},
     "output_type": "execute_result"
    },
    {
     "data": {
      "image/png": "[encoded data removed]",
      "text/plain": [
       "<Figure size 432x288 with 1 Axes>"
      ]
     },
     "metadata": {
      "needs_background": "light"
     },
     "output_type": "display_data"
    }
   ],
   "source": [
    "# 決定境界のy座標はこちら\n",
    "def classifier(w1, w2, b, x):\n",
    "    return -w1/w2*x - b/w2\n",
    "\n",
    "# marginの座標を計算、 m=1,-1\n",
    "def margin(w1, w2, b, x,m):\n",
    "    return -w1/w2*x - b/w2 +m/w2\n",
    "\n",
    "\n",
    "for xi, yi in zip(x, y):\n",
    "    # サポートベクトルの描画\n",
    "    # 条件としてはモレがあるが、ほぼモレは起こりえないのでこのまま。\n",
    "    if (xi[0] in x_m and xi[1] in x_m) or \\\n",
    "            (xi[0] in x_p and xi[1] in x_p):\n",
    "        plt.plot(xi[0], xi[1], 'gv')\n",
    "        continue\n",
    "    # ラベルごとに記号を分ける\n",
    "    if yi == 1:\n",
    "        plt.plot(xi[0], xi[1], 'ro')\n",
    "    else:\n",
    "        plt.plot(xi[0], xi[1], 'bx')\n",
    "x2 = np.linspace(-5, 5, 100)\n",
    "y2 = classifier(w[0], w[1], b, x2)\n",
    "plt.plot(x2, y2)\n",
    "plt.plot(x2, margin(w[0], w[1], b, x2,1),linestyle = \"dashed\")\n",
    "plt.plot(x2, margin(w[0], w[1], b, x2,-1),linestyle = \"dashed\")\n",
    "plt.xlim([-5, 5])\n",
    "plt.ylim([-5, 5])"
   ]
  },
  {
   "cell_type": "code",
   "execution_count": null,
   "metadata": {},
   "outputs": [],
   "source": []
  }
 ],
 "metadata": {
  "interpreter": {
   "hash": "2db524e06e9f5f4ffedc911c917cb75e12dbc923643829bf417064a77eb14d37"
  },
  "kernelspec": {
   "display_name": "Python 3.8.3 64-bit",
   "language": "python",
   "name": "python3"
  },
  "language_info": {
   "codemirror_mode": {
    "name": "ipython",
    "version": 3
   },
   "file_extension": ".py",
   "mimetype": "text/x-python",
   "name": "python",
   "nbconvert_exporter": "python",
   "pygments_lexer": "ipython3",
   "version": "3.8.3"
  },
  "orig_nbformat": 4
 },
 "nbformat": 4,
 "nbformat_minor": 2
}
