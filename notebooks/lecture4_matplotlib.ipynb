{
 "cells": [
  {
   "attachments": {},
   "cell_type": "markdown",
   "metadata": {},
   "source": [
    "# Lecture5　データの可視化\n",
    "<div dir='rtl'>\n",
    "2023.4岩政\n",
    "</div>\n",
    "参考にした\n",
    "\n",
    "https://jakevdp.github.io/PythonDataScienceHandbook/04.00-introduction-to-matplotlib.html"
   ]
  },
  {
   "cell_type": "markdown",
   "metadata": {},
   "source": [
    "## 簡単なLine PLot\n",
    "\n",
    "%matplotlib inline は、jupyter notebookでplot画像をインラインで表示するためのディレクティブです。"
   ]
  },
  {
   "cell_type": "code",
   "execution_count": null,
   "metadata": {},
   "outputs": [],
   "source": [
    "%matplotlib inline\n",
    "import matplotlib.pyplot as plt\n",
    "#plt.style.use('seaborn-whitegrid')\n",
    "import numpy as np"
   ]
  },
  {
   "cell_type": "markdown",
   "metadata": {},
   "source": [
    "'figure' (plt.Figure クラスのインスタンス) は、軸、グラフィックス、テキスト、ラベルを表すすべてのオブジェクトを含む単一のコンテナです。'axes'（plt.Axesクラスのインスタンス）は、目盛りとラベルを持つ境界ボックス(bounding box)"
   ]
  },
  {
   "cell_type": "code",
   "execution_count": null,
   "metadata": {},
   "outputs": [],
   "source": [
    "fig = plt.figure()\n",
    "ax = plt.axes()\n",
    "\n",
    "#最初に\n",
    "x = np.linspace(0, 10, 1000)\n",
    "plt.plot(x, np.sin(x),color='blue')\n",
    "plt.plot(x, np.cos(x),color='g')"
   ]
  },
  {
   "cell_type": "markdown",
   "metadata": {},
   "source": [
    "様々な線種は、plot関数のlinestyleオプションで設定します。"
   ]
  },
  {
   "cell_type": "code",
   "execution_count": null,
   "metadata": {},
   "outputs": [],
   "source": [
    "plt.plot(x, x + 0, linestyle='solid')\n",
    "plt.plot(x, x + 1, linestyle='dashed')\n",
    "plt.plot(x, x + 2, linestyle='dashdot')\n",
    "plt.plot(x, x + 3, linestyle='dotted');"
   ]
  },
  {
   "cell_type": "markdown",
   "metadata": {},
   "source": [
    "### プロットにラベルを追加する\n",
    "\n",
    "プロットのラベル付けについて。タイトル、軸ラベル、そして簡単な凡例の追加。\n",
    "\n",
    "タイトルと軸ラベルをつける簡単な例です。"
   ]
  },
  {
   "cell_type": "code",
   "execution_count": null,
   "metadata": {},
   "outputs": [],
   "source": [
    "plt.plot(x, np.sin(x), '-g', label='sin(x)')\n",
    "plt.plot(x, np.cos(x), ':b', label='cos(x)')\n",
    "\n",
    "plt.title(\"A Sine Curve\")\n",
    "plt.xlabel(\"x\")\n",
    "plt.ylabel(\"sin(x)\");\n",
    "#plt.axis('equal')\n",
    "\n",
    "plt.legend();"
   ]
  },
  {
   "cell_type": "markdown",
   "metadata": {},
   "source": [
    "## 散布図(Scatter Plot)\n",
    "plot関数を使って1点1点異なる色とラベルを付与して散布図を表すこともできます。"
   ]
  },
  {
   "cell_type": "code",
   "execution_count": null,
   "metadata": {},
   "outputs": [],
   "source": [
    "rng = np.random.RandomState(0)\n",
    "for marker in ['o', '.', ',', 'x', '+', 'v', '^', '<', '>', 's', 'd']:\n",
    "    plt.plot(rng.rand(5), rng.rand(5), marker,\n",
    "             label=\"marker='{0}'\".format(marker))\n",
    "plt.legend(numpoints=1)\n",
    "plt.xlim(0, 1.8);"
   ]
  },
  {
   "cell_type": "markdown",
   "metadata": {},
   "source": [
    "x、y座標及び、色の指定をリストとして散布図を描くにはscatterを使います。\n",
    "\n",
    "多くの色や大きさの点からなるランダムな散布図。重なり合った結果をよりよく見るために、α値を使って透明度を調整します。"
   ]
  },
  {
   "cell_type": "code",
   "execution_count": null,
   "metadata": {},
   "outputs": [],
   "source": [
    "rng = np.random.RandomState(0)\n",
    "x = rng.randn(100)\n",
    "y = rng.randn(100)\n",
    "colors = rng.rand(100)\n",
    "sizes = 1000 * rng.rand(100)\n",
    "\n",
    "plt.scatter(x, y, c=colors, s=sizes, alpha=0.3,\n",
    "            cmap='viridis')\n",
    "plt.colorbar();  # show color scale"
   ]
  },
  {
   "cell_type": "markdown",
   "metadata": {},
   "source": [
    "### Iris データを使った散布図の例\n",
    "可視化の実例として、Scikit-LearnのIrisデータを使って、花びらとがく片の大きさを慎重に測定した3種類の花の中から1つずつサンプルを選ぶとします。\n"
   ]
  },
  {
   "cell_type": "code",
   "execution_count": null,
   "metadata": {},
   "outputs": [],
   "source": [
    "from sklearn.datasets import load_iris\n",
    "iris = load_iris()\n",
    "\n",
    "iris"
   ]
  },
  {
   "cell_type": "code",
   "execution_count": null,
   "metadata": {},
   "outputs": [],
   "source": [
    "iris.keys()"
   ]
  },
  {
   "cell_type": "markdown",
   "metadata": {},
   "source": [
    "irisデータは、sklearn.datasets.dataオブジェクトで、辞書型(dict)のサブクラスです。keys()で辞書keyを表示すると、iris.dataにデータが、iris.feature_namesにデータの項目名が格納されています。"
   ]
  },
  {
   "cell_type": "code",
   "execution_count": null,
   "metadata": {},
   "outputs": [],
   "source": [
    "iris.feature_names"
   ]
  },
  {
   "cell_type": "markdown",
   "metadata": {},
   "source": [
    "sepal長、sepal幅、petal長,petal幅のリストのリストが iris.dataに格納されているようです。\n",
    "\n",
    "データを倒置して、項目ごとのリスト(featues[])としてデータを参照できるようにし、sepal長とsepal幅をx,y座標とし、petal幅を円の大きさとする散布図を描いてみます"
   ]
  },
  {
   "cell_type": "code",
   "execution_count": null,
   "metadata": {},
   "outputs": [],
   "source": [
    "features = iris.data.T\n",
    "\n",
    "plt.scatter(features[0], features[1], alpha=0.2,\n",
    "            s=100*features[3], c=iris.target, cmap='viridis')\n",
    "plt.xlabel(iris.feature_names[0])\n",
    "plt.ylabel(iris.feature_names[1]);"
   ]
  },
  {
   "cell_type": "markdown",
   "metadata": {},
   "source": [
    "## 誤差や標準偏差の可視化\n",
    "\n",
    "### 離散的な誤差範囲の表示\n",
    "１点１点離散なデータに対する誤差の範囲を表示するには、\n",
    "errorbar()メソッドを使えばエラーバーを付与することができます。"
   ]
  },
  {
   "cell_type": "code",
   "execution_count": null,
   "metadata": {},
   "outputs": [],
   "source": [
    "x = np.linspace(0, 10, 50)\n",
    "dy = 0.8\n",
    "y = np.sin(x) + dy * np.random.randn(50)\n",
    "\n",
    "plt.errorbar(x, y, yerr=dy, fmt='.k');"
   ]
  },
  {
   "cell_type": "markdown",
   "metadata": {},
   "source": [
    "### 連続的な誤差の表示\n",
    "連続的な量にエラーバーを表示することが望ましい場合の例として、Matplotlibのplt.plot と plt.fill_between 組み合わせて書いてみます。\n",
    "\n",
    "参考：</br>\n",
    "https://funatsu-lab.github.io/open-course-ware/machine-learning/gaussian-process/\n",
    "\n",
    "\n",
    "$f(x)=x\\cdot sin(x)$ を連続グラフとして描画し、離散点を幾つかこれに重ねて描きます\n",
    "\n"
   ]
  },
  {
   "cell_type": "code",
   "execution_count": null,
   "metadata": {},
   "outputs": [],
   "source": [
    "from sklearn.gaussian_process import GaussianProcessRegressor\n",
    "from sklearn.gaussian_process.kernels import ConstantKernel, RBF, WhiteKernel\n",
    "from sklearn.preprocessing import StandardScaler\n",
    "\n",
    "# 解析関数の定義\n",
    "def f(X):\n",
    "    return X * np.sin(X)\n",
    "    \n",
    "# データセットの作成\n",
    "X = np.atleast_2d([1., 3., 5., 6., 7., 8.]).T\n",
    "y = f(X)\n",
    "\n",
    "\n",
    "# データセットの可視化\n",
    "plot_X = np.atleast_2d(np.linspace(0, 10, 1000)).T\n",
    "fig = plt.figure(figsize=(8, 6))\n",
    "plt.plot(plot_X, f(plot_X), 'k')\n",
    "plt.plot(X, y, 'r.', markersize=16)\n",
    "plt.xlabel('$x$', fontsize=16)\n",
    "plt.ylabel('$y$', fontsize=16)\n",
    "plt.ylim(-8, 12)\n",
    "plt.legend(['$y = x*\\sin(x)$', 'Observed values'], loc='upper left', fontsize=16)\n",
    "plt.tick_params(labelsize=16)\n",
    "plt.show()\n"
   ]
  },
  {
   "cell_type": "markdown",
   "metadata": {},
   "source": [
    "目的変数をStandardScalerを使って標準化します。特徴量の比率を揃えるなど、機械学習ではよく行われます。\n",
    "\n",
    "標準化は集合の各データから平均を引き、標準偏差で割ることで求めることが出来ます。\n",
    "\n",
    "$$ z_i= \\frac{y_i-\\mu}{\\sigma}$$\n",
    "\n",
    "「GPモデル」とあるのは、ガウス過程と呼ばれるモデルになります。ここではRBFカーネルに白色ノイズを追加したカーネル関数を使います。\n",
    "ガウス過程については、本講義外の項目ですが以下のような特徴を持っています。\n",
    "\n",
    "- 予測値だけでなくその分散を計算可能\n",
    "- カーネル関数により柔軟にモデル選択が可能\n",
    "\n",
    "今回は「分散を計算可能」というところを生かして、連続関数の誤差（分散のこと）を表示します。"
   ]
  },
  {
   "cell_type": "code",
   "execution_count": null,
   "metadata": {},
   "outputs": [],
   "source": [
    "# データのscaling\n",
    "# scikit-learnに実装されているStandardScalerを利用\n",
    "# 説明変数のscalingはしなくても問題ありませんが、目的変数のscalingは必須です(平均の事前分布を与えるのが難しいため)\n",
    "scaler_y = StandardScaler().fit(y)\n",
    "\n",
    "# GPモデルの構築\n",
    "kernel = ConstantKernel() * RBF() + WhiteKernel()\n",
    "gpr = GaussianProcessRegressor(kernel=kernel, alpha=0)\n",
    "gpr.fit(X, scaler_y.transform(y))"
   ]
  },
  {
   "cell_type": "code",
   "execution_count": null,
   "metadata": {},
   "outputs": [],
   "source": [
    "# plot_Xに対する平均および標準偏差の予測\n",
    "pred_mu, pred_sigma = gpr.predict(plot_X, return_std=True)\n",
    "pred_mu = scaler_y.inverse_transform(pred_mu.reshape(-1, 1))\n",
    "pred_sigma = pred_sigma.reshape(-1, 1) * scaler_y.scale_\n",
    "\n",
    "# 各xに対する95%信頼区間を表示\n",
    "fig = plt.figure(figsize=(8, 6))\n",
    "plt.plot(plot_X, f(plot_X), 'k')\n",
    "plt.plot(X, y, 'r.', markersize=16)\n",
    "plt.plot(plot_X, pred_mu, 'b')\n",
    "# データが正規分布に従う場合、95%信頼区間は平均から標準偏差の1.96倍以内の区間となる\n",
    "plt.fill_between(plot_X.squeeze(), (pred_mu - 1.9600 * pred_sigma).squeeze(), (pred_mu + 1.9600 * pred_sigma).squeeze())\n",
    "plt.xlabel('$x$', fontsize=16)\n",
    "plt.ylabel('$y$', fontsize=16)\n",
    "plt.ylim(-8, 12)\n",
    "plt.legend(['$y = x*\\sin(x)$', 'Observed values', 'Predicted mean', '95% confidence interval'], loc='upper left', fontsize=16)\n",
    "plt.tick_params(labelsize=16)\n",
    "plt.show()"
   ]
  },
  {
   "cell_type": "markdown",
   "metadata": {},
   "source": [
    "# matplotlibを用いて複数のプロット，グラフを描く\n",
    "subplotsのパラメータ:<br>\n",
    "https://matplotlib.org/api/_as_gen/matplotlib.pyplot.subplots.html <br>\n",
    "\n",
    "このパラメータのうち，更なるもの（figsize[inch, inch], facecolor, edgecolorなど）は次：<br>\n",
    "https://matplotlib.org/api/_as_gen/matplotlib.pyplot.figure.html<br>\n"
   ]
  },
  {
   "cell_type": "markdown",
   "metadata": {},
   "source": []
  },
  {
   "cell_type": "code",
   "execution_count": null,
   "metadata": {},
   "outputs": [],
   "source": [
    "x = np.linspace(-3, 3, 20)\n",
    "y1 = x\n",
    "y2 = x ** 2\n",
    "y3 = x ** 3\n",
    "y4 = x ** 4"
   ]
  },
  {
   "cell_type": "code",
   "execution_count": null,
   "metadata": {},
   "outputs": [],
   "source": [
    "fig, ((ax1, ax2), (ax3, ax4)) = plt.subplots(nrows=2, ncols=2, figsize=(6,4))\n",
    "\n",
    "ax1.plot(x, y1) # upper left\n",
    "ax2.plot(x, y2) # upper right\n",
    "ax3.plot(x, y3) # lower left\n",
    "ax4.plot(x, y4) # lower right\n",
    " \n",
    "plt.show()"
   ]
  },
  {
   "cell_type": "markdown",
   "metadata": {},
   "source": [
    "# タイタニックデータの可視化\n",
    "英国の客船，処女航海の1912年に北大西洋上で氷山に接触し沈没した。犠牲者が多数出た。映画で何度か上映されたため，世界的に非常に有名となった。この乗客に生存に関するデータがある。"
   ]
  },
  {
   "cell_type": "code",
   "execution_count": null,
   "metadata": {},
   "outputs": [],
   "source": [
    "# -*- coding: utf-8 -*-\n",
    "import numpy as np\n",
    "import pandas as pd\n",
    "#import seaborn as sns\n",
    "\n",
    "import matplotlib\n",
    "import matplotlib.pyplot as plt\n",
    "%matplotlib inline\n"
   ]
  },
  {
   "cell_type": "code",
   "execution_count": null,
   "metadata": {},
   "outputs": [],
   "source": [
    "titanic_url = \"http://s3.amazonaws.com/assets.datacamp.com/course/Kaggle/train.csv\" #トレニーングデータ読込み\n",
    "df = pd.read_csv(titanic_url) # df; DataFrame　の略\n",
    "# df.to_csv('titanic_train.csv') # 読込んだデータの出力\n",
    "df.head()"
   ]
  },
  {
   "cell_type": "markdown",
   "metadata": {},
   "source": [
    "Ageは，幾つか欠損している。csvファイルでは空欄となっている。欠損レコードを省くとデータ数が激減するので，補完する。補完の考え方は幾つかあり，ここでは，中央値を採用する。"
   ]
  },
  {
   "cell_type": "code",
   "execution_count": null,
   "metadata": {},
   "outputs": [],
   "source": [
    "df['Age'].fillna(df.Age.median(), inplace=True) #inplace=True は，処理軽減のため，元データを処理する"
   ]
  },
  {
   "cell_type": "code",
   "execution_count": null,
   "metadata": {},
   "outputs": [],
   "source": [
    "hist = df['Age'].hist(bins=16)\n",
    "# matplotlibを用いた plt.hist(df['Age'],  bins=16)とほぼ同じ\n",
    "\n",
    "plt.show()"
   ]
  },
  {
   "cell_type": "markdown",
   "metadata": {},
   "source": [
    "乗客の年齢構成を見る"
   ]
  },
  {
   "cell_type": "code",
   "execution_count": null,
   "metadata": {},
   "outputs": [],
   "source": [
    "age1 = (df['Age'] < 15).sum()\n",
    "age2 = ( (df['Age'] >= 15) & (df['Age'] < 60) ).sum()\n",
    "age3 = (df['Age'] >= 60).sum()\n",
    "print(age1, age2, age3, (age1+age2+age3))"
   ]
  },
  {
   "cell_type": "code",
   "execution_count": null,
   "metadata": {},
   "outputs": [],
   "source": [
    "series = pd.Series([age1, age2, age3], index=['Child', 'Adult', 'Elderly'], name='Age')\n",
    "series.plot.pie(figsize=(4, 4))\n",
    "\n",
    "plt.legend()\n",
    "plt.show()"
   ]
  },
  {
   "cell_type": "code",
   "execution_count": null,
   "metadata": {},
   "outputs": [],
   "source": [
    "cross_01 = df.pivot_table(index=['Survived'], columns=['Sex'],  \\\n",
    "                          values=['PassengerId'],aggfunc='count', fill_value=0)\n",
    "print(cross_01)"
   ]
  },
  {
   "cell_type": "markdown",
   "metadata": {},
   "source": [
    "この棒グラフを見る"
   ]
  },
  {
   "cell_type": "code",
   "execution_count": null,
   "metadata": {},
   "outputs": [],
   "source": [
    "cross_01.plot(kind='bar')\n",
    "\n",
    "plt.show()"
   ]
  },
  {
   "cell_type": "markdown",
   "metadata": {},
   "source": [
    "船室のクラス（Pclass）と生存のクロス集計を見る"
   ]
  },
  {
   "cell_type": "code",
   "execution_count": null,
   "metadata": {},
   "outputs": [],
   "source": [
    "cross_02 = df.pivot_table(index=['Survived'], columns=['Pclass'], \\\n",
    "                 values=['PassengerId'], aggfunc='count', fill_value=0)\n",
    "cross_02"
   ]
  },
  {
   "cell_type": "code",
   "execution_count": null,
   "metadata": {},
   "outputs": [],
   "source": [
    "cross_02.plot(kind='bar')\n",
    "\n",
    "plt.show()"
   ]
  },
  {
   "cell_type": "markdown",
   "metadata": {},
   "source": [
    "上記の棒グラフを積み上げ方式に変換する"
   ]
  },
  {
   "cell_type": "code",
   "execution_count": null,
   "metadata": {},
   "outputs": [],
   "source": [
    "cross_02.plot(kind='bar', stacked=True)\n",
    "\n",
    "plt.show()"
   ]
  },
  {
   "cell_type": "markdown",
   "metadata": {},
   "source": [
    "columnsの階層化\n",
    "Sexの分類のもとにPclassの分類を階層化する"
   ]
  },
  {
   "cell_type": "code",
   "execution_count": null,
   "metadata": {},
   "outputs": [],
   "source": [
    "cross_03_1 = df.pivot_table(index=['Survived'], columns=['Sex', 'Pclass'], values=['PassengerId'], aggfunc='count', fill_value=0)\n",
    "cross_03_1"
   ]
  },
  {
   "cell_type": "markdown",
   "metadata": {},
   "source": [
    "ここまでのクロス集計は'count'であるから，valuesは何を指定してもよい。ただし，indexとcolumnsを指定したラベルは省く。"
   ]
  },
  {
   "cell_type": "code",
   "execution_count": null,
   "metadata": {},
   "outputs": [],
   "source": [
    "cross_03_2 = df.pivot_table(index=['Survived'], columns=['Sex', 'Pclass'], values=['Name'], aggfunc='count', fill_value=0)\n",
    "cross_03_2"
   ]
  },
  {
   "cell_type": "markdown",
   "metadata": {},
   "source": [
    "valuesを外すと，sexの上に，他の全てのラベルが階層化される"
   ]
  },
  {
   "cell_type": "code",
   "execution_count": null,
   "metadata": {},
   "outputs": [],
   "source": [
    "cross_04 = df.pivot_table(index=['Survived'], columns=['Sex'], aggfunc='count', fill_value=0)\n",
    "cross_04"
   ]
  },
  {
   "cell_type": "markdown",
   "metadata": {},
   "source": [
    "# Iris（アイリス）データの可視化\n",
    "参照<br>\n",
    "http://seaborn.pydata.org/\n",
    "\n",
    "seaborn.pairplot https://seaborn.pydata.org/generated/seaborn.pairplot.html<br>\n",
    "Multiple linear regression https://seaborn.pydata.org/examples/multiple_regression.html<br>\n",
    "Scatterplot with categorical variables https://seaborn.pydata.org/examples/scatterplot_categorical.html"
   ]
  },
  {
   "cell_type": "code",
   "execution_count": null,
   "metadata": {},
   "outputs": [],
   "source": [
    "# -*- coding: utf-8 -*-\n",
    "import numpy as np\n",
    "import pandas as pd\n",
    "import seaborn as sns\n",
    "\n",
    "import matplotlib.pyplot as plt\n",
    "%matplotlib inline\n"
   ]
  },
  {
   "cell_type": "code",
   "execution_count": null,
   "metadata": {},
   "outputs": [],
   "source": [
    "from IPython.display import Image\n",
    "# Iris Setosa\n",
    "url = 'https://upload.wikimedia.org/wikipedia/commons/a/a7/Irissetosa1.jpg'\n",
    "Image(url,width=300, height=300)"
   ]
  },
  {
   "cell_type": "code",
   "execution_count": null,
   "metadata": {},
   "outputs": [],
   "source": [
    "# Iris Versicolor\n",
    "url = 'https://upload.wikimedia.org/wikipedia/commons/d/db/Iris_versicolor_4.jpg'\n",
    "Image(url,width=300, height=300)"
   ]
  },
  {
   "cell_type": "code",
   "execution_count": null,
   "metadata": {},
   "outputs": [],
   "source": [
    "# Iris Virginica\n",
    "url = 'https://upload.wikimedia.org/wikipedia/commons/b/b1/Virginia_Iris.png'\n",
    "Image(url,width=300, height=300)"
   ]
  },
  {
   "cell_type": "markdown",
   "metadata": {},
   "source": [
    "sns.set()は，Seabornのディフォルトスタイルを適用する<br>\n",
    "https://seaborn.pydata.org/generated/seaborn.set.html"
   ]
  },
  {
   "cell_type": "code",
   "execution_count": null,
   "metadata": {},
   "outputs": [],
   "source": [
    "sns.set()\n",
    "# Load the example tips dataset\n",
    "iris = sns.load_dataset(\"iris\") # type (iris) = pandas.core.frame.DataFrame\n",
    "iris.head()"
   ]
  },
  {
   "cell_type": "markdown",
   "metadata": {},
   "source": [
    "## データの説明"
   ]
  },
  {
   "cell_type": "code",
   "execution_count": null,
   "metadata": {},
   "outputs": [],
   "source": [
    "type(iris)"
   ]
  },
  {
   "cell_type": "markdown",
   "metadata": {},
   "source": [
    "## 回帰モデルの作成と可視化(Implot)\n",
    "\n",
    "lmplot()は，回帰モデルの作成とグラフ作成を同時に行う<br>\n",
    "次の例は，横軸をsepal_length[cm], 縦軸をsepal_width[cm]とし，3種のirisそれぞれに対する回帰モデルを考える<br>\n",
    "truncate=Falseは，各回帰モデルを横軸のレンジ一杯に直線を引く。=Trueは，データの範囲内だけとする<br>\n",
    "size=5 はグラフのサイズ[inch], hueは色調を指定<br>\n",
    "ただし，統計量は出力しない<br>\n",
    "参照：<br>\n",
    "http://seaborn.pydata.org/generated/seaborn.lmplot.html <br>\n",
    "https://seaborn.pydata.org/generated/seaborn.FacetGrid.html"
   ]
  },
  {
   "cell_type": "code",
   "execution_count": null,
   "metadata": {},
   "outputs": [],
   "source": [
    "# Plot tip as a function of toal bill across days\n",
    "# size is for old version, height is for new version.\n",
    "#g = sns.lmplot(x=\"sepal_length\", y=\"sepal_width\", hue=\"species\",\n",
    "#               truncate=True, size=4, data=iris)\n",
    "g = sns.lmplot(x=\"sepal_length\", y=\"sepal_width\", hue=\"species\",\n",
    "               truncate=True, height=4, data=iris)\n",
    "# もし、FutureWaringが表示されても、無視してかまいません。\n",
    "\n",
    "# Use more informative axis labels than are provided by default\n",
    "g.set_axis_labels(\"Sepal length (cm)\", \"Sepal width (cm)\")\n"
   ]
  },
  {
   "cell_type": "markdown",
   "metadata": {},
   "source": [
    "## 散布図(pairplot)\n",
    "pairplot()は，各変数をそれぞれ組合せた散布図，すなわち，<br>\n",
    "散布図行列をプロットする。<br>\n",
    "参照<br>\n",
    "https://seaborn.pydata.org/generated/seaborn.pairplot.html <br>\n",
    "引数diag_kind='kde'; kernel density estimate (default),  ='hist'；histogram"
   ]
  },
  {
   "cell_type": "code",
   "execution_count": null,
   "metadata": {},
   "outputs": [],
   "source": [
    "sns_plot = sns.pairplot(iris, hue=\"species\", diag_kind='hist')\n"
   ]
  },
  {
   "cell_type": "markdown",
   "metadata": {},
   "source": [
    "## ヒートマップ(heatmap)\n",
    "\n",
    "DataFrameに対して、corr()関数は各列の間の相関係数を行列として計算します。"
   ]
  },
  {
   "cell_type": "code",
   "execution_count": null,
   "metadata": {},
   "outputs": [],
   "source": [
    "iris.corr()"
   ]
  },
  {
   "cell_type": "markdown",
   "metadata": {},
   "source": [
    "seabornのheatmap関数は、行列に対してその値に応じたheatmapを表示します\n",
    "- c：Matplotlib のカラーマップまたは、オブジェクトを指定。値の大小をどの色に変換する際に用います。指定のない場合、cubehelix カラーマップ\n",
    "- annot=True:　heatmapに値を同時に表示します。\n",
    "\n",
    "先ほど計算したiris.corr()の結果をheatmapで表示します。"
   ]
  },
  {
   "cell_type": "code",
   "execution_count": null,
   "metadata": {},
   "outputs": [],
   "source": [
    "sns.heatmap(iris.corr(),annot=True)"
   ]
  }
 ],
 "metadata": {
  "interpreter": {
   "hash": "2db524e06e9f5f4ffedc911c917cb75e12dbc923643829bf417064a77eb14d37"
  },
  "kernelspec": {
   "display_name": "Python 3.8.3 64-bit",
   "language": "python",
   "name": "python3"
  },
  "language_info": {
   "codemirror_mode": {
    "name": "ipython",
    "version": 3
   },
   "file_extension": ".py",
   "mimetype": "text/x-python",
   "name": "python",
   "nbconvert_exporter": "python",
   "pygments_lexer": "ipython3",
   "version": "3.8.3"
  },
  "orig_nbformat": 4
 },
 "nbformat": 4,
 "nbformat_minor": 2
}
