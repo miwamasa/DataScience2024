{
 "cells": [
  {
   "attachments": {},
   "cell_type": "markdown",
   "metadata": {},
   "source": [
    "# レポート１(提出期限4/29)の解答例\n",
    "\n",
    "**解答例**\n",
    "\n",
    "この解答例は、あくまでサンプルです、できるだけ講義の内容と関連付けるようにしました(**第X回講義PYY**)\n",
    "\n",
    "岩政\n",
    "\n",
    "## 1.1 線形回帰(10点)\n",
    "\n",
    "seaborn組み込みのダイアモンドの価格データをつかって重回帰分析を行い、\n",
    "適切だと思う説明変数の組み合わせをもとめなさい"
   ]
  },
  {
   "cell_type": "code",
   "execution_count": null,
   "metadata": {},
   "outputs": [],
   "source": [
    "import pandas as pd\n",
    "import seaborn as sns\n",
    "import statsmodels.api as sm\n",
    "import statsmodels.formula.api as smf\n",
    "import matplotlib.pyplot as plt\n",
    "%matplotlib inline\n",
    "\n",
    "# データの取得・確認\n",
    "diamond = sns.load_dataset('diamonds')\n",
    "diamond"
   ]
  },
  {
   "cell_type": "code",
   "execution_count": null,
   "metadata": {},
   "outputs": [],
   "source": [
    "diamond.dtypes"
   ]
  },
  {
   "cell_type": "code",
   "execution_count": null,
   "metadata": {},
   "outputs": [],
   "source": [
    "diamond.describe()"
   ]
  },
  {
   "attachments": {},
   "cell_type": "markdown",
   "metadata": {},
   "source": [
    "分離してみる\n",
    "\n",
    "訓練データとテストデータに分割してみます。(**第７回講義P7、ホールドアウトと交差検証**)"
   ]
  },
  {
   "cell_type": "code",
   "execution_count": null,
   "metadata": {},
   "outputs": [],
   "source": [
    "from sklearn.model_selection import train_test_split\n",
    "x = diamond.drop(\"price\",axis=1)\n",
    "y = diamond.pop(\"price\")\n",
    "\n",
    "x_train, x_test , y_train, y_test = train_test_split(x,y,test_size = 0.2, random_state = 1)"
   ]
  },
  {
   "attachments": {},
   "cell_type": "markdown",
   "metadata": {},
   "source": [
    "とりあえず全部のパラメータをいれてみる。"
   ]
  },
  {
   "cell_type": "code",
   "execution_count": null,
   "metadata": {},
   "outputs": [],
   "source": [
    "df_train = pd.concat([x_train, y_train], axis = 1)"
   ]
  },
  {
   "cell_type": "code",
   "execution_count": null,
   "metadata": {},
   "outputs": [],
   "source": [
    "#　回帰の実施\n",
    "\n",
    "import statsmodels.formula.api as smf\n",
    "model = smf.glm('price ~ carat + color + clarity +depth+table+cut+x+y+z', df_train) \n",
    "fit = model.fit()                                \n",
    "fit.summary2()"
   ]
  },
  {
   "attachments": {},
   "cell_type": "markdown",
   "metadata": {},
   "source": [
    "\n",
    "cut,color,clarityはカテゴリ変数として認識してくれている鵜です。\n",
    "\n",
    "p値から y,zを外します"
   ]
  },
  {
   "cell_type": "code",
   "execution_count": null,
   "metadata": {},
   "outputs": [],
   "source": [
    "model = smf.glm('price ~ carat + color + clarity +depth+table+cut+x', df_train) \n",
    "fit = model.fit()                                \n",
    "fit.summary2()"
   ]
  },
  {
   "attachments": {},
   "cell_type": "markdown",
   "metadata": {},
   "source": [
    "AICが小さくなるうな説明変数を探します、ステップワイズ法みたいに、要素を１つづつ削ります。(**第６回講義P13、ステップワイズ法**)"
   ]
  },
  {
   "cell_type": "code",
   "execution_count": null,
   "metadata": {},
   "outputs": [],
   "source": [
    "xs = ['carat', 'color', 'clarity','depth','table','cut','x']"
   ]
  },
  {
   "attachments": {},
   "cell_type": "markdown",
   "metadata": {},
   "source": [
    "便利関数"
   ]
  },
  {
   "cell_type": "code",
   "execution_count": null,
   "metadata": {},
   "outputs": [],
   "source": [
    "def calc_aic(lst):\n",
    "    for key in lst:\n",
    "        xs_copy=lst.copy()\n",
    "        xs_copy.remove(key)\n",
    "        model = smf.glm('price ~ '+'+'.join(xs_copy), df_train) \n",
    "        fit = model.fit()\n",
    "        print('AIC={},formula={}'.format(fit.aic,'+'.join(xs_copy)))\n"
   ]
  },
  {
   "cell_type": "code",
   "execution_count": null,
   "metadata": {},
   "outputs": [],
   "source": [
    "calc_aic(xs)"
   ]
  },
  {
   "attachments": {},
   "cell_type": "markdown",
   "metadata": {},
   "source": [
    "'table'がいらない用です"
   ]
  },
  {
   "cell_type": "code",
   "execution_count": null,
   "metadata": {},
   "outputs": [],
   "source": [
    "calc_aic( ['carat','color', 'clarity','depth','cut','x'])"
   ]
  },
  {
   "attachments": {},
   "cell_type": "markdown",
   "metadata": {},
   "source": [
    "あまり改善されませんでした"
   ]
  },
  {
   "cell_type": "code",
   "execution_count": null,
   "metadata": {},
   "outputs": [],
   "source": [
    "#carat+color+clarity+depth+cut\n",
    "\n",
    "model = smf.glm('price ~ carat+color+clarity+depth+cut+x', df_train) \n",
    "fit = model.fit()\n",
    "fit.aic    "
   ]
  },
  {
   "attachments": {},
   "cell_type": "markdown",
   "metadata": {},
   "source": [
    "次に、テストデータで決定係数R2をつかって評価します（**第５回講義P27**、決定係数)\n",
    "\n",
    "決定係数$R^2$(coefficient of determination):\n",
    "$$ R^2 = 1 - \\frac{\\sum_{i=1}^{n}( y_i - \\hat{y_i})^2}{\\sum_{i=1}^{n}(y_i - \\overline{y})^2} $$"
   ]
  },
  {
   "cell_type": "code",
   "execution_count": null,
   "metadata": {},
   "outputs": [],
   "source": [
    "from sklearn.metrics import r2_score\n",
    "from sklearn.metrics import mean_squared_error\n",
    "import numpy as np\n",
    "# predicting the accuracy score\n",
    "y_prediction = fit.predict(x_test)\n",
    "score=r2_score(y_test,y_prediction)\n",
    "print('r2 socre is ',score)\n",
    "print('mean_sqrd_error is==',mean_squared_error(y_test,y_prediction))\n",
    "print('root_mean_squared error of is==',np.sqrt(mean_squared_error(y_test,y_prediction)))"
   ]
  },
  {
   "attachments": {},
   "cell_type": "markdown",
   "metadata": {},
   "source": [
    "r2スコアで変数選択してみます。"
   ]
  },
  {
   "cell_type": "code",
   "execution_count": null,
   "metadata": {},
   "outputs": [],
   "source": [
    "def calc_r2score(lst):\n",
    "    for key in lst:\n",
    "        xs_copy=lst.copy()\n",
    "        xs_copy.remove(key)\n",
    "        model = smf.glm('price ~ '+'+'.join(xs_copy), df_train) \n",
    "        fit = model.fit()\n",
    "        y_prediction = fit.predict(x_test)\n",
    "        score=r2_score(y_test,y_prediction)\n",
    "        print('R2Score={},formula={}'.format(score,'+'.join(xs_copy)))"
   ]
  },
  {
   "cell_type": "code",
   "execution_count": null,
   "metadata": {},
   "outputs": [],
   "source": [
    "calc_r2score(xs)"
   ]
  },
  {
   "attachments": {},
   "cell_type": "markdown",
   "metadata": {},
   "source": [
    "やっぱりtableがいらないようです。"
   ]
  },
  {
   "cell_type": "code",
   "execution_count": null,
   "metadata": {},
   "outputs": [],
   "source": [
    "calc_r2score( ['carat','color', 'clarity','depth','cut','x'])"
   ]
  },
  {
   "cell_type": "code",
   "execution_count": null,
   "metadata": {},
   "outputs": [],
   "source": [
    "model = smf.glm('price ~ carat+color+clarity+depth+cut+x', df_train) \n",
    "fit = model.fit()"
   ]
  },
  {
   "attachments": {},
   "cell_type": "markdown",
   "metadata": {},
   "source": [
    "訓練データをプロット"
   ]
  },
  {
   "cell_type": "code",
   "execution_count": null,
   "metadata": {},
   "outputs": [],
   "source": [
    "y_pred = fit.predict(x_train)\n",
    "plt.scatter(y_pred,y_train)"
   ]
  },
  {
   "attachments": {},
   "cell_type": "markdown",
   "metadata": {},
   "source": [
    "テストデータで性能を評価"
   ]
  },
  {
   "cell_type": "code",
   "execution_count": null,
   "metadata": {},
   "outputs": [],
   "source": [
    "y_pred = fit.predict(x_test)\n",
    "plt.scatter(y_pred,y_test)"
   ]
  },
  {
   "cell_type": "code",
   "execution_count": null,
   "metadata": {},
   "outputs": [],
   "source": [
    "#予測とデータのお比較\n",
    "#diamond['predict'] = fit.predict(x_test) #予測を行い，結果を'predict'列に追加\n",
    "#diamond.plot.scatter(x='predict',y='price'); #描画"
   ]
  },
  {
   "attachments": {},
   "cell_type": "markdown",
   "metadata": {},
   "source": [
    "## 1.2 ロジスティック回帰(10点)\n",
    "\n",
    "seabornの組み込みデータtitnaicを用いて、生存者をロジスティック回帰を実施しなさい"
   ]
  },
  {
   "cell_type": "code",
   "execution_count": null,
   "metadata": {},
   "outputs": [],
   "source": [
    "import pandas as pd\n",
    "import seaborn as sns\n",
    "import statsmodels.api as sm\n",
    "import statsmodels.formula.api as smf\n",
    "import matplotlib.pyplot as plt\n",
    "%matplotlib inline\n",
    "\n",
    "# データの取得・確認\n",
    "dataset = sns.load_dataset('titanic')\n",
    "dataset"
   ]
  },
  {
   "attachments": {},
   "cell_type": "markdown",
   "metadata": {},
   "source": [
    "前処理は以下を用い、データセットはdataset1を利用してもよい。独自に前処理を行ってもよい"
   ]
  },
  {
   "cell_type": "code",
   "execution_count": null,
   "metadata": {},
   "outputs": [],
   "source": [
    "# 重複しているカラムと影響の少ない変数の削除\n",
    "df = [\"sibsp\",\"parch\",\"fare\",\"embarked\",\"class\",\"who\",\"adult_male\",\"deck\",\"embark_town\",\"alive\",\"alone\"]\n",
    "dataset1 = dataset.drop(df,axis = 1)\n",
    "dataset1.head()\n",
    "\n",
    "# 欠損値の確認\n",
    "dataset1.isnull().sum()\n",
    "\n",
    "# 欠損値に平均を補完し性別をダミー変数に変更（男性:1,女性:0）\n",
    "dataset1[\"age\"] = dataset1[\"age\"].fillna(dataset1[\"age\"].mean())\n",
    "dataset1[\"sex\"] = dataset1[\"sex\"].map({\"male\":1, \"female\":0})\n",
    "dataset1.isnull().sum()\n"
   ]
  },
  {
   "cell_type": "code",
   "execution_count": null,
   "metadata": {},
   "outputs": [],
   "source": [
    "dataset1"
   ]
  },
  {
   "cell_type": "code",
   "execution_count": null,
   "metadata": {},
   "outputs": [],
   "source": [
    "sns.pairplot(dataset1)"
   ]
  },
  {
   "attachments": {},
   "cell_type": "markdown",
   "metadata": {},
   "source": [
    "トレーニング用とテスト用に分割します"
   ]
  },
  {
   "cell_type": "code",
   "execution_count": null,
   "metadata": {},
   "outputs": [],
   "source": [
    "x = dataset1.drop(\"survived\",axis=1)\n",
    "y = dataset1.pop(\"survived\")\n",
    "x_train, x_test , y_train, y_test = train_test_split(x,y,test_size = 0.1, random_state = 1)"
   ]
  },
  {
   "cell_type": "code",
   "execution_count": null,
   "metadata": {},
   "outputs": [],
   "source": [
    "df_train = pd.concat([x_train, y_train], axis = 1)"
   ]
  },
  {
   "cell_type": "code",
   "execution_count": null,
   "metadata": {},
   "outputs": [],
   "source": [
    "#　回帰の実施\n",
    "\n",
    "import statsmodels.api as sm\n",
    "model = smf.glm(formula=\"survived ~ sex + pclass + age\", data=df_train, family= sm.families.Binomial() )\n",
    "res = model.fit() #学習\n",
    "print(res.summary2())"
   ]
  },
  {
   "cell_type": "code",
   "execution_count": null,
   "metadata": {},
   "outputs": [],
   "source": [
    "#dataset1['predict'] = res.predict() #予測を行い，結果を'predict'列に追加\n",
    "#dataset1.plot.scatter(x='predict',y='survived'); #描画\n",
    "y_pred = res.predict(x_test)\n",
    "plt.scatter(y_pred,y_test)\n",
    "score=r2_score(y_test,y_pred)\n",
    "print('AIC={}, r2 socre ={} '.format(res.aic,score))"
   ]
  },
  {
   "attachments": {},
   "cell_type": "markdown",
   "metadata": {},
   "source": [
    "そうえいば、plcassもsexもカテゴリー変数だったので、カテゴリ変数であることを明示的にformulaに記入。(**第６回講義P14、カテゴリー変数の取り扱い**)"
   ]
  },
  {
   "cell_type": "code",
   "execution_count": null,
   "metadata": {},
   "outputs": [],
   "source": [
    "model = smf.glm(formula=\"survived ~ C(sex) + C(pclass) + age\", data=df_train, family= sm.families.Binomial() )\n",
    "res = model.fit() #学習\n",
    "print(res.summary2())"
   ]
  },
  {
   "attachments": {},
   "cell_type": "markdown",
   "metadata": {},
   "source": [
    "ちょっとAICが上がったかな。"
   ]
  },
  {
   "cell_type": "code",
   "execution_count": null,
   "metadata": {},
   "outputs": [],
   "source": [
    "#dataset1['predict'] = res.predict() #予測を行い，結果を'predict'列に追加\n",
    "#dataset1.plot.scatter(x='predict',y='survived'); #描画\n",
    "\n",
    "y_pred = res.predict(x_test)\n",
    "plt.scatter(y_pred,y_test)\n",
    "score=r2_score(y_test,y_pred)\n",
    "print('r2 socre is ',score)\n",
    "print('AIC={}, r2 socre ={} '.format(res.aic,score))"
   ]
  },
  {
   "attachments": {},
   "cell_type": "markdown",
   "metadata": {},
   "source": [
    "ageと性別(sex)で傾向をみている"
   ]
  },
  {
   "cell_type": "code",
   "execution_count": null,
   "metadata": {},
   "outputs": [],
   "source": [
    "def get_color(sex):\n",
    "    if(sex==0):\n",
    "        return 'orange'\n",
    "    return 'blue'\n",
    "colors=[get_color(f) for f in x_test['sex']]\n",
    "plt.scatter(x_test['age'],y_test,c=colors)#\n",
    "plt.scatter(x_test['age'],y_pred,c=colors,alpha=0.5)"
   ]
  },
  {
   "attachments": {},
   "cell_type": "markdown",
   "metadata": {},
   "source": [
    "なんとなく、女性(sex=0)で若いほうが生存率が高いのか、、男女差もありそうだな。"
   ]
  },
  {
   "cell_type": "code",
   "execution_count": null,
   "metadata": {},
   "outputs": [],
   "source": [
    "plt.hist(y_pred)"
   ]
  },
  {
   "cell_type": "code",
   "execution_count": null,
   "metadata": {},
   "outputs": [],
   "source": [
    "plt.hist(y_test)"
   ]
  },
  {
   "cell_type": "code",
   "execution_count": null,
   "metadata": {},
   "outputs": [],
   "source": [
    "res.params"
   ]
  },
  {
   "attachments": {},
   "cell_type": "markdown",
   "metadata": {},
   "source": [
    "seabornの lmplotを使うと、ロジスティック回帰をした上に、可視化まで一度にやってくれる模様(**第３回講義P25、Implotによる可視化**)\n",
    "\n",
    "ここでは男女別で、年齢による生存率をロジスティック回帰をやってみた"
   ]
  },
  {
   "cell_type": "code",
   "execution_count": null,
   "metadata": {},
   "outputs": [],
   "source": [
    "sns.lmplot(x=\"age\", y=\"survived\", hue='sex',data=df_train, logistic=True)"
   ]
  },
  {
   "attachments": {},
   "cell_type": "markdown",
   "metadata": {},
   "source": [
    "男性(sex=1)と女性(sex=0)では傾向が違うことがわかる。。。"
   ]
  },
  {
   "cell_type": "code",
   "execution_count": null,
   "metadata": {},
   "outputs": [],
   "source": []
  },
  {
   "attachments": {},
   "cell_type": "markdown",
   "metadata": {},
   "source": []
  }
 ],
 "metadata": {
  "interpreter": {
   "hash": "2db524e06e9f5f4ffedc911c917cb75e12dbc923643829bf417064a77eb14d37"
  },
  "kernelspec": {
   "display_name": "Python 3.8.3 64-bit",
   "language": "python",
   "name": "python3"
  },
  "language_info": {
   "codemirror_mode": {
    "name": "ipython",
    "version": 3
   },
   "file_extension": ".py",
   "mimetype": "text/x-python",
   "name": "python",
   "nbconvert_exporter": "python",
   "pygments_lexer": "ipython3",
   "version": "3.8.3"
  },
  "orig_nbformat": 4
 },
 "nbformat": 4,
 "nbformat_minor": 2
}
