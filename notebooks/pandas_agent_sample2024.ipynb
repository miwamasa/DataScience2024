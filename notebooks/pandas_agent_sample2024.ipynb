{
  "cells": [
    {
      "cell_type": "markdown",
      "metadata": {
        "id": "uwD0lVZJbVUM"
      },
      "source": [
        "# ChatGPT、GPTを使ったtitanic分析応用編\n",
        "\n",
        "ここでは、LangChainというGPTのAPIを使うライブラリを活用して、titnaicの分析をChatGPT風にやってみます。\n",
        "\n",
        " LangChainに準備される、pandas のagentを試します。\n",
        "\n",
        " https://python.langchain.com/en/latest/modules/agents/toolkits/examples/pandas.html"
      ]
    },
    {
      "cell_type": "code",
      "execution_count": null,
      "metadata": {
        "id": "rS6enoAPbexH"
      },
      "outputs": [],
      "source": [
        "!pip install langchain\n",
        "!pip install openai\n",
        "!pip install langchain_experimental\n",
        "!pip install langchain_openai"
      ]
    },
    {
      "cell_type": "code",
      "execution_count": null,
      "metadata": {
        "id": "h1e6-7CFbRWs"
      },
      "outputs": [],
      "source": [
        "\n",
        "from langchain_experimental.agents.agent_toolkits import create_pandas_dataframe_agent"
      ]
    },
    {
      "cell_type": "code",
      "execution_count": null,
      "metadata": {
        "id": "_aKGDnrobckg"
      },
      "outputs": [],
      "source": [
        "from langchain_openai import OpenAI\n",
        "import pandas as pd\n",
        "\n",
        "df = pd.read_csv('http://s3.amazonaws.com/assets.datacamp.com/course/Kaggle/train.csv')"
      ]
    },
    {
      "cell_type": "code",
      "execution_count": null,
      "metadata": {
        "id": "9WgqCs4Q9vha"
      },
      "outputs": [],
      "source": [
        "df.head()"
      ]
    },
    {
      "cell_type": "markdown",
      "metadata": {
        "id": "786XW5-sOo9y"
      },
      "source": [
        "OpenAIのキーを入れる"
      ]
    },
    {
      "cell_type": "code",
      "execution_count": null,
      "metadata": {
        "id": "i-AacK2eOn4D"
      },
      "outputs": [],
      "source": [
        "# get a token: https://platform.openai.com/account/api-keys\n",
        "\n",
        "from getpass import getpass\n",
        "\n",
        "OPENAI_API_KEY = getpass()"
      ]
    },
    {
      "cell_type": "code",
      "execution_count": null,
      "metadata": {
        "id": "9x57YuZmchrq"
      },
      "outputs": [],
      "source": [
        "import os\n",
        "\n",
        "os.environ[\"OPENAI_API_KEY\"] = OPENAI_API_KEY"
      ]
    },
    {
      "cell_type": "code",
      "execution_count": null,
      "metadata": {
        "id": "Q6fPKn9HcPhH"
      },
      "outputs": [],
      "source": [
        "agent = create_pandas_dataframe_agent(OpenAI(temperature=0), df, verbose=True)"
      ]
    },
    {
      "cell_type": "code",
      "execution_count": null,
      "metadata": {
        "id": "gNT1YJwMcuUq"
      },
      "outputs": [],
      "source": [
        "agent.run(\"how many rows are there?\")"
      ]
    },
    {
      "cell_type": "code",
      "execution_count": null,
      "metadata": {
        "id": "AKi4I0sT67br"
      },
      "outputs": [],
      "source": [
        "agent.run(\"give me explanation for each column\")"
      ]
    },
    {
      "cell_type": "code",
      "execution_count": null,
      "metadata": {
        "id": "aAtbRrI6c0vz"
      },
      "outputs": [],
      "source": [
        "agent.run(\"whats the square root of the average age?\")"
      ]
    },
    {
      "cell_type": "code",
      "execution_count": null,
      "metadata": {
        "id": "2B-smLhAc1UQ"
      },
      "outputs": [],
      "source": [
        "agent.run(\"make three age groupes:  age <15, 15=<age<60<, age>=60. draw pie chart with legend for these age groupe\")"
      ]
    },
    {
      "cell_type": "code",
      "execution_count": null,
      "metadata": {
        "id": "5KVeiTDOdk3k"
      },
      "outputs": [],
      "source": [
        "agent.run('what is the most survived group? what is the opposite?')"
      ]
    },
    {
      "cell_type": "code",
      "execution_count": null,
      "metadata": {
        "id": "3oJGTmnbfGrz"
      },
      "outputs": [],
      "source": [
        "agent.run('what is the most survived group? what is the opposite? the group must be grouped using at least three attributes')"
      ]
    },
    {
      "cell_type": "code",
      "execution_count": null,
      "metadata": {
        "id": "fAyPJP9EfaAR"
      },
      "outputs": [],
      "source": [
        "agent.run(\"make cross summery table for PClass and suvived. show the table\")"
      ]
    },
    {
      "cell_type": "code",
      "execution_count": null,
      "metadata": {
        "id": "rU1Bxf-epr7H"
      },
      "outputs": [],
      "source": [
        "agent.run(\"make cross summery table for PClass and suvived. draw bar chart with legend\")"
      ]
    },
    {
      "cell_type": "code",
      "execution_count": null,
      "metadata": {
        "id": "GMqpAgxFqBNU"
      },
      "outputs": [],
      "source": [
        "agent.run(\"make cross summery table for PClass and suvived. draw piled bar chart with legend\")"
      ]
    },
    {
      "cell_type": "code",
      "execution_count": null,
      "metadata": {
        "collapsed": true,
        "id": "bF-UGg8j7b1b"
      },
      "outputs": [],
      "source": [
        "agent.run(\"make summary table which tells for each PClass the dead(Survived=0), survived(Survived =1), and the suvival ratio. Show me the table\")"
      ]
    },
    {
      "cell_type": "code",
      "execution_count": null,
      "metadata": {
        "id": "CltQf3srqIiS"
      },
      "outputs": [],
      "source": [
        "agent.run(\"make cross summery table for PClass and hierachy of sex and suvived. draw  bar chart with legend\")"
      ]
    },
    {
      "cell_type": "code",
      "execution_count": null,
      "metadata": {
        "id": "jKEykOSpqhFe"
      },
      "outputs": [],
      "source": [
        "agent.run(\"make cross summery table for PClass, sex,m and suvived. draw  3 dimensions  chart with legend\")"
      ]
    },
    {
      "cell_type": "code",
      "execution_count": null,
      "metadata": {
        "id": "TrbMBJs9q6kx"
      },
      "outputs": [],
      "source": [
        "agent.run(\"do you have any logical explanation for that female passengers have more suvival rate than male?\")"
      ]
    },
    {
      "cell_type": "code",
      "execution_count": null,
      "metadata": {
        "id": "bJOXXef5rozq"
      },
      "outputs": [],
      "source": [
        "#response = pandas_ai.run(df, \"make regression model on survival rate for male\")\n",
        "agent.run(\"make regression model on survival rate for male\")"
      ]
    },
    {
      "cell_type": "code",
      "execution_count": null,
      "metadata": {
        "id": "VJxl_O91bqHh"
      },
      "outputs": [],
      "source": [
        "#response = pandas_ai.run(df, \"make regression model on survival rate for male\")\n",
        "agent.run('''make regression model for survival rate based on\n",
        " sex, age, and fare. show me the coefficiencies for each explanatory variable''')"
      ]
    },
    {
      "cell_type": "markdown",
      "metadata": {
        "id": "BzGuB0yUWXy_"
      },
      "source": [
        "# Pandas-AIを使う場合"
      ]
    },
    {
      "cell_type": "code",
      "execution_count": null,
      "metadata": {
        "id": "RRck4RL0WZpt"
      },
      "outputs": [],
      "source": [
        "!pip install pandasai"
      ]
    },
    {
      "cell_type": "code",
      "execution_count": null,
      "metadata": {
        "id": "KFNxMrCKWgTw"
      },
      "outputs": [],
      "source": [
        "import pandas as pd\n",
        "from pandasai import Agent"
      ]
    },
    {
      "cell_type": "code",
      "execution_count": null,
      "metadata": {
        "id": "7wN50Xr-WmLO"
      },
      "outputs": [],
      "source": [
        "# OpenAIのキー設定とか\n",
        "from getpass import getpass\n",
        "\n",
        "OPENAI_API_KEY = getpass()"
      ]
    },
    {
      "cell_type": "code",
      "source": [
        "import os\n",
        "\n",
        "os.environ[\"OPENAI_API_KEY\"] = OPENAI_API_KEY"
      ],
      "metadata": {
        "id": "3xQ1XH-Xc_vE"
      },
      "execution_count": null,
      "outputs": []
    },
    {
      "cell_type": "code",
      "source": [
        "from pandasai import SmartDataframe\n",
        "from pandasai.llm import OpenAI"
      ],
      "metadata": {
        "id": "6rcTW-FecuOR"
      },
      "execution_count": null,
      "outputs": []
    },
    {
      "cell_type": "code",
      "source": [
        "llm = OpenAI()\n",
        "pandas_ai = SmartDataframe('http://s3.amazonaws.com/assets.datacamp.com/course/Kaggle/train.csv', config={\"llm\": llm})"
      ],
      "metadata": {
        "id": "4AbktoZTdDFf"
      },
      "execution_count": null,
      "outputs": []
    },
    {
      "cell_type": "code",
      "source": [
        "pandas_ai.chat(\"show me Top ten highest fare\")"
      ],
      "metadata": {
        "id": "ODpiTDjedQgI"
      },
      "execution_count": null,
      "outputs": []
    },
    {
      "cell_type": "code",
      "source": [
        "pandas_ai.chat(\"What is the correlation between survival and age?\")"
      ],
      "metadata": {
        "id": "a-7Hxg1Nd6Al"
      },
      "execution_count": null,
      "outputs": []
    },
    {
      "cell_type": "code",
      "source": [
        "pandas_ai.chat( \"draw a line graph of survival rate upon age goupe of 10 for male and female.\")"
      ],
      "metadata": {
        "id": "9I62AV31eLle"
      },
      "execution_count": null,
      "outputs": []
    },
    {
      "cell_type": "code",
      "source": [
        "pandas_ai.chat( \"make regression model on survival rate for male and draw graph\")"
      ],
      "metadata": {
        "id": "XJhYncG6eYwx"
      },
      "execution_count": null,
      "outputs": []
    }
  ],
  "metadata": {
    "colab": {
      "provenance": []
    },
    "kernelspec": {
      "display_name": "Python 3",
      "name": "python3"
    },
    "language_info": {
      "name": "python"
    }
  },
  "nbformat": 4,
  "nbformat_minor": 0
}