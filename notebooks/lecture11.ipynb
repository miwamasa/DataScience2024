{
  "cells": [
    {
      "attachments": {},
      "cell_type": "markdown",
      "metadata": {
        "id": "4D9Qe7rD5j4Y"
      },
      "source": [
        "# Lecture 11 時系列分析\n",
        "\n",
        "- 「データサイエンス教本：橋本」とは少し、式の形とかアプローチが異なることに注意\n",
        "  "
      ]
    },
    {
      "attachments": {},
      "cell_type": "markdown",
      "metadata": {
        "id": "na09vGbqAHqf"
      },
      "source": [
        "【注意】satatsmodelsを最新に上げる必要がある。ランタイムを再起動する必要あり"
      ]
    },
    {
      "cell_type": "code",
      "execution_count": 1,
      "metadata": {
        "id": "65edgSub8_g_"
      },
      "outputs": [
        {
          "name": "stdout",
          "output_type": "stream",
          "text": [
            "Requirement already satisfied: statsmodels in c:\\users\\miwam\\appdata\\local\\programs\\python\\python311\\lib\\site-packages (0.14.2)\n",
            "Requirement already satisfied: numpy>=1.22.3 in c:\\users\\miwam\\appdata\\local\\programs\\python\\python311\\lib\\site-packages (from statsmodels) (1.26.1)\n",
            "Requirement already satisfied: scipy!=1.9.2,>=1.8 in c:\\users\\miwam\\appdata\\local\\programs\\python\\python311\\lib\\site-packages (from statsmodels) (1.13.0)\n",
            "Requirement already satisfied: pandas!=2.1.0,>=1.4 in c:\\users\\miwam\\appdata\\local\\programs\\python\\python311\\lib\\site-packages (from statsmodels) (2.1.2)\n",
            "Requirement already satisfied: patsy>=0.5.6 in c:\\users\\miwam\\appdata\\local\\programs\\python\\python311\\lib\\site-packages (from statsmodels) (0.5.6)\n",
            "Requirement already satisfied: packaging>=21.3 in c:\\users\\miwam\\appdata\\local\\programs\\python\\python311\\lib\\site-packages (from statsmodels) (23.2)\n",
            "Requirement already satisfied: python-dateutil>=2.8.2 in c:\\users\\miwam\\appdata\\local\\programs\\python\\python311\\lib\\site-packages (from pandas!=2.1.0,>=1.4->statsmodels) (2.8.2)\n",
            "Requirement already satisfied: pytz>=2020.1 in c:\\users\\miwam\\appdata\\local\\programs\\python\\python311\\lib\\site-packages (from pandas!=2.1.0,>=1.4->statsmodels) (2023.3.post1)\n",
            "Requirement already satisfied: tzdata>=2022.1 in c:\\users\\miwam\\appdata\\local\\programs\\python\\python311\\lib\\site-packages (from pandas!=2.1.0,>=1.4->statsmodels) (2023.3)\n",
            "Requirement already satisfied: six in c:\\users\\miwam\\appdata\\local\\programs\\python\\python311\\lib\\site-packages (from patsy>=0.5.6->statsmodels) (1.16.0)\n",
            "Note: you may need to restart the kernel to use updated packages.\n"
          ]
        },
        {
          "name": "stderr",
          "output_type": "stream",
          "text": [
            "\n",
            "[notice] A new release of pip is available: 23.2.1 -> 24.0\n",
            "[notice] To update, run: python.exe -m pip install --upgrade pip\n"
          ]
        }
      ],
      "source": [
        "pip install statsmodels --upgrade"
      ]
    },
    {
      "cell_type": "code",
      "execution_count": 2,
      "metadata": {
        "id": "WIW3q3kj5j4t"
      },
      "outputs": [],
      "source": [
        "%matplotlib inline\n",
        "import numpy as np\n",
        "import matplotlib.pyplot as plt\n",
        "import pandas as pd\n",
        "\n",
        "import io\n",
        "import requests\n",
        "import statsmodels.api as sm\n"
      ]
    },
    {
      "attachments": {},
      "cell_type": "markdown",
      "metadata": {
        "id": "Z20069qw5j40"
      },
      "source": [
        "## 対数差分変換\n",
        "\n",
        "金融の分野では、元の価格推移のデータを対数変換したのち差分変換する対数差分変換がしばしば行われ、変化後のデータは「対数収益率」とよばれます。 対数収益率を用いることには、「100円の銘柄が1円値上がりする」ことと「1000円の銘柄が1円値上がりする」ことの不平等さを解消できることなど、様々なメリットがあります。"
      ]
    },
    {
      "cell_type": "code",
      "execution_count": 3,
      "metadata": {
        "id": "lCK56Pd35j41"
      },
      "outputs": [
        {
          "data": {
            "text/html": [
              "<div>\n",
              "<style scoped>\n",
              "    .dataframe tbody tr th:only-of-type {\n",
              "        vertical-align: middle;\n",
              "    }\n",
              "\n",
              "    .dataframe tbody tr th {\n",
              "        vertical-align: top;\n",
              "    }\n",
              "\n",
              "    .dataframe thead th {\n",
              "        text-align: right;\n",
              "    }\n",
              "</style>\n",
              "<table border=\"1\" class=\"dataframe\">\n",
              "  <thead>\n",
              "    <tr style=\"text-align: right;\">\n",
              "      <th></th>\n",
              "      <th>Month</th>\n",
              "      <th>#Passengers</th>\n",
              "    </tr>\n",
              "  </thead>\n",
              "  <tbody>\n",
              "    <tr>\n",
              "      <th>0</th>\n",
              "      <td>1949-01</td>\n",
              "      <td>112</td>\n",
              "    </tr>\n",
              "    <tr>\n",
              "      <th>1</th>\n",
              "      <td>1949-02</td>\n",
              "      <td>118</td>\n",
              "    </tr>\n",
              "    <tr>\n",
              "      <th>2</th>\n",
              "      <td>1949-03</td>\n",
              "      <td>132</td>\n",
              "    </tr>\n",
              "    <tr>\n",
              "      <th>3</th>\n",
              "      <td>1949-04</td>\n",
              "      <td>129</td>\n",
              "    </tr>\n",
              "    <tr>\n",
              "      <th>4</th>\n",
              "      <td>1949-05</td>\n",
              "      <td>121</td>\n",
              "    </tr>\n",
              "  </tbody>\n",
              "</table>\n",
              "</div>"
            ],
            "text/plain": [
              "     Month  #Passengers\n",
              "0  1949-01          112\n",
              "1  1949-02          118\n",
              "2  1949-03          132\n",
              "3  1949-04          129\n",
              "4  1949-05          121"
            ]
          },
          "execution_count": 3,
          "metadata": {},
          "output_type": "execute_result"
        }
      ],
      "source": [
        "\n",
        "# 月ごとの飛行機の乗客数データ\n",
        "url = \"https://www.analyticsvidhya.com/wp-content/uploads/2016/02/AirPassengers.csv\"\n",
        "stream = requests.get(url).content\n",
        "df = pd.read_csv(io.StringIO(stream.decode('utf-8')))\n",
        "df.head()"
      ]
    },
    {
      "cell_type": "code",
      "execution_count": 4,
      "metadata": {
        "id": "JsTCVxK25j43"
      },
      "outputs": [
        {
          "data": {
            "text/plain": [
              "<Axes: >"
            ]
          },
          "execution_count": 4,
          "metadata": {},
          "output_type": "execute_result"
        },
        {
          "data": {
            "image/png": "[encoded data removed]",
            "text/plain": [
              "<Figure size 640x480 with 1 Axes>"
            ]
          },
          "metadata": {},
          "output_type": "display_data"
        }
      ],
      "source": [
        "df.plot()"
      ]
    },
    {
      "attachments": {},
      "cell_type": "markdown",
      "metadata": {
        "id": "n72Eip8-5j44"
      },
      "source": [
        "##### 差分変換\n",
        "\n",
        "差分変換についてですが、pandasのdiff()メソッドを使うことができます。 引数periodsは差分を取るラグを表しています。 実行結果を見ると、AirPassengersのトレンドは除去され、平均に関する非定常性を解消できたことが伺えます。"
      ]
    },
    {
      "cell_type": "code",
      "execution_count": 5,
      "metadata": {
        "id": "z8c9vhs05j45"
      },
      "outputs": [
        {
          "data": {
            "text/plain": [
              "<Axes: >"
            ]
          },
          "execution_count": 5,
          "metadata": {},
          "output_type": "execute_result"
        },
        {
          "data": {
            "image/png": "[encoded data removed]",
            "text/plain": [
              "<Figure size 640x480 with 1 Axes>"
            ]
          },
          "metadata": {},
          "output_type": "display_data"
        }
      ],
      "source": [
        "Passengers_diff = df[\"#Passengers\"].diff(periods = 1)\n",
        "Passengers_diff.plot()"
      ]
    },
    {
      "attachments": {},
      "cell_type": "markdown",
      "metadata": {
        "id": "W9SwijGb5j47"
      },
      "source": [
        "##### 対数変換\n",
        "次に対数変換を行ってみましょう。 対数をとるには数値計算モジュールnumpyのlog()を使います。 なお、対数の底はネイピア数e です。 対数変換後の図ともとの図を見比べると、トレンドに比例したバラツキの増加が解消されたことがわかります。"
      ]
    },
    {
      "cell_type": "code",
      "execution_count": 6,
      "metadata": {
        "id": "sDcnDnZN5j48"
      },
      "outputs": [
        {
          "data": {
            "text/plain": [
              "0    4.718499\n",
              "1    4.770685\n",
              "2    4.882802\n",
              "3    4.859812\n",
              "4    4.795791\n",
              "Name: #Passengers, dtype: float64"
            ]
          },
          "execution_count": 6,
          "metadata": {},
          "output_type": "execute_result"
        }
      ],
      "source": [
        "Passengers_log = np.log(df[\"#Passengers\"])\n",
        "Passengers_log.head()"
      ]
    },
    {
      "cell_type": "code",
      "execution_count": 7,
      "metadata": {
        "id": "pzo8qDs35j5B"
      },
      "outputs": [
        {
          "data": {
            "text/plain": [
              "<Axes: >"
            ]
          },
          "execution_count": 7,
          "metadata": {},
          "output_type": "execute_result"
        },
        {
          "data": {
            "image/png": "[encoded data removed]",
            "text/plain": [
              "<Figure size 640x480 with 1 Axes>"
            ]
          },
          "metadata": {},
          "output_type": "display_data"
        }
      ],
      "source": [
        "Passengers_log.plot()"
      ]
    },
    {
      "attachments": {},
      "cell_type": "markdown",
      "metadata": {
        "id": "AX11NcWX5j5C"
      },
      "source": [
        "##### 対数変換と差分変換を組み合わせた対数差分\n",
        "対数変換と差分変換を組み合わせた対数差分の例を示します。 先ほど作成したPassengers_logを再利用し、差分をとってみましょう。 周期性が残っているものの、定常性の条件のうち、平均と分散に関するものが解消できたことが伺えます。"
      ]
    },
    {
      "cell_type": "code",
      "execution_count": 8,
      "metadata": {
        "id": "Foe5JzL45j5E"
      },
      "outputs": [
        {
          "data": {
            "text/plain": [
              "<Axes: >"
            ]
          },
          "execution_count": 8,
          "metadata": {},
          "output_type": "execute_result"
        },
        {
          "data": {
            "image/png": "[encoded data removed]",
            "text/plain": [
              "<Figure size 640x480 with 1 Axes>"
            ]
          },
          "metadata": {},
          "output_type": "display_data"
        }
      ],
      "source": [
        "Passengers_log_diff = Passengers_log.diff(periods = 1)\n",
        "Passengers_log_diff.plot()"
      ]
    },
    {
      "attachments": {},
      "cell_type": "markdown",
      "metadata": {
        "id": "aDiWtAWt5j5E"
      },
      "source": [
        "##### 周期差分\n",
        "周期を取り除くために、Passengers_logに対しperiods = 12として季節差分を行ってみましょう。 季節周期がなくなり、前年差が残ったことになります。"
      ]
    },
    {
      "cell_type": "code",
      "execution_count": 9,
      "metadata": {
        "id": "BGdyciZv5j5F"
      },
      "outputs": [
        {
          "data": {
            "text/plain": [
              "<Axes: >"
            ]
          },
          "execution_count": 9,
          "metadata": {},
          "output_type": "execute_result"
        },
        {
          "data": {
            "image/png": "[encoded data removed]",
            "text/plain": [
              "<Figure size 640x480 with 1 Axes>"
            ]
          },
          "metadata": {},
          "output_type": "display_data"
        }
      ],
      "source": [
        "Passengers_sdiff = Passengers_log.diff(periods = 12)\n",
        "Passengers_sdiff.plot()"
      ]
    },
    {
      "attachments": {},
      "cell_type": "markdown",
      "metadata": {
        "id": "e5Ke5ChR5j5G"
      },
      "source": [
        "さらにもう一度ラグ1の差分をとると、見た目が大分定常らしくなりました"
      ]
    },
    {
      "cell_type": "code",
      "execution_count": 10,
      "metadata": {
        "id": "etHaWW3Z5j5G"
      },
      "outputs": [
        {
          "data": {
            "text/plain": [
              "<Axes: >"
            ]
          },
          "execution_count": 10,
          "metadata": {},
          "output_type": "execute_result"
        },
        {
          "data": {
            "image/png": "[encoded data removed]",
            "text/plain": [
              "<Figure size 640x480 with 1 Axes>"
            ]
          },
          "metadata": {},
          "output_type": "display_data"
        }
      ],
      "source": [
        "Passengers_sdiff2 = Passengers_sdiff.diff()\n",
        "Passengers_sdiff2.plot()"
      ]
    },
    {
      "attachments": {},
      "cell_type": "markdown",
      "metadata": {
        "id": "DJrP0OfZ5j5G"
      },
      "source": [
        "## Time Series Data\n",
        "\n",
        "https://github.com/ritvikmath/Time-Series-Analysis/blob/master/Time%20Series%20Data.ipynb"
      ]
    },
    {
      "cell_type": "code",
      "execution_count": 11,
      "metadata": {
        "id": "wXw4jr2H5j5H"
      },
      "outputs": [],
      "source": [
        "import pandas as pd\n",
        "import numpy as np\n",
        "import matplotlib.pyplot as plt\n",
        "from pandas.plotting import register_matplotlib_converters\n",
        "from statsmodels.graphics.tsaplots import plot_acf, plot_pacf\n",
        "register_matplotlib_converters()"
      ]
    },
    {
      "attachments": {},
      "cell_type": "markdown",
      "metadata": {
        "id": "4eESg54a5j5H"
      },
      "source": [
        "Ice Cream Production Data"
      ]
    },
    {
      "cell_type": "code",
      "execution_count": 12,
      "metadata": {
        "id": "eixTmkzh5j5I"
      },
      "outputs": [
        {
          "ename": "HTTPError",
          "evalue": "HTTP Error 404: Not Found",
          "output_type": "error",
          "traceback": [
            "\u001b[1;31m---------------------------------------------------------------------------\u001b[0m",
            "\u001b[1;31mHTTPError\u001b[0m                                 Traceback (most recent call last)",
            "Cell \u001b[1;32mIn[12], line 3\u001b[0m\n\u001b[0;32m      1\u001b[0m \u001b[38;5;66;03m#read data\u001b[39;00m\n\u001b[0;32m      2\u001b[0m url\u001b[38;5;241m=\u001b[39m\u001b[38;5;124m'\u001b[39m\u001b[38;5;124mhttps://raw.githubusercontent.com/miwamasa/DataScience2023/main/notebooks/data/ice_cream.csv\u001b[39m\u001b[38;5;124m'\u001b[39m\n\u001b[1;32m----> 3\u001b[0m df_ice_cream \u001b[38;5;241m=\u001b[39m \u001b[43mpd\u001b[49m\u001b[38;5;241;43m.\u001b[39;49m\u001b[43mread_csv\u001b[49m\u001b[43m(\u001b[49m\u001b[43murl\u001b[49m\u001b[43m)\u001b[49m\n",
            "File \u001b[1;32mc:\\Users\\miwam\\AppData\\Local\\Programs\\Python\\Python311\\Lib\\site-packages\\pandas\\io\\parsers\\readers.py:948\u001b[0m, in \u001b[0;36mread_csv\u001b[1;34m(filepath_or_buffer, sep, delimiter, header, names, index_col, usecols, dtype, engine, converters, true_values, false_values, skipinitialspace, skiprows, skipfooter, nrows, na_values, keep_default_na, na_filter, verbose, skip_blank_lines, parse_dates, infer_datetime_format, keep_date_col, date_parser, date_format, dayfirst, cache_dates, iterator, chunksize, compression, thousands, decimal, lineterminator, quotechar, quoting, doublequote, escapechar, comment, encoding, encoding_errors, dialect, on_bad_lines, delim_whitespace, low_memory, memory_map, float_precision, storage_options, dtype_backend)\u001b[0m\n\u001b[0;32m    935\u001b[0m kwds_defaults \u001b[38;5;241m=\u001b[39m _refine_defaults_read(\n\u001b[0;32m    936\u001b[0m     dialect,\n\u001b[0;32m    937\u001b[0m     delimiter,\n\u001b[1;32m   (...)\u001b[0m\n\u001b[0;32m    944\u001b[0m     dtype_backend\u001b[38;5;241m=\u001b[39mdtype_backend,\n\u001b[0;32m    945\u001b[0m )\n\u001b[0;32m    946\u001b[0m kwds\u001b[38;5;241m.\u001b[39mupdate(kwds_defaults)\n\u001b[1;32m--> 948\u001b[0m \u001b[38;5;28;01mreturn\u001b[39;00m \u001b[43m_read\u001b[49m\u001b[43m(\u001b[49m\u001b[43mfilepath_or_buffer\u001b[49m\u001b[43m,\u001b[49m\u001b[43m \u001b[49m\u001b[43mkwds\u001b[49m\u001b[43m)\u001b[49m\n",
            "File \u001b[1;32mc:\\Users\\miwam\\AppData\\Local\\Programs\\Python\\Python311\\Lib\\site-packages\\pandas\\io\\parsers\\readers.py:611\u001b[0m, in \u001b[0;36m_read\u001b[1;34m(filepath_or_buffer, kwds)\u001b[0m\n\u001b[0;32m    608\u001b[0m _validate_names(kwds\u001b[38;5;241m.\u001b[39mget(\u001b[38;5;124m\"\u001b[39m\u001b[38;5;124mnames\u001b[39m\u001b[38;5;124m\"\u001b[39m, \u001b[38;5;28;01mNone\u001b[39;00m))\n\u001b[0;32m    610\u001b[0m \u001b[38;5;66;03m# Create the parser.\u001b[39;00m\n\u001b[1;32m--> 611\u001b[0m parser \u001b[38;5;241m=\u001b[39m \u001b[43mTextFileReader\u001b[49m\u001b[43m(\u001b[49m\u001b[43mfilepath_or_buffer\u001b[49m\u001b[43m,\u001b[49m\u001b[43m \u001b[49m\u001b[38;5;241;43m*\u001b[39;49m\u001b[38;5;241;43m*\u001b[39;49m\u001b[43mkwds\u001b[49m\u001b[43m)\u001b[49m\n\u001b[0;32m    613\u001b[0m \u001b[38;5;28;01mif\u001b[39;00m chunksize \u001b[38;5;129;01mor\u001b[39;00m iterator:\n\u001b[0;32m    614\u001b[0m     \u001b[38;5;28;01mreturn\u001b[39;00m parser\n",
            "File \u001b[1;32mc:\\Users\\miwam\\AppData\\Local\\Programs\\Python\\Python311\\Lib\\site-packages\\pandas\\io\\parsers\\readers.py:1448\u001b[0m, in \u001b[0;36mTextFileReader.__init__\u001b[1;34m(self, f, engine, **kwds)\u001b[0m\n\u001b[0;32m   1445\u001b[0m     \u001b[38;5;28mself\u001b[39m\u001b[38;5;241m.\u001b[39moptions[\u001b[38;5;124m\"\u001b[39m\u001b[38;5;124mhas_index_names\u001b[39m\u001b[38;5;124m\"\u001b[39m] \u001b[38;5;241m=\u001b[39m kwds[\u001b[38;5;124m\"\u001b[39m\u001b[38;5;124mhas_index_names\u001b[39m\u001b[38;5;124m\"\u001b[39m]\n\u001b[0;32m   1447\u001b[0m \u001b[38;5;28mself\u001b[39m\u001b[38;5;241m.\u001b[39mhandles: IOHandles \u001b[38;5;241m|\u001b[39m \u001b[38;5;28;01mNone\u001b[39;00m \u001b[38;5;241m=\u001b[39m \u001b[38;5;28;01mNone\u001b[39;00m\n\u001b[1;32m-> 1448\u001b[0m \u001b[38;5;28mself\u001b[39m\u001b[38;5;241m.\u001b[39m_engine \u001b[38;5;241m=\u001b[39m \u001b[38;5;28;43mself\u001b[39;49m\u001b[38;5;241;43m.\u001b[39;49m\u001b[43m_make_engine\u001b[49m\u001b[43m(\u001b[49m\u001b[43mf\u001b[49m\u001b[43m,\u001b[49m\u001b[43m \u001b[49m\u001b[38;5;28;43mself\u001b[39;49m\u001b[38;5;241;43m.\u001b[39;49m\u001b[43mengine\u001b[49m\u001b[43m)\u001b[49m\n",
            "File \u001b[1;32mc:\\Users\\miwam\\AppData\\Local\\Programs\\Python\\Python311\\Lib\\site-packages\\pandas\\io\\parsers\\readers.py:1705\u001b[0m, in \u001b[0;36mTextFileReader._make_engine\u001b[1;34m(self, f, engine)\u001b[0m\n\u001b[0;32m   1703\u001b[0m     \u001b[38;5;28;01mif\u001b[39;00m \u001b[38;5;124m\"\u001b[39m\u001b[38;5;124mb\u001b[39m\u001b[38;5;124m\"\u001b[39m \u001b[38;5;129;01mnot\u001b[39;00m \u001b[38;5;129;01min\u001b[39;00m mode:\n\u001b[0;32m   1704\u001b[0m         mode \u001b[38;5;241m+\u001b[39m\u001b[38;5;241m=\u001b[39m \u001b[38;5;124m\"\u001b[39m\u001b[38;5;124mb\u001b[39m\u001b[38;5;124m\"\u001b[39m\n\u001b[1;32m-> 1705\u001b[0m \u001b[38;5;28mself\u001b[39m\u001b[38;5;241m.\u001b[39mhandles \u001b[38;5;241m=\u001b[39m \u001b[43mget_handle\u001b[49m\u001b[43m(\u001b[49m\n\u001b[0;32m   1706\u001b[0m \u001b[43m    \u001b[49m\u001b[43mf\u001b[49m\u001b[43m,\u001b[49m\n\u001b[0;32m   1707\u001b[0m \u001b[43m    \u001b[49m\u001b[43mmode\u001b[49m\u001b[43m,\u001b[49m\n\u001b[0;32m   1708\u001b[0m \u001b[43m    \u001b[49m\u001b[43mencoding\u001b[49m\u001b[38;5;241;43m=\u001b[39;49m\u001b[38;5;28;43mself\u001b[39;49m\u001b[38;5;241;43m.\u001b[39;49m\u001b[43moptions\u001b[49m\u001b[38;5;241;43m.\u001b[39;49m\u001b[43mget\u001b[49m\u001b[43m(\u001b[49m\u001b[38;5;124;43m\"\u001b[39;49m\u001b[38;5;124;43mencoding\u001b[39;49m\u001b[38;5;124;43m\"\u001b[39;49m\u001b[43m,\u001b[49m\u001b[43m \u001b[49m\u001b[38;5;28;43;01mNone\u001b[39;49;00m\u001b[43m)\u001b[49m\u001b[43m,\u001b[49m\n\u001b[0;32m   1709\u001b[0m \u001b[43m    \u001b[49m\u001b[43mcompression\u001b[49m\u001b[38;5;241;43m=\u001b[39;49m\u001b[38;5;28;43mself\u001b[39;49m\u001b[38;5;241;43m.\u001b[39;49m\u001b[43moptions\u001b[49m\u001b[38;5;241;43m.\u001b[39;49m\u001b[43mget\u001b[49m\u001b[43m(\u001b[49m\u001b[38;5;124;43m\"\u001b[39;49m\u001b[38;5;124;43mcompression\u001b[39;49m\u001b[38;5;124;43m\"\u001b[39;49m\u001b[43m,\u001b[49m\u001b[43m \u001b[49m\u001b[38;5;28;43;01mNone\u001b[39;49;00m\u001b[43m)\u001b[49m\u001b[43m,\u001b[49m\n\u001b[0;32m   1710\u001b[0m \u001b[43m    \u001b[49m\u001b[43mmemory_map\u001b[49m\u001b[38;5;241;43m=\u001b[39;49m\u001b[38;5;28;43mself\u001b[39;49m\u001b[38;5;241;43m.\u001b[39;49m\u001b[43moptions\u001b[49m\u001b[38;5;241;43m.\u001b[39;49m\u001b[43mget\u001b[49m\u001b[43m(\u001b[49m\u001b[38;5;124;43m\"\u001b[39;49m\u001b[38;5;124;43mmemory_map\u001b[39;49m\u001b[38;5;124;43m\"\u001b[39;49m\u001b[43m,\u001b[49m\u001b[43m \u001b[49m\u001b[38;5;28;43;01mFalse\u001b[39;49;00m\u001b[43m)\u001b[49m\u001b[43m,\u001b[49m\n\u001b[0;32m   1711\u001b[0m \u001b[43m    \u001b[49m\u001b[43mis_text\u001b[49m\u001b[38;5;241;43m=\u001b[39;49m\u001b[43mis_text\u001b[49m\u001b[43m,\u001b[49m\n\u001b[0;32m   1712\u001b[0m \u001b[43m    \u001b[49m\u001b[43merrors\u001b[49m\u001b[38;5;241;43m=\u001b[39;49m\u001b[38;5;28;43mself\u001b[39;49m\u001b[38;5;241;43m.\u001b[39;49m\u001b[43moptions\u001b[49m\u001b[38;5;241;43m.\u001b[39;49m\u001b[43mget\u001b[49m\u001b[43m(\u001b[49m\u001b[38;5;124;43m\"\u001b[39;49m\u001b[38;5;124;43mencoding_errors\u001b[39;49m\u001b[38;5;124;43m\"\u001b[39;49m\u001b[43m,\u001b[49m\u001b[43m \u001b[49m\u001b[38;5;124;43m\"\u001b[39;49m\u001b[38;5;124;43mstrict\u001b[39;49m\u001b[38;5;124;43m\"\u001b[39;49m\u001b[43m)\u001b[49m\u001b[43m,\u001b[49m\n\u001b[0;32m   1713\u001b[0m \u001b[43m    \u001b[49m\u001b[43mstorage_options\u001b[49m\u001b[38;5;241;43m=\u001b[39;49m\u001b[38;5;28;43mself\u001b[39;49m\u001b[38;5;241;43m.\u001b[39;49m\u001b[43moptions\u001b[49m\u001b[38;5;241;43m.\u001b[39;49m\u001b[43mget\u001b[49m\u001b[43m(\u001b[49m\u001b[38;5;124;43m\"\u001b[39;49m\u001b[38;5;124;43mstorage_options\u001b[39;49m\u001b[38;5;124;43m\"\u001b[39;49m\u001b[43m,\u001b[49m\u001b[43m \u001b[49m\u001b[38;5;28;43;01mNone\u001b[39;49;00m\u001b[43m)\u001b[49m\u001b[43m,\u001b[49m\n\u001b[0;32m   1714\u001b[0m \u001b[43m\u001b[49m\u001b[43m)\u001b[49m\n\u001b[0;32m   1715\u001b[0m \u001b[38;5;28;01massert\u001b[39;00m \u001b[38;5;28mself\u001b[39m\u001b[38;5;241m.\u001b[39mhandles \u001b[38;5;129;01mis\u001b[39;00m \u001b[38;5;129;01mnot\u001b[39;00m \u001b[38;5;28;01mNone\u001b[39;00m\n\u001b[0;32m   1716\u001b[0m f \u001b[38;5;241m=\u001b[39m \u001b[38;5;28mself\u001b[39m\u001b[38;5;241m.\u001b[39mhandles\u001b[38;5;241m.\u001b[39mhandle\n",
            "File \u001b[1;32mc:\\Users\\miwam\\AppData\\Local\\Programs\\Python\\Python311\\Lib\\site-packages\\pandas\\io\\common.py:718\u001b[0m, in \u001b[0;36mget_handle\u001b[1;34m(path_or_buf, mode, encoding, compression, memory_map, is_text, errors, storage_options)\u001b[0m\n\u001b[0;32m    715\u001b[0m     codecs\u001b[38;5;241m.\u001b[39mlookup_error(errors)\n\u001b[0;32m    717\u001b[0m \u001b[38;5;66;03m# open URLs\u001b[39;00m\n\u001b[1;32m--> 718\u001b[0m ioargs \u001b[38;5;241m=\u001b[39m \u001b[43m_get_filepath_or_buffer\u001b[49m\u001b[43m(\u001b[49m\n\u001b[0;32m    719\u001b[0m \u001b[43m    \u001b[49m\u001b[43mpath_or_buf\u001b[49m\u001b[43m,\u001b[49m\n\u001b[0;32m    720\u001b[0m \u001b[43m    \u001b[49m\u001b[43mencoding\u001b[49m\u001b[38;5;241;43m=\u001b[39;49m\u001b[43mencoding\u001b[49m\u001b[43m,\u001b[49m\n\u001b[0;32m    721\u001b[0m \u001b[43m    \u001b[49m\u001b[43mcompression\u001b[49m\u001b[38;5;241;43m=\u001b[39;49m\u001b[43mcompression\u001b[49m\u001b[43m,\u001b[49m\n\u001b[0;32m    722\u001b[0m \u001b[43m    \u001b[49m\u001b[43mmode\u001b[49m\u001b[38;5;241;43m=\u001b[39;49m\u001b[43mmode\u001b[49m\u001b[43m,\u001b[49m\n\u001b[0;32m    723\u001b[0m \u001b[43m    \u001b[49m\u001b[43mstorage_options\u001b[49m\u001b[38;5;241;43m=\u001b[39;49m\u001b[43mstorage_options\u001b[49m\u001b[43m,\u001b[49m\n\u001b[0;32m    724\u001b[0m \u001b[43m\u001b[49m\u001b[43m)\u001b[49m\n\u001b[0;32m    726\u001b[0m handle \u001b[38;5;241m=\u001b[39m ioargs\u001b[38;5;241m.\u001b[39mfilepath_or_buffer\n\u001b[0;32m    727\u001b[0m handles: \u001b[38;5;28mlist\u001b[39m[BaseBuffer]\n",
            "File \u001b[1;32mc:\\Users\\miwam\\AppData\\Local\\Programs\\Python\\Python311\\Lib\\site-packages\\pandas\\io\\common.py:372\u001b[0m, in \u001b[0;36m_get_filepath_or_buffer\u001b[1;34m(filepath_or_buffer, encoding, compression, mode, storage_options)\u001b[0m\n\u001b[0;32m    370\u001b[0m \u001b[38;5;66;03m# assuming storage_options is to be interpreted as headers\u001b[39;00m\n\u001b[0;32m    371\u001b[0m req_info \u001b[38;5;241m=\u001b[39m urllib\u001b[38;5;241m.\u001b[39mrequest\u001b[38;5;241m.\u001b[39mRequest(filepath_or_buffer, headers\u001b[38;5;241m=\u001b[39mstorage_options)\n\u001b[1;32m--> 372\u001b[0m \u001b[38;5;28;01mwith\u001b[39;00m \u001b[43murlopen\u001b[49m\u001b[43m(\u001b[49m\u001b[43mreq_info\u001b[49m\u001b[43m)\u001b[49m \u001b[38;5;28;01mas\u001b[39;00m req:\n\u001b[0;32m    373\u001b[0m     content_encoding \u001b[38;5;241m=\u001b[39m req\u001b[38;5;241m.\u001b[39mheaders\u001b[38;5;241m.\u001b[39mget(\u001b[38;5;124m\"\u001b[39m\u001b[38;5;124mContent-Encoding\u001b[39m\u001b[38;5;124m\"\u001b[39m, \u001b[38;5;28;01mNone\u001b[39;00m)\n\u001b[0;32m    374\u001b[0m     \u001b[38;5;28;01mif\u001b[39;00m content_encoding \u001b[38;5;241m==\u001b[39m \u001b[38;5;124m\"\u001b[39m\u001b[38;5;124mgzip\u001b[39m\u001b[38;5;124m\"\u001b[39m:\n\u001b[0;32m    375\u001b[0m         \u001b[38;5;66;03m# Override compression based on Content-Encoding header\u001b[39;00m\n",
            "File \u001b[1;32mc:\\Users\\miwam\\AppData\\Local\\Programs\\Python\\Python311\\Lib\\site-packages\\pandas\\io\\common.py:274\u001b[0m, in \u001b[0;36murlopen\u001b[1;34m(*args, **kwargs)\u001b[0m\n\u001b[0;32m    268\u001b[0m \u001b[38;5;250m\u001b[39m\u001b[38;5;124;03m\"\"\"\u001b[39;00m\n\u001b[0;32m    269\u001b[0m \u001b[38;5;124;03mLazy-import wrapper for stdlib urlopen, as that imports a big chunk of\u001b[39;00m\n\u001b[0;32m    270\u001b[0m \u001b[38;5;124;03mthe stdlib.\u001b[39;00m\n\u001b[0;32m    271\u001b[0m \u001b[38;5;124;03m\"\"\"\u001b[39;00m\n\u001b[0;32m    272\u001b[0m \u001b[38;5;28;01mimport\u001b[39;00m \u001b[38;5;21;01murllib\u001b[39;00m\u001b[38;5;21;01m.\u001b[39;00m\u001b[38;5;21;01mrequest\u001b[39;00m\n\u001b[1;32m--> 274\u001b[0m \u001b[38;5;28;01mreturn\u001b[39;00m \u001b[43murllib\u001b[49m\u001b[38;5;241;43m.\u001b[39;49m\u001b[43mrequest\u001b[49m\u001b[38;5;241;43m.\u001b[39;49m\u001b[43murlopen\u001b[49m\u001b[43m(\u001b[49m\u001b[38;5;241;43m*\u001b[39;49m\u001b[43margs\u001b[49m\u001b[43m,\u001b[49m\u001b[43m \u001b[49m\u001b[38;5;241;43m*\u001b[39;49m\u001b[38;5;241;43m*\u001b[39;49m\u001b[43mkwargs\u001b[49m\u001b[43m)\u001b[49m\n",
            "File \u001b[1;32mc:\\Users\\miwam\\AppData\\Local\\Programs\\Python\\Python311\\Lib\\urllib\\request.py:216\u001b[0m, in \u001b[0;36murlopen\u001b[1;34m(url, data, timeout, cafile, capath, cadefault, context)\u001b[0m\n\u001b[0;32m    214\u001b[0m \u001b[38;5;28;01melse\u001b[39;00m:\n\u001b[0;32m    215\u001b[0m     opener \u001b[38;5;241m=\u001b[39m _opener\n\u001b[1;32m--> 216\u001b[0m \u001b[38;5;28;01mreturn\u001b[39;00m \u001b[43mopener\u001b[49m\u001b[38;5;241;43m.\u001b[39;49m\u001b[43mopen\u001b[49m\u001b[43m(\u001b[49m\u001b[43murl\u001b[49m\u001b[43m,\u001b[49m\u001b[43m \u001b[49m\u001b[43mdata\u001b[49m\u001b[43m,\u001b[49m\u001b[43m \u001b[49m\u001b[43mtimeout\u001b[49m\u001b[43m)\u001b[49m\n",
            "File \u001b[1;32mc:\\Users\\miwam\\AppData\\Local\\Programs\\Python\\Python311\\Lib\\urllib\\request.py:525\u001b[0m, in \u001b[0;36mOpenerDirector.open\u001b[1;34m(self, fullurl, data, timeout)\u001b[0m\n\u001b[0;32m    523\u001b[0m \u001b[38;5;28;01mfor\u001b[39;00m processor \u001b[38;5;129;01min\u001b[39;00m \u001b[38;5;28mself\u001b[39m\u001b[38;5;241m.\u001b[39mprocess_response\u001b[38;5;241m.\u001b[39mget(protocol, []):\n\u001b[0;32m    524\u001b[0m     meth \u001b[38;5;241m=\u001b[39m \u001b[38;5;28mgetattr\u001b[39m(processor, meth_name)\n\u001b[1;32m--> 525\u001b[0m     response \u001b[38;5;241m=\u001b[39m \u001b[43mmeth\u001b[49m\u001b[43m(\u001b[49m\u001b[43mreq\u001b[49m\u001b[43m,\u001b[49m\u001b[43m \u001b[49m\u001b[43mresponse\u001b[49m\u001b[43m)\u001b[49m\n\u001b[0;32m    527\u001b[0m \u001b[38;5;28;01mreturn\u001b[39;00m response\n",
            "File \u001b[1;32mc:\\Users\\miwam\\AppData\\Local\\Programs\\Python\\Python311\\Lib\\urllib\\request.py:634\u001b[0m, in \u001b[0;36mHTTPErrorProcessor.http_response\u001b[1;34m(self, request, response)\u001b[0m\n\u001b[0;32m    631\u001b[0m \u001b[38;5;66;03m# According to RFC 2616, \"2xx\" code indicates that the client's\u001b[39;00m\n\u001b[0;32m    632\u001b[0m \u001b[38;5;66;03m# request was successfully received, understood, and accepted.\u001b[39;00m\n\u001b[0;32m    633\u001b[0m \u001b[38;5;28;01mif\u001b[39;00m \u001b[38;5;129;01mnot\u001b[39;00m (\u001b[38;5;241m200\u001b[39m \u001b[38;5;241m<\u001b[39m\u001b[38;5;241m=\u001b[39m code \u001b[38;5;241m<\u001b[39m \u001b[38;5;241m300\u001b[39m):\n\u001b[1;32m--> 634\u001b[0m     response \u001b[38;5;241m=\u001b[39m \u001b[38;5;28;43mself\u001b[39;49m\u001b[38;5;241;43m.\u001b[39;49m\u001b[43mparent\u001b[49m\u001b[38;5;241;43m.\u001b[39;49m\u001b[43merror\u001b[49m\u001b[43m(\u001b[49m\n\u001b[0;32m    635\u001b[0m \u001b[43m        \u001b[49m\u001b[38;5;124;43m'\u001b[39;49m\u001b[38;5;124;43mhttp\u001b[39;49m\u001b[38;5;124;43m'\u001b[39;49m\u001b[43m,\u001b[49m\u001b[43m \u001b[49m\u001b[43mrequest\u001b[49m\u001b[43m,\u001b[49m\u001b[43m \u001b[49m\u001b[43mresponse\u001b[49m\u001b[43m,\u001b[49m\u001b[43m \u001b[49m\u001b[43mcode\u001b[49m\u001b[43m,\u001b[49m\u001b[43m \u001b[49m\u001b[43mmsg\u001b[49m\u001b[43m,\u001b[49m\u001b[43m \u001b[49m\u001b[43mhdrs\u001b[49m\u001b[43m)\u001b[49m\n\u001b[0;32m    637\u001b[0m \u001b[38;5;28;01mreturn\u001b[39;00m response\n",
            "File \u001b[1;32mc:\\Users\\miwam\\AppData\\Local\\Programs\\Python\\Python311\\Lib\\urllib\\request.py:563\u001b[0m, in \u001b[0;36mOpenerDirector.error\u001b[1;34m(self, proto, *args)\u001b[0m\n\u001b[0;32m    561\u001b[0m \u001b[38;5;28;01mif\u001b[39;00m http_err:\n\u001b[0;32m    562\u001b[0m     args \u001b[38;5;241m=\u001b[39m (\u001b[38;5;28mdict\u001b[39m, \u001b[38;5;124m'\u001b[39m\u001b[38;5;124mdefault\u001b[39m\u001b[38;5;124m'\u001b[39m, \u001b[38;5;124m'\u001b[39m\u001b[38;5;124mhttp_error_default\u001b[39m\u001b[38;5;124m'\u001b[39m) \u001b[38;5;241m+\u001b[39m orig_args\n\u001b[1;32m--> 563\u001b[0m     \u001b[38;5;28;01mreturn\u001b[39;00m \u001b[38;5;28;43mself\u001b[39;49m\u001b[38;5;241;43m.\u001b[39;49m\u001b[43m_call_chain\u001b[49m\u001b[43m(\u001b[49m\u001b[38;5;241;43m*\u001b[39;49m\u001b[43margs\u001b[49m\u001b[43m)\u001b[49m\n",
            "File \u001b[1;32mc:\\Users\\miwam\\AppData\\Local\\Programs\\Python\\Python311\\Lib\\urllib\\request.py:496\u001b[0m, in \u001b[0;36mOpenerDirector._call_chain\u001b[1;34m(self, chain, kind, meth_name, *args)\u001b[0m\n\u001b[0;32m    494\u001b[0m \u001b[38;5;28;01mfor\u001b[39;00m handler \u001b[38;5;129;01min\u001b[39;00m handlers:\n\u001b[0;32m    495\u001b[0m     func \u001b[38;5;241m=\u001b[39m \u001b[38;5;28mgetattr\u001b[39m(handler, meth_name)\n\u001b[1;32m--> 496\u001b[0m     result \u001b[38;5;241m=\u001b[39m \u001b[43mfunc\u001b[49m\u001b[43m(\u001b[49m\u001b[38;5;241;43m*\u001b[39;49m\u001b[43margs\u001b[49m\u001b[43m)\u001b[49m\n\u001b[0;32m    497\u001b[0m     \u001b[38;5;28;01mif\u001b[39;00m result \u001b[38;5;129;01mis\u001b[39;00m \u001b[38;5;129;01mnot\u001b[39;00m \u001b[38;5;28;01mNone\u001b[39;00m:\n\u001b[0;32m    498\u001b[0m         \u001b[38;5;28;01mreturn\u001b[39;00m result\n",
            "File \u001b[1;32mc:\\Users\\miwam\\AppData\\Local\\Programs\\Python\\Python311\\Lib\\urllib\\request.py:643\u001b[0m, in \u001b[0;36mHTTPDefaultErrorHandler.http_error_default\u001b[1;34m(self, req, fp, code, msg, hdrs)\u001b[0m\n\u001b[0;32m    642\u001b[0m \u001b[38;5;28;01mdef\u001b[39;00m \u001b[38;5;21mhttp_error_default\u001b[39m(\u001b[38;5;28mself\u001b[39m, req, fp, code, msg, hdrs):\n\u001b[1;32m--> 643\u001b[0m     \u001b[38;5;28;01mraise\u001b[39;00m HTTPError(req\u001b[38;5;241m.\u001b[39mfull_url, code, msg, hdrs, fp)\n",
            "\u001b[1;31mHTTPError\u001b[0m: HTTP Error 404: Not Found"
          ]
        }
      ],
      "source": [
        "#read data\n",
        "url='https://raw.githubusercontent.com/miwamasa/DataScience2024/main/notebooks/data/ice_cream.csv'\n",
        "df_ice_cream = pd.read_csv(url)"
      ]
    },
    {
      "cell_type": "code",
      "execution_count": null,
      "metadata": {
        "id": "Z598hYiX5j5I"
      },
      "outputs": [],
      "source": [
        "df_ice_cream.head()"
      ]
    },
    {
      "attachments": {},
      "cell_type": "markdown",
      "metadata": {
        "id": "2vDC0RB65j5I"
      },
      "source": [
        "コラム名を、わかりやすい名称に変更"
      ]
    },
    {
      "cell_type": "code",
      "execution_count": null,
      "metadata": {
        "id": "R5SXDIKD5j5J"
      },
      "outputs": [],
      "source": [
        "#rename columns to something more understandable\n",
        "df_ice_cream.rename(columns={'DATE':'date', 'IPN31152N':'production'}, inplace=True)"
      ]
    },
    {
      "attachments": {},
      "cell_type": "markdown",
      "metadata": {
        "id": "rYvgn3qb5j5J"
      },
      "source": [
        "dataコラムを、datetime型に変換（スライスなどが簡単になる）"
      ]
    },
    {
      "cell_type": "code",
      "execution_count": null,
      "metadata": {
        "id": "EpmBUa1r5j5J"
      },
      "outputs": [],
      "source": [
        "#convert date column to datetime type\n",
        "df_ice_cream['date'] = pd.to_datetime(df_ice_cream.date)"
      ]
    },
    {
      "attachments": {},
      "cell_type": "markdown",
      "metadata": {
        "id": "yTBJt4nx5j5J"
      },
      "source": [
        "dateをインデクスに設定"
      ]
    },
    {
      "cell_type": "code",
      "execution_count": null,
      "metadata": {
        "id": "8Zc6Fq4F5j5K"
      },
      "outputs": [],
      "source": [
        "#set date as index\n",
        "df_ice_cream.set_index('date', inplace=True)"
      ]
    },
    {
      "attachments": {},
      "cell_type": "markdown",
      "metadata": {
        "id": "-fj5QpPA5j5K"
      },
      "source": [
        "datetime型を使った、スライスが可能になり、2010-1-1以降のデータを得る"
      ]
    },
    {
      "cell_type": "code",
      "execution_count": null,
      "metadata": {
        "id": "sA0kzhUX5j5K"
      },
      "outputs": [],
      "source": [
        "#just get data from 2010 onwards\n",
        "start_date = pd.to_datetime('2010-01-01')\n",
        "df_ice_cream = df_ice_cream[start_date:]"
      ]
    },
    {
      "cell_type": "code",
      "execution_count": null,
      "metadata": {
        "id": "OtRX5Nx95j5K"
      },
      "outputs": [],
      "source": [
        "#show result\n",
        "df_ice_cream.head()"
      ]
    },
    {
      "cell_type": "code",
      "execution_count": null,
      "metadata": {
        "id": "G1rXEJxs5j5L"
      },
      "outputs": [],
      "source": [
        "\n",
        "plt.figure(figsize=(10,4))\n",
        "plt.plot(df_ice_cream.production)\n",
        "plt.title('Ice Cream Production over Time', fontsize=20)\n",
        "plt.ylabel('Production', fontsize=16)\n",
        "for year in range(2011,2021):\n",
        "    plt.axvline(pd.to_datetime(str(year)+'-01-01'), color='k', linestyle='--', alpha=0.2)"
      ]
    },
    {
      "attachments": {},
      "cell_type": "markdown",
      "metadata": {
        "id": "P8rYS8H05j5L"
      },
      "source": [
        "### ACF\n",
        "ACFを測ってみる、長期の傾向を測る。"
      ]
    },
    {
      "cell_type": "code",
      "execution_count": null,
      "metadata": {
        "id": "mDHTwSNd5j5L"
      },
      "outputs": [],
      "source": [
        "acf_plot = plot_acf(df_ice_cream.production, lags=100)"
      ]
    },
    {
      "attachments": {},
      "cell_type": "markdown",
      "metadata": {
        "id": "3xeIAf8u5j5L"
      },
      "source": [
        "長期の傾向が、減衰しているようなので、ここはARモデルを採用するほうがよさそうだ。\n",
        "Based on decaying ACF, we are likely dealing with an Auto Regressive process\n",
        "\n",
        "\n",
        "ではARのラグは何を指定すればよいのか？そこでPACFを検査する\n",
        "\n",
        "### PACF"
      ]
    },
    {
      "cell_type": "code",
      "execution_count": null,
      "metadata": {
        "id": "OBcUuKNN5j5M"
      },
      "outputs": [],
      "source": [
        "pacf_plot = plot_pacf(df_ice_cream.production)"
      ]
    },
    {
      "attachments": {},
      "cell_type": "markdown",
      "metadata": {
        "id": "R5iOrJwI5j5M"
      },
      "source": [
        "PACFの結果から、モデルとしては、ARモデルで、ラグが lags=1,2,3,10,13 のモデルが良いと思われる。"
      ]
    },
    {
      "attachments": {},
      "cell_type": "markdown",
      "metadata": {
        "id": "IUsTL75G5j5M"
      },
      "source": [
        "## 季節性分解\n",
        "季節性を分解してみましょう"
      ]
    },
    {
      "cell_type": "code",
      "execution_count": null,
      "metadata": {
        "id": "fSTaEsnc5j5N"
      },
      "outputs": [],
      "source": [
        "%matplotlib inline\n",
        "import numpy as np\n",
        "import matplotlib.pyplot as plt\n",
        "import pandas as pd"
      ]
    },
    {
      "cell_type": "code",
      "execution_count": null,
      "metadata": {
        "id": "PeeJo6rt5j5N"
      },
      "outputs": [],
      "source": [
        "import io\n",
        "import requests\n",
        "import statsmodels.api as sm\n",
        "\n",
        "# 月ごとの飛行機の乗客数データ\n",
        "url = \"https://www.analyticsvidhya.com/wp-content/uploads/2016/02/AirPassengers.csv\"\n",
        "stream = requests.get(url).content\n",
        "content = pd.read_csv(io.StringIO(stream.decode('utf-8')))\n",
        "passengers = content['#Passengers']"
      ]
    },
    {
      "cell_type": "code",
      "execution_count": null,
      "metadata": {
        "id": "t2SfJjxg5j5N"
      },
      "outputs": [],
      "source": [
        "pd_content = content.copy()\n",
        "pd_content['Month'] = pd.to_datetime(pd_content['Month'], infer_datetime_format=True)\n",
        "pd_content.index = pd_content.Month"
      ]
    },
    {
      "cell_type": "code",
      "execution_count": null,
      "metadata": {
        "id": "YWyFIXTm5j5N"
      },
      "outputs": [],
      "source": [
        "pd_content['#Passengers'].plot()"
      ]
    },
    {
      "cell_type": "code",
      "execution_count": null,
      "metadata": {
        "id": "sitjbm-K5j5O"
      },
      "outputs": [],
      "source": [
        "df_passenger = pd.DataFrame(content['#Passengers'].values.astype(int), \n",
        " #                           pd.DatetimeIndex(start='1949-01',\n",
        "                            pd.date_range(start='1949-01',\n",
        "                                             periods=len(content['#Passengers']), \n",
        "                                             freq='M'))"
      ]
    },
    {
      "cell_type": "code",
      "execution_count": null,
      "metadata": {
        "id": "Ck56SMK65j5O"
      },
      "outputs": [],
      "source": [
        "df_passenger.head()"
      ]
    },
    {
      "attachments": {},
      "cell_type": "markdown",
      "metadata": {
        "id": "vDgJsSpW5j5O"
      },
      "source": [
        "### 加法モデルに基づく季節性分解"
      ]
    },
    {
      "cell_type": "code",
      "execution_count": null,
      "metadata": {
        "id": "e5UUBgS-5j5O"
      },
      "outputs": [],
      "source": [
        "#ts = sm.tsa.seasonal_decompose(df_passenger.values, freq=12)\n",
        "ts = sm.tsa.seasonal_decompose(df_passenger, model='additive',extrapolate_trend='freq')"
      ]
    },
    {
      "cell_type": "code",
      "execution_count": null,
      "metadata": {
        "id": "Oca2a4NW5j5O"
      },
      "outputs": [],
      "source": [
        "ts.plot();"
      ]
    },
    {
      "cell_type": "code",
      "execution_count": null,
      "metadata": {
        "id": "GEB-_2R25j5R"
      },
      "outputs": [],
      "source": [
        "# 季節変動\n",
        "plt.plot(ts.seasonal)"
      ]
    },
    {
      "attachments": {},
      "cell_type": "markdown",
      "metadata": {
        "id": "W5w33Qm75j5S"
      },
      "source": [
        "### 乗法モデルによる季節分解"
      ]
    },
    {
      "cell_type": "code",
      "execution_count": null,
      "metadata": {
        "id": "Th7uOseH5j5S"
      },
      "outputs": [],
      "source": [
        "ts2 = sm.tsa.seasonal_decompose(df_passenger, model='multiplicative',extrapolate_trend='freq')"
      ]
    },
    {
      "cell_type": "code",
      "execution_count": null,
      "metadata": {
        "id": "7xUfK3Ob5j5S"
      },
      "outputs": [],
      "source": [
        "ts2.plot();"
      ]
    },
    {
      "attachments": {},
      "cell_type": "markdown",
      "metadata": {
        "id": "b3V87Ruu5j5T"
      },
      "source": [
        "## 移動平均\n",
        "- 　データは以下から入手\n",
        "- https://www.mizuhobank.co.jp/market/index.html"
      ]
    },
    {
      "cell_type": "code",
      "execution_count": null,
      "metadata": {
        "id": "fxDFiwXQ5j5X"
      },
      "outputs": [],
      "source": [
        "%matplotlib inline\n",
        "import numpy as np\n",
        "import matplotlib.pyplot as plt\n",
        "import seaborn as sns\n",
        "import pandas as pd"
      ]
    },
    {
      "attachments": {},
      "cell_type": "markdown",
      "metadata": {
        "id": "VAXQaaJK5j5X"
      },
      "source": []
    },
    {
      "cell_type": "code",
      "execution_count": null,
      "metadata": {
        "id": "lK6iTnKQ5j5X"
      },
      "outputs": [],
      "source": [
        "# エクセル向けデータで文字コードshift-jis、最初の行は日本語のコラム名なので、飛ばして1行目の英語のコラム名から読む\n",
        "df_historical = pd.read_csv(\"https://raw.githubusercontent.com/miwamasa/DataScience2024/main/notebooks/data/m_quote.csv\",encoding=\"shift-jis\",header=1)\n",
        "df_historical.head()"
      ]
    },
    {
      "cell_type": "code",
      "execution_count": null,
      "metadata": {
        "id": "k6rPFsFl5j5Y"
      },
      "outputs": [],
      "source": [
        "df_historical.USD.plot()"
      ]
    },
    {
      "cell_type": "code",
      "execution_count": null,
      "metadata": {
        "id": "-baqweW65j5Y"
      },
      "outputs": [],
      "source": [
        "df_historical.USD.plot()\n",
        "df_historical.USD.rolling(window=24).mean().plot(style='--')\n",
        "df_historical.USD.rolling(48).mean().plot(style=':')"
      ]
    },
    {
      "attachments": {},
      "cell_type": "markdown",
      "metadata": {
        "id": "GjbNkQQu5j5Y"
      },
      "source": [
        "## 時間依存性の発見"
      ]
    },
    {
      "cell_type": "code",
      "execution_count": null,
      "metadata": {
        "id": "Ex3CozHH5j5Y"
      },
      "outputs": [],
      "source": [
        "%matplotlib inline\n",
        "import numpy as np\n",
        "import matplotlib.pyplot as plt\n",
        "import pandas as pd"
      ]
    },
    {
      "cell_type": "code",
      "execution_count": null,
      "metadata": {
        "id": "Y0iiBfEx5j5Z"
      },
      "outputs": [],
      "source": [
        "import io\n",
        "import requests\n",
        "\n",
        "# 月ごとの飛行機の乗客数データ\n",
        "url = \"https://www.analyticsvidhya.com/wp-content/uploads/2016/02/AirPassengers.csv\"\n",
        "stream = requests.get(url).content\n",
        "content = pd.read_csv(io.StringIO(stream.decode('utf-8')))\n",
        "passengers = content['#Passengers']"
      ]
    },
    {
      "cell_type": "code",
      "execution_count": null,
      "metadata": {
        "id": "-gWpv3295j5Z"
      },
      "outputs": [],
      "source": [
        "import statsmodels.api as sm\n",
        "\n",
        "# 自己相関\n",
        "p_acf = sm.tsa.stattools.acf(passengers)\n",
        "\n",
        "# 偏自己相関\n",
        "p_pacf = sm.tsa.stattools.pacf(passengers, method='ols')\n",
        "p_acf, p_pacf"
      ]
    },
    {
      "cell_type": "code",
      "execution_count": null,
      "metadata": {
        "id": "LDLnensP5j5Z"
      },
      "outputs": [],
      "source": [
        "sm.graphics.tsa.plot_acf(passengers, lags=40);"
      ]
    },
    {
      "cell_type": "code",
      "execution_count": null,
      "metadata": {
        "id": "KMrOMzHQ5j5Z"
      },
      "outputs": [],
      "source": [
        "sm.graphics.tsa.plot_pacf(passengers, lags=35);"
      ]
    },
    {
      "attachments": {},
      "cell_type": "markdown",
      "metadata": {
        "id": "87AMcfMg5j5Z"
      },
      "source": [
        "### 定常性、\n",
        "df_historical.USDをまた使います"
      ]
    },
    {
      "cell_type": "code",
      "execution_count": null,
      "metadata": {
        "id": "iRWO-mw95j5a"
      },
      "outputs": [],
      "source": [
        "df_historical.USD.plot()"
      ]
    },
    {
      "cell_type": "code",
      "execution_count": null,
      "metadata": {
        "id": "x2moue-E5j5a"
      },
      "outputs": [],
      "source": [
        "df_logdiff_USD = (1 + df_historical.USD.pct_change()).apply(np.log)"
      ]
    },
    {
      "cell_type": "code",
      "execution_count": null,
      "metadata": {
        "id": "7095NnI55j5a"
      },
      "outputs": [],
      "source": [
        "df_historical.USD.div(df_historical.USD.shift(1)) - 1"
      ]
    },
    {
      "cell_type": "code",
      "execution_count": null,
      "metadata": {
        "id": "8DesYzce5j5a"
      },
      "outputs": [],
      "source": [
        "df_historical.USD.pct_change()"
      ]
    },
    {
      "cell_type": "code",
      "execution_count": null,
      "metadata": {
        "id": "KLm0fkRa5j5a"
      },
      "outputs": [],
      "source": [
        "df_logdiff_USD.plot()"
      ]
    },
    {
      "attachments": {},
      "cell_type": "markdown",
      "metadata": {
        "id": "5Zxb8F7P5j5b"
      },
      "source": [
        "## ARモデル\n",
        "\n",
        " 出典：[島田]島田：時系列解析、共立出版"
      ]
    },
    {
      "attachments": {},
      "cell_type": "markdown",
      "metadata": {
        "id": "LX8K7Kn65j5b"
      },
      "source": [
        "2003年から2013年までの月ごとのアイスクリームの家庭平均消費額データを使う\n",
        "\n",
        "ARモデルは定常時系列d－多にした適用できないため、定常過程であるかを検定(ADF検定)しながら、階差をとりつつ、定常にした上でARによりモデル化する。"
      ]
    },
    {
      "cell_type": "code",
      "execution_count": null,
      "metadata": {
        "id": "esLqiuNQ5j5b"
      },
      "outputs": [],
      "source": [
        "%matplotlib inline\n",
        "import numpy as np\n",
        "np.random.seed(555)\n",
        "import matplotlib.pyplot as plt\n",
        "import pandas as pd"
      ]
    },
    {
      "cell_type": "code",
      "execution_count": null,
      "metadata": {
        "id": "HBbqQ--p5j5b"
      },
      "outputs": [],
      "source": [
        "from statsmodels.graphics import tsaplots\n",
        "from statsmodels.tsa import stattools\n",
        "from statsmodels.tsa import ar_model"
      ]
    },
    {
      "cell_type": "code",
      "execution_count": null,
      "metadata": {
        "id": "xouxViEb5j5c"
      },
      "outputs": [],
      "source": [
        "# アイスクリーム消費データ\n",
        "df_ice = pd.read_csv('https://raw.githubusercontent.com/miwamasa/DataScience2024/main/notebooks/data/icecream2.csv')"
      ]
    },
    {
      "cell_type": "code",
      "execution_count": null,
      "metadata": {
        "id": "MTPe26wh5j5c"
      },
      "outputs": [],
      "source": [
        "# 月ごとの家庭平均消費額のみを抽出し\n",
        "# インデックスを2003年1月からの月ごとにする\n",
        "y = pd.Series(df_ice.expenditure_yen.values, \n",
        "              index=pd.date_range('2016-1', periods=len(df_ice), freq='M'))\n",
        "y.plot()"
      ]
    },
    {
      "attachments": {},
      "cell_type": "markdown",
      "metadata": {
        "id": "aFWS6W765j5c"
      },
      "source": [
        "ここで、adfuller()関数を使って、ADF検定を行う、\n",
        "\n",
        "regression=回帰モデルの定数とトレンドを指定する。\n",
        "- regression = 'c'    定数のみ\n",
        "- regression = 'ct'    定数とトレンド\n",
        "- regression = 'ctt'    定数と１次、２次のトレンド\n",
        "- regression = 'nt'    定数もトレンドもなし\n",
        "\n",
        "回帰モデルの設定の元、もっともPt値の低くなった組合せを返す。\n",
        "\n",
        "返り値：2番目がP値である。\n",
        "\n",
        "- adf\n",
        "  - ADF検定の統計量\n",
        "- pvalue\n",
        "  - 検定のP値\n",
        "- usedlag\n",
        "-   モデルに採用されたラグの値\n",
        "- nobs\n",
        "  - 回帰に使われたデータの個数\n",
        "- critical values\n",
        "  - 検定の1,5,10%点の値\n",
        "- icbest\n",
        "  - autolagがNoneでない場合、情報量の最大値を返す。\n",
        "- resstore\n",
        "  - 検定と回帰の結果のインスタンス"
      ]
    },
    {
      "cell_type": "code",
      "execution_count": null,
      "metadata": {
        "id": "J3PFJbzb5j5d"
      },
      "outputs": [],
      "source": [
        "# トレンド項あり(2次まで)，定数項ありの場合\n",
        "ctt = stattools.adfuller(y[:50], regression=\"ctt\")\n",
        "# トレンド項あり(1次)，定数項ありの場合\n",
        "ct = stattools.adfuller(y[:50], regression=\"ct\")\n",
        "# トレンド項なし，定数項ありの場合\n",
        "c = stattools.adfuller(y[:50], regression=\"c\")\n",
        "# トレンド項なし，定数項なしの場合\n",
        "nc = stattools.adfuller(y[:50], regression=\"n\")\n",
        "print('ctt:')\n",
        "print(ctt)\n",
        "print('ct:')\n",
        "print(ct)\n",
        "print('c:')\n",
        "print(c)\n",
        "print('nc:')\n",
        "print(nc)"
      ]
    },
    {
      "attachments": {},
      "cell_type": "markdown",
      "metadata": {
        "id": "waAxwY5f5j5d"
      },
      "source": [
        "いづれの場合もP値が高く、単位根過程であることが棄却された。\n",
        "\n",
        "帰無仮説（時系列は非定常である）が棄却できなかったということ。\n",
        "\n",
        "pandasのdiff()関数を使い、1次階差をとってみると、トレンドが消えたように見える\n",
        "\n",
        "diffをとると端にNAが生じるので、dropna()していることに注意。"
      ]
    },
    {
      "cell_type": "code",
      "execution_count": null,
      "metadata": {
        "id": "AJ6P_b9m5j5e"
      },
      "outputs": [],
      "source": [
        "y_diff = y.diff()[:50].dropna()\n",
        "y_diff.plot()"
      ]
    },
    {
      "attachments": {},
      "cell_type": "markdown",
      "metadata": {
        "id": "3Q2XxAzP5j5e"
      },
      "source": [
        "で0タの数は減っている。"
      ]
    },
    {
      "cell_type": "code",
      "execution_count": null,
      "metadata": {
        "id": "jT_UZIpH5j5f"
      },
      "outputs": [],
      "source": [
        "y_diff.count()"
      ]
    },
    {
      "attachments": {},
      "cell_type": "markdown",
      "metadata": {
        "id": "muBIFj4l5j5f"
      },
      "source": [
        "再び単位根の検定を行う。"
      ]
    },
    {
      "cell_type": "code",
      "execution_count": null,
      "metadata": {
        "id": "C06KW0fE5j5j"
      },
      "outputs": [],
      "source": [
        "ctt = stattools.adfuller(y_diff, regression=\"ctt\")\n",
        "ct = stattools.adfuller(y_diff, regression=\"ct\")\n",
        "c = stattools.adfuller(y_diff, regression=\"c\")\n",
        "nc = stattools.adfuller(y_diff, regression=\"n\")\n",
        "print('ctt:')\n",
        "print(ctt)\n",
        "print('ct:')\n",
        "print(ct)\n",
        "print('c:')\n",
        "print(c)\n",
        "print('nc:')\n",
        "print(nc)"
      ]
    },
    {
      "attachments": {},
      "cell_type": "markdown",
      "metadata": {
        "id": "vg4t2FUI5j5j"
      },
      "source": [
        "どの回帰モデルをつかっても、P値が十分低い、つまり単位根があるといえる\n",
        "\n",
        "\n",
        "帰無仮説（時系列は非定常である）は棄却され、定常であるということ。"
      ]
    },
    {
      "cell_type": "code",
      "execution_count": null,
      "metadata": {
        "id": "R4StzRqd5j5j"
      },
      "outputs": [],
      "source": [
        "y_diff.plot()"
      ]
    },
    {
      "cell_type": "code",
      "execution_count": null,
      "metadata": {
        "id": "HyiVLgPC5j5j"
      },
      "outputs": [],
      "source": [
        "# 偏自己相関\n",
        "tsaplots.plot_pacf(y_diff, lags=15);"
      ]
    },
    {
      "attachments": {},
      "cell_type": "markdown",
      "metadata": {
        "id": "_M8ka6qb5j5k"
      },
      "source": [
        "lagを11までときめて実行"
      ]
    },
    {
      "cell_type": "code",
      "execution_count": null,
      "metadata": {
        "id": "XdPUB8EG5j5k"
      },
      "outputs": [],
      "source": [
        "model = ar_model.AutoReg(y_diff,lags=11)\n",
        "#model = ar_model.AR(y_diff,lags=11)\n",
        "result=model.fit()\n",
        "print(result.summary())"
      ]
    },
    {
      "cell_type": "code",
      "execution_count": null,
      "metadata": {
        "id": "rQhKkxm45j5n"
      },
      "outputs": [],
      "source": [
        "result.params"
      ]
    },
    {
      "cell_type": "code",
      "execution_count": null,
      "metadata": {
        "id": "hp0pzKwG5j5n"
      },
      "outputs": [],
      "source": [
        "res11= result.resid\n",
        "plt.bar(range(len(res11)),res11)"
      ]
    },
    {
      "cell_type": "code",
      "execution_count": null,
      "metadata": {
        "id": "xqwmmcN15j5n"
      },
      "outputs": [],
      "source": [
        "# 偏自己相関\n",
        "tsaplots.plot_pacf(res11, lags=12);"
      ]
    },
    {
      "cell_type": "code",
      "execution_count": null,
      "metadata": {
        "id": "eQOnSwW75j5o"
      },
      "outputs": [],
      "source": [
        "result.fittedvalues"
      ]
    },
    {
      "cell_type": "code",
      "execution_count": null,
      "metadata": {
        "id": "Dij9hloV5j5o"
      },
      "outputs": [],
      "source": [
        "y_pred=result.predict()"
      ]
    },
    {
      "cell_type": "code",
      "execution_count": null,
      "metadata": {
        "id": "FPj5vcPW5j5o"
      },
      "outputs": [],
      "source": [
        "y_diff.plot()\n",
        "y_pred.plot()"
      ]
    },
    {
      "cell_type": "code",
      "execution_count": null,
      "metadata": {
        "id": "AFF_w8G15j5o"
      },
      "outputs": [],
      "source": [
        "#model = ar_model.AR(y_diff)\n",
        "for i in range(20):\n",
        "    results = ar_model.AutoReg(y_diff,lags=i+1).fit() \n",
        "    print('lag = ', i+1, 'aic : ', results.aic)"
      ]
    },
    {
      "cell_type": "code",
      "execution_count": null,
      "metadata": {
        "id": "ooJFRd6p5j5o"
      },
      "outputs": [],
      "source": [
        "#model = ar_model.AutoReg(y_diff)\n",
        "#for i in range(20):\n",
        "#    results = model.fit(maxlag=i+1)\n",
        "#    print('lag = ', i+1, 'aic : ', results.aic)"
      ]
    },
    {
      "attachments": {},
      "cell_type": "markdown",
      "metadata": {
        "id": "Zxq82m8g5j5p"
      },
      "source": [
        "ここから、これを参考　https://note.com/yiida/n/n6210246ec5b0"
      ]
    },
    {
      "cell_type": "code",
      "execution_count": null,
      "metadata": {
        "id": "EUaZmT_95j5p"
      },
      "outputs": [],
      "source": [
        "# 次数の推定\n",
        "mod = ar_model.ar_select_order(y_diff, glob=True,maxlag=13)\n",
        "mod.ar_lags"
      ]
    },
    {
      "cell_type": "code",
      "execution_count": null,
      "metadata": {
        "id": "BAg0r_aF5j5p"
      },
      "outputs": [],
      "source": [
        "# lags を 1 から 12 に変更\n",
        "ar_model_lag12 = ar_model.AutoReg(y_diff, lags=12)\n",
        "# モデルの当てはめ\n",
        "ar_model_lag12 = ar_model_lag12.fit()\n",
        "# 予測\n",
        "predict_lag12 = ar_model_lag12.predict()"
      ]
    },
    {
      "cell_type": "code",
      "execution_count": null,
      "metadata": {
        "id": "LZxeSEun5j5p"
      },
      "outputs": [],
      "source": [
        "y_diff.plot()\n",
        "predict_lag12.plot()"
      ]
    },
    {
      "attachments": {},
      "cell_type": "markdown",
      "metadata": {
        "id": "EOHB5TSe5j5q"
      },
      "source": [
        "## ARMAモデル"
      ]
    },
    {
      "cell_type": "code",
      "execution_count": null,
      "metadata": {
        "id": "k35RIQs-5j5q"
      },
      "outputs": [],
      "source": [
        "%matplotlib inline\n",
        "import numpy as np\n",
        "np.random.seed(555)\n",
        "import matplotlib.pyplot as plt\n",
        "import pandas as pd"
      ]
    },
    {
      "cell_type": "code",
      "execution_count": null,
      "metadata": {
        "id": "E1b1CuJC5j5q"
      },
      "outputs": [],
      "source": [
        "from statsmodels.graphics import tsaplots\n",
        "from statsmodels.tsa import stattools\n",
        "from statsmodels.tsa.arima_model import ARMA\n",
        "import statsmodels.api as sm"
      ]
    },
    {
      "attachments": {},
      "cell_type": "markdown",
      "metadata": {
        "id": "eCyB_DuW5j5q"
      },
      "source": [
        "ここｋら、\n",
        "https://analytics-note.xyz/time-series/statsmodels-arma/"
      ]
    },
    {
      "cell_type": "code",
      "execution_count": null,
      "metadata": {
        "id": "8Z48YC1J5j5r"
      },
      "outputs": [],
      "source": [
        "# 次数の推定\n",
        "print(sm.tsa.arma_order_select_ic(y_diff, max_ar=5, max_ma=5, ic='aic'))"
      ]
    },
    {
      "attachments": {},
      "cell_type": "markdown",
      "metadata": {
        "id": "GCniUtgx5j5r"
      },
      "source": [
        "'aic_min_order': (4, 4)}　とでているのでARMA(4,4)でモデル化してみる\n",
        "\n",
        "注ここでは、ARIMA(4,0,4)で代替"
      ]
    },
    {
      "cell_type": "code",
      "execution_count": null,
      "metadata": {
        "id": "_TiDOKRv5j5r"
      },
      "outputs": [],
      "source": [
        "# ARMAモデルの作成と推定\n",
        "arma_model = sm.tsa.ARIMA(y_diff, order=(4, 0,4))\n",
        "result = arma_model.fit()"
      ]
    },
    {
      "cell_type": "code",
      "execution_count": null,
      "metadata": {
        "id": "qQoz62jC5j5r"
      },
      "outputs": [],
      "source": [
        "#結果の表示\n",
        "print(result.summary())"
      ]
    },
    {
      "attachments": {},
      "cell_type": "markdown",
      "metadata": {
        "id": "IdUmb45p5j5s"
      },
      "source": []
    },
    {
      "cell_type": "code",
      "execution_count": null,
      "metadata": {
        "id": "eqgysen45j5s"
      },
      "outputs": [],
      "source": [
        "y_pred=result.predict()\n",
        "y_diff.plot()\n",
        "y_pred.plot()"
      ]
    },
    {
      "attachments": {},
      "cell_type": "markdown",
      "metadata": {
        "id": "8Q8s_vgJ5j5s"
      },
      "source": [
        "なんとなく季節性に弱い感じです。"
      ]
    },
    {
      "attachments": {},
      "cell_type": "markdown",
      "metadata": {
        "id": "wvBGDR5b5j5s"
      },
      "source": [
        "## ホワイトノイズ"
      ]
    },
    {
      "cell_type": "code",
      "execution_count": null,
      "metadata": {
        "id": "EgkacjvK5j5t"
      },
      "outputs": [],
      "source": [
        "randvals = np.random.randn(1000)\n",
        "pd.Series(randvals).plot(title='Random White Noise', color='k')"
      ]
    },
    {
      "cell_type": "code",
      "execution_count": null,
      "metadata": {
        "id": "RA8hKyMw5j5t"
      },
      "outputs": [],
      "source": [
        "# Declare\n",
        "white_noise = np.random.randn(1000)\n",
        "\n",
        "# Plot\n",
        "plt.title('White Noise Plot', size=20)\n",
        "plt.plot(np.arange(len(white_noise)), white_noise);"
      ]
    },
    {
      "cell_type": "code",
      "execution_count": null,
      "metadata": {
        "id": "v63j_sTf5j5t"
      },
      "outputs": [],
      "source": [
        "# Split into an arbitraty number of chunks\n",
        "white_noise_chunks = np.split(white_noise, 20)\n",
        "means, stds = [], []\n",
        "\n",
        "# Get the mean and std values for every chunk\n",
        "for chunk in white_noise_chunks:\n",
        "    means.append(np.mean(chunk))\n",
        "    stds.append(np.std(chunk))\n",
        "    \n",
        "    \n",
        "# Plot\n",
        "plt.title('White Noise Mean and Standard Deviation Comparison', size=20)\n",
        "plt.plot(np.arange(len(means)), [white_noise.mean()] * len(means), label='Global mean', lw=1.5)\n",
        "plt.scatter(x=np.arange(len(means)), y=means, label='Mean', s=100)\n",
        "plt.plot(np.arange(len(stds)), [white_noise.std()] * len(stds), label='Global std', lw=1.5, color='orange')\n",
        "plt.scatter(x=np.arange(len(stds)), y=stds, label='STD', color='orange', s=100)\n",
        "plt.legend()"
      ]
    },
    {
      "cell_type": "code",
      "execution_count": null,
      "metadata": {
        "id": "cO2HOs655j5t"
      },
      "outputs": [],
      "source": []
    },
    {
      "attachments": {},
      "cell_type": "markdown",
      "metadata": {
        "id": "0wj7IY3d5j5u"
      },
      "source": [
        "## ARIMAによる解析の例\n"
      ]
    },
    {
      "cell_type": "code",
      "execution_count": null,
      "metadata": {
        "id": "GJ5EOS8O5j5v"
      },
      "outputs": [],
      "source": [
        "from statsmodels.graphics import tsaplots\n",
        "from statsmodels.tsa import stattools\n",
        "#from statsmodels.tsa.arima_model import ARIMA\n",
        "from statsmodels.tsa.arima.model import ARIMA\n",
        "import statsmodels.api as sm\n"
      ]
    },
    {
      "cell_type": "code",
      "execution_count": null,
      "metadata": {
        "id": "aLVKE3G75j5y"
      },
      "outputs": [],
      "source": [
        "import requests\n",
        "import io\n",
        "\n",
        "# 月ごとの飛行機の乗客数データ\n",
        "url = \"https://www.analyticsvidhya.com/wp-content/uploads/2016/02/AirPassengers.csv\"\n",
        "stream = requests.get(url).content\n",
        "content = pd.read_csv(io.StringIO(stream.decode('utf-8')))"
      ]
    },
    {
      "cell_type": "code",
      "execution_count": null,
      "metadata": {
        "id": "Mlw3rghj5j5z"
      },
      "outputs": [],
      "source": [
        "df_content = content.copy()\n",
        "df_content['Month'] = pd.to_datetime(df_content['Month'], \n",
        "                                     infer_datetime_format=True)\n",
        "y = pd.Series(df_content[\"#Passengers\"].values, index=df_content['Month'])\n",
        "y = y.astype('f')\n",
        "y.plot()"
      ]
    },
    {
      "cell_type": "code",
      "execution_count": null,
      "metadata": {
        "id": "QlWW_KKs5j50"
      },
      "outputs": [],
      "source": [
        "len(y)"
      ]
    },
    {
      "cell_type": "code",
      "execution_count": null,
      "metadata": {
        "id": "oT2JY_So5j50"
      },
      "outputs": [],
      "source": [
        "# yは上のコードで取得した月ごとの旅客機の乗客数データ\n",
        "y120 = y[:120]"
      ]
    },
    {
      "cell_type": "code",
      "execution_count": null,
      "metadata": {
        "id": "XZNgEQp85j50"
      },
      "outputs": [],
      "source": [
        "y120.values"
      ]
    },
    {
      "cell_type": "code",
      "execution_count": null,
      "metadata": {
        "id": "ZLZsU3nz5j51"
      },
      "outputs": [],
      "source": [
        "# 階差をとらないモデル(p=3,d=0,q=2)\n",
        "model_d0 =sm.tsa.arima.ARIMA(y120.values, order=(3, 0, 2))\n",
        "results_d0 = model_d0.fit()\n",
        "res_d0 = results_d0.resid\n",
        "# 残差の出力\n",
        "plt.bar(range(len(res_d0[1:])), res_d0[1:])"
      ]
    },
    {
      "cell_type": "code",
      "execution_count": null,
      "metadata": {
        "id": "ax5VfZxr5j51"
      },
      "outputs": [],
      "source": [
        "len(res_d0[1:])"
      ]
    },
    {
      "cell_type": "code",
      "execution_count": null,
      "metadata": {
        "id": "ajH5TqsG5j54"
      },
      "outputs": [],
      "source": [
        "# 偏自己相関\n",
        "tsaplots.plot_pacf(res_d0[1:], lags=20);"
      ]
    },
    {
      "cell_type": "code",
      "execution_count": null,
      "metadata": {
        "id": "04FWjO8h5j55"
      },
      "outputs": [],
      "source": [
        "# 将来予測\n",
        "# トレンドが捉えられていない\n",
        "# 循環変動も捉えられていない\n",
        "\n",
        "# 原系列の表示\n",
        "plt.plot(y.values, label='observation')\n",
        "# インサンプル（学習に使ったサンプルデータ）と\n",
        "# ARIMA(3, 0, 2)による予測値を含めた系列の表示\n",
        "# ARモデルの時とpredictの挙動が異なるので要注意\n",
        "plt.plot(results_d0.predict(1, len(y)), \n",
        "         '--', label='forecast')\n",
        "plt.legend()"
      ]
    },
    {
      "cell_type": "code",
      "execution_count": null,
      "metadata": {
        "id": "bY3SoBGu5j55"
      },
      "outputs": [],
      "source": [
        "# 階差をとらないモデル(p=4,d=1,q=1)\n",
        "model_d0 =sm.tsa.arima.ARIMA(y120.values, order=(4, 1, 1))\n",
        "results_d0 = model_d0.fit()\n",
        "res_d0 = results_d0.resid\n",
        "# 残差の出力\n",
        "plt.bar(range(len(res_d0[1:])), res_d0[1:])"
      ]
    },
    {
      "cell_type": "code",
      "execution_count": null,
      "metadata": {
        "id": "eHkFMFVl5j56"
      },
      "outputs": [],
      "source": [
        "# 偏自己相関\n",
        "tsaplots.plot_pacf(res_d0[1:], lags=28);"
      ]
    },
    {
      "cell_type": "code",
      "execution_count": null,
      "metadata": {
        "id": "FlIIi19F5j56"
      },
      "outputs": [],
      "source": [
        "# 将来予測\n",
        "# トレンドが捉えられていない\n",
        "# 循環変動も捉えられていない\n",
        "\n",
        "# 原系列の表示\n",
        "plt.plot(y.values, label='observation')\n",
        "# インサンプル（学習に使ったサンプルデータ）と\n",
        "# ARIMA(3, 0, 2)による予測値を含めた系列の表示\n",
        "# ARモデルの時とpredictの挙動が異なるので要注意\n",
        "plt.plot(results_d0.predict(1, len(y)), \n",
        "         '--', label='forecast')\n",
        "plt.legend()"
      ]
    },
    {
      "attachments": {},
      "cell_type": "markdown",
      "metadata": {
        "id": "qZ5Eeu3M5j57"
      },
      "source": [
        "## SARIMAX"
      ]
    },
    {
      "cell_type": "code",
      "execution_count": null,
      "metadata": {
        "id": "boEVZCJj5j57"
      },
      "outputs": [],
      "source": [
        "from statsmodels.tsa.statespace.sarimax import SARIMAX\n",
        "p, d, q, sp, sd, sq = 2, 1, 2, 1, 1, 1\n",
        "seasonal = 12\n",
        "\n",
        "# SARIMAX(p=2,d=1,q=2; P=1,D=1,Q=1,s=12)モデルの当てはめ\n",
        "result = SARIMAX(\n",
        "    y120, order=(p,d,q), \n",
        "    seasonal_order=(sp,sd,sq,seasonal), \n",
        "    enforce_stationarity = False, \n",
        "    enforce_invertibility = False\n",
        ").fit()\n",
        "# 結果確認\n",
        "print(result.summary())"
      ]
    },
    {
      "cell_type": "code",
      "execution_count": null,
      "metadata": {
        "id": "Wq1JjJuJ5j58"
      },
      "outputs": [],
      "source": [
        "# 残差の抽出\n",
        "res = result.resid\n",
        "# 残差の出力\n",
        "plt.bar(range(len(res)), res)"
      ]
    },
    {
      "cell_type": "code",
      "execution_count": null,
      "metadata": {
        "id": "cgXGiUP45j59"
      },
      "outputs": [],
      "source": [
        "# 偏自己相関\n",
        "tsaplots.plot_pacf(res, lags=29);\n",
        "# ランダムウォーク過程のため自己相関はないことが確認できた"
      ]
    },
    {
      "cell_type": "code",
      "execution_count": null,
      "metadata": {
        "id": "ijMkNzop5j5-"
      },
      "outputs": [],
      "source": [
        "# 将来予測\n",
        "plt.plot(y.values, label=\"observation\")\n",
        "plt.plot(np.hstack([y120[0], \n",
        "                    result.fittedvalues[1:], \n",
        "                    result.forecast(24)]), \n",
        "         '--', label=\"forecast\")"
      ]
    },
    {
      "attachments": {},
      "cell_type": "markdown",
      "metadata": {
        "id": "8EaW1EwE5j5-"
      },
      "source": [
        "### VARモデル\n",
        "\n",
        "2変量のVARモデルにしたがうデータから、Pythonを使ってモデルの係数を推定する方法を紹介します。\n",
        "答え合わせをしたいので、使うデータは特定のVARモデルから生成します。\n",
        "\n",
        "https://analytics-note.xyz/time-series/statsmodels-var-fit/"
      ]
    },
    {
      "attachments": {},
      "cell_type": "markdown",
      "metadata": {
        "id": "FGqKJERh5j5_"
      },
      "source": [
        "\n",
        "$$\n",
        "\n",
        "\\left\\{\\begin{matrix}\\\n",
        "y_{1t} &=& 2+ 0.5 y_{1,t-1}+ 0.4 y_{2,t-1}+\\varepsilon_{1t},\\\\\\\n",
        "y_{2t} &=& -3 + 0.6 y_{1,t-1}+ 0.3 y_{2,t-1}+\\varepsilon_{2t}\\\n",
        "\\end{matrix}\\\n",
        "\n",
        "\\right.\\\n",
        "\n",
        "\\left(\\begin{matrix}\\varepsilon_{1t}\\\\\\varepsilon_{2t}\\end{matrix}\\right)\\sim W.N.(\\mathbf{\\Sigma})\n",
        "\n",
        "$$"
      ]
    },
    {
      "cell_type": "code",
      "execution_count": null,
      "metadata": {
        "id": "kJrVDPjC5j5_"
      },
      "outputs": [],
      "source": [
        "import numpy as np\n",
        "import matplotlib.pyplot as plt\n",
        "\n",
        "mean = np.array([0, 0])\n",
        "cov = np.array([[4, 1.2], [1.2, 1]])\n",
        "\n",
        "# 少し長めの系列でデータを生成する。\n",
        "data = np.zeros([110, 2])\n",
        "epsilons = np.random.multivariate_normal(mean, cov, size=110)\n",
        "print(np.cov(epsilons, rowvar=False))\n",
        "\"\"\"\n",
        "[[3.96508657 1.1917421 ]\n",
        " [1.1917421  1.01758275]]\n",
        "\"\"\"\n",
        "\n",
        "for i in range(1, 110):\n",
        "    data[i, 0] = 2 + 0.5*data[i-1, 0] + 0.4*data[i-1, 1] + epsilons[i, 0]\n",
        "    data[i, 1] = -3 + 0.6*data[i-1, 0] + 0.3*data[i-1, 1] + epsilons[i, 1]\n",
        "\n",
        "# 初めの10項を切り捨てる\n",
        "data = data[10:]\n",
        "# data.shape == (100, 2)\n",
        "\n",
        "fig = plt.figure(figsize=(12, 5), facecolor=\"w\")\n",
        "ax = fig.add_subplot(111)\n",
        "ax.plot(data[:, 0], label=\"$y_1$\")\n",
        "ax.plot(data[:, 1], label=\"$y_2$\")\n",
        "ax.set_title(\"サンプルデータ\")\n",
        "plt.legend()\n",
        "plt.show()"
      ]
    },
    {
      "attachments": {},
      "cell_type": "markdown",
      "metadata": {
        "id": "GE_-DuQB5j6A"
      },
      "source": [
        "ここから、VARモデルに当てはめます。"
      ]
    },
    {
      "cell_type": "code",
      "execution_count": null,
      "metadata": {
        "id": "YKjiCPX-5j6A"
      },
      "outputs": [],
      "source": [
        "data"
      ]
    },
    {
      "cell_type": "code",
      "execution_count": null,
      "metadata": {
        "id": "3qH7ARGt5j6B"
      },
      "outputs": [],
      "source": [
        "from statsmodels.tsa.api import VAR\n",
        "model = VAR(data)\n",
        "result = model.fit(maxlags=1)\n",
        "result.summary()"
      ]
    },
    {
      "cell_type": "code",
      "execution_count": null,
      "metadata": {
        "id": "7O0Nybji5j6C"
      },
      "outputs": [],
      "source": [
        "result.params"
      ]
    },
    {
      "attachments": {},
      "cell_type": "markdown",
      "metadata": {
        "id": "Er1lv89e5j6D"
      },
      "source": [
        "VARモデルに当てはめた結果\n",
        "\n",
        "$$\n",
        "\\left\\{\\begin{matrix}\\\n",
        "\n",
        "y_{1t} &=& 2.42+ 0.42 y_{1,t-1}+ 0.43 y_{2,t-1}\\\\\\\n",
        "\n",
        "y_{2t} &=& -3.01 + 0.61 y_{1,t-1}+ 0.31 y_{2,t-1}\\\n",
        "\n",
        "\\end{matrix}\\\n",
        "\n",
        "\\right.\\\n",
        "$$"
      ]
    },
    {
      "cell_type": "code",
      "execution_count": null,
      "metadata": {
        "id": "pVNr474i5j6D"
      },
      "outputs": [],
      "source": []
    },
    {
      "cell_type": "code",
      "execution_count": null,
      "metadata": {
        "id": "id4nQwRU5j6D"
      },
      "outputs": [],
      "source": []
    }
  ],
  "metadata": {
    "colab": {
      "name": "lecture10.ipynb",
      "provenance": []
    },
    "interpreter": {
      "hash": "9650cb4e16cdd4a8e8e2d128bf38d875813998db22a3c986335f89e0cb4d7bb2"
    },
    "kernelspec": {
      "display_name": "Python 3.8.3 64-bit",
      "language": "python",
      "name": "python3"
    },
    "language_info": {
      "codemirror_mode": {
        "name": "ipython",
        "version": 3
      },
      "file_extension": ".py",
      "mimetype": "text/x-python",
      "name": "python",
      "nbconvert_exporter": "python",
      "pygments_lexer": "ipython3",
      "version": "3.11.6"
    },
    "orig_nbformat": 4
  },
  "nbformat": 4,
  "nbformat_minor": 0
}
