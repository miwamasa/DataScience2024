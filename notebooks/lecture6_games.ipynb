{
 "cells": [
  {
   "cell_type": "markdown",
   "metadata": {},
   "source": [
    "# stasmodelsの事例\n",
    "\n",
    "重回帰を行うときに、多重共線性の影響を見る例です。\n",
    "\n",
    "参考：[Pythonでライトに始める統計分析](https://tech.prog-8.com/entry/2020/12/21/090434)\n",
    "\n",
    "これは、ある仮想野球チームのトップ２０年俸プレーヤの成績データを解析する。"
   ]
  },
  {
   "cell_type": "code",
   "execution_count": 1,
   "metadata": {},
   "outputs": [],
   "source": [
    "import pandas as pd\n",
    "import statsmodels.api as sm\n",
    "import matplotlib.pyplot as plt\n",
    "%matplotlib inline"
   ]
  },
  {
   "cell_type": "code",
   "execution_count": null,
   "metadata": {},
   "outputs": [],
   "source": [
    "df = pd.read_csv('https://raw.githubusercontent.com/miwamasa/DataScience2024/main/notebooks/data/teamG.csv')\n",
    "df"
   ]
  },
  {
   "cell_type": "code",
   "execution_count": null,
   "metadata": {},
   "outputs": [],
   "source": [
    "df.columns"
   ]
  },
  {
   "cell_type": "markdown",
   "metadata": {},
   "source": [
    "各コラムは以下の意味を持つとする。\n",
    "- Name:名前\n",
    "- AnnualSalary:年防\n",
    "- HomeRuns:本塁打数\n",
    "- Walks:四死球\n",
    "- Steels:盗塁数\n",
    "- RangeFactor:守備率\n",
    "- GamePlayed:出場試合数\n",
    "- YearsOfCareer:年数\n",
    "- ForeignPlayer:外国人選手かどうか\n",
    "- FrancisePlayer:生え抜き線種かどうか"
   ]
  },
  {
   "cell_type": "code",
   "execution_count": null,
   "metadata": {},
   "outputs": [],
   "source": [
    "df.describe()"
   ]
  },
  {
   "cell_type": "markdown",
   "metadata": {},
   "source": [
    "Parra選手はデータが登録されていないので除きます。"
   ]
  },
  {
   "cell_type": "code",
   "execution_count": null,
   "metadata": {},
   "outputs": [],
   "source": [
    "df=df.dropna()"
   ]
  },
  {
   "cell_type": "markdown",
   "metadata": {},
   "source": [
    "データ型をしらべてみます。"
   ]
  },
  {
   "cell_type": "code",
   "execution_count": null,
   "metadata": {},
   "outputs": [],
   "source": [
    "df.dtypes"
   ]
  },
  {
   "cell_type": "markdown",
   "metadata": {},
   "source": [
    "HomeRunsが数値と認識されていなかったので強制的に数値にします。"
   ]
  },
  {
   "cell_type": "code",
   "execution_count": null,
   "metadata": {},
   "outputs": [],
   "source": [
    "df.HomeRuns = df.HomeRuns.apply(pd.to_numeric)"
   ]
  },
  {
   "cell_type": "code",
   "execution_count": null,
   "metadata": {},
   "outputs": [],
   "source": [
    "df.dtypes"
   ]
  },
  {
   "cell_type": "markdown",
   "metadata": {},
   "source": [
    "### 回帰分析1\n",
    "線形モデルを仮定していたので statsmodels.regression.linear_model.OLS を使います。年俸を被説明変数、その他を説明変数とします。また、定数項も追加します"
   ]
  },
  {
   "cell_type": "code",
   "execution_count": null,
   "metadata": {},
   "outputs": [],
   "source": [
    "Y = df[df.columns[1]] # 目的変数はAnnualSalary\n",
    "X = df[df.columns[2:]] # 説明変数はその他\n",
    "\n",
    "X = sm.add_constant(X) # 切片項も追加\n",
    "model = sm.OLS(Y, X)\n",
    "  \n",
    "results = model.fit()\n",
    "print(results.summary())"
   ]
  },
  {
   "cell_type": "markdown",
   "metadata": {},
   "source": [
    "重回帰分析をするときに最もよく使う指標の一つであるVIF(Variance Inflation Factor)を算出してみようと思います。重回帰分析をする時に説明変数同士が相関していると**多重共線性**という問題を引き起こしますが、VIFを算出することで多重共線性を起こしている可能性のある変数を発見することができます。"
   ]
  },
  {
   "cell_type": "code",
   "execution_count": null,
   "metadata": {},
   "outputs": [],
   "source": [
    "from statsmodels.stats.outliers_influence import variance_inflation_factor\n",
    "\n",
    "col_count = model.exog.shape[1]\n",
    "\n",
    "vifs = [variance_inflation_factor(model.exog, i) for i in range(1, col_count)]\n",
    "pd.DataFrame(vifs, index=model.exog_names[1:], columns=[\"VIF\"])"
   ]
  },
  {
   "cell_type": "markdown",
   "metadata": {},
   "source": [
    "基準は、5,10とされていることから、Walksが外した方がよいことになる\n",
    "\n",
    "HomeRunsとWalksの相関をみます。強打者は四死球うけやすい？"
   ]
  },
  {
   "cell_type": "code",
   "execution_count": null,
   "metadata": {},
   "outputs": [],
   "source": [
    "df[['HomeRuns', 'Walks']].corr()"
   ]
  },
  {
   "cell_type": "markdown",
   "metadata": {},
   "source": [
    "相関がありましたので、Walksを除いて回帰をします。"
   ]
  },
  {
   "cell_type": "code",
   "execution_count": null,
   "metadata": {},
   "outputs": [],
   "source": [
    "df1 = df.drop(['Walks'], axis=1)\n",
    "\n",
    "Y = df1[df1.columns[1]]\n",
    "X = df1[df1.columns[2:]]\n",
    "\n",
    "X = sm.add_constant(X)\n",
    "model = sm.OLS(Y, X)\n",
    "  \n",
    "results = model.fit()\n",
    "print(results.summary())"
   ]
  },
  {
   "cell_type": "code",
   "execution_count": null,
   "metadata": {},
   "outputs": [],
   "source": [
    "from statsmodels.stats.outliers_influence import variance_inflation_factor\n",
    "\n",
    "col_count = model.exog.shape[1]\n",
    "\n",
    "vifs = [variance_inflation_factor(model.exog, i) for i in range(1, col_count)]\n",
    "pd.DataFrame(vifs, index=model.exog_names[1:], columns=[\"VIF\"])"
   ]
  },
  {
   "cell_type": "code",
   "execution_count": null,
   "metadata": {},
   "outputs": [],
   "source": [
    "fig = sm.graphics.plot_partregress_grid(results)\n",
    "#fig.tight_layout(pad=1.0)"
   ]
  },
  {
   "cell_type": "code",
   "execution_count": null,
   "metadata": {},
   "outputs": [],
   "source": [
    "fig, ax = plt.subplots(figsize=(8,4))\n",
    "ax.title.set_color('white')\n",
    "\n",
    "plt.style.use('default')\n",
    "sm.graphics.plot_partregress('AnnualSalary', 'HomeRuns', ['Steels', 'RangeFactor',\n",
    "       'GamesPlayed', 'YearsOfCareer', 'ForeignPlayer', 'FrancisePlayer'], ax=ax,\n",
    "                                data=df1, obs_labels=False);"
   ]
  },
  {
   "cell_type": "code",
   "execution_count": null,
   "metadata": {},
   "outputs": [],
   "source": [
    "df1.columns"
   ]
  },
  {
   "cell_type": "code",
   "execution_count": null,
   "metadata": {},
   "outputs": [],
   "source": [
    "import seaborn as sns\n",
    "sns_plot = sns.pairplot(df1, hue=\"AnnualSalary\", diag_kind='hist')"
   ]
  },
  {
   "cell_type": "code",
   "execution_count": null,
   "metadata": {},
   "outputs": [],
   "source": []
  }
 ],
 "metadata": {
  "kernelspec": {
   "display_name": "Python 3",
   "language": "python",
   "name": "python3"
  },
  "language_info": {
   "codemirror_mode": {
    "name": "ipython",
    "version": 3
   },
   "file_extension": ".py",
   "mimetype": "text/x-python",
   "name": "python",
   "nbconvert_exporter": "python",
   "pygments_lexer": "ipython3",
   "version": "3.11.6"
  },
  "orig_nbformat": 4
 },
 "nbformat": 4,
 "nbformat_minor": 2
}
