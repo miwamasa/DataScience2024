{
  "cells": [
    {
      "attachments": {},
      "cell_type": "markdown",
      "metadata": {
        "id": "igAx8_3Gy5ZT"
      },
      "source": [
        "# Lecture1 はじめに\n",
        "<div dir='rtl'>\n",
        "2023.4岩政\n",
        "</div>\n",
        "\n",
        "ここでは、講義における、python実行環境について説明します\n",
        "- 実行形式：jupyter notebookを用いたpythonのインタラクティブな実行\n",
        "- 実行環境：google colabratoryを使い、所定のnotebookを自分のドライブにコピーして利用\n",
        "\n",
        "最初に実行環境を確認します。そして、notebookを使った、テキスト(markidown)やコード(python)の記述方法について学びます、最後に、データサイエンスの実例を通して、pythonのライブラリを使いながら、インタラクティブにデータの分析や操作、可視化を行う様子を示します。実例に関しては以下を参考にしています。\n",
        "\n",
        "https://www.dataquest.io/blog/jupyter-notebook-tutorial/"
      ]
    },
    {
      "attachments": {},
      "cell_type": "markdown",
      "metadata": {
        "id": "CUJf9P8_y5ZY"
      },
      "source": [
        "## pythonの実行環境の準備(google colab)\n",
        "\n",
        "このファイルを開いたら、ドライブにコピーを押すことにより、自分のgoogle colaboratry環境にnotebookがコピーされます\n",
        "<div>\n",
        "<img src=\"https://github.com/miwamasa/DataScience2024/blob/main/notebooks/figures/colab_drive_copy.png?raw=true\" width=\"500\"/>\n",
        "</div"
      ]
    },
    {
      "attachments": {},
      "cell_type": "markdown",
      "metadata": {},
      "source": [
        "自分のcolaboratry環境にコピーしますと、自分で編集保存ができます。\n",
        "\n",
        "Google Driveを開くと\"マイドライブ＞Colab Notebook\"フォルダに、\"xxxx_のコピー.ipynb\"として一時的に保存されます\n",
        "<div>\n",
        "<img src=\"https://github.com/miwamasa/DataScience2024/blob/main/notebooks/figures/colab_drive_view.png?raw=true\" width=\"500\"/>\n",
        "</div\n"
      ]
    },
    {
      "cell_type": "markdown",
      "metadata": {
        "id": "PKx_ait-y5ZZ"
      },
      "source": [
        "## juypter notebook(以下notebookと略す)の使い方\n",
        "- jupyter notebookとは\n",
        "  - Pythonを、手軽にWebブラウザで実行できる仕組みです、テキストとPythonスクリプトを混ぜて記述できる、グラフで結果を確認できるなど、インタラクティブにPythonを実行し、結果を確認するのに適しています。結果をレポートにするのにも向いています。\n",
        "- .ipynbファイル、python notebookファイルであることを表します。\n",
        "- PCにjuypterをインストールする、Google Colaboratryを使う、などの様々な実行環境を使うことができます。\n",
        "- notebook interfaceについて\n",
        "- cells：cellという部品でnotebookは構成されます。cell単位で上下に移動もできます。\n",
        "  - 「コード」cell: pythonコードを含むcell\n",
        "  - 「テキスト」cell(markdown cell):マークダウン形式のテキスト入力cell\n",
        "  - cellへの入力後は、SHIFT+enter にてこれを実行できる\n",
        "## Colaboratoryでの使い方\n",
        "- Google Colaboratory(colabと略す)は、Googleが提供するjupyter notebook実行環境です。\n",
        "- colaboratryが動作すると、カーネル（unixシステム+python実行環境)が裏で起動され、notebookとカーネルが接続されて、pythonスクリプト（「コード」cell)を評価できるようになります。\n",
        "- [ ] コードcellやテキストcellの追加、削除、移動\n",
        "- [ ] bbb\n",
        "\n",
        "参考：[【一瞬で準備完了】Google Colaboratory使い方｜即効Python開始！](https://www.yutaka-note.com/entry/5min_python_02)\n"
      ]
    },
    {
      "cell_type": "markdown",
      "metadata": {
        "id": "MjoOe6NBD5c4"
      },
      "source": [
        "## 「コード」cellの使い方"
      ]
    },
    {
      "cell_type": "code",
      "execution_count": null,
      "metadata": {
        "colab": {
          "base_uri": "https://localhost:8080/"
        },
        "id": "Ep4zHTXYy5Zb",
        "outputId": "fcf99a01-f4cd-4d2b-c8ff-175b323d2217"
      },
      "outputs": [],
      "source": [
        "# コードcellでは、コメントは'#'から始まる行です\n",
        "# コードcellでは、pythonの実行環境がうごきます、Ctr+enterを押すか、左端に見えるプレイボタンを使うか\n",
        "1233+222"
      ]
    },
    {
      "cell_type": "markdown",
      "metadata": {
        "id": "8GQwzJkOy5Zd"
      },
      "source": [
        "### 「コード」cellでPythonスクリプトを評価\n",
        "- Pythonスクリプトの一部（極端な話一行毎）に評価できる\n",
        "- 変数(グローバル変数)はnotebook ページに含まれるすべての「コード」cellから参照・書き込み可能→グローバル変数\n",
        "- 制御構文など、Pythonの文法に従う（インデントに注意）\n",
        "- 関数を定義し、別のcellで呼び出すこともできる。\n",
        "- cellの評価の順番が重要、前の評価結果（代入とか関数定義）が後のcell評価環境に残る。\n",
        "\n",
        "\n"
      ]
    },
    {
      "cell_type": "code",
      "execution_count": null,
      "metadata": {
        "colab": {
          "base_uri": "https://localhost:8080/"
        },
        "id": "CMJrY0YSy5Ze",
        "outputId": "17720b61-5224-44ae-b878-e557c34c2384"
      },
      "outputs": [],
      "source": [
        "# pythonの組み込み関数(print等)が直接使えます\n",
        "print('Hello World!')"
      ]
    },
    {
      "cell_type": "markdown",
      "metadata": {
        "id": "PyZkxm-Ey5Zf"
      },
      "source": [
        "#### いくつかの簡単な注意\n",
        "- インデント（空白やタブ）に注意"
      ]
    },
    {
      "cell_type": "code",
      "execution_count": null,
      "metadata": {
        "colab": {
          "base_uri": "https://localhost:8080/"
        },
        "id": "x2j1fR1Xy5Zg",
        "outputId": "41d45c23-55b2-42b8-b6e7-741c25d7946e"
      },
      "outputs": [],
      "source": [
        "for i in range(4):\n",
        "  print(i)"
      ]
    },
    {
      "cell_type": "code",
      "execution_count": null,
      "metadata": {
        "colab": {
          "base_uri": "https://localhost:8080/",
          "height": 35
        },
        "id": "fUyd11kGy5Zh",
        "outputId": "18b6d255-3e52-4b57-c3a0-300943ad6bd3"
      },
      "outputs": [],
      "source": [
        "def say_hello(recipient):\n",
        "    return 'Hello, {}!'.format(recipient)\n",
        "\n",
        "say_hello('Tim')"
      ]
    },
    {
      "cell_type": "markdown",
      "metadata": {
        "id": "o-RvCW2Ay5Zi"
      },
      "source": [
        "## Markdownの書き方\n",
        "- テキストcellにはmarkdown形式で入力することができます。\n",
        "- Colaboratoryを使っていると、テキストcellの上に、テキストフォーマットのメニューが出ます。これらを使ってmarkdown記法を試すことができます。（例：**太字**)"
      ]
    },
    {
      "cell_type": "markdown",
      "metadata": {
        "id": "JKCHsAtpy5Zj"
      },
      "source": [
        "# level 1 の見出しです\n",
        "\n",
        "## level 2 見出しです\n",
        "\n",
        "プレーン（普通の）テキストを入力することができます。 テキストに対して装飾 **太字** and __別の太字__, あるいは *italic* とか _italic_　とかを施せます \n",
        "\n",
        "パラグラフは、必ず「空行」で区切りをつけます。\n",
        "\n",
        "* リストは'*'を使います\n",
        " * インデント(空白を行頭に挟む）をつけると、階層リストになります。\n",
        "\n",
        "1. 番号付きリストをかくここともできる. \n",
        "2. 番号は勝手に更新されます\n",
        "\n",
        "[リンクを張ることもできます](https://aiit.ac.jp/)\n",
        "\n",
        "引用(BlockQuote)はこのように書きます\n",
        "\n",
        "> これは引用された文章です'>'を行頭に書きます。</br>\n",
        "> 引用内で改行するときは、'</br>'を行の終わりに追加します\n",
        ">  > 二重引用もできます\n",
        "> \n",
        "> もとにもどります\n",
        "> もとにもどります\n",
        "\n",
        "インラインコードは バッククオート(')でくくります: `foo()`, コードブロックを入れるときはバッククオートを３連続します: \n",
        "```\n",
        "bar()\n",
        "``` \n",
        "あるいは、行頭に４つ空白をつけてもコードブロックになります。: \n",
        "\n",
        "    foo()\n",
        "    \n",
        "画像もこのように晴れます: ![Alt text](https://scikit-learn.org/stable/_static/scikit-learn-logo-small.png)"
      ]
    },
    {
      "cell_type": "markdown",
      "metadata": {},
      "source": [
        "## 数式\\KaTeXの利用\n",
        "\n",
        "Markdownでは\\KaTeXと呼ばれる、LaTeX風に数式を書くことができます。どのような数式が記述できるかは「[Supported Functions](https://katex.org/docs/supported.html)」をご覧ください。\n",
        "\n",
        "正規分布：\n",
        "$$f(x) = \\frac{1}{\\sqrt{2\\pi\\sigma^2}}\\exp{-\\frac{(x-\\mu)^2}{2\\sigma^2}}$$\n",
        "\n",
        "ガウス求積：\n",
        "$$\\int_{-\\infty}^{\\infty} f(x) dx = \\sqrt{\\pi}$$\n",
        "\n",
        "行列：\n",
        "$$\n",
        "    \\boldsymbol{A} =\n",
        "        \\left[\\begin{array}{ccc}\n",
        "            a_{0,0} & \\cdots & a_{0,x} \\\\\n",
        "            \\vdots  & \\ddots & \\vdots \\\\\n",
        "            a_{y,0} & \\cdots & a_{y,x} \\\\\n",
        "        \\end{array}\\right]\n",
        "$$\n",
        "\n",
        "条件分け：\n",
        "$$\n",
        "    % ローマン体にする\n",
        "    \\mathrm{ReLU}(x) =\n",
        "        \\begin{cases}\n",
        "            x \\quad x \\geqq 0 \\\\\n",
        "            0 \\quad x < 0 \\\\\n",
        "        \\end{cases}\n",
        "$$"
      ]
    },
    {
      "cell_type": "markdown",
      "metadata": {
        "id": "KGYCop8wy5Zk"
      },
      "source": [
        "## Kernelとは\n",
        "Kernelは、notebookの背後にある、pythonスクリプトの評価エンジンです。１つのnotebook(.ipynbファイルの単位)で、変数へのデータ格納状況や、関数定義などを、記憶し、逐次的に（上のセルから下載せるに）\n",
        "\n",
        "Colabの無償利用では以下の制限があります\n",
        "\n",
        ">ノートブックは、最大存続時間が最長 12 時間の仮想マシンに接続して実行されます。ノートブックのアイドル状態が長時間続くとタイムアウトし、仮想マシンから切断されます。仮想マシンの最大存続時間とアイドル タイムアウトの動作は将来的に変更される可能性があるほか、使用状況に応じて変わる場合もあります。\n",
        "\n",
        "\n",
        "### パッケージの導入\n",
        "pythonではnumpy(数値計算用),pandas(data処理用),scikitlern(機械学習用)などのパッケージを利用します。import文を用います。importできないときは、kernelで指定したpythonの実行環境にそのパッケージがインストールされていない可能性があります\n",
        "\n",
        "この場合は、コードcellで、以下のように行頭に!を追加して、pythonパッケージのインストールを行います。\n",
        "\n",
        "> !pip install numpy"
      ]
    },
    {
      "cell_type": "code",
      "execution_count": null,
      "metadata": {},
      "outputs": [],
      "source": [
        "!pip install numpy"
      ]
    },
    {
      "cell_type": "markdown",
      "metadata": {
        "id": "zNaHnkUgy5Zk"
      },
      "source": [
        "numpy(数値計算用)を利用します。"
      ]
    },
    {
      "cell_type": "code",
      "execution_count": null,
      "metadata": {
        "id": "LUyRCHJ6y5Zl"
      },
      "outputs": [],
      "source": [
        "import numpy as np\n",
        "def square(x):\n",
        "    return x * x"
      ]
    },
    {
      "cell_type": "code",
      "execution_count": null,
      "metadata": {
        "colab": {
          "base_uri": "https://localhost:8080/"
        },
        "id": "xZv2sHdOy5Zl",
        "outputId": "a3f07ff0-c36d-4dfc-b320-e93e1d67d4c4"
      },
      "outputs": [],
      "source": [
        "x = np.random.randint(1, 10)\n",
        "y = square(x)\n",
        "print('%d squared is %d' % (x, y))"
      ]
    },
    {
      "cell_type": "code",
      "execution_count": null,
      "metadata": {
        "colab": {
          "base_uri": "https://localhost:8080/"
        },
        "id": "tAx5QZhay5Zm",
        "outputId": "1770cab7-a1db-4a96-9844-79144274d7ca"
      },
      "outputs": [],
      "source": [
        "print('Is %d squared %d?' % (x, y))"
      ]
    },
    {
      "cell_type": "code",
      "execution_count": null,
      "metadata": {
        "colab": {
          "base_uri": "https://localhost:8080/"
        },
        "id": "7cvczkF3y5Zm",
        "outputId": "ab6566f2-66cf-429f-f4bb-11dcb9fa65d5"
      },
      "outputs": [],
      "source": [
        "y = 10\n",
        "print('Is %d squared is %d?' % (x, y))"
      ]
    },
    {
      "attachments": {},
      "cell_type": "markdown",
      "metadata": {
        "id": "UeD_O9J0y5Zn"
      },
      "source": [
        "## notebookを使ったデータ解析の例\n",
        "- notebookから データ解析でよく使うpandas（データ処理),matplotlib(グラフ描画),seabon(きれいな絵)パッケージをimportしてこれを表示します。(これらのパッケージはColab環境では最初からインストールされてます)\n",
        "- pandas, matplotlib,seabornは「第4回データの取得と操作」、「第5回データの視覚化」講義で説明しますが、今回はnotebookを使ったデータ解析の雰囲気を試してみます。"
      ]
    },
    {
      "cell_type": "code",
      "execution_count": null,
      "metadata": {
        "id": "dJARnNtzy5Zn"
      },
      "outputs": [],
      "source": [
        "%matplotlib inline\n",
        "import pandas as pd\n",
        "import matplotlib.pyplot as plt\n",
        "import seaborn as sns "
      ]
    },
    {
      "cell_type": "markdown",
      "metadata": {},
      "source": [
        "最初の行の、'%matplotlib inline'は、<del>おまじない</del>、matplotlibを使った図の出力をnotebookの出力cellにインラインで出力されます（ポップアップ画面とかではなくてnotebookに埋め込まれる形で出力さえるということ）"
      ]
    },
    {
      "cell_type": "markdown",
      "metadata": {},
      "source": [
        "pandasを使ってFortune500データ(csvファイル)をDataFrameというデータ構造に読み込みます。DataFrameの内容は変数名'df'として格納されます。"
      ]
    },
    {
      "cell_type": "code",
      "execution_count": null,
      "metadata": {
        "id": "ztR1XO0Dy5Zn"
      },
      "outputs": [],
      "source": [
        "df = pd.read_csv('https://raw.githubusercontent.com/miwamasa/DataScience2023/main/notebooks/data/fortune500.csv')"
      ]
    },
    {
      "cell_type": "markdown",
      "metadata": {},
      "source": [
        "DataFrame dfの最初の５行だけ表示、コラム名が見えます"
      ]
    },
    {
      "cell_type": "code",
      "execution_count": null,
      "metadata": {
        "colab": {
          "base_uri": "https://localhost:8080/",
          "height": 206
        },
        "id": "Se3QrCJhy5Zo",
        "outputId": "d4aa7cd3-c52f-48bf-9d5b-9d5397d4a368"
      },
      "outputs": [],
      "source": [
        "df.head()"
      ]
    },
    {
      "cell_type": "markdown",
      "metadata": {},
      "source": [
        "dfの最後の５行を表示します。"
      ]
    },
    {
      "cell_type": "code",
      "execution_count": null,
      "metadata": {
        "colab": {
          "base_uri": "https://localhost:8080/",
          "height": 206
        },
        "id": "mBtsmwc7y5Zo",
        "outputId": "f9508155-b5cb-4f65-8b1f-fd7e9aebb175"
      },
      "outputs": [],
      "source": [
        "df.tail()"
      ]
    },
    {
      "cell_type": "markdown",
      "metadata": {},
      "source": [
        "ここでコラム名を、強制的に変更します(かっことかあってめんどくさいので)"
      ]
    },
    {
      "cell_type": "code",
      "execution_count": null,
      "metadata": {
        "id": "PzlkgZNFy5Zo"
      },
      "outputs": [],
      "source": [
        "df.columns = ['year', 'rank', 'company', 'revenue', 'profit']\n",
        "df.head()"
      ]
    },
    {
      "cell_type": "markdown",
      "metadata": {},
      "source": [
        "何行あるかはlenで数えます"
      ]
    },
    {
      "cell_type": "code",
      "execution_count": null,
      "metadata": {
        "colab": {
          "base_uri": "https://localhost:8080/"
        },
        "id": "AK6NZWuly5Zp",
        "outputId": "769d0a6c-dd1d-48aa-e873-fce7998c5cfa"
      },
      "outputs": [],
      "source": [
        "len(df)"
      ]
    },
    {
      "cell_type": "markdown",
      "metadata": {},
      "source": [
        "各々のコラムのデータ型を見てみましょう"
      ]
    },
    {
      "cell_type": "code",
      "execution_count": null,
      "metadata": {
        "colab": {
          "base_uri": "https://localhost:8080/"
        },
        "id": "Z4YMYP88y5Zp",
        "outputId": "a9641e54-fd62-4405-c71c-1192e7f42e95"
      },
      "outputs": [],
      "source": [
        "df.dtypes"
      ]
    },
    {
      "cell_type": "markdown",
      "metadata": {},
      "source": [
        "むむ、コラム=proftがflot64のはずなのに、'object'となっています（データ型がきまってないことを意味します)、データ型がきまらないのは、データに数字じゃないものがはいっているのか見てみます。\n",
        "\n",
        "dfのコラム=profitを文字列としたときに、数値でないものを含んでいるものを、検索します。検索した結果は、行のindex番号のリストになります。\n",
        "\n",
        "ここで、'str.contains(....)'とあるのは、正規表現で表される部分文字列を含んでいるものを選択します。\n",
        "\n",
        "'[^0-9.-]'は、数値データを含まないものとマッチさせるための正規表現です"
      ]
    },
    {
      "cell_type": "code",
      "execution_count": null,
      "metadata": {
        "colab": {
          "base_uri": "https://localhost:8080/",
          "height": 206
        },
        "id": "YFWduu1jy5Zp",
        "outputId": "b2eaec6a-a79a-49ff-c83c-cb8d76908b8c"
      },
      "outputs": [],
      "source": [
        "non_numberic_profits = df.profit.str.contains('[^0-9.-]')\n",
        "df.loc[non_numberic_profits].head()"
      ]
    },
    {
      "cell_type": "code",
      "execution_count": null,
      "metadata": {},
      "outputs": [],
      "source": [
        "df.profit[non_numberic_profits]"
      ]
    },
    {
      "cell_type": "markdown",
      "metadata": {},
      "source": [
        "最初の５行を見てみると、値が\"N.A.\"(Not Availale)なものが複数みつかりました。さてNA以外にどのような値がふくまれているのか、set関数で、値の集合を得ます"
      ]
    },
    {
      "cell_type": "code",
      "execution_count": null,
      "metadata": {
        "colab": {
          "base_uri": "https://localhost:8080/"
        },
        "id": "a8W1mbmzy5Zq",
        "outputId": "a82e5a82-a8ac-41ed-d633-300bd835c14f"
      },
      "outputs": [],
      "source": [
        "set(df.profit[non_numberic_profits])"
      ]
    },
    {
      "cell_type": "markdown",
      "metadata": {},
      "source": [
        "N.Aのみでした。では何個ある？"
      ]
    },
    {
      "cell_type": "code",
      "execution_count": null,
      "metadata": {
        "colab": {
          "base_uri": "https://localhost:8080/"
        },
        "id": "AXT4cVA-y5Zq",
        "outputId": "66bba8d4-b656-4919-d72f-f8fdb69ec0f5"
      },
      "outputs": [],
      "source": [
        "len(df.profit[non_numberic_profits])"
      ]
    },
    {
      "cell_type": "markdown",
      "metadata": {},
      "source": [
        "N.Aの数はせいぜい全体の1.5%。もし、N.Aの分布が偏ってなければ無視してよいことんいなるので、N.Aの分布を、コラム=yearをx軸にした、ヒストグラムで見てみます。"
      ]
    },
    {
      "cell_type": "code",
      "execution_count": null,
      "metadata": {
        "colab": {
          "base_uri": "https://localhost:8080/",
          "height": 270
        },
        "id": "8-Sdtcf_y5Zr",
        "outputId": "cbdc89d8-63e4-4a2d-cb15-b53e2863e31b"
      },
      "outputs": [],
      "source": [
        "bin_sizes, _, _ = plt.hist(df.year[non_numberic_profits], bins=range(1955, 2006))"
      ]
    },
    {
      "cell_type": "markdown",
      "metadata": {},
      "source": [
        "まあ、気にすることもないので、NAをコラム=profitに含む行をすべてを、抜いた新しいDataframeを作ります。そして、profitのデータ型を数値型に変換します（もともとデータ型不明のobjectとして読み込まれていたのでちゃんとfloat64とする変換が必要）"
      ]
    },
    {
      "cell_type": "code",
      "execution_count": null,
      "metadata": {
        "id": "E1NXj8PNy5Zr"
      },
      "outputs": [],
      "source": [
        "df = df.loc[~non_numberic_profits]\n",
        "df.profit = df.profit.apply(pd.to_numeric)"
      ]
    },
    {
      "cell_type": "code",
      "execution_count": null,
      "metadata": {
        "colab": {
          "base_uri": "https://localhost:8080/"
        },
        "id": "F4RW8NbPy5Zr",
        "outputId": "25b38f29-596f-4d8e-df9a-d2a20455f5de"
      },
      "outputs": [],
      "source": [
        "len(df)"
      ]
    },
    {
      "cell_type": "code",
      "execution_count": null,
      "metadata": {
        "colab": {
          "base_uri": "https://localhost:8080/"
        },
        "id": "nUyqDt4Gy5Zr",
        "outputId": "eecbc687-2280-4a7f-9890-60431724e07a"
      },
      "outputs": [],
      "source": [
        "df.dtypes"
      ]
    },
    {
      "cell_type": "markdown",
      "metadata": {
        "id": "t9j7AbH6y5Zs"
      },
      "source": [
        "### Matplotlibを使った可視化の例\n",
        "\n",
        "引きつき、fortun500のデータで分析を進めます。まずは、年度year毎にグループ化します。そしてグループ(year)毎に平均をとってプロットします"
      ]
    },
    {
      "cell_type": "code",
      "execution_count": null,
      "metadata": {
        "id": "NODVY-P-y5Zs"
      },
      "outputs": [],
      "source": [
        "group_by_year = df.loc[:, ['year', 'revenue', 'profit']].groupby('year')\n",
        "avgs = group_by_year.mean()\n",
        "x = avgs.index\n",
        "y1 = avgs.profit\n",
        "def plot(x, y, ax, title, y_label):\n",
        "    ax.set_title(title)\n",
        "    ax.set_ylabel(y_label)\n",
        "    ax.plot(x, y)\n",
        "    ax.margins(x=0, y=0)"
      ]
    },
    {
      "cell_type": "code",
      "execution_count": null,
      "metadata": {
        "colab": {
          "base_uri": "https://localhost:8080/",
          "height": 284
        },
        "id": "pk_xHp9by5Zu",
        "outputId": "7db989e2-8b3a-4726-9f09-cd37229e0246"
      },
      "outputs": [],
      "source": [
        "fig, ax = plt.subplots()\n",
        "plot(x, y1, ax, 'Increase in mean Fortune 500 company profits from 1955 to 2005', 'Profit (millions)')"
      ]
    },
    {
      "cell_type": "markdown",
      "metadata": {},
      "source": [
        "それでは、コラム=revenueはどうなっているでしょうか？"
      ]
    },
    {
      "cell_type": "code",
      "execution_count": null,
      "metadata": {
        "colab": {
          "base_uri": "https://localhost:8080/",
          "height": 284
        },
        "id": "Aruazxtvy5Zv",
        "outputId": "1cd26d6f-2749-4680-fe6c-cc30b33bf4bf"
      },
      "outputs": [],
      "source": [
        "y2 = avgs.revenue\n",
        "fig, ax = plt.subplots()\n",
        "plot(x, y2, ax, 'Increase in mean Fortune 500 company revenues from 1955 to 2005', 'Revenue (millions)')"
      ]
    },
    {
      "cell_type": "markdown",
      "metadata": {},
      "source": [
        "それでは、profit,revenewを平均だけでなくて標準偏差を合わせてプロとしてみます。"
      ]
    },
    {
      "cell_type": "code",
      "execution_count": null,
      "metadata": {
        "colab": {
          "base_uri": "https://localhost:8080/",
          "height": 275
        },
        "id": "yFgVi8x2y5Zv",
        "outputId": "2ebb9bb1-e517-4155-9eb7-49dcdf6e045d"
      },
      "outputs": [],
      "source": [
        "def plot_with_std(x, y, stds, ax, title, y_label):\n",
        "    ax.fill_between(x, y - stds, y + stds, alpha=0.2)\n",
        "    plot(x, y, ax, title, y_label)\n",
        "fig, (ax1, ax2) = plt.subplots(ncols=2)\n",
        "title = 'Increase in mean and std Fortune 500 company %s from 1955 to 2005'\n",
        "stds1 = group_by_year.std().profit.values\n",
        "stds2 = group_by_year.std().revenue.values\n",
        "plot_with_std(x, y1.values, stds1, ax1, title % 'profits', 'Profit (millions)')\n",
        "plot_with_std(x, y2.values, stds2, ax2, title % 'revenues', 'Revenue (millions)')\n",
        "fig.set_size_inches(14, 4)\n",
        "fig.tight_layout()"
      ]
    },
    {
      "cell_type": "markdown",
      "metadata": {},
      "source": [
        "年とともに、標準偏差も広がっていくことがわかります。"
      ]
    },
    {
      "attachments": {},
      "cell_type": "markdown",
      "metadata": {},
      "source": [
        "## ChatGPTをつかった分析\n",
        "\n",
        "講義では、ChatGPを使って、分析をしてみます。ChatGPTを使いながら、jupyter notebookにコードをコピーして動かしながら進めるというやり方を試してみます。\n",
        "\n",
        "注意）ChatGPTのみを活用した、レポート課題の作成は、厳に禁止とします。\n",
        "\n",
        ">次のCSVについて、分析しなさい。https://raw.githubusercontent.com/miwamasa/DataScience2023/main/notebooks/data/fortune500.csv\n",
        "\n",
        ">このデータから、どのようなことが言えますか？\n",
        "\n",
        ">年間売上高と当期純利益との相関関係について分析して。"
      ]
    },
    {
      "cell_type": "code",
      "execution_count": null,
      "metadata": {},
      "outputs": [],
      "source": []
    }
  ],
  "metadata": {
    "colab": {
      "name": "lecture1.ipynb",
      "provenance": []
    },
    "interpreter": {
      "hash": "2db524e06e9f5f4ffedc911c917cb75e12dbc923643829bf417064a77eb14d37"
    },
    "kernelspec": {
      "display_name": "Python 3.8.3 64-bit",
      "name": "python3"
    },
    "language_info": {
      "codemirror_mode": {
        "name": "ipython",
        "version": 3
      },
      "file_extension": ".py",
      "mimetype": "text/x-python",
      "name": "python",
      "nbconvert_exporter": "python",
      "pygments_lexer": "ipython3",
      "version": "3.8.3"
    },
    "orig_nbformat": 4
  },
  "nbformat": 4,
  "nbformat_minor": 0
}
