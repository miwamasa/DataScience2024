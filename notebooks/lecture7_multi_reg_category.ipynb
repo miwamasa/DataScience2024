{
 "cells": [
  {
   "attachments": {},
   "cell_type": "markdown",
   "metadata": {},
   "source": [
    "# Lecture7 重回帰、statsmodelsにおけるカテゴリー変数の取り扱い\n",
    "\n",
    "## 血液型の例から。"
   ]
  },
  {
   "cell_type": "code",
   "execution_count": null,
   "metadata": {},
   "outputs": [],
   "source": [
    "import pandas as pd\n",
    "import statsmodels.formula.api as smf\n",
    "import matplotlib.pyplot as plt\n",
    "\n",
    "# ダミー変数を作成\n",
    "blood_types = ['A', 'B', 'AB', 'O']\n",
    "data = {'blood_type': ['A', 'A', 'B', 'B', 'AB', 'AB', 'O', 'O'],\n",
    "        'value': [1, 2, 2, 3, 3, 4, 4, 5]}\n",
    "df = pd.DataFrame(data)\n",
    "dummy_vars = pd.get_dummies(df['blood_type'])"
   ]
  },
  {
   "cell_type": "code",
   "execution_count": null,
   "metadata": {},
   "outputs": [],
   "source": [
    "dummy_vars"
   ]
  },
  {
   "cell_type": "code",
   "execution_count": null,
   "metadata": {},
   "outputs": [],
   "source": [
    "#ダミー変数dummy_varsをつかって回帰をします。\n",
    "# 回帰モデルを作成\n",
    "model = smf.ols('value ~ A + B + AB', data=dummy_vars.join(df)).fit()\n",
    "\n",
    "model.summary()"
   ]
  },
  {
   "cell_type": "code",
   "execution_count": null,
   "metadata": {},
   "outputs": [],
   "source": [
    "#可視化をします。\n",
    "# 回帰係数の差分を取得\n",
    "coeff_diff = model.params[1:] - model.params[0]\n",
    "\n",
    "# 棒グラフを作成\n",
    "plt.bar(blood_types[:-1], coeff_diff)\n",
    "plt.xlabel('Blood Type')\n",
    "plt.ylabel('Coefficient Difference')\n",
    "plt.title('Coefficients Differences by Blood Type')\n",
    "plt.show()"
   ]
  },
  {
   "attachments": {},
   "cell_type": "markdown",
   "metadata": {},
   "source": [
    "ご参考：例では、3変数を用いた回帰を行い、その係数から、効果の差分を見ました。４変数全部を用いると、多重共線性でうまく推定できない場合があります。"
   ]
  },
  {
   "cell_type": "code",
   "execution_count": null,
   "metadata": {},
   "outputs": [],
   "source": [
    "model = smf.ols('value ~ A + B + AB + O', data=dummy_vars.join(df)).fit()\n",
    "\n",
    "model.summary()"
   ]
  },
  {
   "attachments": {},
   "cell_type": "markdown",
   "metadata": {},
   "source": [
    "## 以下は別の例、\n",
    "「Pythonで学ぶ計量経済学」より\n",
    "\n",
    "https://py4etrics.github.io/13_Dummies.html"
   ]
  },
  {
   "cell_type": "code",
   "execution_count": null,
   "metadata": {},
   "outputs": [],
   "source": [
    "!pip install wooldridge"
   ]
  },
  {
   "cell_type": "code",
   "execution_count": null,
   "metadata": {},
   "outputs": [],
   "source": [
    "from statsmodels.formula.api import ols\n",
    "import wooldridge"
   ]
  },
  {
   "cell_type": "markdown",
   "metadata": {},
   "source": [
    "## ケース１：定数項だけの回帰分析\n",
    "### ダミー変数なし\n",
    "直感的な説明にするために説明変数が定数項だけの回帰分析から始める。 具体的には次の回帰式を考える。\n",
    "\n",
    "$y=\\beta_0 + \\epsilon$\n",
    "\n",
    "実は，この場合のOLS推定量\n",
    "は被説明変数の平均と等しいことになる。この結果を確認するために以下ではwooldridgeパッケージのwage1のデータを使う。"
   ]
  },
  {
   "cell_type": "code",
   "execution_count": null,
   "metadata": {},
   "outputs": [],
   "source": [
    "wage1 = wooldridge.data('wage1')\n",
    "wooldridge.data('wage1',description=True)"
   ]
  },
  {
   "cell_type": "code",
   "execution_count": null,
   "metadata": {},
   "outputs": [],
   "source": [
    "form_const = 'wage ~ 1'  # 定数項だけの場合は１が必要\n",
    "\n",
    "res_const = ols(form_const, data=wage1).fit()\n",
    "res_const.params"
   ]
  },
  {
   "cell_type": "markdown",
   "metadata": {},
   "source": [
    "この$\\beta_0$は、平均と同じ"
   ]
  },
  {
   "cell_type": "code",
   "execution_count": null,
   "metadata": {},
   "outputs": [],
   "source": [
    "wage1['wage'].mean()"
   ]
  },
  {
   "cell_type": "markdown",
   "metadata": {},
   "source": [
    "## ダミー変数あり：２つのケース\n",
    "同じデータを使って$\\{0,1\\}$の値を取るダミー変数を考える。データセットwage1の中のfemaleという変数があり，以下の値を取る。\n",
    "\n",
    ">女性の場合：female = 1</br>\n",
    ">男性の場合：female = 0\n",
    "\n",
    "値が０のカテゴリーを基本カテゴリーという。\n",
    "\n",
    "$D$をfemaleのダミー変数とすると回帰式は以下のようになる。\n",
    "\n",
    "$$y=\\beta_0+\\beta_1 D $$\n",
    "\n",
    "さらに，この式はの$D=\\{0,1\\}$の値によって以下のように表すことができる。\n",
    "\n",
    "男性：$D=0 \\implies y=\\beta_0 +\\epsilon $\n",
    "\n",
    "女性：$D=1 \\implies y=\\beta_0 +\\beta_1 D+\\epsilon $\n",
    "\n",
    "即ち，OLS推定量は以下を表すことになる。\n",
    "\n",
    "$\\hat{\\beta_0}$：男性の平均賃金\n",
    "\n",
    "$\\hat{\\beta_0}+\\hat{\\beta_1}$：女性の平均賃金\n",
    "\n",
    "この回帰式を使い，時間賃金の男女間の差について考察する"
   ]
  },
  {
   "cell_type": "code",
   "execution_count": null,
   "metadata": {},
   "outputs": [],
   "source": [
    "form_const_2 = 'wage ~ female'\n",
    "\n",
    "res_const_2 = ols(form_const_2, data=wage1).fit()\n",
    "\n",
    "res_const_2.params"
   ]
  },
  {
   "cell_type": "code",
   "execution_count": null,
   "metadata": {},
   "outputs": [],
   "source": [
    "res_const_2.params.Intercept + res_const_2.params.female"
   ]
  },
  {
   "cell_type": "markdown",
   "metadata": {},
   "source": [
    "というわけで、女性の時間賃金は約2.51ドル低い"
   ]
  },
  {
   "cell_type": "markdown",
   "metadata": {},
   "source": [
    "## ダミー変数あり：４つのケース\n",
    "データセットwage1にはmarriedという変数が含まれており，以下の値をとる。\n",
    "\n",
    "> 既婚者の場合：married = 1</br>\n",
    "> 未婚者の場合：married = 0\n",
    "\n",
    "femaleと組み合わせることにより，次の４つのケースを分けることができる。\n",
    "\n",
    ">未婚男性：female=0, married=0</br>\n",
    ">未婚女性：female=1, married=0</br>\n",
    ">既婚女性：female=1, married=1</br>\n",
    ">既婚男性：female=0, married=1\n",
    "\n",
    "この４つのケースを捉えるために、femaleとmarriedの値によって0もしくは1の値になるダミー変数を作成するが，２つのステップに分けて説明する。\n",
    "\n",
    "### カテゴリ変数を無視して回帰を行った場合"
   ]
  },
  {
   "cell_type": "code",
   "execution_count": null,
   "metadata": {},
   "outputs": [],
   "source": [
    "form_const_3 = 'wage ~ female+married'\n",
    "\n",
    "res_const_3 = ols(form_const_3, data=wage1).fit()\n",
    "\n",
    "res_const_3.summary()"
   ]
  },
  {
   "cell_type": "code",
   "execution_count": null,
   "metadata": {},
   "outputs": [],
   "source": [
    "print(\"singmale:\",res_const_3.params.Intercept)\n",
    "print(\"marmale:\",res_const_3.params.Intercept+res_const_3.params.married)\n",
    "print(\"singfem:\",res_const_3.params.Intercept+res_const_3.params.female)\n",
    "print(\"marfem:\",res_const_3.params.Intercept+res_const_3.params.female+res_const_3.params.married)"
   ]
  },
  {
   "cell_type": "code",
   "execution_count": null,
   "metadata": {},
   "outputs": [],
   "source": [
    "#答え合わせ独身男性の賃金平均\n",
    "wage1.query('female==0 & married==0')['wage'].mean()"
   ]
  },
  {
   "cell_type": "markdown",
   "metadata": {},
   "source": [
    "単純に重回帰しただけだと、答え合わせと合わない。\n",
    "\n",
    "そこで、カテゴリー変数を導入する"
   ]
  },
  {
   "cell_type": "markdown",
   "metadata": {},
   "source": [
    "$y= \\beta_0+\\beta_1 D_1 + \\beta_2 D_2 + \\beta_3 D_3$\n",
    "\n",
    "- 基本カテゴリー：singmale \n",
    "- $D_1$=marmale  \n",
    "- $D_2$=singfem\n",
    "- $D_3$=marfem"
   ]
  },
  {
   "cell_type": "markdown",
   "metadata": {},
   "source": [
    "$D_1=\\{0,1\\},D_2=\\{0,1\\},D_3=\\{0,1\\}$の取る値を考慮すると，以下の４つのパターンに分けることができる。\n",
    "\n",
    "\n",
    "$D_1=0 \\& D_2=0 \\& D_3=0 \\implies y=\\beta_0+\\epsilon$\n",
    "\n",
    "$D_1=1 \\& D_2=0 \\& D_3=0 \\implies y=\\beta_0+\\beta_1 +\\epsilon$\n",
    "\n",
    "$D_1=0 \\& D_2=1 \\& D_3=0 \\implies y=\\beta_0+\\beta_2+\\epsilon$\n",
    "\n",
    "$D_1=0 \\& D_2=0 \\& D_3=1 \\implies y=\\beta_0+\\beta_3+\\epsilon$\n",
    " \n",
    "\n",
    "即ち，OLS推定量は以下を表すことになる。\n",
    "\n",
    "$\\hat{\\beta_0}$：未婚男性の平均賃金\n",
    "\n",
    "$\\hat{\\beta_0}+\\hat{\\beta_1}$：既婚男性の平均賃金\n",
    "\n",
    "$\\hat{\\beta_0}+\\hat{\\beta_2}$：未婚女性の平均賃金\n",
    "\n",
    "$\\hat{\\beta_0}+\\hat{\\beta_3}$：既婚女性の平均賃金"
   ]
  },
  {
   "cell_type": "code",
   "execution_count": null,
   "metadata": {},
   "outputs": [],
   "source": []
  },
  {
   "cell_type": "code",
   "execution_count": null,
   "metadata": {},
   "outputs": [],
   "source": [
    "# 以下では row をDataFrameの行と考える。\n",
    "\n",
    "# 未婚男性の関数\n",
    "def singmale(row):\n",
    "    if row['female'] == 0 and row['married'] == 0:\n",
    "        return 1\n",
    "    else:\n",
    "        return 0\n",
    "\n",
    "# 既婚男性の関数\n",
    "def marmale(row):\n",
    "    if row['female'] == 0 and row['married'] == 1:\n",
    "        return 1\n",
    "    else:\n",
    "        return 0\n",
    "\n",
    "# 未婚女性の関数\n",
    "def singfem(row):\n",
    "    if row['female'] == 1 and row['married'] == 0:\n",
    "        return 1\n",
    "    else:\n",
    "        return 0\n",
    "\n",
    "# 既婚女性の関数\n",
    "def marfem(row):\n",
    "    if row['female'] == 1 and row['married'] == 1:\n",
    "        return 1\n",
    "    else:\n",
    "        return 0"
   ]
  },
  {
   "cell_type": "code",
   "execution_count": null,
   "metadata": {},
   "outputs": [],
   "source": [
    "wage1.loc[:,'singmale'] = wage1.apply(singmale, axis=1)  # axis='columns'でもOK\n",
    "wage1.loc[:,'marmale'] = wage1.apply(marmale, axis=1)    # axis='columns'でもOK\n",
    "wage1.loc[:,'singfem'] = wage1.apply(singfem, axis=1)    # axis='columns'でもOK\n",
    "wage1.loc[:,'marfem'] = wage1.apply(marfem, axis=1)      # axis='columns'でもOK\n",
    "\n",
    "wage1.head(3)"
   ]
  },
  {
   "cell_type": "code",
   "execution_count": null,
   "metadata": {},
   "outputs": [],
   "source": [
    "form_const_4 = 'wage ~ marmale + singfem + marfem'\n",
    "\n",
    "res_const_4 = ols(form_const_4, data=wage1).fit()\n",
    "\n",
    "res_const_4.params"
   ]
  },
  {
   "cell_type": "code",
   "execution_count": null,
   "metadata": {},
   "outputs": [],
   "source": [
    "#答え合わせ独身男性の賃金平均\n",
    "wage1.query('female==0 & married==0')['wage'].mean()"
   ]
  },
  {
   "cell_type": "code",
   "execution_count": null,
   "metadata": {},
   "outputs": [],
   "source": [
    "#答え合わせ既婚男性の賃金平均\n",
    "wage1.query('female==0 & married==1')['wage'].mean()"
   ]
  },
  {
   "cell_type": "code",
   "execution_count": null,
   "metadata": {},
   "outputs": [],
   "source": [
    "res_const_4.params.Intercept+res_const_4.params.marmale"
   ]
  },
  {
   "cell_type": "markdown",
   "metadata": {},
   "source": [
    "## ケース２：定量的変数の導入\n",
    "１つのダミー変数femaleだけが入るケースに次の変数を加えた回帰式を考える。\n",
    "\n",
    "- educ：教育年数\n",
    "- exper：雇用経験年数\n",
    "- tenure：勤続年数"
   ]
  },
  {
   "cell_type": "code",
   "execution_count": null,
   "metadata": {},
   "outputs": [],
   "source": [
    "form_1 = 'wage ~ female + educ + exper+ tenure'\n",
    "\n",
    "res_1 = ols(form_1, data=wage1).fit()\n",
    "\n",
    "res_1.params"
   ]
  },
  {
   "cell_type": "markdown",
   "metadata": {},
   "source": [
    "賃金格差は約-1.81に減少した。これはeduc, exper, tenureの影響を取り除いた結果である。言い換えると，教育，経験，就労期間を所与とすると（それらの変数が同じである場合という意味），女性の時間賃金は約1.8ドル低い。"
   ]
  },
  {
   "cell_type": "markdown",
   "metadata": {},
   "source": [
    "## ケース３：ダミー変数の交差項\n",
    "ケース１と２の被説明変数はwageをそのまま使ったが，ここでは対数を取り賃金方程式にダミー変数の交差項を入れて考察する。\n",
    "\n",
    "以下の回帰式を考える。\n",
    "\n",
    "$$y=\\beta_0+\\beta_1 D+ \\beta_2 Dx + \\beta_3 x +\\epsilon $$\n",
    "\n",
    "\n",
    "ここで$D$がダミー変数，$x$は定量的変数であり，$Dx$がダミー変数の交差項である。ダミー変数が取る値$D=\\{0,1\\}$に分けて考えると，以\n",
    "下を推定することになる。\n",
    "\n",
    "$D=0 \\implies y=\\beta_0+\\beta_3x+\\epsilon$\n",
    "\n",
    "$D=1 \\implies y=(\\beta_0+\\beta_1)+(\\beta_2+\\beta_3)x+\\epsilon$\n",
    "\n",
    "具体例として $D$=female，$x$=educとするとOLS推定量は以下を表すことになる。\n",
    "\n",
    "$\\hat{\\beta_0}$：（教育の効果を取り除いた）男性の平均賃金（対数）\n",
    "\n",
    "$\\hat{\\beta_3}$：男性の賃金に対する教育の効果（％）\n",
    "\n",
    "$\\hat{\\beta_0}+\\hat{\\beta_1}$：（教育の効果を取り除いた）女性の平均賃金（対数）\n",
    "\n",
    "$\\hat{\\beta_2}+\\hat{\\beta_3}$：女性の賃金に対する教育の効果（％）\n"
   ]
  },
  {
   "cell_type": "code",
   "execution_count": null,
   "metadata": {},
   "outputs": [],
   "source": [
    "form_2 = 'np.log(wage) ~ female + female:educ + educ + exper + tenure'\n",
    "\n",
    "res_2 = ols(form_2, data=wage1).fit()\n",
    "res_2.summary().tables[1]"
   ]
  },
  {
   "cell_type": "markdown",
   "metadata": {},
   "source": [
    "### t検定\n",
    "- female\n",
    "  - 教育などの影響を省いた後の平均賃金の差\n",
    "  - 5%有意水準で$H_0$female=0は棄却できない。\n",
    "- female:educ\n",
    "  - 教育などの影響を省いた後の教育の収益率の差\n",
    "  - 5%有意水準で$H_0$female:educ=0は棄却できない。"
   ]
  },
  {
   "cell_type": "markdown",
   "metadata": {},
   "source": [
    "### F検定\n",
    "$H_0$:female=female:educ=0の制約を考えよう"
   ]
  },
  {
   "cell_type": "code",
   "execution_count": null,
   "metadata": {},
   "outputs": [],
   "source": [
    "hypotheses = 'female=0, female:educ=0'\n",
    "\n",
    "res_2.f_test(hypotheses).pvalue"
   ]
  },
  {
   "cell_type": "markdown",
   "metadata": {},
   "source": [
    "$H_0$は棄却される。"
   ]
  },
  {
   "cell_type": "markdown",
   "metadata": {},
   "source": [
    "t検定では，femaleとfemale:educはそれぞれの帰無仮説が棄却されなかったが，F検定では制約が棄却された。一貫性がなく説明変数が不足している可能性がある。"
   ]
  },
  {
   "cell_type": "markdown",
   "metadata": {},
   "source": [
    "# カテゴリー変数\n",
    "カテゴリー変数とは定性的な変数であり，男女もカテゴリー変数の一種である。カテゴリー変数をダミー変数に変換するには2つの方法がある。\n",
    "\n",
    "statsmodelsにはカテゴリー変数に自動的にダミー変数を割り当てる機能がある。操作は簡単で，単に回帰式の中でC()の中にカテゴリー変数を入れるだけである。"
   ]
  },
  {
   "cell_type": "code",
   "execution_count": null,
   "metadata": {},
   "outputs": [],
   "source": [
    "df = wage1.loc[:,['wage', 'female', 'educ']]"
   ]
  },
  {
   "cell_type": "markdown",
   "metadata": {},
   "source": [
    "dfのメソッドreplace()を使ってfemaleの列の値を以下のルールに沿って変換し，それをdfにsexという列として入れ直す。\n",
    "\n",
    "- $1 \\implies$  female\n",
    "- $0 \\implies$ male"
   ]
  },
  {
   "cell_type": "code",
   "execution_count": null,
   "metadata": {},
   "outputs": [],
   "source": [
    "df.loc[:,'sex'] = df['female'].replace({1:'female',0:'male'})"
   ]
  },
  {
   "cell_type": "code",
   "execution_count": null,
   "metadata": {},
   "outputs": [],
   "source": [
    "df.head(3)"
   ]
  },
  {
   "cell_type": "code",
   "execution_count": null,
   "metadata": {},
   "outputs": [],
   "source": [
    "form_c = 'wage ~  C(sex) + educ'\n",
    "\n",
    "res_c = ols(form_c, data=df).fit()\n",
    "\n",
    "res_c.params"
   ]
  },
  {
   "cell_type": "markdown",
   "metadata": {},
   "source": [
    "C(sex)[T.male]について\n",
    "\n",
    "- TはTreatmentの頭文字で，通常のダミー変数を設定することを示している。\n",
    "- maleはmaleの変数であることを表しており，自動的にfemaleが基本カテゴリーに設定されたことが分かる。\n",
    "\n",
    "（結果）\n",
    "\n",
    "C(sex)[T.male]はfemaleに比べてmaleの賃金は約2.27ドル高いことを示している。"
   ]
  },
  {
   "cell_type": "markdown",
   "metadata": {},
   "source": [
    "## 蛇足\n",
    "femaleとmarryedを独立に重回帰分析しても、答え合わせと合わなかったのは交絡因子をむししていたから。"
   ]
  },
  {
   "cell_type": "code",
   "execution_count": null,
   "metadata": {},
   "outputs": [],
   "source": [
    "form_const_3 = 'wage ~ female*married'\n",
    "\n",
    "res_const_3 = ols(form_const_3, data=wage1).fit()\n",
    "\n",
    "res_const_3.summary()"
   ]
  },
  {
   "cell_type": "code",
   "execution_count": null,
   "metadata": {},
   "outputs": [],
   "source": []
  }
 ],
 "metadata": {
  "interpreter": {
   "hash": "2db524e06e9f5f4ffedc911c917cb75e12dbc923643829bf417064a77eb14d37"
  },
  "kernelspec": {
   "display_name": "Python 3.8.3 64-bit",
   "language": "python",
   "name": "python3"
  },
  "language_info": {
   "codemirror_mode": {
    "name": "ipython",
    "version": 3
   },
   "file_extension": ".py",
   "mimetype": "text/x-python",
   "name": "python",
   "nbconvert_exporter": "python",
   "pygments_lexer": "ipython3",
   "version": "3.8.3"
  },
  "orig_nbformat": 4
 },
 "nbformat": 4,
 "nbformat_minor": 2
}
