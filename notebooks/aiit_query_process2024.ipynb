{
  "cells": [
    {
      "cell_type": "markdown",
      "metadata": {
        "id": "t8OrbPK00I51"
      },
      "source": [
        "# Lecture 5 演習(アンケート結果の可視化)\n",
        "\n",
        "第１回講義にて、簡単なアンケートを取りました。教員は、この結果はエクセルとしてダウンロードできます。\n",
        "\n",
        "エクセル形式で保存されたアンケート結果を集計分析する例を、できるだけインタラクティブに再現してみました。"
      ]
    },
    {
      "cell_type": "markdown",
      "metadata": {
        "id": "tGt8N5JW0I54"
      },
      "source": [
        "## エクセルを読む\n",
        "最初にエクセル形式のファイル(ここでは*.xlsという古い形式のデータを読みます)\n",
        "\n",
        "ファイルはmanabaに掲載しますので、ダウンロードしてからCorab環境にuploadしてください。"
      ]
    },
    {
      "cell_type": "code",
      "execution_count": null,
      "metadata": {
        "colab": {
          "base_uri": "https://localhost:8080/",
          "height": 1000
        },
        "id": "0mRjMMWg0I55",
        "outputId": "8d3ce206-0b13-4679-fc94-237ce93a61d6"
      },
      "outputs": [],
      "source": [
        "import pandas as pd\n",
        "import numpy as np\n",
        "\n",
        "df = pd.read_excel('https://raw.githubusercontent.com/miwamasa/DataScience2023/main/notebooks/data/query-76921-77695.xlsx',skiprows=4)\n",
        "df"
      ]
    },
    {
      "cell_type": "markdown",
      "metadata": {
        "id": "-obfQ26K0I57"
      },
      "source": [
        "どうも第１行が、カラム名で、第２行はその説明、３行目以降が一人一人のアンケートのようです。\n",
        "\n",
        "とりあえず２つを行います\n",
        "- 取り扱うコラムは#回答1.1～回答1.4ですので、名前をつけなおします。(df.columnsにリストを代入すればコラム名は付け替えられました)\n",
        "- 最初の２行を読み飛ばします(行に対するスライスを使ってます。)"
      ]
    },
    {
      "cell_type": "code",
      "execution_count": null,
      "metadata": {
        "colab": {
          "base_uri": "https://localhost:8080/",
          "height": 206
        },
        "id": "n-qPNADr0I57",
        "outputId": "ed071868-6e74-47e3-9205-893b45602f64"
      },
      "outputs": [],
      "source": [
        "df.columns=['dateof','q1.1','q1.2','q1.3','q1.4']\n",
        "df=df[2:]\n",
        "df.head()"
      ]
    },
    {
      "cell_type": "markdown",
      "metadata": {
        "id": "5z6djrFE0I58"
      },
      "source": [
        "未提出でNaNの行ももあり、また最後の行がNaNで埋まっています、\n",
        "\n",
        "全てがNaNの行を削除しましょう。"
      ]
    },
    {
      "cell_type": "code",
      "execution_count": null,
      "metadata": {
        "colab": {
          "base_uri": "https://localhost:8080/",
          "height": 1000
        },
        "id": "pSwitNR40I58",
        "outputId": "3b855e95-7344-43b1-d938-d448227655d4"
      },
      "outputs": [],
      "source": [
        "df2=df.dropna(how='all')\n",
        "df2"
      ]
    },
    {
      "cell_type": "markdown",
      "metadata": {
        "id": "lHcprI4FfnqT"
      },
      "source": [
        "NaNがのこっています。１つでもNaNがある行を削除しましょう"
      ]
    },
    {
      "cell_type": "code",
      "execution_count": null,
      "metadata": {
        "colab": {
          "base_uri": "https://localhost:8080/",
          "height": 1000
        },
        "id": "mKr1Z3CFfI0V",
        "outputId": "1f30ed4e-8175-4180-fcfc-680a60f6d465"
      },
      "outputs": [],
      "source": [
        "df2=df2.dropna()\n",
        "df2"
      ]
    },
    {
      "cell_type": "markdown",
      "metadata": {
        "id": "iMhK9TSP0I58"
      },
      "source": [
        "## データの概要\n",
        "さて質問は\n",
        "- q1.1: 統計を学んだ経験について（複数選択）\n",
        "- q1.2: 使ったことのあるプログラミング言語（複数選択)\n",
        "- q1.3: Pythonを使った経験（３択）\n",
        "- q1.4: データサイエンスに期待する項目は？(複数選択)\n",
        "\n",
        "このように、複数選択可能なものがあり'1,2,3'のような文字列で複数選択結果が記録されています。"
      ]
    },
    {
      "cell_type": "markdown",
      "metadata": {
        "id": "KLgrupvC0I58"
      },
      "source": [
        "## q1.2　使ったことのあるプログラミング言語\n",
        "まずは、複数選択された結果を含めて、使ったことのあるプログラミング言語の延べ数を集計します。\n",
        "\n",
        "最初に、'q1.2'の列を取り出します。"
      ]
    },
    {
      "cell_type": "code",
      "execution_count": null,
      "metadata": {
        "colab": {
          "base_uri": "https://localhost:8080/"
        },
        "id": "Y_vRDY8W0I59",
        "outputId": "5f0e019c-2314-4b73-caae-6ee3e520c9de"
      },
      "outputs": [],
      "source": [
        "df2['q1.2'].values"
      ]
    },
    {
      "cell_type": "markdown",
      "metadata": {
        "id": "AplZhLdH0I59"
      },
      "source": [
        "'1,2,3'のような文字列を特定のセパレータ(ここでは',')でばらしたリストにするのにsplit()関数を追加います。"
      ]
    },
    {
      "cell_type": "code",
      "execution_count": null,
      "metadata": {
        "colab": {
          "base_uri": "https://localhost:8080/"
        },
        "id": "GYEzQEhC0I59",
        "outputId": "268b962e-2323-409b-bdcb-76a8b5a06876"
      },
      "outputs": [],
      "source": [
        "hoge='1,2,3'\n",
        "hogehoge=hoge.split(',')\n",
        "hogehoge"
      ]
    },
    {
      "cell_type": "markdown",
      "metadata": {
        "id": "888II9-z0I5-"
      },
      "source": [
        "そて、q1.2列の値のリストに対して、それぞれの要素をsplit関数でバラバラにして、それを１つのリストとして集約します。\n",
        "\n",
        "ここでは**残念ながら** for文を使っています。"
      ]
    },
    {
      "cell_type": "code",
      "execution_count": null,
      "metadata": {
        "colab": {
          "base_uri": "https://localhost:8080/"
        },
        "id": "8V2ylKOZ0I5-",
        "outputId": "eace4446-a41d-4985-add7-b639857d81fd"
      },
      "outputs": [],
      "source": [
        "ret=[]\n",
        "q2list= df2['q1.2'].values\n",
        "for i in range(len(q2list)):\n",
        "  ret.extend(q2list[i].split(','))\n",
        "ret"
      ]
    },
    {
      "cell_type": "markdown",
      "metadata": {
        "id": "edC6O7VP0I5-"
      },
      "source": [
        "さあ、ここで、得られたリストの値は、カテゴリー変数とよばれれる変数です、'1'～'10'のカテゴリー毎に出現件数を集計するのにcollection.Counterを使います。"
      ]
    },
    {
      "cell_type": "code",
      "execution_count": null,
      "metadata": {
        "colab": {
          "base_uri": "https://localhost:8080/"
        },
        "id": "ubaYvmba0I5-",
        "outputId": "08c564c1-30c1-4f1d-8712-e717661e2a6d"
      },
      "outputs": [],
      "source": [
        "import collections\n",
        "\n",
        "c=collections.Counter(ret)\n",
        "c"
      ]
    },
    {
      "cell_type": "markdown",
      "metadata": {
        "id": "e0axPYz80I5-"
      },
      "source": [
        "Counterは一種の辞書dictになっています。ここでキーを'1','2'ではなくて、設問にあった選択枝'VBA','C/C++'で付け替えます。\n",
        "\n",
        "popして代入することで１行で付け替えができることに注意ください。"
      ]
    },
    {
      "cell_type": "code",
      "execution_count": null,
      "metadata": {
        "colab": {
          "base_uri": "https://localhost:8080/"
        },
        "id": "JKjkY8KV0I5-",
        "outputId": "60f2de49-74e3-4bd0-c062-3a78484ce37b"
      },
      "outputs": [],
      "source": [
        "c['VBA']=c.pop('1')\n",
        "c['C/C++']=c.pop('2')\n",
        "c['Python']=c.pop('3')\n",
        "c['Ruby']=c.pop('4')\n",
        "c['Java']=c.pop('5')\n",
        "c['FORTRAN']=c.pop('6')\n",
        "c['COBOL']=c.pop('7')\n",
        "c['Basic']=c.pop('8')\n",
        "c['Other']=c.pop('9')\n",
        "c['Non']=c.pop('10')\n",
        "c"
      ]
    },
    {
      "cell_type": "code",
      "execution_count": null,
      "metadata": {
        "colab": {
          "base_uri": "https://localhost:8080/"
        },
        "id": "FQV3uHH_0I5-",
        "outputId": "7546a576-e75b-4ae2-ff98-cf63544ea61f"
      },
      "outputs": [],
      "source": [
        "c.items()"
      ]
    },
    {
      "cell_type": "code",
      "execution_count": null,
      "metadata": {
        "colab": {
          "base_uri": "https://localhost:8080/"
        },
        "id": "sKYKgg-80I5-",
        "outputId": "f3fee4f5-28a9-4b5b-edd3-8b47b7da1b7d"
      },
      "outputs": [],
      "source": [
        "c.values()"
      ]
    },
    {
      "cell_type": "markdown",
      "metadata": {
        "id": "optOTXwN0I5_"
      },
      "source": [
        "## 円グラフの表示\n",
        "それでは円グラフを描いてみましょう"
      ]
    },
    {
      "cell_type": "code",
      "execution_count": null,
      "metadata": {
        "colab": {
          "base_uri": "https://localhost:8080/",
          "height": 446
        },
        "id": "SnhE1QEd0I5_",
        "outputId": "5544d350-ee02-4958-a480-63af3246150d"
      },
      "outputs": [],
      "source": [
        "import matplotlib.pyplot as plt\n",
        "\n",
        "plt.pie(c.values(),labels=c.keys(), counterclock=False, startangle=90, autopct=\"%.1f%%\",\n",
        "        pctdistance=0.7)\n",
        "plt.title('Programming Language  Experience')"
      ]
    },
    {
      "cell_type": "code",
      "execution_count": null,
      "metadata": {
        "colab": {
          "base_uri": "https://localhost:8080/"
        },
        "id": "AJ29mF4u0I5_",
        "outputId": "161192a6-32e2-488b-9309-0857d660bdc8"
      },
      "outputs": [],
      "source": [
        "len(q2list)"
      ]
    },
    {
      "cell_type": "markdown",
      "metadata": {
        "id": "PXxMD5Vc0I5_"
      },
      "source": [
        "## q1.3 Pythonを使った経験\n",
        "これは、３択なので簡単です。"
      ]
    },
    {
      "cell_type": "code",
      "execution_count": null,
      "metadata": {
        "colab": {
          "base_uri": "https://localhost:8080/"
        },
        "id": "tyIiCzbN0I5_",
        "outputId": "d911f281-877e-4236-c385-74cba2233f12"
      },
      "outputs": [],
      "source": [
        "df2['q1.3']"
      ]
    },
    {
      "cell_type": "code",
      "execution_count": null,
      "metadata": {
        "colab": {
          "base_uri": "https://localhost:8080/"
        },
        "id": "hYnRk2L60I5_",
        "outputId": "b4d7ad93-3a6f-46df-d325-6e545a8237e5"
      },
      "outputs": [],
      "source": [
        "c3=collections.Counter(df2['q1.3'])\n",
        "c3"
      ]
    },
    {
      "cell_type": "code",
      "execution_count": null,
      "metadata": {
        "colab": {
          "base_uri": "https://localhost:8080/"
        },
        "id": "uLJ3CsVY0I5_",
        "outputId": "083d3f31-5318-4a87-ae8c-2eb50cdc50ee"
      },
      "outputs": [],
      "source": [
        "c3['over 3years']=c3.pop('1')\n",
        "c3['less than 3years']=c3.pop('2')\n",
        "c3['no python']=c3.pop('3')\n",
        "c3"
      ]
    },
    {
      "cell_type": "code",
      "execution_count": null,
      "metadata": {
        "colab": {
          "base_uri": "https://localhost:8080/",
          "height": 1000
        },
        "id": "_FmI_N9i0I5_",
        "outputId": "0ac54840-6757-4fcc-fba2-9a22a12f6a51"
      },
      "outputs": [],
      "source": [
        "plt.rcParams['font.family'] = 'IPAexGothic'\n",
        "plt.pie(c3.values(),labels=c3.keys(), counterclock=False, startangle=90, autopct=\"%.1f%%\",\n",
        "        pctdistance=0.7)\n",
        "plt.title('Python Experience')"
      ]
    },
    {
      "cell_type": "markdown",
      "metadata": {
        "id": "fu1CsE2i0I5_"
      },
      "source": [
        "## q1.1　統計を学んだ経験\n",
        "これも、複数選択された結果を集計します。\n"
      ]
    },
    {
      "cell_type": "code",
      "execution_count": null,
      "metadata": {
        "colab": {
          "base_uri": "https://localhost:8080/"
        },
        "id": "A9VyWAEB0I5_",
        "outputId": "e9f72037-e1d3-4157-dafd-f0e4aeb006ea"
      },
      "outputs": [],
      "source": [
        "df2['q1.1']"
      ]
    },
    {
      "cell_type": "code",
      "execution_count": null,
      "metadata": {
        "colab": {
          "base_uri": "https://localhost:8080/"
        },
        "id": "UQ7kl1ZH0I6A",
        "outputId": "3c8d8e85-e16c-4fcd-8248-00cb6de4a22e"
      },
      "outputs": [],
      "source": [
        "q1list= df2['q1.1'].ravel()\n",
        "ret=[]\n",
        "for i in range(len(q1list)):\n",
        "  ret.extend(q1list[i].split(','))\n",
        "ret"
      ]
    },
    {
      "cell_type": "code",
      "execution_count": null,
      "metadata": {
        "colab": {
          "base_uri": "https://localhost:8080/"
        },
        "id": "4OAa6pPs0I6A",
        "outputId": "2895adec-bb4b-4b60-ed72-79238071ea55"
      },
      "outputs": [],
      "source": [
        "c1=collections.Counter(ret)\n",
        "c1"
      ]
    },
    {
      "cell_type": "code",
      "execution_count": null,
      "metadata": {
        "id": "J6mSCmsc0I6A"
      },
      "outputs": [],
      "source": [
        "c1['HighSchool']=c1.pop('1')\n",
        "c1['University']=c1.pop('2')\n",
        "c1['GradSchool']=c1.pop('3')\n",
        "c1['OJT']=c1.pop('4')\n",
        "c1['SelfTaught']=c1.pop('5')\n",
        "c1['NoStatistics']=c1.pop('6')\n",
        "c1['Other']=c1.pop('7')"
      ]
    },
    {
      "cell_type": "code",
      "execution_count": null,
      "metadata": {
        "colab": {
          "base_uri": "https://localhost:8080/"
        },
        "id": "EN3C-MZ40I6A",
        "outputId": "81acbd06-3c80-43bd-eb4a-2c28552cd25f"
      },
      "outputs": [],
      "source": [
        "c1"
      ]
    },
    {
      "cell_type": "code",
      "execution_count": null,
      "metadata": {
        "colab": {
          "base_uri": "https://localhost:8080/",
          "height": 1000
        },
        "id": "ZfzyndK80I6A",
        "outputId": "0fc21649-89d2-41ee-849e-a18522b306b0"
      },
      "outputs": [],
      "source": [
        "plt.pie(c1.values(),labels=c1.keys(), counterclock=False, startangle=90, autopct=\"%.1f%%\",\n",
        "        pctdistance=0.7)\n",
        "plt.title('Statistic Course Experience')"
      ]
    },
    {
      "cell_type": "code",
      "execution_count": null,
      "metadata": {
        "id": "bAi6Y1BA0I6A"
      },
      "outputs": [],
      "source": []
    }
  ],
  "metadata": {
    "colab": {
      "provenance": []
    },
    "interpreter": {
      "hash": "2db524e06e9f5f4ffedc911c917cb75e12dbc923643829bf417064a77eb14d37"
    },
    "kernelspec": {
      "display_name": "Environment (conda_caret2test)",
      "language": "python",
      "name": "python3"
    },
    "language_info": {
      "codemirror_mode": {
        "name": "ipython",
        "version": 3
      },
      "file_extension": ".py",
      "mimetype": "text/x-python",
      "name": "python",
      "nbconvert_exporter": "python",
      "pygments_lexer": "ipython3",
      "version": "3.8.3"
    },
    "orig_nbformat": 4
  },
  "nbformat": 4,
  "nbformat_minor": 0
}
