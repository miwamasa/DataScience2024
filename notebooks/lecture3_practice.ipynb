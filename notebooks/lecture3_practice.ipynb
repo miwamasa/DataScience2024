{
  "cells": [
    {
      "attachments": {},
      "cell_type": "markdown",
      "metadata": {
        "id": "51wWoSv7f444"
      },
      "source": [
        "# Lecture4 データの取得と操作(実習)\n",
        "<div dir='rtl'>\n",
        "2023.4岩政\n",
        "</div>"
      ]
    },
    {
      "cell_type": "code",
      "execution_count": null,
      "metadata": {
        "colab": {
          "base_uri": "https://localhost:8080/"
        },
        "id": "NbHuGqC3f45B",
        "outputId": "f91d0b7f-1451-4743-8f77-f754c47bb6b2"
      },
      "outputs": [],
      "source": [
        "import numpy as np\n",
        "x = np.array([[1,2,3],[4,5,6]], dtype=np.float64)\n",
        "print('type(x):',type(x),'x.shape:',x.shape,'x.dtype:',x.dtype)"
      ]
    },
    {
      "cell_type": "markdown",
      "metadata": {
        "id": "_0W5MnAef45G"
      },
      "source": [
        "以下は、https://harvard-iacs.github.io/2019-CS109A/pages/lecture-3/notebook/ からもってきた。"
      ]
    },
    {
      "cell_type": "code",
      "execution_count": null,
      "metadata": {
        "id": "6iQQpxb1f45I"
      },
      "outputs": [],
      "source": [
        "%matplotlib inline\n",
        "import numpy as np\n",
        "import matplotlib.pyplot as plt\n",
        "import pandas as pd\n",
        "import seaborn as sns"
      ]
    },
    {
      "cell_type": "markdown",
      "metadata": {},
      "source": [
        "top50.csvは、オンラインにある(たぶんKaggle)、Spotifyの 2019年度のトップ５０ソングのリストです"
      ]
    },
    {
      "cell_type": "code",
      "execution_count": 3,
      "metadata": {
        "id": "vy8CZKsPf45K"
      },
      "outputs": [],
      "source": [
        "#top50 = pd.read_csv(\"data/top50.csv\")\n",
        "top50 = pd.read_csv(\"https://raw.githubusercontent.com/miwamasa/DataScience2023/main/notebooks/data/top50.csv\")"
      ]
    },
    {
      "cell_type": "markdown",
      "metadata": {},
      "source": [
        "以下のデータがそろっている（カラム名一覧）\n",
        "```\n",
        "ID: a unique ID (i.e., 1-50)\n",
        "TrackName: Name of the Track\n",
        "ArtistName: Name of the Artist\n",
        "Genre: the genre of the track\n",
        "BeatsPerMinute: The tempo of the song.\n",
        "Energy: The energy of a song - the higher the value, the more energetic. song\n",
        "Danceability: The higher the value, the easier it is to dance to this song.\n",
        "Loudness: The higher the value, the louder the song.\n",
        "Liveness: The higher the value, the more likely the song is a live recording.\n",
        "Valence: The higher the value, the more positive mood for the song.\n",
        "Length: The duration of the song (in seconds).\n",
        "Acousticness: The higher the value, the more acoustic the song is.\n",
        "Speechiness: The higher the value, the more spoken words the song contains.\n",
        "Popularity: The higher the value, the more popular the song is.\n",
        "```"
      ]
    },
    {
      "cell_type": "markdown",
      "metadata": {},
      "source": [
        "内容を確認\n"
      ]
    },
    {
      "cell_type": "code",
      "execution_count": null,
      "metadata": {
        "colab": {
          "base_uri": "https://localhost:8080/",
          "height": 478
        },
        "id": "bjNPo3kgf45L",
        "outputId": "f829319a-f795-4944-990b-7c8996661b25"
      },
      "outputs": [],
      "source": [
        "top50.head()"
      ]
    },
    {
      "cell_type": "markdown",
      "metadata": {},
      "source": [
        "統計情報を得る"
      ]
    },
    {
      "cell_type": "code",
      "execution_count": null,
      "metadata": {
        "colab": {
          "base_uri": "https://localhost:8080/",
          "height": 381
        },
        "id": "lL1DDn8Pf45N",
        "outputId": "19b948ca-b445-4095-e4bb-db2b7b5039e9"
      },
      "outputs": [],
      "source": [
        "top50.describe()"
      ]
    },
    {
      "cell_type": "markdown",
      "metadata": {},
      "source": [
        "曲の長さの一覧('Length')"
      ]
    },
    {
      "cell_type": "code",
      "execution_count": null,
      "metadata": {
        "colab": {
          "base_uri": "https://localhost:8080/"
        },
        "id": "ThTG_V-mf45Q",
        "outputId": "ee545ace-0684-4e0f-aee1-523a2c7f36b6"
      },
      "outputs": [],
      "source": [
        "top50[\"Length\"]"
      ]
    },
    {
      "cell_type": "markdown",
      "metadata": {},
      "source": [
        "曲の長さが最大なものは、、"
      ]
    },
    {
      "cell_type": "code",
      "execution_count": null,
      "metadata": {
        "colab": {
          "base_uri": "https://localhost:8080/"
        },
        "id": "WD6bEIUlf45S",
        "outputId": "d645d3ea-5770-4c2e-b0ac-554b4c67445a"
      },
      "outputs": [],
      "source": [
        "top50['Length'].max()"
      ]
    },
    {
      "cell_type": "markdown",
      "metadata": {},
      "source": [
        "曲の長さが240secより大きいものを得る(True/Falseで返る)"
      ]
    },
    {
      "cell_type": "code",
      "execution_count": null,
      "metadata": {
        "colab": {
          "base_uri": "https://localhost:8080/"
        },
        "id": "kNUGwcZKf45T",
        "outputId": "3d04a19b-ced7-4e42-9e67-7720f8df8742"
      },
      "outputs": [],
      "source": [
        "top50['Length'] > 240"
      ]
    },
    {
      "cell_type": "markdown",
      "metadata": {},
      "source": [
        "0行目のデータを取得"
      ]
    },
    {
      "cell_type": "code",
      "execution_count": null,
      "metadata": {
        "colab": {
          "base_uri": "https://localhost:8080/"
        },
        "id": "bvpzexnBf45V",
        "outputId": "440751de-fc6f-47a4-8a55-a101b8ec5a4f"
      },
      "outputs": [],
      "source": [
        "# single scalar label\n",
        "top50.loc[0] # prints the (unnamed) row that has a label of 0 (the 1st row)"
      ]
    },
    {
      "cell_type": "markdown",
      "metadata": {},
      "source": [
        "1行目と3行目(0,2)を表示"
      ]
    },
    {
      "cell_type": "code",
      "execution_count": null,
      "metadata": {
        "colab": {
          "base_uri": "https://localhost:8080/",
          "height": 262
        },
        "id": "FFpSpVlVf45W",
        "outputId": "e9a763ab-edc1-4a01-db4f-de15fcd895b7"
      },
      "outputs": [],
      "source": [
        "# list of labels\n",
        "top50.loc[[0,2]] # prints the (unnamed) rows that have the labels of 0 and 2 (the 1st and 3rd rows)"
      ]
    },
    {
      "cell_type": "markdown",
      "metadata": {},
      "source": [
        "曲調が240secより大きい行を表示"
      ]
    },
    {
      "cell_type": "code",
      "execution_count": null,
      "metadata": {
        "colab": {
          "base_uri": "https://localhost:8080/",
          "height": 541
        },
        "id": "GaQF_ziBf45Y",
        "outputId": "3a6c2079-6497-4fcf-c42e-fa5d361dfe48"
      },
      "outputs": [],
      "source": [
        "# a slice of the dataframe, based on the passed-in booleans;\n",
        "# picture it's like a filter overlaying the DataFrame, and the filter\n",
        "# dictates which values will be emitted/make it through to us\n",
        "\n",
        "top50.loc[top50['Length'] > 240] # prints all rows that have Length > 240"
      ]
    },
    {
      "cell_type": "markdown",
      "metadata": {},
      "source": [
        "曲の長さが240secより大きい行から、'ArtistName', 'TrackName', 'Length'の３つのカラムを抽出"
      ]
    },
    {
      "cell_type": "code",
      "execution_count": null,
      "metadata": {
        "colab": {
          "base_uri": "https://localhost:8080/",
          "height": 268
        },
        "id": "H5WVPBRmf45Z",
        "outputId": "5b9f5026-bfec-4d2d-b8bd-8f521f7fcade"
      },
      "outputs": [],
      "source": [
        "top50.loc[top50['Length'] > 240][['ArtistName', 'TrackName', 'Length']]"
      ]
    },
    {
      "cell_type": "markdown",
      "metadata": {},
      "source": [
        "最大値・最小値の行名・列名を取得: idxmax(), idxmin()"
      ]
    },
    {
      "cell_type": "code",
      "execution_count": null,
      "metadata": {
        "colab": {
          "base_uri": "https://localhost:8080/"
        },
        "id": "N1H9QoZ1f45b",
        "outputId": "a3a4601a-408f-49c9-9c13-2fe5a8fcba92"
      },
      "outputs": [],
      "source": [
        "## [TODO] TO BE FILLED IN DURING CLASS PARTICIPATION\n",
        "# FEEL FREE TO WORK WITH A NEIGHBOR\n",
        "top50.iloc[top50['Popularity'].idxmax()]"
      ]
    },
    {
      "cell_type": "markdown",
      "metadata": {},
      "source": [
        "特定のコラム名の値で並び替える（Sort)"
      ]
    },
    {
      "cell_type": "code",
      "execution_count": null,
      "metadata": {
        "colab": {
          "base_uri": "https://localhost:8080/",
          "height": 1000
        },
        "id": "bpHnBlluf45c",
        "outputId": "4ab209eb-09bd-45ca-e296-796cd524d41e"
      },
      "outputs": [],
      "source": [
        "top50.sort_values(\"Popularity\", ascending=False)"
      ]
    },
    {
      "cell_type": "markdown",
      "metadata": {},
      "source": [
        "特定のコラム('ArtistName')がnull値であるものを検索（ここでは空が返る)"
      ]
    },
    {
      "cell_type": "code",
      "execution_count": null,
      "metadata": {
        "colab": {
          "base_uri": "https://localhost:8080/",
          "height": 131
        },
        "id": "lJzz-iKVf45d",
        "outputId": "d36e598c-043a-4a21-c8bf-61ff6edb0221"
      },
      "outputs": [],
      "source": [
        "top50[top50.ArtistName.isnull()] # returns an empty DataFrame"
      ]
    },
    {
      "cell_type": "markdown",
      "metadata": {},
      "source": [
        "特定のコラムの値でグループ化する"
      ]
    },
    {
      "cell_type": "code",
      "execution_count": null,
      "metadata": {
        "id": "gyhNCqhAf45d"
      },
      "outputs": [],
      "source": [
        "grouped_df = top50.groupby('Genre')"
      ]
    },
    {
      "cell_type": "code",
      "execution_count": null,
      "metadata": {},
      "outputs": [],
      "source": [
        "print(grouped_df.size())"
      ]
    },
    {
      "cell_type": "code",
      "execution_count": null,
      "metadata": {
        "colab": {
          "base_uri": "https://localhost:8080/"
        },
        "id": "BZkCNHHif45e",
        "outputId": "75595500-b81c-4f70-818d-90fb3959df1f"
      },
      "outputs": [],
      "source": [
        "for key, item in grouped_df:\n",
        "    print(\"Genre:\", key, \"(\", len(grouped_df.get_group(key)), \"items):\", grouped_df.get_group(key), \"\\n\\n\")"
      ]
    },
    {
      "cell_type": "markdown",
      "metadata": {},
      "source": [
        "グループからぞれぞれN個行を取り出す(head(N))"
      ]
    },
    {
      "cell_type": "code",
      "execution_count": null,
      "metadata": {
        "colab": {
          "base_uri": "https://localhost:8080/",
          "height": 1000
        },
        "id": "Dx_idVdxf45f",
        "outputId": "fa1157de-e9f4-47bb-ad2c-a60e83ecb74c"
      },
      "outputs": [],
      "source": [
        "grouped_df.head(1)"
      ]
    },
    {
      "cell_type": "markdown",
      "metadata": {},
      "source": [
        "トラック毎に、それが、「乱暴な言葉」を含むかどうかをまとめたデータを得る"
      ]
    },
    {
      "cell_type": "code",
      "execution_count": 4,
      "metadata": {
        "id": "iPeAen_Nf45g"
      },
      "outputs": [],
      "source": [
        "#explicit_lyrics = pd.read_csv(\"data/spotify_aux.csv\")\n",
        "explicit_lyrics = pd.read_csv(\"https://raw.githubusercontent.com/miwamasa/DataScience2023/main/notebooks/data/spotify_aux.csv\")"
      ]
    },
    {
      "cell_type": "code",
      "execution_count": null,
      "metadata": {},
      "outputs": [],
      "source": [
        "explicit_lyrics.head()"
      ]
    },
    {
      "cell_type": "markdown",
      "metadata": {},
      "source": [
        "歌のデータと、乱暴な言葉データを特定のコラム('TrackName')をキーにして結合する(merge)"
      ]
    },
    {
      "cell_type": "code",
      "execution_count": null,
      "metadata": {
        "id": "IjRePf4hf45h"
      },
      "outputs": [],
      "source": [
        "df_combined = pd.merge(explicit_lyrics, top50, on='TrackName')\n",
        "#df_combined"
      ]
    },
    {
      "cell_type": "markdown",
      "metadata": {},
      "source": [
        "特定のコラムを最初に絞り込んで結合することもできる"
      ]
    },
    {
      "cell_type": "code",
      "execution_count": null,
      "metadata": {
        "id": "dUqh8Q4_f45h"
      },
      "outputs": [],
      "source": [
        "df_combined = pd.merge(explicit_lyrics[['TrackName', 'ExplicitLanguage']], top50, on='TrackName')"
      ]
    },
    {
      "cell_type": "markdown",
      "metadata": {},
      "source": [
        "グラフ表示"
      ]
    },
    {
      "cell_type": "code",
      "execution_count": null,
      "metadata": {
        "colab": {
          "base_uri": "https://localhost:8080/",
          "height": 279
        },
        "id": "_Qr9e1xzf45i",
        "outputId": "36024f74-eb74-4d37-8f91-499e69570100"
      },
      "outputs": [],
      "source": [
        "scatter_plot = top50.plot.scatter(x='Danceability', y='Popularity', c='DarkBlue')"
      ]
    },
    {
      "cell_type": "markdown",
      "metadata": {},
      "source": [
        "## 簡単な演習"
      ]
    },
    {
      "cell_type": "markdown",
      "metadata": {},
      "source": [
        "**P1**. （例)最も短い曲を表示する"
      ]
    },
    {
      "cell_type": "code",
      "execution_count": null,
      "metadata": {
        "id": "x7kOoXOKf45i"
      },
      "outputs": [],
      "source": [
        "# [TODO] TO BE FILLED IN DURING CLASS PARTICIPATION\n",
        "top50.iloc[top50['Length'].idxmin()]"
      ]
    },
    {
      "cell_type": "markdown",
      "metadata": {},
      "source": [
        "**P2**. 短い曲の上位５つを表示する"
      ]
    },
    {
      "cell_type": "code",
      "execution_count": null,
      "metadata": {},
      "outputs": [],
      "source": [
        "# [TODO] TO BE FILLED IN DURING CLASS PARTICIPATION"
      ]
    },
    {
      "cell_type": "markdown",
      "metadata": {},
      "source": [
        "**P3**. 短い曲上位５つの平均長は？"
      ]
    },
    {
      "cell_type": "code",
      "execution_count": null,
      "metadata": {},
      "outputs": [],
      "source": [
        "# [TODO] TO BE FILLED IN DURING CLASS PARTICIPATION"
      ]
    },
    {
      "cell_type": "markdown",
      "metadata": {},
      "source": [
        "**P5**. ジャンル(genres)の数（重複なし）は？"
      ]
    },
    {
      "cell_type": "code",
      "execution_count": null,
      "metadata": {},
      "outputs": [],
      "source": [
        "# [TODO] TO BE FILLED IN DURING CLASS PARTICIPATION"
      ]
    },
    {
      "cell_type": "markdown",
      "metadata": {},
      "source": [
        "**P6**. Danceabilityスコアが80より大きく、かつ、popularityも86より大きい曲を抽出(&演算子の利用)"
      ]
    },
    {
      "cell_type": "code",
      "execution_count": null,
      "metadata": {},
      "outputs": [],
      "source": [
        "# [TODO] TO BE FILLED IN DURING CLASS PARTICIPATION"
      ]
    },
    {
      "cell_type": "markdown",
      "metadata": {},
      "source": [
        "**P7**. ビート数(BeatsPerMinute)と人気(Popularity)の平均をもとめ、平均よりビート数(BeatsPerMinute)が多く（速く）、かつ、平均よりも人気のある曲を抽出"
      ]
    },
    {
      "cell_type": "code",
      "execution_count": null,
      "metadata": {},
      "outputs": [],
      "source": [
        "# [TODO] TO BE FILLED IN DURING CLASS PARTICIPATION"
      ]
    },
    {
      "cell_type": "markdown",
      "metadata": {},
      "source": [
        "**P8**. Genreの数のヒストグラムを描け (x-axis is the Genres, y-axis is the # of songs with that Genre)"
      ]
    },
    {
      "cell_type": "code",
      "execution_count": null,
      "metadata": {},
      "outputs": [],
      "source": [
        "# [TODO] TO BE FILLED IN DURING CLASS PARTICIPATION"
      ]
    },
    {
      "cell_type": "markdown",
      "metadata": {},
      "source": [
        "**P9**. (open ended) Think of a subset of the data that you're interested in. Think of an interesting plot that could be shown to illustrate that data. With a partner, discuss whose would be easier to create. Together, create that plot. Then, try to create the harder plot."
      ]
    },
    {
      "cell_type": "code",
      "execution_count": null,
      "metadata": {},
      "outputs": [],
      "source": []
    }
  ],
  "metadata": {
    "colab": {
      "name": "lecture2.ipynb",
      "provenance": []
    },
    "interpreter": {
      "hash": "2db524e06e9f5f4ffedc911c917cb75e12dbc923643829bf417064a77eb14d37"
    },
    "kernelspec": {
      "display_name": "Python 3.8.3 64-bit",
      "name": "python3"
    },
    "language_info": {
      "codemirror_mode": {
        "name": "ipython",
        "version": 3
      },
      "file_extension": ".py",
      "mimetype": "text/x-python",
      "name": "python",
      "nbconvert_exporter": "python",
      "pygments_lexer": "ipython3",
      "version": "3.8.3"
    },
    "orig_nbformat": 4
  },
  "nbformat": 4,
  "nbformat_minor": 0
}
