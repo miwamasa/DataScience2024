{
 "cells": [
  {
   "attachments": {},
   "cell_type": "markdown",
   "metadata": {},
   "source": [
    "# Lecture2 Pythonと統計の復習\n",
    "\n",
    "ここでは、講義のスライドの進行に合わせて確かめながら進みます\n",
    "\n",
    "【備考】コードセル、テキストセル、どちらでも「SHIFT+Enter」にて、実行、更新ができます。\n",
    "\n",
    "## Pythonの例"
   ]
  },
  {
   "cell_type": "code",
   "execution_count": null,
   "metadata": {},
   "outputs": [],
   "source": [
    "# Hello World! を表示する\n",
    "print(\"Hello World!\")\n",
    "\n",
    "# 変数の代入\n",
    "name = \"John\"\n",
    "print(\"My name is\", name)\n",
    "\n",
    "# 計算（足し算）\n",
    "a = 2\n",
    "b = 3\n",
    "c = a + b\n",
    "print(c)"
   ]
  },
  {
   "attachments": {},
   "cell_type": "markdown",
   "metadata": {},
   "source": [
    "### 文と式\n",
    "Python では、改行が文の区切りとなります。';'を使うことで、1行に複数の文を入れることができます。"
   ]
  },
  {
   "cell_type": "code",
   "execution_count": null,
   "metadata": {},
   "outputs": [],
   "source": [
    "print(\"Hello\")\n",
    "a = 5; b = 3; c = a + b\n",
    "print(c)"
   ]
  },
  {
   "attachments": {},
   "cell_type": "markdown",
   "metadata": {},
   "source": [
    "文を数行に分けて記述したい場合は、行末にバックスラッシュ(\\\\)を書きます"
   ]
  },
  {
   "cell_type": "code",
   "execution_count": null,
   "metadata": {},
   "outputs": [],
   "source": [
    "total = 123 \\\n",
    "      + 456 \\\n",
    "      + 789\n",
    "print(total)"
   ]
  },
  {
   "attachments": {},
   "cell_type": "markdown",
   "metadata": {},
   "source": [
    "リスト・タプル・辞書中のカンマ(,)の後ろはバックスラッシュ(\\\\)を省略することができる、下はリストの例。"
   ]
  },
  {
   "cell_type": "code",
   "execution_count": null,
   "metadata": {},
   "outputs": [],
   "source": [
    "months = [ 'Jan', 'Feb', 'Mar', 'Apr',\n",
    "           'May', 'Jun', 'Jul', 'Aug',\n",
    "           'Sep', 'Oct', 'Nov', 'Dec' ]\n",
    "months[2]"
   ]
  },
  {
   "attachments": {},
   "cell_type": "markdown",
   "metadata": {},
   "source": [
    "**コメント**\n",
    "ハッシュ(#)から行末まではコメントとみなされます。文の分割のためのバックスラッシュ(\\\\)の後にはコメントは記述できません。"
   ]
  },
  {
   "cell_type": "code",
   "execution_count": null,
   "metadata": {},
   "outputs": [],
   "source": [
    "# これはコメントです\n",
    "print(\"Hello\")      # Helloと表示します\n",
    "total = 123 \\       # ここにコメントは記述できない\n",
    "      + 456         # ここには記述できる"
   ]
  },
  {
   "attachments": {},
   "cell_type": "markdown",
   "metadata": {},
   "source": [
    "**インデント、ブロック**\n",
    "Python ではインデント(行頭の空白文字の数)が重要な意味を持ち、同じ数の空白やタブ文字でインデントされた文がブロックとみなされます"
   ]
  },
  {
   "cell_type": "code",
   "execution_count": null,
   "metadata": {},
   "outputs": [],
   "source": [
    "a = 3\n",
    "if a == 5:\n",
    "    print(\"AAA\")        # if文の対象\n",
    "    print(\"BBB\")        # if文の対象\n",
    "print(\"CCC\")            # if文の対象ではない"
   ]
  },
  {
   "attachments": {},
   "cell_type": "markdown",
   "metadata": {},
   "source": [
    "同一ブロックで、タブ文字(U+0009)と、半角スペースが混合するとエラーが発生します。\n",
    "\n",
    "注）Google ColabではTABによりインデントをつけても強制的に前のインデントと合わせてくれるのでエラーになりません。"
   ]
  },
  {
   "cell_type": "code",
   "execution_count": null,
   "metadata": {},
   "outputs": [],
   "source": [
    "if a == 5:\n",
    "    print(\"AAA\")      # この行は半角スペースインデントなのに\n",
    "    print(\"BBB\")      # この行がタブインデントだと TabError"
   ]
  },
  {
   "attachments": {},
   "cell_type": "markdown",
   "metadata": {},
   "source": [
    "インデントエラーの例、直してみましょう"
   ]
  },
  {
   "cell_type": "code",
   "execution_count": null,
   "metadata": {},
   "outputs": [],
   "source": [
    "result = 0\n",
    "for i in range(1,4):\n",
    "    result += i * 2\n",
    "    if result > 5:\n",
    "        print(\"計算結果が5を超えました\")\n",
    "            else:\n",
    "        print(f\"計算結果は{i*2}です\")\n",
    "\n",
    "print(\"計算が終了しました\")"
   ]
  },
  {
   "attachments": {},
   "cell_type": "markdown",
   "metadata": {},
   "source": [
    "#### 文字列（Strings）\n",
    "\n",
    "文字列、数値、真偽値はリテラルとよばれます。\n",
    "\n",
    "- リテラル：プログラム内で直接値を表現するために使用される定数のことです。リテラルは、その値自体がプログラムによって直接解釈されます。\n",
    "\n",
    "文字列は「’」や「\"」などで囲む。"
   ]
  },
  {
   "cell_type": "code",
   "execution_count": null,
   "metadata": {},
   "outputs": [],
   "source": [
    "# シングルクォーテーション\n",
    "s1 = 'Hello, World!'\n",
    "# ダブルクォーテーション\n",
    "s2 = \"Hello, World!\"\n",
    "# トリプルクォーテーション（複数行の文字列指定に使えます）\n",
    "s3 = '''Hello,\n",
    "World!'''\n",
    "print(s3)"
   ]
  },
  {
   "attachments": {},
   "cell_type": "markdown",
   "metadata": {},
   "source": [
    "### フォーマット文字列\n",
    "f または F を \"...\" や '...' の前につけると、文字列中の {...} の中で Python式を参照することができます。\n"
   ]
  },
  {
   "cell_type": "code",
   "execution_count": null,
   "metadata": {},
   "outputs": [],
   "source": [
    "name = \"Yamada\"\n",
    "age = 26\n",
    "print(f\"My name is {name}. I'm {age} years old.\")"
   ]
  },
  {
   "attachments": {},
   "cell_type": "markdown",
   "metadata": {},
   "source": [
    "#### 複数行文字列\n",
    "三重クォート \"\"\"...\"\"\" や '''...''' で複数行にまたがった文字列を記述することができます。三重クォートはしばしば、複数行コメントとして利用されることがあります。"
   ]
  },
  {
   "cell_type": "code",
   "execution_count": null,
   "metadata": {},
   "outputs": [],
   "source": [
    "str1 = \"\"\"A simple example module\n",
    "This module is ...\n",
    "\"\"\"\n",
    "print(str1)"
   ]
  },
  {
   "attachments": {},
   "cell_type": "markdown",
   "metadata": {},
   "source": [
    "#### 数値（Numerics）\n",
    "整数型(**int**)、浮動小数点型(**float**)、複素数型(**complex**)があります"
   ]
  },
  {
   "cell_type": "code",
   "execution_count": null,
   "metadata": {},
   "outputs": [],
   "source": [
    "# 整数\n",
    "num1 = 10\n",
    "print(num1)\n",
    "\n",
    "# 浮動小数点\n",
    "num2 = 3.14\n",
    "print(num2)\n",
    "\n",
    "# 複素数\n",
    "num3 = 3 + 4j\n",
    "print(num3)"
   ]
  },
  {
   "attachments": {},
   "cell_type": "markdown",
   "metadata": {},
   "source": [
    "#### 真偽値(Boolean)\n",
    "True(真)とFalse(偽)があります。"
   ]
  },
  {
   "cell_type": "code",
   "execution_count": null,
   "metadata": {},
   "outputs": [],
   "source": [
    "a = True\n",
    "b = False\n",
    "print(a, b)"
   ]
  },
  {
   "attachments": {},
   "cell_type": "markdown",
   "metadata": {},
   "source": [
    "#### None(Null Object)\n",
    "Noneは空のオブジェクトで、何もないを意味します"
   ]
  },
  {
   "cell_type": "code",
   "execution_count": null,
   "metadata": {},
   "outputs": [],
   "source": [
    "n = None\n",
    "print(n)"
   ]
  },
  {
   "attachments": {},
   "cell_type": "markdown",
   "metadata": {},
   "source": [
    "#### 型のキャスト(Type Casting)、変換\n",
    "型キャストを行うことで、変数の型を変換することができます。int() や float() というビルトイン関数を使用します。"
   ]
  },
  {
   "cell_type": "code",
   "execution_count": null,
   "metadata": {},
   "outputs": [],
   "source": [
    "x = int(1.53)    # 浮動小数点→整数 x will be 1\n",
    "y = float(2)     # 整数→浮動小数点 y will be 2.0\n",
    "z = str(3)       # 整数→文字列 z will be '3'\n",
    "print(x,y,z)"
   ]
  },
  {
   "attachments": {},
   "cell_type": "markdown",
   "metadata": {},
   "source": [
    "#### 文字列の連結\n",
    "- 文字列を連結すするには演算子「+」を使う"
   ]
  },
  {
   "cell_type": "code",
   "execution_count": null,
   "metadata": {},
   "outputs": [],
   "source": [
    "print('Python'+' is'+' good')\n",
    "# 出力 Python is good\n",
    "print(2+3)\n",
    "# 出力 5\n",
    "print('Python'+2) #　まぜるわけにはいけません。"
   ]
  },
  {
   "attachments": {},
   "cell_type": "markdown",
   "metadata": {},
   "source": [
    "#### 変数と代入\n",
    "\n",
    "- 「変数」は、数値や文字列などの値を入れる箱であり、\n",
    "- 「箱」の中身（値）を、処理の流れの中で適宜変化させることで複雑な処理ができる"
   ]
  },
  {
   "cell_type": "code",
   "execution_count": null,
   "metadata": {},
   "outputs": [],
   "source": [
    "num = 50\n",
    "print(num)\n",
    "# 出力 50\n",
    "num = 100\n",
    "print(num)"
   ]
  },
  {
   "attachments": {},
   "cell_type": "markdown",
   "metadata": {},
   "source": [
    "#### 型を調べる、変数の型は代入により変わる"
   ]
  },
  {
   "cell_type": "code",
   "execution_count": null,
   "metadata": {},
   "outputs": [],
   "source": [
    "print(type('string'))\n",
    "print(type(100))\n",
    "print(type([0, 1, 2]))\n",
    "\n",
    "#代入する値を変えると、型は変わる\n",
    "a=1.33\n",
    "print(type(a))\n",
    "a=1\n",
    "print(type(a))\n"
   ]
  },
  {
   "attachments": {},
   "cell_type": "markdown",
   "metadata": {},
   "source": [
    "#### 関数\n",
    "関数は、データに対してまとまった処理を行う仕組みです。"
   ]
  },
  {
   "cell_type": "code",
   "execution_count": null,
   "metadata": {},
   "outputs": [],
   "source": [
    "def add(x, y):\n",
    "    print(x + y)\n",
    "\n",
    "add(3, 5)           "
   ]
  },
  {
   "attachments": {},
   "cell_type": "markdown",
   "metadata": {},
   "source": [
    "**キーワード引数**\n",
    "- 引数名を明示的に指定する方法\n",
    "- 定義時にdefault値を指定する"
   ]
  },
  {
   "cell_type": "code",
   "execution_count": null,
   "metadata": {},
   "outputs": [],
   "source": [
    "def repeat_msg(msg, repeat=3):\n",
    "    for i in range(repeat):\n",
    "        print(msg)\n",
    "\n",
    "repeat_msg('Hello')              \n",
    "repeat_msg('Yahho', repeat=5)        "
   ]
  },
  {
   "attachments": {},
   "cell_type": "markdown",
   "metadata": {},
   "source": [
    "#### 戻り値\n",
    "- return は関数の戻り値を指定します。return 文を省略すると、関数は None を返します"
   ]
  },
  {
   "cell_type": "code",
   "execution_count": null,
   "metadata": {},
   "outputs": [],
   "source": [
    "def add(x, y):\n",
    "    ans = x + y\n",
    "    return ans\n",
    "\n",
    "n = add(3, 5)\n",
    "print(n)  "
   ]
  },
  {
   "attachments": {},
   "cell_type": "markdown",
   "metadata": {},
   "source": [
    "関数は、複数の値を返却することができます。"
   ]
  },
  {
   "cell_type": "code",
   "execution_count": null,
   "metadata": {},
   "outputs": [],
   "source": [
    "def func():\n",
    "    return 3, \"ABC\"\n",
    "\n",
    "n, s = func()\n",
    "print(n, s) "
   ]
  },
  {
   "attachments": {},
   "cell_type": "markdown",
   "metadata": {},
   "source": [
    "名のない関数(lambda)\n",
    "- ラムダ(lambda)式は、名前のない関数を定義します。ラムダ式自体は式として扱われるため、他の関数の引数として渡すこともできます。\n"
   ]
  },
  {
   "cell_type": "code",
   "execution_count": null,
   "metadata": {},
   "outputs": [],
   "source": [
    "myfunc = lambda x, y: x + y\n",
    "print(myfunc(3, 5))   "
   ]
  },
  {
   "attachments": {},
   "cell_type": "markdown",
   "metadata": {},
   "source": [
    "lamnda式は、sorted(), map(), filter()などの関数に渡す無名関数として利用されることがあります。\n",
    "以下の例は、リスト[1,2,3]に対してそれ2乗する無名関数をmap()処理して、得られたmapオブジェクトをリストに型変換してます。"
   ]
  },
  {
   "cell_type": "code",
   "execution_count": null,
   "metadata": {},
   "outputs": [],
   "source": [
    "a = [1, 2, 3]\n",
    "print(list(map(lambda x: x ** 2, a)))  "
   ]
  },
  {
   "attachments": {},
   "cell_type": "markdown",
   "metadata": {},
   "source": [
    "#### グローバル変数(global)\n",
    "\n",
    "関数の外部で定義された変数は グローバル変数 として扱われます。関数の中でグローバル変数を参照することはできますが、代入することはできません。代入する場合は、global で宣言する必要があります。"
   ]
  },
  {
   "cell_type": "code",
   "execution_count": null,
   "metadata": {},
   "outputs": [],
   "source": [
    "count = 0                   # グローバル変数\n",
    "\n",
    "def func1():\n",
    "    print(count)            # 参照することはできる\n",
    "\n",
    "def func2():\n",
    "    global count            # global宣言してやれば\n",
    "    count += 1              # 代入することもできる\n",
    "\n",
    "func1();print(count)\n",
    "func2();print(count)\n",
    "func2();print(count)    "
   ]
  },
  {
   "attachments": {},
   "cell_type": "markdown",
   "metadata": {},
   "source": [
    "#### 分岐処理(if/else等)"
   ]
  },
  {
   "cell_type": "code",
   "execution_count": null,
   "metadata": {},
   "outputs": [],
   "source": [
    "num = 200\n",
    "\n",
    "if num >= 200:\n",
    "    print('too good')\n",
    "elif num >=100:\n",
    "    print('good')\n",
    "else:\n",
    "    print('bad')"
   ]
  },
  {
   "attachments": {},
   "cell_type": "markdown",
   "metadata": {},
   "source": [
    "#### 反復\n",
    "#### for文(for.. in ..)\n",
    "for はリスト、タプルの各要素、辞書のキー、文字列の各文字、ファイルの各行などに対して処理を繰り返します。\n"
   ]
  },
  {
   "cell_type": "code",
   "execution_count": null,
   "metadata": {},
   "outputs": [],
   "source": [
    "for n in [1, 2, 3]:          # 配列\n",
    "    print(n)                 #=> 1, 2, 3\n",
    "for c in \"ABC\":              # 文字列\n",
    "    print(c)                 #=> A, B, C"
   ]
  },
  {
   "cell_type": "code",
   "execution_count": null,
   "metadata": {},
   "outputs": [],
   "source": [
    "for i in range(1, 11):\n",
    "    print(i)"
   ]
  },
  {
   "attachments": {},
   "cell_type": "markdown",
   "metadata": {},
   "source": [
    "**range**\n",
    "\n",
    "range()を使うと簡単に連番シーケンスを作ることができます"
   ]
  },
  {
   "cell_type": "code",
   "execution_count": null,
   "metadata": {},
   "outputs": [],
   "source": [
    "a=range(5)\n",
    "print(a)  # range(0, 5)\n",
    "range(0, 5)\n",
    "type(a)   # <class 'range'>\n",
    "\n",
    "list(a) # [0, 1, 2, 3, 4]\n",
    "list(range(0,5,2)) #  [0, 2, 4]"
   ]
  },
  {
   "attachments": {},
   "cell_type": "markdown",
   "metadata": {},
   "source": [
    "**ループを抜ける(break)**\n",
    "\n",
    "break は最も内側の while, for などのループ処理を抜けます。"
   ]
  },
  {
   "cell_type": "code",
   "execution_count": null,
   "metadata": {},
   "outputs": [],
   "source": [
    "for n in range(10):\n",
    "    if n == 5:\n",
    "        break\n",
    "    print(n)  "
   ]
  },
  {
   "attachments": {},
   "cell_type": "markdown",
   "metadata": {},
   "source": [
    "**ループを続ける(continue)**\n",
    "\n",
    "continue は最も内側の while, for などのループ処理を繰り返します。"
   ]
  },
  {
   "cell_type": "code",
   "execution_count": null,
   "metadata": {},
   "outputs": [],
   "source": [
    "for n in range(10):\n",
    "    if n == 5:\n",
    "        continue\n",
    "    print(n)        "
   ]
  },
  {
   "attachments": {},
   "cell_type": "markdown",
   "metadata": {},
   "source": [
    "**while文**\n",
    "\n",
    "while文は、指定した条件が真である場合に繰り返し処理を行います。\n",
    "例は、1つづつ増えるiをsumに加算し、sumが100を超るまで繰り返します"
   ]
  },
  {
   "cell_type": "code",
   "execution_count": null,
   "metadata": {},
   "outputs": [],
   "source": [
    "mysum = 0\n",
    "i = 1\n",
    "\n",
    "while mysum < 100:\n",
    "    mysum += i\n",
    "    i+=1\n",
    "print(\"mysum=\", mysum)\n",
    "print(\"i=\",i)"
   ]
  },
  {
   "attachments": {},
   "cell_type": "markdown",
   "metadata": {},
   "source": [
    "while文にelseを追加することで、繰り返し終了後に実行される特定の処理を記述することができます。\n",
    "\n",
    "通常はbreakと合わせて利用し、while文の繰り返し処理が全て実行された場合には特定の処理が実行され、while文の処理がbreakにより抜けた場合は、特定の処理は実行しないというように使います。"
   ]
  },
  {
   "cell_type": "code",
   "execution_count": null,
   "metadata": {},
   "outputs": [],
   "source": [
    "n = 0\n",
    "while n < 10:\n",
    "    print(n)\n",
    "    n += 1\n",
    "else:\n",
    "    print('END')"
   ]
  },
  {
   "attachments": {},
   "cell_type": "markdown",
   "metadata": {},
   "source": [
    "#### 例外処理(try,except,else,finally)\n",
    "try, except, else, finally は例外(SyntaxErrorなど)を扱います"
   ]
  },
  {
   "cell_type": "code",
   "execution_count": null,
   "metadata": {},
   "outputs": [],
   "source": [
    "str2 = 'ABC'\n",
    "try:\n",
    "    c = str2[5]            # 5番目の文字が無いので、IndexError例外が発生します\n",
    "except IOError:\n",
    "    print('IOError')      # IOError例外の場合、このブロックが実行されます\n",
    "except IndexError:\n",
    "    print('IndexError')   # IndexError例外の場合、このブロックが実行されます\n",
    "except:\n",
    "    print('Unknown')      # 上記以外の例外の場合、このブロックが実行されます\n",
    "else:\n",
    "    print('Other')        # 例外が発生しなかった場合、このブロックが実行されます\n",
    "finally:\n",
    "    print('Finally')      # 常に、このブロックが実行されます"
   ]
  },
  {
   "attachments": {},
   "cell_type": "markdown",
   "metadata": {},
   "source": [
    "#### モジュール(module)\n",
    "ひとつのスクリプトファイルはモジュールとして扱うことができます。モジュールは import文で読み込みます。読み込んだモジュールのクラス、関数、変数は、「モジュール名.識別子」で参照することができます。"
   ]
  },
  {
   "cell_type": "code",
   "execution_count": null,
   "metadata": {},
   "outputs": [],
   "source": [
    "import numpy as np\n",
    "\n",
    "np.pi"
   ]
  },
  {
   "attachments": {},
   "cell_type": "markdown",
   "metadata": {},
   "source": [
    "input()関数はユーザーからの入力を受け付ける関数です。"
   ]
  },
  {
   "cell_type": "code",
   "execution_count": null,
   "metadata": {},
   "outputs": [],
   "source": [
    "user_input = input(\"Enter comma-separated numbers: \")\n",
    "numbers_as_strings = user_input.split(\",\")\n",
    "numbers = [int(s) for s in numbers_as_strings]\n",
    "sum_of_numbers = sum(numbers)\n",
    "print(sum_of_numbers)"
   ]
  },
  {
   "attachments": {},
   "cell_type": "markdown",
   "metadata": {},
   "source": [
    "#### リスト(List)\n",
    "\n",
    "- 大括弧[] で囲まれた要素の集まり\n",
    "- 要素の区切りは、カンマ「,」で記述\n",
    "- 各要素の型は何でもよく、異なる型の要素の混合も可"
   ]
  },
  {
   "cell_type": "code",
   "execution_count": null,
   "metadata": {},
   "outputs": [],
   "source": [
    "my_list = [10, 20, 'Hello', True]\n",
    "print(my_list[2])"
   ]
  },
  {
   "attachments": {},
   "cell_type": "markdown",
   "metadata": {},
   "source": [
    "**リストの要素の変更**\n",
    "\n",
    "前ページの続きで、my_listの最初の要素の値を書き換えます"
   ]
  },
  {
   "cell_type": "code",
   "execution_count": null,
   "metadata": {},
   "outputs": [],
   "source": [
    "my_list[0] = 100\n",
    "print(my_list)"
   ]
  },
  {
   "attachments": {},
   "cell_type": "markdown",
   "metadata": {},
   "source": [
    "**スライス**\n",
    "\n",
    "[n:m] で n番目から m番目の前まで(つまり m - 1番目まで)の要素を参照します。n を省略すると最初から、m を省略すると最後までの要素を参照します"
   ]
  },
  {
   "cell_type": "code",
   "execution_count": null,
   "metadata": {},
   "outputs": [],
   "source": [
    "a = [0, 1, 2, 3, 4, 5, 6, 7, 8, 9]\n",
    "a1 = a[2:4]     # 2番目から3番目: [2, 3]\n",
    "a2 = a[2:]      # 2番目から最後: [2, 3, 4, 5, 6, 7, 8, 9]\n",
    "a3 = a[:4]      # 最初から3番目: [0, 1, 2, 3]"
   ]
  },
  {
   "attachments": {},
   "cell_type": "markdown",
   "metadata": {},
   "source": [
    "**リストの反復処理**\n",
    "\n",
    "リスト内のすべての要素に対して、順番に同じ処理を適用する場合には、for文を用いて反復処理を行うことができます。\n",
    "下記はリスト内の値を２倍したものを出力する例です。"
   ]
  },
  {
   "cell_type": "code",
   "execution_count": null,
   "metadata": {},
   "outputs": [],
   "source": [
    "num_list = [4, 6, 8, 10]\n",
    "\n",
    "for num in num_list:\n",
    "    num *= 2\n",
    "    print(num, end=\" \")"
   ]
  },
  {
   "cell_type": "code",
   "execution_count": null,
   "metadata": {},
   "outputs": [],
   "source": [
    "list(map((lambda x: x*2),num_list))"
   ]
  },
  {
   "cell_type": "code",
   "execution_count": null,
   "metadata": {},
   "outputs": [],
   "source": [
    "[x*2 for x in num_list]"
   ]
  },
  {
   "attachments": {},
   "cell_type": "markdown",
   "metadata": {},
   "source": [
    "**リストの結合**\n",
    "\n",
    "演算子を用いてリストを結合することができます。"
   ]
  },
  {
   "cell_type": "code",
   "execution_count": null,
   "metadata": {},
   "outputs": [],
   "source": [
    "print([1, 2, 3] + [4, 5, 6])  "
   ]
  },
  {
   "attachments": {},
   "cell_type": "markdown",
   "metadata": {},
   "source": [
    "#### タプル(tuple)\n",
    "(...) で要素を並べたものをタプル(tuple)と呼びます。タプルはリストとほぼ同じように使用できますが、要素を変更できない点が異なります。その為、タプルは要素の順番を変えられたくない場合や集めたデータに変更が出ない場合などで使用されます。"
   ]
  },
  {
   "cell_type": "code",
   "execution_count": null,
   "metadata": {},
   "outputs": [],
   "source": [
    "a1 = [10, 20, 30, 40]\n",
    "a2 = (10, 20, 30, 40)\n",
    "\n",
    "a1[2] = 60    # 代入できる\n",
    "a2[2] = 60    # エラーとなり、TypeError例外が発生"
   ]
  },
  {
   "attachments": {},
   "cell_type": "markdown",
   "metadata": {},
   "source": [
    "#### 辞書(Dictionary)\n",
    "\n",
    "- 中括弧{} で囲まれた keyとvalueの組合せの集まり\n",
    "- key と value の間はコロン \" : \" で区切る"
   ]
  },
  {
   "cell_type": "code",
   "execution_count": null,
   "metadata": {},
   "outputs": [],
   "source": [
    "my_dict = {'apple': 100, 'banana': 200, 'orange': 150}\n",
    "print(my_dict['apple'])"
   ]
  },
  {
   "attachments": {},
   "cell_type": "markdown",
   "metadata": {},
   "source": [
    "**辞書の要素の追加**"
   ]
  },
  {
   "cell_type": "code",
   "execution_count": null,
   "metadata": {},
   "outputs": [],
   "source": [
    "my_dict['grape'] = 300\n",
    "print(my_dict)"
   ]
  },
  {
   "attachments": {},
   "cell_type": "markdown",
   "metadata": {},
   "source": [
    "**辞書の反復処理**\n",
    "\n",
    "辞書型の場合、キー(key)と値(value)のペアをfor文で取り出すことができます。"
   ]
  },
  {
   "cell_type": "code",
   "execution_count": null,
   "metadata": {},
   "outputs": [],
   "source": [
    "my_dict = {\"apple\": 100, \"banana\": 200, \"orange\": 150}\n",
    "\n",
    "for key, value in my_dict.items():\n",
    "    print(key + \": \" + str(value))"
   ]
  },
  {
   "attachments": {},
   "cell_type": "markdown",
   "metadata": {},
   "source": [
    "#### リスト関数(map(), filter(), reduce())\n",
    "**map()** はリストの各要素に対して処理を行い、行った結果を返します。下記の例では各要素を2倍にする処理を行います"
   ]
  },
  {
   "cell_type": "code",
   "execution_count": null,
   "metadata": {},
   "outputs": [],
   "source": [
    "a = [1, 2, 3]\n",
    "\n",
    "def double(x): return x * 2\n",
    "\n",
    "print(list(map(double, a)))              #関数方式\n",
    "print(list(map(lambda x: x * 2, a)))     #lambda方式\n",
    "print([x * 2 for x in a])                #内包表記(後述)"
   ]
  },
  {
   "attachments": {},
   "cell_type": "markdown",
   "metadata": {},
   "source": [
    "**filter()** はリストの各要素に対して処理を行い、処理結果が真となる要素のみを取り出します。下記の例では各要素から奇数のみを取り出します。"
   ]
  },
  {
   "cell_type": "code",
   "execution_count": null,
   "metadata": {},
   "outputs": [],
   "source": [
    "a = [1, 2, 3]\n",
    "\n",
    "def isodd(x): return x % 2\n",
    "print(list(filter(isodd, a)))              # 関数方式\n",
    "print(list(filter(lambda x: x % 2, a)))    #lambda方式\n",
    "print([x for x in a if x % 2])   "
   ]
  },
  {
   "attachments": {},
   "cell_type": "markdown",
   "metadata": {},
   "source": [
    "**reduce()** はリストの最初の2要素を引数に処理を呼び出し、結果と次の要素を引数に処理の呼び出しを繰り返し、単一の結果を返します。下記の例では、各要素の合計を計算しています。"
   ]
  },
  {
   "cell_type": "code",
   "execution_count": null,
   "metadata": {},
   "outputs": [],
   "source": [
    "from functools import reduce\n",
    "\n",
    "a = [1, 2, 3, 4, 5]\n",
    "\n",
    "def add(x, y): return x + y\n",
    "print(reduce(add, a))                  #=> 15 : 関数方式\n",
    "print(reduce(lambda x, y: x + y, a))   #=> 15 : lambda方式"
   ]
  },
  {
   "attachments": {},
   "cell_type": "markdown",
   "metadata": {},
   "source": [
    "**リストの内包表記** を用いることで、map(), filter(), lambda を使用しないで簡単なリスト演算を行うことができます。"
   ]
  },
  {
   "cell_type": "code",
   "execution_count": null,
   "metadata": {},
   "outputs": [],
   "source": [
    "a = [1, 2, 3]\n",
    "print([x * 2 for x in a])  "
   ]
  },
  {
   "attachments": {},
   "cell_type": "markdown",
   "metadata": {},
   "source": [
    "#### オブジェクト\n",
    "\n",
    "「オブジェクト」とは、特定の属性やメソッドを持つデータアイテムのことです。　具体的には、整数、浮動小数点数、文字列、リスト、タプル、辞書、関数などが含まれます。リスト等に対してmap()を行ったものもobjetです。type()を使って型を表示できます"
   ]
  },
  {
   "cell_type": "code",
   "execution_count": null,
   "metadata": {},
   "outputs": [],
   "source": [
    "def square(x):\n",
    "    return x**2\n",
    "\n",
    "def calculate(func, numbers):\n",
    "    result = []\n",
    "    for num in numbers:\n",
    "        res = func(num)\n",
    "        result.append(res)\n",
    "    return result\n",
    "\n",
    "numbers = [1, 2, 3, 4, 5]\n",
    "squared_numbers = calculate(square, numbers)\n",
    "print(squared_numbers)"
   ]
  },
  {
   "attachments": {},
   "cell_type": "markdown",
   "metadata": {},
   "source": [
    "また、エラー処理について、try-except文を使うことができ、例外が発生した場合に適切に処理することができます。"
   ]
  },
  {
   "cell_type": "code",
   "execution_count": null,
   "metadata": {},
   "outputs": [],
   "source": [
    "try:\n",
    "    result = 10 / 0\n",
    "except ZeroDivisionError:\n",
    "    print(\"division by zero\")"
   ]
  },
  {
   "attachments": {},
   "cell_type": "markdown",
   "metadata": {},
   "source": [
    "#### グラフの描画\n",
    "Pythonを用いた可視化は、第５回で詳しく説明しますが。ここは基礎的なグラフ描画を示します。\n",
    "\n",
    "**pyplotを使う方法**\n",
    "\n",
    "pyplotインターフェイスを直接つかう方法です。「plt.〇〇関数」(pltはpyplotの別名)を直接使います。一番手軽です。"
   ]
  },
  {
   "cell_type": "code",
   "execution_count": null,
   "metadata": {},
   "outputs": [],
   "source": [
    "import numpy as np\n",
    "import matplotlib.pyplot as plt\n",
    "\n",
    "x = np.arange(-10,10,0.1)\n",
    "y = x**2 + 2 + x-3\n",
    "\n",
    "plt.plot(x,y,c='blue')"
   ]
  },
  {
   "attachments": {},
   "cell_type": "markdown",
   "metadata": {},
   "source": [
    "**Axesインターフェイス**\n",
    "\n",
    "もう一つのやり方は、オブジェクト指向のAxesインターフェイスを用いた書き方です。Matplotlibでは基本的にこの方法で描くとされています。\n",
    "\n",
    "Figureオブジェクトと、Axesオブジェクトを用います。Figureオブジェクトは、グラフを描画する土台のようなもので、Axexオブジェクトはグラフそのものに対応します。"
   ]
  },
  {
   "cell_type": "code",
   "execution_count": null,
   "metadata": {},
   "outputs": [],
   "source": [
    "import numpy as np\n",
    "import matplotlib.pyplot as  plt\n",
    "\n",
    "x = np.arange(-10,10,0.1)\n",
    "y = x**2 + 2 + x-3\n",
    "\n",
    "fig = plt.figure()\n",
    "ax = fig.add_subplot()\n",
    "ax.plot(x, y, c='blue')"
   ]
  },
  {
   "attachments": {},
   "cell_type": "markdown",
   "metadata": {},
   "source": [
    "一つの土台に複数のplotを書くこともできます。add_subplot(縦、横、順番)で指定します。\n",
    "いかでは、１行２列に、青、赤のグラフを順番に書いています。"
   ]
  },
  {
   "cell_type": "code",
   "execution_count": null,
   "metadata": {},
   "outputs": [],
   "source": [
    "fig = plt.figure()\n",
    "ax1 = fig.add_subplot(1,2,1)\n",
    "ax1.plot(x, y, c='blue')\n",
    "ax2 = fig.add_subplot(1,2,2)\n",
    "ax2.plot(x, y, c='red')"
   ]
  },
  {
   "attachments": {},
   "cell_type": "markdown",
   "metadata": {},
   "source": [
    "#### 統計学の復習 with Python\n",
    "\n",
    "- 母集団: 調査対象全体の集合\n",
    "- 標本: 母集団から抽出した部分集合\n",
    "- 平均値: データの平均を表す指標\n",
    "- 中央値: データを小さい順に並べたときに、中央にある値\n",
    "- 分散・標準偏差: データのばらつきを表す指標\n",
    "- 共分散・相関係数:２つの変数の間の関係性"
   ]
  },
  {
   "attachments": {},
   "cell_type": "markdown",
   "metadata": {},
   "source": [
    "**平均値**"
   ]
  },
  {
   "cell_type": "code",
   "execution_count": null,
   "metadata": {},
   "outputs": [],
   "source": [
    "data = [154, 177,162,180,175,155,164,168]\n",
    "print(sum(data)/len(data))"
   ]
  },
  {
   "cell_type": "code",
   "execution_count": null,
   "metadata": {},
   "outputs": [],
   "source": [
    "import numpy as np\n",
    "# listを np.arrayに一旦変換する\n",
    "data = np.array([154, 177,162,180,175,155,164,168])\n",
    "print(np.mean(data))"
   ]
  },
  {
   "attachments": {},
   "cell_type": "markdown",
   "metadata": {},
   "source": [
    "**中央値**"
   ]
  },
  {
   "cell_type": "code",
   "execution_count": null,
   "metadata": {},
   "outputs": [],
   "source": [
    "def median(lst):\n",
    "    sorted_lst = sorted(lst)\n",
    "    n = len(lst)\n",
    "    mid = n // 2\n",
    "    if n % 2 == 0:\n",
    "        return (sorted_lst[mid - 1] + sorted_lst[mid]) / 2\n",
    "    else:\n",
    "        return sorted_lst[mid]\n",
    "median(data)"
   ]
  },
  {
   "cell_type": "code",
   "execution_count": null,
   "metadata": {},
   "outputs": [],
   "source": [
    "import numpy as np\n",
    "\n",
    "data = np.array([154, 177,162,180,175,155,164,168])\n",
    "\n",
    "print(np.median(data))"
   ]
  },
  {
   "attachments": {},
   "cell_type": "markdown",
   "metadata": {},
   "source": [
    "**最頻値**"
   ]
  },
  {
   "cell_type": "code",
   "execution_count": null,
   "metadata": {},
   "outputs": [],
   "source": [
    "def mode(lst):\n",
    "    freqs = {}\n",
    "    for num in lst:\n",
    "        if num not in freqs:\n",
    "            freqs[num] = 0\n",
    "        freqs[num] += 1\n",
    "    mode_freq = max(freqs.values())\n",
    "    modes = [num for num, freq in freqs.items() if freq == mode_freq]\n",
    "    return modes[0] if len(modes) == 1 else modes"
   ]
  },
  {
   "cell_type": "code",
   "execution_count": null,
   "metadata": {},
   "outputs": [],
   "source": [
    "lst = [3, 1, 4, 1, 5, 9, 2, 6, 5, 3, 5]\n",
    "print(mode(lst)) "
   ]
  },
  {
   "attachments": {},
   "cell_type": "markdown",
   "metadata": {},
   "source": [
    "NumPyには最頻値を求める関数はないので、statisticモジュールのmode()関数を使います"
   ]
  },
  {
   "cell_type": "code",
   "execution_count": null,
   "metadata": {},
   "outputs": [],
   "source": [
    "import statistics\n",
    "lst = [3, 1, 4, 1, 5, 9, 2, 6, 5, 3, 5]\n",
    "mode_value = statistics.mode(lst)\n",
    "mode_value"
   ]
  },
  {
   "attachments": {},
   "cell_type": "markdown",
   "metadata": {},
   "source": [
    "#### 分散と標準偏差の算出"
   ]
  },
  {
   "attachments": {},
   "cell_type": "markdown",
   "metadata": {},
   "source": [
    "|社員A|社員B|社員C|社員D|\n",
    "|---|---|---|---\n",
    "|182cm|155cm|166cm|177cm|"
   ]
  },
  {
   "cell_type": "code",
   "execution_count": null,
   "metadata": {},
   "outputs": [],
   "source": [
    "#分散を返す関数\n",
    "def my_var(data):\n",
    "    #平均値を求める\n",
    "    m = sum(data)/len(data)\n",
    "    #偏差を求める\n",
    "    d=[(data[0]-m),(data[1]-m),(data[2]-m),(data[3]-m)]\n",
    "    #偏差の二乗\n",
    "    dd=[d[0]**2,d[1]**2,d[2]**2,d[3]**2]\n",
    "    #分散を返す\n",
    "    return sum(dd)/len(dd)"
   ]
  },
  {
   "attachments": {},
   "cell_type": "markdown",
   "metadata": {},
   "source": [
    "計算してみます"
   ]
  },
  {
   "cell_type": "code",
   "execution_count": null,
   "metadata": {},
   "outputs": [],
   "source": [
    "data = [182,155,166,177]\n",
    "my_var(data)"
   ]
  },
  {
   "cell_type": "code",
   "execution_count": null,
   "metadata": {},
   "outputs": [],
   "source": [
    "def variance(data):\n",
    "    mean_data = sum(data)/len(data)\n",
    "    return sum([(x - mean_data) ** 2 for x in data]) / len(data)\n",
    "\n",
    "def std_dev(data):\n",
    "    return variance(data) ** 0.5\n",
    "\n",
    "print(variance(data))\n",
    "print(std_dev(data))"
   ]
  },
  {
   "attachments": {},
   "cell_type": "markdown",
   "metadata": {},
   "source": [
    "今度は分散を、NumPyのvar()を使って求めます。一旦リストを、numpyのarrayに変換した上で、var()で標準偏差を求めていま"
   ]
  },
  {
   "cell_type": "code",
   "execution_count": null,
   "metadata": {},
   "outputs": [],
   "source": [
    "import numpy as np\n",
    "data = [182,155,166,177]\n",
    "\n",
    "dataarray=np.array(data)\n",
    "np.var(dataarray)\n",
    "# 108.5"
   ]
  },
  {
   "attachments": {},
   "cell_type": "markdown",
   "metadata": {},
   "source": [
    "**共分散**\n",
    "\n",
    "共分散は、2つの変数がどの程度一緒に変化するかを示す指標です。例えば、ある集団の身長と体重が共分散の例です。身長が高い人は体重も多くなる傾向があるため、身長と体重の値は正の共分散を持ちます。"
   ]
  },
  {
   "cell_type": "code",
   "execution_count": null,
   "metadata": {},
   "outputs": [],
   "source": [
    "#身長\n",
    "x = [154,177,162,180,175,\n",
    "     155,164,168]\n",
    "#足のサイズ\n",
    "y = [23,27,24.5,28.5,26.5,\n",
    "     24,24.5,25.5]\n",
    "\n",
    "#まず、$X$と$Y$それぞれの平均値を計算します\n",
    "mean_x = sum(x)/len(x)\n",
    "mean_y = sum(y)/len(y)\n",
    "\n",
    "#共分散を求めます\n",
    "diff_xy = [(x[i]-mean_x)*(y[i]-mean_y) for i in range(len(x))]\n",
    "#最後に、diff_xyリストの値の平均を取ります\n",
    "cov_xy = sum(diff_xy)/len(x)\n",
    "print(cov_xy)"
   ]
  },
  {
   "attachments": {},
   "cell_type": "markdown",
   "metadata": {},
   "source": [
    "Numpyのcov()を用いて求めます"
   ]
  },
  {
   "cell_type": "code",
   "execution_count": null,
   "metadata": {},
   "outputs": [],
   "source": [
    "import numpy as np\n",
    "data= np.array([x,y])\n",
    "\n",
    "c = np.cov(data,ddof=0)\n",
    "\n",
    "print(c)"
   ]
  },
  {
   "attachments": {},
   "cell_type": "markdown",
   "metadata": {},
   "source": [
    "cov()関数は、共分散行列を求めます、行列の１行１列目が身長の分散、２行２列が足のサイズの分散、対角にあるのが共分散です。"
   ]
  },
  {
   "attachments": {},
   "cell_type": "markdown",
   "metadata": {},
   "source": [
    "**相関係数**\n",
    "\n",
    "相関係数は、2つの確率変数 $X$ と $Y$ の間の関連性を示す指標で、共分散に対してスケールが正規化された値です。相関係数は $-1 \\leq r \\leq 1$ の範囲の値をとります。"
   ]
  },
  {
   "cell_type": "code",
   "execution_count": null,
   "metadata": {},
   "outputs": [],
   "source": [
    "import numpy as np\n",
    "\n",
    "# 身長データ\n",
    "heights = np.array([172, 170, 175, 168, 176, 180, 179, 173, 178, 174])\n",
    "# 体重データ\n",
    "weights = np.array([70, 65, 80, 60, 85, 90, 77, 73, 82, 68])\n",
    "\n",
    "# 身長と体重の相関係数を求める\n",
    "corr_coef = np.corrcoef(heights, weights)\n",
    "print(corr_coef)  # 出力結果: 0.8817273811799049"
   ]
  },
  {
   "attachments": {},
   "cell_type": "markdown",
   "metadata": {},
   "source": [
    "corrcoef()関数は、各変数間の相関係数です。対角線は自己相関なので１になります。"
   ]
  },
  {
   "attachments": {},
   "cell_type": "markdown",
   "metadata": {},
   "source": [
    "### 課題\n",
    "\n",
    "１．次のリスト numbersから偶数だけ取り出し、それらの値を求めなさい。\n",
    "   \n",
    "numbers = [10, 4, 7, 8, 12, 44, 32, 21]\n",
    "\n",
    "\n",
    "２． 標準正規分布に従う乱数100個を生成し、その平均と標準偏差を計算してください。"
   ]
  },
  {
   "cell_type": "code",
   "execution_count": null,
   "metadata": {},
   "outputs": [],
   "source": [
    "import numpy as np\n",
    "\n",
    "# Task 1\n",
    "numbers = [10, 4, 7, 8, 12, 44, 32, 21]\n",
    "even_numbers = [x for x in numbers if x % 2 == 0]  # 偶数だけ取り出す\n",
    "sum_even = sum(even_numbers)  # 和を求める\n",
    "print(f\"Even numbers: {even_numbers}\")  # 出力結果: Even numbers: [10, 4, 8, 12, 44, 32]\n",
    "print(f\"Sum of even numbers: {sum_even}\")  # 出力結果: Sum of even numbers: 110\n",
    "\n",
    "# Task 2\n",
    "random_nums = np.random.normal(loc=0, scale=1, size=100)  # 平均0、標準偏差1の正規分布に従う乱数100個を生成する\n",
    "mean = np.mean(random_nums)  # 平均を計算する\n",
    "std_dev = np.std(random_nums)  # 標準偏差を計算する\n",
    "print(f\"Mean: {mean}\")  # 出力結果: Mean: -0.0924666959753021\n",
    "print(f\"Standard deviation: {std_dev}\")  # 出力結果: Standard deviation: 0.9883756496564458"
   ]
  },
  {
   "cell_type": "code",
   "execution_count": null,
   "metadata": {},
   "outputs": [],
   "source": []
  }
 ],
 "metadata": {
  "kernelspec": {
   "display_name": "Python 3",
   "language": "python",
   "name": "python3"
  },
  "language_info": {
   "codemirror_mode": {
    "name": "ipython",
    "version": 3
   },
   "file_extension": ".py",
   "mimetype": "text/x-python",
   "name": "python",
   "nbconvert_exporter": "python",
   "pygments_lexer": "ipython3",
   "version": "3.11.6"
  },
  "orig_nbformat": 4,
  "vscode": {
   "interpreter": {
    "hash": "9650cb4e16cdd4a8e8e2d128bf38d875813998db22a3c986335f89e0cb4d7bb2"
   }
  }
 },
 "nbformat": 4,
 "nbformat_minor": 2
}
