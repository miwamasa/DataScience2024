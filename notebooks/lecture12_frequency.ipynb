{
  "cells": [
    {
      "cell_type": "markdown",
      "metadata": {
        "id": "O5lakJjNWkU5"
      },
      "source": [
        "# Lecture 12 スペクトル解析\n",
        "\n",
        "音声ファイルのFFT\n",
        "\n",
        "音声ファイル'note_g3.wav'は、あらかじめ、manabaから取得し、Colab環境にアップロードしておきます。"
      ]
    },
    {
      "cell_type": "code",
      "execution_count": null,
      "metadata": {
        "id": "q6c7or5GWkVE"
      },
      "outputs": [],
      "source": [
        "import numpy as np\n",
        "import matplotlib.pyplot as plt\n",
        "import wave\n",
        "import requests\n",
        "\n",
        "def load_wav(filename, N):\n",
        "    with wave.open(filename, 'r') as wav:\n",
        "        fr = wav.getframerate()\n",
        "        data = wav.readframes(N)\n",
        "        s = np.frombuffer(data, dtype=np.int16)\n",
        "        return s, fr\n",
        "\n",
        "N = 16000\n",
        "s, rate = load_wav('note_g3.wav' , N)\n"
      ]
    },
    {
      "cell_type": "code",
      "execution_count": null,
      "metadata": {
        "id": "DvSSU7GhWkVJ"
      },
      "outputs": [],
      "source": [
        "T = np.arange(0, N / rate, 1/ rate)\n",
        "plt.plot(T, s)\n",
        "plt.xlabel('Time')\n",
        "plt.ylabel('Gain')"
      ]
    },
    {
      "cell_type": "code",
      "execution_count": null,
      "metadata": {
        "id": "ZDpJ5EghWkVL"
      },
      "outputs": [],
      "source": [
        "# フーリエ変換\n",
        "fft_data = np.abs(np.fft.rfft(s))\n",
        "freqList = np.fft.rfftfreq(len(s), 1.0 / rate)  # 横軸\n",
        "plt.loglog(freqList, 10 * np.log(fft_data), '.-')\n",
        "plt.xlabel('Frequency')\n",
        "plt.ylabel('Power')"
      ]
    },
    {
      "cell_type": "markdown",
      "metadata": {
        "id": "ljfEa3eTWkVN"
      },
      "source": [
        "## 矩形波のフーリエ変換\n",
        "\n"
      ]
    },
    {
      "cell_type": "code",
      "execution_count": null,
      "metadata": {
        "id": "kP8nao2EWkVO"
      },
      "outputs": [],
      "source": [
        "omega= 20\n",
        "T=10\n",
        "\n",
        "x = np.linspace(-2, 2, 500)\n",
        "y= np.sin(x)\n",
        "y= 2*T*2*np.sin(x*T)/(x*T)\n",
        "\n",
        "fig, (ax1, ax2) = plt.subplots(ncols=2, figsize=(10,2))\n",
        "\n",
        "ax1.plot(x,y)\n",
        "ax1.set_title('Fourier Transform')\n",
        "\n",
        "ax2.plot(x,np.abs(y)**2)\n",
        "ax2.set_title('Power Spectrum')\n",
        "\n"
      ]
    },
    {
      "cell_type": "markdown",
      "metadata": {
        "id": "U9HLvE0zWkVQ"
      },
      "source": [
        "\n",
        "参考：[FFT を使った時系列データ解析](https://nykergoto.hatenablog.jp/entry/2019/07/09/FFT_%E3%82%92%E4%BD%BF%E3%81%A3%E3%81%9F%E6%99%82%E7%B3%BB%E5%88%97%E3%83%87%E3%83%BC%E3%82%BF%E8%A7%A3%E6%9E%90)"
      ]
    },
    {
      "cell_type": "markdown",
      "metadata": {
        "id": "r4IuunM1WkVT"
      },
      "source": [
        "python でフーリエ変換のモジュールというと有名なのは numpy.fft で基本的には\n",
        "\n",
        "- fftn: 波形空間からフーリエ変換した強度空間への射影を行う関数\n",
        "- ifftn: フーリエ変換された強度から元の波形空間へ戻す関数\n",
        "- fftfreq: フーリエ変換した強度関数がどの周波数に対応しているかの周波数を計算する関数\n",
        "の3つを使うことが多い印象です。 scipy のほうが早いらしいので変換がボトルネックになるような巨大データを扱うときは numpy からそちらに移行することも考えてみてください"
      ]
    },
    {
      "cell_type": "code",
      "execution_count": null,
      "metadata": {
        "id": "5ic5q833WkVV"
      },
      "outputs": [],
      "source": [
        "import numpy as np\n",
        "from numpy.fft import fftn, ifftn, fftfreq\n",
        "\n",
        "import pandas as pd\n",
        "import matplotlib.pyplot as plt\n",
        "import seaborn as sns\n",
        "\n",
        "import os\n",
        "\n",
        "output_dir = './fft_vis'\n",
        "os.makedirs(output_dir, exist_ok=True)\n",
        "\n",
        "def save_fig(fig, name):\n",
        "    p = os.path.join(output_dir, name)\n",
        "    print(f'save to {p}')\n",
        "    fig.tight_layout()\n",
        "    fig.savefig(p, dpi=120)"
      ]
    },
    {
      "cell_type": "code",
      "execution_count": null,
      "metadata": {
        "id": "yCUz1DZiWkVX"
      },
      "outputs": [],
      "source": [
        "# データの総数\n",
        "n_samples = 300\n",
        "\n",
        "# 単位時間あたりに, いくつのデータ点が存在しているか.\n",
        "sampling_rate = 10\n",
        "# サンプルデータ作成のために, 1 / sampling_rate ごとの等間隔な x を用意\n",
        "x = np.arange(n_samples) / sampling_rate\n",
        "# 作成した x を入力として, 周期 3 と 0.5 の波形 (+ノイズ) を足し合わせる.\n",
        "y = np.sin(1 / 3 * 2 * np.pi * x) + .7 * np.sin(2 * 2 * np.pi * x) + .3 * np.random.normal(size=n_samples)\n",
        "\n",
        "# あとでの遊びのために 10 のところでわざとピークをつける\n",
        "y += np.where(x == 10, 5, 0)"
      ]
    },
    {
      "cell_type": "code",
      "execution_count": null,
      "metadata": {
        "id": "1uCzJxViWkVY"
      },
      "outputs": [],
      "source": [
        "fig, ax = plt.subplots(figsize=(10, 4))\n",
        "ax.plot(x, y)\n",
        "\n",
        "ax.set_title('Sample Time Series Data')"
      ]
    },
    {
      "cell_type": "code",
      "execution_count": null,
      "metadata": {
        "id": "mkk1blQlWkVY"
      },
      "outputs": [],
      "source": [
        "z = fftn(y)\n",
        "freq = fftfreq(n_samples, d=1 / sampling_rate)"
      ]
    },
    {
      "cell_type": "code",
      "execution_count": null,
      "metadata": {
        "id": "DYXI3QOJWkVZ"
      },
      "outputs": [],
      "source": [
        "# ノリのような表示\n",
        "# plt.plot(freq, abs(z))\n",
        "#plt.yscale('log')\n",
        "# 適当にやるとマイナスの周波数も表示される. +-で値は同じ(y軸対象)なのでプラス部分だけ可視化すれば十分\n",
        "# 真面目に\n",
        "fig, ax = plt.subplots(figsize=(10, 5), ncols=1, sharey=True)\n",
        "ax.plot(freq[1:int(n_samples / 2)], abs(z[1:int(n_samples / 2)]))\n",
        "ax.set_yscale('log')\n",
        "ax.set_xlabel('Freq(周波数) Hz')\n",
        "ax.set_ylabel('Power')"
      ]
    },
    {
      "cell_type": "code",
      "execution_count": null,
      "metadata": {
        "id": "sLK10UlXWkVa"
      },
      "outputs": [],
      "source": [
        "fft_pow_df = pd.DataFrame([1 / freq[1:int(n_samples / 2)], np.log10(abs(z[1:int(n_samples / 2)]))], index=['T', 'log10_power']).T\n",
        "fft_pow_df.sort_values('log10_power', ascending=False).head(10)"
      ]
    },
    {
      "cell_type": "code",
      "execution_count": null,
      "metadata": {
        "id": "HY29nqZrWkVb"
      },
      "outputs": [],
      "source": [
        "fig, ax = plt.subplots(figsize=(10, 4))\n",
        "ax.plot(ifftn(z).real, label='IFFT')\n",
        "ax.plot(y, label='Original')\n",
        "ax.legend()\n",
        "\n",
        "save_fig(fig, name='sample_wave__ifft.png')"
      ]
    },
    {
      "cell_type": "code",
      "execution_count": null,
      "metadata": {
        "id": "TipsvRGLWkVc"
      },
      "outputs": [],
      "source": [
        "# 2以下の周期を無視する様な lowpass\n",
        "threshold_period = 2\n",
        "threshold_freq = 1 / threshold_period\n",
        "\n",
        "z_lowpass = np.where(abs(freq) > threshold_freq, 0, z)\n",
        "y_lowpass = ifftn(z_lowpass).real\n",
        "\n",
        "fig, ax = plt.subplots(figsize=(10, 4))\n",
        "ax.plot(x, y, '-', label='Original', alpha=.5)\n",
        "ax.plot(x, y_lowpass, label='LowPass')\n",
        "ax.set_title('Low Pass Filter')\n",
        "ax.legend()\n",
        "\n",
        "save_fig(fig, name='sample_wave__lowpass.png')"
      ]
    },
    {
      "cell_type": "code",
      "execution_count": null,
      "metadata": {
        "id": "Eg1SOL70WkVc"
      },
      "outputs": [],
      "source": []
    }
  ],
  "metadata": {
    "colab": {
      "provenance": []
    },
    "interpreter": {
      "hash": "9650cb4e16cdd4a8e8e2d128bf38d875813998db22a3c986335f89e0cb4d7bb2"
    },
    "kernelspec": {
      "display_name": "Python 3.8.3 64-bit",
      "language": "python",
      "name": "python3"
    },
    "language_info": {
      "codemirror_mode": {
        "name": "ipython",
        "version": 3
      },
      "file_extension": ".py",
      "mimetype": "text/x-python",
      "name": "python",
      "nbconvert_exporter": "python",
      "pygments_lexer": "ipython3",
      "version": "3.11.6"
    },
    "orig_nbformat": 4
  },
  "nbformat": 4,
  "nbformat_minor": 0
}