{
  "cells": [
    {
      "cell_type": "markdown",
      "metadata": {
        "id": "KMGHop-Sbr7p"
      },
      "source": [
        "# Lecture7　回帰分析1\n",
        "<div dir='rtl'>\n",
        "2022.4岩政\n",
        "</div>"
      ]
    },
    {
      "cell_type": "markdown",
      "metadata": {
        "id": "sHXgELuUbr76"
      },
      "source": [
        "## statsmodel\n",
        "StatsModelsは、統計モデルを用いて推定や検定、探索ができるPythonライブラリです。\n",
        "\n",
        "\n",
        "ここでは、statsmodelsの最初のIntroductionを紹介します。\n",
        "\n",
        "【簡単なstatsmodelによる統計解析の例】\n",
        "https://www.statsmodels.org/stable/index.html\n"
      ]
    },
    {
      "cell_type": "markdown",
      "metadata": {
        "id": "tTlr9T6fbr79"
      },
      "source": [
        "statsmodlesは、R言語のような式によるモデルの定義を行うapiをサポートしています。\n",
        "\n",
        "\n",
        "statsmodelの組み込みデータを使います。ここではAndre-Michel Guerry (1833) が集めた、1830年付近のパリの社会データ（犯罪、自殺、、、、）のデータ。"
      ]
    },
    {
      "cell_type": "code",
      "execution_count": null,
      "metadata": {
        "vscode": {
          "languageId": "python"
        },
        "id": "cN065FoLbr7_"
      },
      "outputs": [],
      "source": [
        "# -*- coding: utf-8 -*-\n",
        "import numpy as np\n",
        "import statsmodels.api as sm\n",
        "import statsmodels.formula.api as smf\n",
        "import matplotlib.pyplot as plt\n",
        "%matplotlib inline\n",
        "\n",
        "dat = sm.datasets.get_rdataset(\"Guerry\", \"HistData\").data"
      ]
    },
    {
      "cell_type": "code",
      "execution_count": null,
      "metadata": {
        "vscode": {
          "languageId": "python"
        },
        "id": "FyEzEQeQbr8E"
      },
      "outputs": [],
      "source": [
        "dat.head()"
      ]
    },
    {
      "cell_type": "markdown",
      "metadata": {
        "id": "KjPY8_54br8G"
      },
      "source": [
        "86のフランス地方行政区(Department)毎の、\n",
        "- Lottery: 一人当たりのロイヤル宝くじの掛け金\n",
        "- Literacy: 識字率\n",
        "- Pop1831: 人口(1831年調査)\n",
        "が関係あるかを見ます。プロットしてみます"
      ]
    },
    {
      "cell_type": "markdown",
      "metadata": {
        "id": "EUSSbmORbr8I"
      },
      "source": [
        "ここで　Lottery(一人当たりの掛け金)はLiteracy(識識字率)と人口とどう関係するかのモデル式を立てます。'np.log(Pop1831)'とあるのは、Pop1831(1831年の人口)の対数(numpyのlog関数を利用)を予め計算した仮想的な変数='np.log(Pop1831)'を説明変数として用いることを示しています。\n",
        "\n",
        "式＝'Lottery ~ Literacy + np.log(Pop1831)'\n",
        "\n",
        "\n",
        "以下は式の文法の一部です。上記式は、くじの掛け金（目的変数）は、識字率と、対数をとった人口の2種類の説明変数の重回帰モデルであることをしめします。\n",
        "\n",
        "|モデル式|式の意味|\n",
        "|:---|:---|\n",
        "|y ~ x| 単回帰モデル、yはxより説明され、切片項がある|\n",
        "|y ~ x-1|単回帰モデル、\"-1\"は切片項がないことを意味|\n",
        "|y ~ x1+x2|重回帰モデル、yはx1とx2により説明、切片項なし|\n",
        "|y ~ x1:x2| yは交互作用項(x1*x2)で説明される|\n",
        "|y ~ x1*x2| y ~x1+x2+x1:x2 と同じ"
      ]
    },
    {
      "cell_type": "code",
      "execution_count": null,
      "metadata": {
        "vscode": {
          "languageId": "python"
        },
        "id": "VO9MwI0wbr8K"
      },
      "outputs": [],
      "source": [
        "# Fit regression model (using the natural log of one of the regressors)\n",
        "results = smf.ols('Lottery ~ Literacy + np.log(Pop1831)', data=dat).fit()"
      ]
    },
    {
      "cell_type": "code",
      "execution_count": null,
      "metadata": {
        "vscode": {
          "languageId": "python"
        },
        "id": "QzYlOwQibr8M"
      },
      "outputs": [],
      "source": [
        "print(results.summary())"
      ]
    },
    {
      "cell_type": "code",
      "execution_count": null,
      "metadata": {
        "vscode": {
          "languageId": "python"
        },
        "id": "4VURKfctbr8O"
      },
      "outputs": [],
      "source": [
        "results.params"
      ]
    },
    {
      "cell_type": "markdown",
      "metadata": {
        "id": "IS486yDvbr8P"
      },
      "source": [
        "つまり回帰式は以下であることを示しています。\n",
        "\n",
        "y=246.43-0.489*Literacy-np.log(Pop1831)\n",
        "\n",
        "グラフにしてみます。"
      ]
    },
    {
      "cell_type": "code",
      "execution_count": null,
      "metadata": {
        "vscode": {
          "languageId": "python"
        },
        "id": "y69lK9PVbr8Q"
      },
      "outputs": [],
      "source": [
        "xdata= results.params['Intercept']+ dat['Literacy']+results.params['Literacy']*dat['Literacy']+results.params['np.log(Pop1831)']*np.log(dat['Pop1831'])\n",
        "plt.scatter(xdata, dat['Lottery'],)\n",
        "x=np.linspace(50,130,1000)\n",
        "plt.plot(x,x)"
      ]
    },
    {
      "cell_type": "markdown",
      "metadata": {
        "id": "CAeqJJzYbr8Q"
      },
      "source": [
        "結果の表示\n",
        "\n",
        "例題は、重回帰（複数の説明変数を使う）回帰なので、説明変数と目的変数の間の関係の可視化は困難です。そこで、説明変数を１つ選択してプロット（部分プロット）をすることができます。"
      ]
    },
    {
      "cell_type": "code",
      "execution_count": null,
      "metadata": {
        "vscode": {
          "languageId": "python"
        },
        "id": "Za-zeFNxbr8S"
      },
      "outputs": [],
      "source": [
        "fig = sm.graphics.plot_partregress_grid(results)\n",
        "fig.tight_layout(pad=1.0)"
      ]
    },
    {
      "cell_type": "markdown",
      "metadata": {
        "id": "f969HNMAbr8T"
      },
      "source": [
        "部分回帰グラフを表示してみます。"
      ]
    },
    {
      "cell_type": "code",
      "execution_count": null,
      "metadata": {
        "vscode": {
          "languageId": "python"
        },
        "id": "f9q6yPX7br8U"
      },
      "outputs": [],
      "source": [
        "fig, ax = plt.subplots(figsize=(8,4))\n",
        "ax.title.set_color('white')\n",
        "\n",
        "plt.style.use('default')\n",
        "sm.graphics.plot_partregress('Lottery', 'Literacy', ['Pop1831'], ax=ax,\n",
        "                                data=dat, obs_labels=False);"
      ]
    },
    {
      "cell_type": "markdown",
      "metadata": {
        "id": "5QQxdoOCbr8V"
      },
      "source": [
        "まとめたもの"
      ]
    },
    {
      "cell_type": "code",
      "execution_count": null,
      "metadata": {
        "vscode": {
          "languageId": "python"
        },
        "id": "fKyqSSXwbr8V"
      },
      "outputs": [],
      "source": [
        "import numpy as np\n",
        "import statsmodels.api as sm\n",
        "import statsmodels.formula.api as smf\n",
        "# Load data\n",
        "dat = sm.datasets.get_rdataset(\"Guerry\", \"HistData\").data\n",
        "# Fit regression model (using the natural log of one of the regressors)\n",
        "results = smf.ols('Lottery ~ Literacy + np.log(Pop1831)', data=dat).fit()\n",
        "# Inspect the results\n",
        "print(results.summary())"
      ]
    },
    {
      "cell_type": "markdown",
      "metadata": {
        "id": "eLIjkZJEbr8X"
      },
      "source": [
        "R言語の式以外の書き方（もともとのstatsmodelでのモデル入力のやり方）でやるとこうなります。\n",
        "\n",
        "ここでは$X$を説明変数、$Y$を目的変数とし\n",
        "\n",
        "$X=\\beta_0+\\beta_1x$\n",
        "\n",
        "とし、\n",
        "\n",
        "$y=X+\\epsilon$\n",
        "\n",
        "ここで、$\\beta$は係数、$\\epsilon$はノイズである。\n",
        "\n",
        "$\\beta_0=1,\\beta_1=0.1$として人工データを生成しそのデータから$\\beta$を推定させる。"
      ]
    },
    {
      "cell_type": "code",
      "execution_count": null,
      "metadata": {
        "vscode": {
          "languageId": "python"
        },
        "id": "C1Msd6Dobr8Y"
      },
      "outputs": [],
      "source": [
        "import numpy as np\n",
        "import statsmodels.api as sm\n",
        "from statsmodels.sandbox.regression.predstd import wls_prediction_std\n",
        "\n",
        "np.random.seed(9876789)\n",
        "\n",
        "# 100個のサンプルを生成\n",
        "nsample = 100\n",
        "x = np.linspace(0, 10, nsample) # 0から10まで100個等間隔の点列を生成\n",
        "beta = np.array([1, 0.1]) #人工データでのβ\n",
        "e = np.random.normal(size=nsample) #ノイズは正規分布から100個生成\n",
        "X = sm.add_constant(x) # Xは設計行列で、まずはxに定数項を追加\n",
        "y_true=np.dot(X, beta) # y_trueも確率変数でXと掛け合わせてy_trueを得る\n",
        "y = y_true + e # y_trueにノイズを付与して人工データyが完成\n",
        "\n"
      ]
    },
    {
      "cell_type": "markdown",
      "metadata": {
        "id": "a_1PWzSvbr8Z"
      },
      "source": [
        "Xが「設計(design)行列」であることを確認する"
      ]
    },
    {
      "cell_type": "code",
      "execution_count": null,
      "metadata": {
        "vscode": {
          "languageId": "python"
        },
        "id": "lrW7Utgqbr8a"
      },
      "outputs": [],
      "source": [
        "X"
      ]
    },
    {
      "cell_type": "markdown",
      "metadata": {
        "id": "YbvAvtGibr8b"
      },
      "source": [
        "データをプロットしてみる"
      ]
    },
    {
      "cell_type": "code",
      "execution_count": null,
      "metadata": {
        "vscode": {
          "languageId": "python"
        },
        "id": "52R-T6T_br8c"
      },
      "outputs": [],
      "source": [
        "plt.scatter(x,y)"
      ]
    },
    {
      "cell_type": "markdown",
      "metadata": {
        "id": "gO9UOnVcbr8d"
      },
      "source": [
        "ここから、最小二乗法(OLS)にて回帰係数を求める"
      ]
    },
    {
      "cell_type": "code",
      "execution_count": null,
      "metadata": {
        "vscode": {
          "languageId": "python"
        },
        "id": "J2ibtbI_br8d"
      },
      "outputs": [],
      "source": [
        "# Fit regression model\n",
        "results = sm.OLS(y, X).fit() #データyに対して設計行列(定数とxで構成)で最小2乗回帰\n",
        "# Inspect the results\n",
        "print(results.summary())"
      ]
    },
    {
      "cell_type": "code",
      "execution_count": null,
      "metadata": {
        "vscode": {
          "languageId": "python"
        },
        "id": "s-HM0qjebr8e"
      },
      "outputs": [],
      "source": [
        "results.params"
      ]
    },
    {
      "cell_type": "code",
      "execution_count": null,
      "metadata": {
        "vscode": {
          "languageId": "python"
        },
        "id": "Sz93LHK2br8f"
      },
      "outputs": [],
      "source": [
        "results.rsquared"
      ]
    },
    {
      "cell_type": "markdown",
      "metadata": {
        "id": "DeJFh6qmbr8f"
      },
      "source": [
        "回帰結果を、重ねて表示する。wls_prediction_std関数を使って、95%信頼区間も同時に表示"
      ]
    },
    {
      "cell_type": "code",
      "execution_count": null,
      "metadata": {
        "vscode": {
          "languageId": "python"
        },
        "id": "9CU6QUK7br8g"
      },
      "outputs": [],
      "source": [
        "prstd, iv_l, iv_u = wls_prediction_std(results)\n",
        "fig, ax = plt.subplots(figsize=(8,6))\n",
        "ax.plot(x, y, 'o', label=\"data\")\n",
        "ax.plot(x, y_true, 'b-', label=\"True\")\n",
        "ax.plot(x, results.fittedvalues, 'r--.', label=\"OLS\")\n",
        "ax.plot(x, iv_u, 'r--')\n",
        "ax.plot(x, iv_l, 'r--')\n",
        "ax.legend(loc='best');"
      ]
    },
    {
      "cell_type": "markdown",
      "metadata": {
        "id": "zE2Aq68Wbr8g"
      },
      "source": [
        "残差を見てみる"
      ]
    },
    {
      "cell_type": "code",
      "execution_count": null,
      "metadata": {
        "vscode": {
          "languageId": "python"
        },
        "id": "L32kZA6Vbr8h"
      },
      "outputs": [],
      "source": [
        "plt.hist(results.resid)"
      ]
    },
    {
      "cell_type": "markdown",
      "metadata": {
        "id": "pZWpMowMbr8i"
      },
      "source": [
        "以上の例を、R-styleでもやってみる\n",
        "\n",
        "\n"
      ]
    },
    {
      "cell_type": "code",
      "execution_count": null,
      "metadata": {
        "vscode": {
          "languageId": "python"
        },
        "id": "-dZmTfhwbr8j"
      },
      "outputs": [],
      "source": [
        "import numpy as np\n",
        "import statsmodels.api as sm\n",
        "from statsmodels.sandbox.regression.predstd import wls_prediction_std\n",
        "import pandas as pd\n",
        "\n",
        "df=pd.DataFrame({'y':y,'x':x})\n",
        "df"
      ]
    },
    {
      "cell_type": "code",
      "execution_count": null,
      "metadata": {
        "vscode": {
          "languageId": "python"
        },
        "id": "UOmSOrYRbr8j"
      },
      "outputs": [],
      "source": [
        "# Fit regression model (using the natural log of one of the regressors)\n",
        "results = smf.ols('y ~ x', data=df).fit()\n",
        "# Inspect the results\n",
        "print(results.summary())"
      ]
    },
    {
      "cell_type": "code",
      "execution_count": null,
      "metadata": {
        "vscode": {
          "languageId": "python"
        },
        "id": "n0CkbHiHbr8k"
      },
      "outputs": [],
      "source": [
        "prstd, iv_l, iv_u = wls_prediction_std(results)\n",
        "fig, ax = plt.subplots(figsize=(8,6))\n",
        "ax.plot(x, y, 'o', label=\"data\")\n",
        "ax.plot(x, y_true, 'b-', label=\"True\")\n",
        "ax.plot(x, results.fittedvalues, 'r--.', label=\"OLS\")\n",
        "ax.plot(x, iv_u, 'r--')\n",
        "ax.plot(x, iv_l, 'r--')\n",
        "ax.legend(loc='best');"
      ]
    },
    {
      "cell_type": "markdown",
      "source": [
        "##### 最尤推定量を求める例\n",
        "正規分布$N(\\mu,\\nu)$から標本$X=\\{x_1,x_2,\\cdots,x_n\\}$が得られたとき、平均$\\mu$と分散$\\nu$の最尤推定量を求める。$\\mu,\\nu$が与えられた時の確率密度関数$f$は、\n",
        "\n",
        "$$f(X;\\mu,\\nu)=\\frac{1}{(\\sqrt{2\\pi\\nu})^n}exp\\Big(-\\frac{\\sum_{i=1}^n(x_i-\\mu)^2}{2\\nu}\\Big)$$\n",
        "\n",
        "\n",
        "$f(X;\\mu,\\nu)$を$\\mu$に対して、プロットしてみます。"
      ],
      "metadata": {
        "id": "1U55v37Zcdad"
      }
    },
    {
      "cell_type": "code",
      "source": [
        "import numpy as np\n",
        "import scipy.stats as stats\n",
        "import matplotlib.pyplot as plt\n",
        "\n",
        "# データ生成\n",
        "mu = 0  # 平均\n",
        "sigma = 1  # 標準偏差\n",
        "n = 20 # サンプル数\n",
        "samples = np.random.normal(mu, sigma, n)\n",
        "print(samples)\n",
        "\n",
        "# 確率密度関数の計算\n",
        "mu_vals = np.linspace(-5, 5, 1000)  # μの値を生成\n",
        "pdf = stats.norm.pdf(samples, loc=mu_vals[:, None], scale=sigma)\n",
        "pdf_product = np.prod(pdf, axis=1)\n",
        "\n",
        "# プロット\n",
        "plt.plot(mu_vals, pdf_product)\n",
        "#plt.plot(mu_vals, np.log(pdf_product))\n",
        "plt.xlabel(\"mu\")\n",
        "plt.ylabel(\"probability density\")\n",
        "plt.title(\"Probability density function for mu\")\n",
        "plt.show()\n"
      ],
      "metadata": {
        "id": "pYvKWyYDb2p5"
      },
      "execution_count": null,
      "outputs": []
    },
    {
      "cell_type": "code",
      "source": [
        "# logプロット\n",
        "plt.plot(mu_vals, np.log(pdf_product))\n",
        "plt.xlabel(\"mu\")\n",
        "plt.ylabel(\"probability density\")\n",
        "plt.title(\"Probability density function for mu\")\n",
        "plt.show()"
      ],
      "metadata": {
        "id": "Lhz_STtTczCZ"
      },
      "execution_count": null,
      "outputs": []
    },
    {
      "cell_type": "markdown",
      "metadata": {
        "id": "53lCaylwbr8m"
      },
      "source": [
        "## 家計調査"
      ]
    },
    {
      "cell_type": "code",
      "execution_count": null,
      "metadata": {
        "vscode": {
          "languageId": "python"
        },
        "id": "nZ4BNCPfbr8n"
      },
      "outputs": [],
      "source": [
        "# -*- coding: utf-8 -*-\n",
        "import numpy as np\n",
        "import pandas as pd\n",
        "import matplotlib.pyplot as plt\n",
        "%matplotlib inline\n",
        "\n",
        "import statsmodels.formula.api as smf\n",
        "\n",
        "url = 'https://sites.google.com/site/datasciencehiro/datasets/FamilyIncome.csv'\n",
        "#url = 'datasets/FamilyIncome.csv'\n",
        "df = pd.read_csv(url, comment='#')\n",
        "FLAG_fig=True\n",
        "\n",
        "print(df)"
      ]
    },
    {
      "cell_type": "markdown",
      "metadata": {
        "id": "m-cHQ4ePbr8o"
      },
      "source": [
        "- income: 年間収入\n",
        "- expendiure: 一か月支出\n",
        "- engel: エンゲル係数"
      ]
    },
    {
      "cell_type": "code",
      "execution_count": null,
      "metadata": {
        "vscode": {
          "languageId": "python"
        },
        "id": "ZMgSFFmGbr8p"
      },
      "outputs": [],
      "source": [
        "df"
      ]
    },
    {
      "cell_type": "markdown",
      "metadata": {
        "id": "TkOGSHpKbr8p"
      },
      "source": [
        "- ols(ordinary least squares、最小2乗)法を用いて単回帰モデルを求める。\n",
        "- https://en.wikipedia.org/wiki/Ordinary_least_squares データ数 < 20 の場合には、尖度（kurtosis）の評価（olsではkurtosistestと表記）が有効にできないというwarningメッセージが現れるが、ここではこの評価は使わないので無視する。\n",
        "- scipy.stats.kurtosistest https://docs.scipy.org/doc/scipy-0.14.0/reference/generated/scipy.stats.kurtosistest.html\n",
        "- Kurtosis: https://en.wikipedia.org/wiki/Kurtosis"
      ]
    },
    {
      "cell_type": "markdown",
      "metadata": {
        "id": "8b4uEHo2br8q"
      },
      "source": [
        "最初に、一か月支出(expenditure)と年間収入(income)の関係を回帰分析する"
      ]
    },
    {
      "cell_type": "code",
      "execution_count": null,
      "metadata": {
        "vscode": {
          "languageId": "python"
        },
        "id": "Ucf2xN5Ibr8r"
      },
      "outputs": [],
      "source": [
        "result = smf.ols('expenditure ~ income', data=df).fit()\n",
        "print(result.summary())"
      ]
    },
    {
      "cell_type": "code",
      "execution_count": null,
      "metadata": {
        "vscode": {
          "languageId": "python"
        },
        "id": "X6dVVck7br8s"
      },
      "outputs": [],
      "source": [
        "result.params"
      ]
    },
    {
      "cell_type": "code",
      "execution_count": null,
      "metadata": {
        "vscode": {
          "languageId": "python"
        },
        "id": "wlCNMyBhbr8t"
      },
      "outputs": [],
      "source": [
        "b0, b1 = result.params\n",
        "prstd, iv_l, iv_u = wls_prediction_std(result)\n",
        "plt.plot(df['income'],df['expenditure'], 'o')\n",
        "plt.plot(df['income'], b0+b1*df['income'], c='k')\n",
        "plt.plot(df['income'], iv_u, 'r--')\n",
        "plt.plot(df['income'], iv_l, 'r--')\n",
        "plt.xlabel('income [x 10000YEN]')\n",
        "plt.ylabel('expenditure')\n",
        "\n",
        "plt.tight_layout()\n",
        "if FLAG_fig: plt.savefig('REG_Simple_FamilyIncome1.png')\n",
        "#plt.show()"
      ]
    },
    {
      "cell_type": "markdown",
      "metadata": {
        "id": "j26clns9br8u"
      },
      "source": [
        "予測"
      ]
    },
    {
      "cell_type": "code",
      "execution_count": null,
      "metadata": {
        "vscode": {
          "languageId": "python"
        },
        "id": "VOxuwVqHbr8u"
      },
      "outputs": [],
      "source": [
        "NewData = {'income':[1100,1200]}\n",
        "df_new = pd.DataFrame(NewData)\n",
        "pred = result.predict(df_new)\n",
        "pred"
      ]
    },
    {
      "cell_type": "code",
      "execution_count": null,
      "metadata": {
        "vscode": {
          "languageId": "python"
        },
        "id": "s8zJVXCybr8v"
      },
      "outputs": [],
      "source": [
        "df_new"
      ]
    },
    {
      "cell_type": "markdown",
      "metadata": {
        "id": "d5qTNqBIbr8v"
      },
      "source": [
        "上のグラフを見ると，最低収入と最高収入のデータが最も外れているように見えるので，この2点をはずした回帰分析を再度行う。"
      ]
    },
    {
      "cell_type": "code",
      "execution_count": null,
      "metadata": {
        "vscode": {
          "languageId": "python"
        },
        "id": "c6dbuoYmbr8w"
      },
      "outputs": [],
      "source": [
        "df1=df.copy()\n",
        "df1.drop(9, inplace=True)\n",
        "df1.drop(0, inplace=True)"
      ]
    },
    {
      "cell_type": "code",
      "execution_count": null,
      "metadata": {
        "vscode": {
          "languageId": "python"
        },
        "id": "Y-X2T5VKbr8x"
      },
      "outputs": [],
      "source": [
        "result = smf.ols('expenditure ~ income', data=df1).fit()\n",
        "result.summary()"
      ]
    },
    {
      "cell_type": "code",
      "execution_count": null,
      "metadata": {
        "vscode": {
          "languageId": "python"
        },
        "id": "cuojhQ0Pbr8y"
      },
      "outputs": [],
      "source": [
        "a, b = result.params\n",
        "prstd, iv_l, iv_u = wls_prediction_std(result)\n",
        "plt.plot(df1['income'],df1['expenditure'], 'o', c='k')\n",
        "plt.plot(df1['income'], a+b*df1['income'])\n",
        "plt.plot(df1['income'], iv_u, 'r--')\n",
        "plt.plot(df1['income'], iv_l, 'r--')\n",
        "plt.xlabel('income [x 10000YEN]')\n",
        "plt.ylabel('expenditure')\n",
        "plt.show()"
      ]
    },
    {
      "cell_type": "markdown",
      "metadata": {
        "id": "isK5xYgHbr8y"
      },
      "source": [
        "95%信頼区間が狭まりました"
      ]
    },
    {
      "cell_type": "markdown",
      "metadata": {
        "id": "7f7fT2Aebr8z"
      },
      "source": [
        "エンゲル計数と年間収入を回帰分析する"
      ]
    },
    {
      "cell_type": "code",
      "execution_count": null,
      "metadata": {
        "vscode": {
          "languageId": "python"
        },
        "id": "uMsybKn_br8z"
      },
      "outputs": [],
      "source": [
        "result = smf.ols('engel ~ income', data=df1).fit()\n",
        "result.summary()"
      ]
    },
    {
      "cell_type": "code",
      "execution_count": null,
      "metadata": {
        "vscode": {
          "languageId": "python"
        },
        "id": "TGuHUmbDbr8z"
      },
      "outputs": [],
      "source": [
        "a, b = result.params\n",
        "prstd, iv_l, iv_u = wls_prediction_std(result)\n",
        "plt.plot(df1['income'],df1['engel'], 'o', c='k')\n",
        "plt.plot(df1['income'], a+b*df1['income'])\n",
        "plt.plot(df1['income'], iv_u, 'r--')\n",
        "plt.plot(df1['income'], iv_l, 'r--')\n",
        "plt.xlabel('income [x 10000YEN]')\n",
        "plt.ylabel('engel')\n",
        "plt.show()"
      ]
    },
    {
      "cell_type": "markdown",
      "metadata": {
        "id": "vRCo1uxkbr80"
      },
      "source": [
        "## 多項式回帰分析\n",
        "Rデータセットのcarsのデータを用いる。\n",
        "carsの説明 : 次のサイトからcarsを検索  \n",
        "https://stat.ethz.ch/R-manual/R-＃#devel/library/datasets/html/00Index.html <br>\n",
        "このデータを予め取得して、下記のように置いた。<br>\n",
        "これを読み込み、多項式回帰分析を説明する。<br>\n",
        "\n",
        "本Notebookと類似のREG_Poly_R_cars.ipynbはRデータセットを読込むために、別途、必要なパッケージを予めインストールして、この上で、Rデータセットを読込む。このインストールを省くことを行ったのが本Notebookである。"
      ]
    },
    {
      "cell_type": "code",
      "execution_count": null,
      "metadata": {
        "vscode": {
          "languageId": "python"
        },
        "id": "Vr0xJ8yhbr80"
      },
      "outputs": [],
      "source": [
        "# -*- coding: utf-8 -*-\n",
        "import numpy as np\n",
        "import pandas as pd\n",
        "import matplotlib.pyplot as plt\n",
        "%matplotlib inline\n",
        "\n",
        "import statsmodels.formula.api as smf\n",
        "\n",
        "FLAG_fig = True"
      ]
    },
    {
      "cell_type": "code",
      "execution_count": null,
      "metadata": {
        "vscode": {
          "languageId": "python"
        },
        "id": "_60o_zCKbr81"
      },
      "outputs": [],
      "source": [
        "url = \"https://sites.google.com/site/datasciencehiro/datasets/cars_R_datasets.csv\"\n",
        "#url = \"datasets/cars_R_datasets.csv\"\n",
        "df = pd.read_csv(url)  # read datasets of cars\n",
        "x = df.speed\n",
        "df.head()"
      ]
    },
    {
      "cell_type": "markdown",
      "metadata": {
        "id": "jR02C-6ybr81"
      },
      "source": [
        "#### 1次モデル\n",
        "$y = b_0 + b_1 x$"
      ]
    },
    {
      "cell_type": "code",
      "execution_count": null,
      "metadata": {
        "vscode": {
          "languageId": "python"
        },
        "id": "zpA7rXT6br82"
      },
      "outputs": [],
      "source": [
        "result1 = smf.ols('dist ~ speed', data=df).fit()\n",
        "print(result1.summary())\n",
        "b0, b1 = result1.params"
      ]
    },
    {
      "cell_type": "code",
      "execution_count": null,
      "metadata": {
        "vscode": {
          "languageId": "python"
        },
        "id": "7qCT4w7bbr82"
      },
      "outputs": [],
      "source": [
        "df.plot(kind='scatter', x='speed', y='dist')\n",
        "plt.plot(x, b0+b1*x)\n",
        "\n",
        "if FLAG_fig: plt.savefig('fig_REG_poy_R_cars_01.png')"
      ]
    },
    {
      "cell_type": "markdown",
      "metadata": {
        "id": "7hzJtb0Sbr84"
      },
      "source": [
        "#### 2次モデル\n",
        "$y = b_0 + b_1 x + b_2 x^2$"
      ]
    },
    {
      "cell_type": "code",
      "execution_count": null,
      "metadata": {
        "vscode": {
          "languageId": "python"
        },
        "id": "1Dz2QHXWbr86"
      },
      "outputs": [],
      "source": [
        "result2 = smf.ols('dist ~ np.power(speed,2) + speed', data=df).fit()\n",
        "print(result2.summary())\n",
        "b0, b2, b1 = result2.params"
      ]
    },
    {
      "cell_type": "code",
      "execution_count": null,
      "metadata": {
        "vscode": {
          "languageId": "python"
        },
        "id": "3NFf51Mobr87"
      },
      "outputs": [],
      "source": [
        "df.plot(kind='scatter', x='speed', y='dist')\n",
        "plt.plot(x, b0+b1*x+b2*(x**2))\n",
        "\n",
        "if FLAG_fig: plt.savefig('fig_REG_poy_R_cars_02.png')"
      ]
    },
    {
      "cell_type": "markdown",
      "metadata": {
        "id": "0MBmubEbbr88"
      },
      "source": [
        "#### 3次モデル\n",
        "$y = b_0 + b_1  + b_2 x^2 + b_3 x^3$"
      ]
    },
    {
      "cell_type": "code",
      "execution_count": null,
      "metadata": {
        "vscode": {
          "languageId": "python"
        },
        "id": "hscMBOsHbr89"
      },
      "outputs": [],
      "source": [
        "result3 = smf.ols('dist ~ np.power(speed,3) + np.power(speed,2) + speed', data=df).fit()\n",
        "print(result3.summary())\n",
        "b0, b3, b2, b1 = result3.params"
      ]
    },
    {
      "cell_type": "code",
      "execution_count": null,
      "metadata": {
        "vscode": {
          "languageId": "python"
        },
        "id": "dQcbzf_4br89"
      },
      "outputs": [],
      "source": [
        "df.plot(kind='scatter', x='speed', y='dist')\n",
        "plt.plot(x, b0+b1*x+b2*(x**2) + b3*(x**3))\n",
        "\n",
        "if FLAG_fig: plt.savefig('fig_REG_poy_R_cars_03.png')"
      ]
    },
    {
      "cell_type": "markdown",
      "metadata": {
        "id": "DROrkuHcbr8-"
      },
      "source": [
        "## nupmy.polyfit（）を用いたカーブフィッティングの例"
      ]
    },
    {
      "cell_type": "code",
      "execution_count": null,
      "metadata": {
        "vscode": {
          "languageId": "python"
        },
        "id": "60x8QHxwbr8_"
      },
      "outputs": [],
      "source": [
        "x = df.speed\n",
        "y = df.dist\n",
        "degree = 2\n",
        "fit = np.polyfit(x, y, degree)\n",
        "print(fit)\n",
        "est = np.poly1d(fit)\n",
        "print(est)\n",
        "plt.scatter(x,y)\n",
        "plt.plot(x,est(x))\n",
        "plt.title('degree = %d' % degree)"
      ]
    },
    {
      "cell_type": "code",
      "execution_count": null,
      "metadata": {
        "vscode": {
          "languageId": "python"
        },
        "id": "IUwnAgY1br9C"
      },
      "outputs": [],
      "source": [
        "degree = 3\n",
        "fit = np.polyfit(x, y, degree)\n",
        "print(fit)\n",
        "est = np.poly1d(fit)\n",
        "print(est)\n",
        "plt.scatter(x,y)\n",
        "plt.plot(x,est(x))\n",
        "plt.title('degree = %d' % degree)"
      ]
    },
    {
      "cell_type": "markdown",
      "metadata": {
        "id": "PpfBl3vMbr9D"
      },
      "source": [
        "overfittingの例"
      ]
    },
    {
      "cell_type": "code",
      "execution_count": null,
      "metadata": {
        "vscode": {
          "languageId": "python"
        },
        "id": "uoKZUqC_br9E"
      },
      "outputs": [],
      "source": [
        "degree = 9\n",
        "fit = np.polyfit(x, y, degree)\n",
        "print(fit)\n",
        "est = np.poly1d(fit)\n",
        "print(est)\n",
        "plt.scatter(x,y)\n",
        "plt.plot(x,est(x))\n",
        "plt.title('degree = %d' % degree)"
      ]
    }
  ],
  "metadata": {
    "interpreter": {
      "hash": "2db524e06e9f5f4ffedc911c917cb75e12dbc923643829bf417064a77eb14d37"
    },
    "kernelspec": {
      "display_name": "Environment (conda_caret2test)",
      "language": "python",
      "name": "conda_caret2test"
    },
    "orig_nbformat": 4,
    "colab": {
      "provenance": []
    }
  },
  "nbformat": 4,
  "nbformat_minor": 0
}