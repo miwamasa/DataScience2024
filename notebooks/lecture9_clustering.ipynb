{
  "cells": [
    {
      "cell_type": "markdown",
      "metadata": {
        "id": "1BjMA1yFyJOk"
      },
      "source": [
        "# Lecture9　パターン認識2（クラスタリング）\n",
        "<div dir='rtl'>\n",
        "2024.5岩政\n",
        "</div>\n",
        "\n",
        "## クラスタリング"
      ]
    },
    {
      "cell_type": "markdown",
      "metadata": {
        "id": "uKaGvbQnyJOo"
      },
      "source": [
        "## kMeans(K平均法)\n",
        "#### make_blobsを用いたクラスタリング（教師なし）\n",
        "kMeans http://scikit-learn.org/stable/modules/generated/sklearn.cluster.KMeans.html<br>\n",
        "make_blobs() サンプルデータの生成　sklearn.datasets.make_blobs<br>\n",
        "http://scikit-learn.org/stable/modules/generated/sklearn.datasets.make_blobs.html"
      ]
    },
    {
      "cell_type": "code",
      "execution_count": null,
      "metadata": {
        "id": "iHjMX5NVyJOp"
      },
      "outputs": [],
      "source": [
        "# -*- coding: utf-8 -*-\n",
        "import numpy as np\n",
        "import matplotlib.pyplot as plt\n",
        "%matplotlib inline\n",
        "from matplotlib import cm\n",
        "\n",
        "from sklearn.datasets import make_blobs\n",
        "from sklearn.cluster import KMeans\n",
        "from sklearn.metrics import  accuracy_score, classification_report"
      ]
    },
    {
      "cell_type": "code",
      "execution_count": null,
      "metadata": {
        "id": "-4dTHpZ2yJOr"
      },
      "outputs": [],
      "source": [
        "X, y = make_blobs(  #今回，目的変数（教師データ）yは用いない\n",
        "    n_samples=600,  # サンプル数\n",
        "    n_features=2,    # データ（説明変数）の特徴量の種類\n",
        "    centers=4,       # データのグループ数\n",
        "    cluster_std=1.0, # データのばらつきの標準偏差\n",
        "    random_state=2)  # 確率変数の再現性を設定\n",
        "X_train = X\n",
        "y_train = y\n",
        "plt.scatter(X_train[:,0], X_train[:,1])\n"
      ]
    },
    {
      "cell_type": "markdown",
      "metadata": {
        "id": "PZ0TlEcgyJOs"
      },
      "source": [
        "散布図を見ると3つのグループ（クラスタ）に見えるので，クラスタを3つとして分類"
      ]
    },
    {
      "cell_type": "code",
      "execution_count": null,
      "metadata": {
        "id": "fp9bXHbKyJOs"
      },
      "outputs": [],
      "source": [
        "kmeans = KMeans(n_clusters=3)\n",
        "y_train_est = kmeans.fit_predict(X_train)\n",
        "#print(y_train_est[0:20])\n",
        "plt.scatter(X_train[:,0], X_train[:,1], c=y_train_est, cmap=cm.bwr, edgecolors='k')\n"
      ]
    },
    {
      "cell_type": "code",
      "execution_count": null,
      "metadata": {
        "id": "aKimXdOxyJOs"
      },
      "outputs": [],
      "source": [
        "centers = kmeans.cluster_centers_\n",
        "centers"
      ]
    },
    {
      "cell_type": "code",
      "execution_count": null,
      "metadata": {
        "id": "YfGMGOcEyJOt"
      },
      "outputs": [],
      "source": [
        "from scipy.spatial.distance import cdist\n",
        "radii = [cdist(X_train[y_train_est == i], [center]).max()\n",
        "            for i, center in enumerate(centers)]\n",
        "radii"
      ]
    },
    {
      "cell_type": "code",
      "execution_count": null,
      "metadata": {
        "id": "ho1BA1o-yJOt"
      },
      "outputs": [],
      "source": [
        "# plot the representation of the KMeans model\n",
        "centers = kmeans.cluster_centers_\n",
        "radii = [cdist(X_train[y_train_est == i], [center]).max()\n",
        "            for i, center in enumerate(centers)]\n",
        "fig, ax = plt.subplots(facecolor=\"w\")\n",
        "ax.axis('equal')\n",
        "#plt.scatter(X_train[:,0], X_train[:,1], c=y_train_est, cmap=cm.bwr, edgecolors='k')\n",
        "ax.scatter(X_train[:, 0], X_train[:, 1], c=y_train_est,cmap=cm.bwr, edgecolors='k')\n",
        "for c, r in zip(centers, radii):\n",
        "        #ax.add_patch(plt.Circle(c, r, fc='#CCCCCC', lw=3, alpha=0.4, zorder=1))\n",
        "        ax.add_patch(plt.Circle(c, r,fill=False,color = 'k'))"
      ]
    },
    {
      "cell_type": "code",
      "execution_count": null,
      "metadata": {
        "id": "Spl0kYvgyJOv"
      },
      "outputs": [],
      "source": [
        "radii"
      ]
    },
    {
      "cell_type": "code",
      "execution_count": null,
      "metadata": {
        "id": "bselivy5yJOw"
      },
      "outputs": [],
      "source": [
        "#plot_kmeans(kmeans, X_train)"
      ]
    },
    {
      "cell_type": "markdown",
      "metadata": {
        "id": "sUEbvTu5yJOy"
      },
      "source": [
        "クラスタを4つとして分類"
      ]
    },
    {
      "cell_type": "code",
      "execution_count": null,
      "metadata": {
        "id": "VILA5oR8yJO0"
      },
      "outputs": [],
      "source": [
        "kmeans = KMeans(n_clusters=4)\n",
        "cluster = kmeans.fit(X_train)\n",
        "y_train_est = kmeans.predict(X_train)\n",
        "#print(y_train_est[0:20])\n",
        "plt.scatter(X_train[:,0], X_train[:,1], c=y_train_est, cmap=cm.bwr, edgecolors='k')\n"
      ]
    },
    {
      "cell_type": "markdown",
      "metadata": {
        "id": "ZKy56UBWyJO1"
      },
      "source": [
        "上記の2つの結果を見て，クラスタ数が３または４なのか，どちらが正しいかは不明としか言いようがない。\n",
        "\n",
        "あまり意味はないが，クラスタ数が真のそれと一致しているとき，クラスタ器の性能評価を行ってみる。\n",
        "ただし，評価は難しい。理由は，y_train_estに与えられるクラスタ番号の順序が一定していないので，\n",
        "y_trainのクラスタ番号に順に合わせる必要がある。\n",
        "そのため，上記まで実行したら，スクリプトはこれ以降のみを扱い，眼で見て修正を行う。\n",
        "あまり意味はないが，クラスタ数が真のそれと一致しているとき，クラスタ器の性能評価を行ってみる。\n",
        "ただし，評価は難しい。理由は，y_train_estに与えられるクラスタ番号の順序が一定していないので，\n",
        "y_trainのクラスタ番号に順に合わせる必要がある。\n",
        "そのため，上記まで実行したら，スクリプトはこれ以降のみを扱い，眼で見て修正を行う"
      ]
    },
    {
      "cell_type": "markdown",
      "metadata": {
        "id": "be3tTY5xyJO1"
      },
      "source": [
        "検証するには、accuracy_score関数や、classification_report関数を使います。"
      ]
    },
    {
      "cell_type": "code",
      "execution_count": null,
      "metadata": {
        "id": "Ibt6WJn6yJO2"
      },
      "outputs": [],
      "source": [
        "print('accuracy =%f ' % accuracy_score(y_train, y_train_est))\n",
        "print(classification_report(y_train, y_train_est))"
      ]
    },
    {
      "cell_type": "markdown",
      "metadata": {
        "id": "kyesSGd86LYI"
      },
      "source": [
        "## K平均法を回帰に使う、カリフォルニア住宅価格データセット\n",
        "過去はボストン住宅価格を使っていたが、データセットに問題があった\n",
        "\n",
        "The Boston housing prices dataset has an ethical problem: as\n",
        "investigated in [1]\n",
        "\n",
        "[1] M Carlisle.\n",
        "\"Racist data destruction?\"</br>\n",
        "https://medium.com/@docintangible/racist-data-destruction-113e3eff54a8"
      ]
    },
    {
      "cell_type": "code",
      "execution_count": null,
      "metadata": {
        "id": "VMTro0Xz6VAA"
      },
      "outputs": [],
      "source": [
        "import pandas as pd\n",
        "#california_housing.csv\n",
        "url = 'https://raw.githubusercontent.com/miwamasa/DataScience2024/main/notebooks/data/california_housing.csv'\n",
        "home_data = pd.read_csv(url, usecols = ['longitude', 'latitude', 'median_house_value'])\n",
        "print(len(home_data))\n",
        "home_data.head()"
      ]
    },
    {
      "cell_type": "markdown",
      "metadata": {
        "id": "nadeIsfKqufc"
      },
      "source": [
        "データセットは、カリフォルニア州の、20640か所における、住宅価格データの集計値\n",
        "\n",
        "- longitude\t緯度\n",
        "- latitude\t経度\n",
        "- median_house_value　住宅価格の中央値\n",
        "\n",
        "緯度経度に従って、可視化してみる。"
      ]
    },
    {
      "cell_type": "code",
      "execution_count": null,
      "metadata": {
        "id": "SiT_LL5_7G8I"
      },
      "outputs": [],
      "source": [
        "import seaborn as sns\n",
        "import matplotlib.pyplot as plt\n",
        "\n",
        "sns.scatterplot(data = home_data, x = 'longitude', y = 'latitude', hue = 'median_house_value')\n",
        "#plt.savefig('fig_california_house_price.jpg')"
      ]
    },
    {
      "cell_type": "markdown",
      "metadata": {
        "id": "5ROZIxaeuhqF"
      },
      "source": [
        "訓練データと、テストデータに分けます"
      ]
    },
    {
      "cell_type": "code",
      "execution_count": null,
      "metadata": {
        "id": "IPnGgKdV7QSJ"
      },
      "outputs": [],
      "source": [
        "from sklearn.model_selection import train_test_split\n",
        "\n",
        "X_train, X_test, y_train, y_test = train_test_split(home_data[['latitude', 'longitude']], home_data[['median_house_value']], test_size=0.33, random_state=0)"
      ]
    },
    {
      "cell_type": "markdown",
      "metadata": {
        "id": "en--izQJuq9o"
      },
      "source": [
        "データを標準化します。"
      ]
    },
    {
      "cell_type": "code",
      "execution_count": null,
      "metadata": {
        "id": "PDKs0BSk7U1u"
      },
      "outputs": [],
      "source": [
        "from sklearn import preprocessing\n",
        "\n",
        "X_train_norm = preprocessing.normalize(X_train)\n",
        "X_test_norm = preprocessing.normalize(X_test)"
      ]
    },
    {
      "cell_type": "markdown",
      "metadata": {
        "id": "bsNW7THcuyHa"
      },
      "source": [
        "K平均法(KMeans)によりクラスタリングを試みます、K=3"
      ]
    },
    {
      "cell_type": "code",
      "execution_count": null,
      "metadata": {
        "id": "JAM2UAGX7aw7"
      },
      "outputs": [],
      "source": [
        "from sklearn.cluster import KMeans\n",
        "\n",
        "kmeans = KMeans(n_clusters = 3, random_state = 0, n_init='auto')\n",
        "kmeans.fit(X_train_norm)"
      ]
    },
    {
      "cell_type": "markdown",
      "metadata": {
        "id": "Jv5EEbtpu9de"
      },
      "source": [
        "結果をプロットします。北、中央、南に分けることができたようです。"
      ]
    },
    {
      "cell_type": "code",
      "execution_count": null,
      "metadata": {
        "id": "ExMvXKlb70cg"
      },
      "outputs": [],
      "source": [
        "sns.scatterplot(data = X_train, x = 'longitude', y = 'latitude', hue = kmeans.labels_)"
      ]
    },
    {
      "cell_type": "markdown",
      "metadata": {
        "id": "RyuyvNravHMV"
      },
      "source": [
        "ボックスプロットをしてます。"
      ]
    },
    {
      "cell_type": "code",
      "execution_count": null,
      "metadata": {
        "id": "73di6naU75D-"
      },
      "outputs": [],
      "source": [
        "sns.boxplot(x = kmeans.labels_, y = y_train['median_house_value'])"
      ]
    },
    {
      "cell_type": "markdown",
      "metadata": {
        "id": "Ehjx8FQ7vXmD"
      },
      "source": [
        "scikit-learnのsilhouette_scoreは、クラスタリングの性能を評価するための指標の1つで、シルエット係数と呼ばれます。シルエット係数は、クラスタリング結果の質を測る指標の1つで、クラスタ内のデータの密度と、クラスタ間の距離のバランスを測るものです。値は-1から1の範囲で表され、1に近づくほどクラスタリングが良好であることを示します。\n",
        "\n",
        "具体的には、シルエット係数は、以下のように定義されます。\n",
        "\n",
        "$$s(i) = \\frac{b(i) - a(i)}{\\max\\{a(i), b(i)\\}}$$\n",
        "\n",
        "ここで、$a(i)$はデータ点$i$と同じクラスタ内の他の点との平均距離を表し、$b(i)$はデータ点$i$を含まないクラスタ内の点との平均距離を表します。$s(i)$は、データ点$i$のシルエット係数であり、全てのデータ点のシルエット係数の平均を取ったものが、クラスタリングの結果を表すシルエット係数となります。\n"
      ]
    },
    {
      "cell_type": "code",
      "execution_count": null,
      "metadata": {
        "id": "sua04-Cl7_3V"
      },
      "outputs": [],
      "source": [
        "from sklearn.metrics import silhouette_score\n",
        "\n",
        "silhouette_score(X_train_norm, kmeans.labels_, metric='euclidean')"
      ]
    },
    {
      "cell_type": "markdown",
      "metadata": {
        "id": "siKjtc8T8IOw"
      },
      "source": [
        "## Choosing the best number of clusters\n",
        "\n",
        "評価指標がきまれば、最適なクラスの数を探索します。"
      ]
    },
    {
      "cell_type": "code",
      "execution_count": null,
      "metadata": {
        "id": "w5dq1IK08Jy1"
      },
      "outputs": [],
      "source": [
        "K = range(2, 8)\n",
        "fits = []\n",
        "score = []\n",
        "\n",
        "\n",
        "for k in K:\n",
        "    # train the model for current value of k on training data\n",
        "    model = KMeans(n_clusters = k, random_state = 0, n_init='auto').fit(X_train_norm)\n",
        "\n",
        "    # append the model to fits\n",
        "    fits.append(model)\n",
        "\n",
        "    # Append the silhouette score to scores\n",
        "    score.append(silhouette_score(X_train_norm, model.labels_, metric='euclidean'))"
      ]
    },
    {
      "cell_type": "code",
      "execution_count": null,
      "metadata": {
        "id": "xo8JEImm8V13"
      },
      "outputs": [],
      "source": [
        "sns.scatterplot(data = X_train, x = 'longitude', y = 'latitude', hue = fits[0].labels_)"
      ]
    },
    {
      "cell_type": "code",
      "execution_count": null,
      "metadata": {
        "id": "1X9M75LM8aOY"
      },
      "outputs": [],
      "source": [
        "sns.scatterplot(data = X_train, x = 'longitude', y = 'latitude', hue = fits[2].labels_)"
      ]
    },
    {
      "cell_type": "code",
      "execution_count": null,
      "metadata": {
        "id": "Q1RyRC998eCN"
      },
      "outputs": [],
      "source": [
        "sns.scatterplot(data = X_train, x = 'longitude', y = 'latitude', hue = fits[5].labels_)"
      ]
    },
    {
      "cell_type": "code",
      "execution_count": null,
      "metadata": {
        "id": "Bn2YZb6Q86U1"
      },
      "outputs": [],
      "source": [
        "sns.lineplot(x = K, y = score)\n",
        "plt.savefig(\"fig_california_kmeans_kplot.jpg\")"
      ]
    },
    {
      "cell_type": "code",
      "execution_count": null,
      "metadata": {
        "id": "WRP69EBT9BbB"
      },
      "outputs": [],
      "source": [
        "sns.scatterplot(data = X_train, x = 'longitude', y = 'latitude', hue = fits[3].labels_)\n",
        "plt.savefig(\"fig_california_kmeans_k5.jpg\")"
      ]
    },
    {
      "cell_type": "code",
      "execution_count": null,
      "metadata": {
        "id": "U8aw00ip9HZo"
      },
      "outputs": [],
      "source": [
        "sns.boxplot(x = fits[3].labels_, y = y_train['median_house_value'])\n",
        "plt.savefig(\"fig_california_kmeans_k5box.jpg\")"
      ]
    },
    {
      "cell_type": "code",
      "execution_count": null,
      "metadata": {
        "id": "H7YcKY8UARlA"
      },
      "outputs": [],
      "source": [
        "from sklearn.neighbors import KNeighborsRegressor\n",
        "\n",
        "knr = KNeighborsRegressor(n_neighbors=5)\n",
        "knr.fit(X_train, y_train)\n",
        "\n",
        "# 予測\n",
        "list_pred = knr.predict(X_test)"
      ]
    },
    {
      "cell_type": "code",
      "execution_count": null,
      "metadata": {
        "id": "KbJhDMHyAp3C"
      },
      "outputs": [],
      "source": [
        "# テストデータ上での正解値（青）と予測値（赤）をプロット\n",
        "\n",
        "plt.xlabel(\"y_test\")\n",
        "plt.ylabel(\"list_pred\")\n",
        "plt.scatter(y_test,list_pred)\n",
        "plt.savefig(\"fig_california_kmeans_k5predict.jpg\")"
      ]
    },
    {
      "cell_type": "markdown",
      "metadata": {
        "id": "KU16zTKSyJO8"
      },
      "source": [
        "## 凝集型の階層クラスタリング"
      ]
    },
    {
      "cell_type": "code",
      "execution_count": null,
      "metadata": {
        "id": "e34vai97yJO8"
      },
      "outputs": [],
      "source": [
        "# -*- coding: utf-8 -*-\n",
        "import numpy as np\n",
        "import matplotlib.pyplot as plt\n",
        "%matplotlib inline\n",
        "\n",
        "from scipy.cluster import hierarchy\n"
      ]
    },
    {
      "cell_type": "code",
      "execution_count": null,
      "metadata": {
        "id": "w568ZHImyJO8"
      },
      "outputs": [],
      "source": [
        "data = np.array([[2,1], [1,1], [1,4], [2,5], [4,4]])"
      ]
    },
    {
      "cell_type": "code",
      "execution_count": null,
      "metadata": {
        "id": "e4uoMAWmyJO8"
      },
      "outputs": [],
      "source": [
        "fig = plt.subplots(figsize=(5,5))\n",
        "plt.xlim(0,6)\n",
        "plt.ylim(0,6)\n",
        "plt.grid()\n",
        "plt.scatter(data[:,0], data[:,1])"
      ]
    },
    {
      "cell_type": "markdown",
      "metadata": {
        "id": "JbYxl0R4yJO9"
      },
      "source": [
        "scipy.cluster.hierarchy.linkage<br>\n",
        "https://docs.scipy.org/doc/scipy/reference/generated/scipy.cluster.hierarchy.linkage.html#scipy.cluster.hierarchy.linkage\n",
        "scipy.cluster.hierarchy.dendrogram<br>\n",
        "https://docs.scipy.org/doc/scipy/reference/generated/scipy.cluster.hierarchy.dendrogram.html"
      ]
    },
    {
      "cell_type": "markdown",
      "metadata": {
        "id": "Ak-BjkpSyJO9"
      },
      "source": [
        "群平均法：method='average'"
      ]
    },
    {
      "cell_type": "code",
      "execution_count": null,
      "metadata": {
        "id": "vH2i5_EhyJO9"
      },
      "outputs": [],
      "source": [
        "result_ave = hierarchy.linkage(data, method='average')\n",
        "print(result_ave)"
      ]
    },
    {
      "cell_type": "code",
      "execution_count": null,
      "metadata": {
        "id": "ICGftrHDyJO9"
      },
      "outputs": [],
      "source": [
        "var = hierarchy.dendrogram(result_ave)\n"
      ]
    },
    {
      "cell_type": "markdown",
      "metadata": {
        "id": "uK-Gjlw7yJO9"
      },
      "source": [
        "Ward法：method='ward'"
      ]
    },
    {
      "cell_type": "code",
      "execution_count": null,
      "metadata": {
        "id": "EUWiBaU_yJO-"
      },
      "outputs": [],
      "source": [
        "result_ward = hierarchy.linkage(data, 'ward')\n",
        "print(result_ward)"
      ]
    },
    {
      "cell_type": "code",
      "execution_count": null,
      "metadata": {
        "id": "jn1X-M5qyJO-"
      },
      "outputs": [],
      "source": [
        "var = hierarchy.dendrogram(result_ward)\n"
      ]
    },
    {
      "cell_type": "markdown",
      "metadata": {
        "id": "hUXJ___TyJO-"
      },
      "source": [
        "#### 富山県の市町村別人口動態\n",
        "人口移動調査　http://www.pref.toyama.jp/sections/1015/lib/jinko/　の中にある。<br>\n",
        "オリジナルデータは次：url = 'http://www.pref.toyama.jp/sections/1015/lib/jinko/_dat_h29/jinko_dat005.xls'<br>\n",
        "これをローカルフォルダに保存して，これを読込んで使用。"
      ]
    },
    {
      "cell_type": "code",
      "execution_count": null,
      "metadata": {
        "id": "LFaoUmdNyJPJ"
      },
      "outputs": [],
      "source": [
        "!pip install japanize-matplotlib"
      ]
    },
    {
      "cell_type": "code",
      "execution_count": null,
      "metadata": {
        "id": "ZIXaOFsEyJPK"
      },
      "outputs": [],
      "source": [
        "# -*- coding: utf-8 -*-\n",
        "import numpy as np\n",
        "import pandas as pd\n",
        "\n",
        "import matplotlib.pyplot as plt\n",
        "%matplotlib inline\n",
        "import seaborn as sns\n",
        "\n",
        "from scipy.cluster import hierarchy\n",
        "import japanize_matplotlib\n",
        "japanize_matplotlib.japanize()\n"
      ]
    },
    {
      "cell_type": "code",
      "execution_count": null,
      "metadata": {
        "id": "4lPNvRf-yJPK"
      },
      "outputs": [],
      "source": [
        "!pip install xlrd==2.0.1"
      ]
    },
    {
      "cell_type": "code",
      "execution_count": null,
      "metadata": {
        "id": "0kBhMwUYyJPL"
      },
      "outputs": [],
      "source": [
        "#データがtoyama.jpからダウンロードできない場合は、エラーとなる場合は、ファイルをColabにアップロードして使う\n",
        "\n",
        "url = 'http://www.pref.toyama.jp/sections/1015/lib/jinko/_dat_h29/jinko_dat005.xls'\n",
        "url = 'https://raw.githubusercontent.com/miwamasa/DataScience2024/main/notebooks/data/jinko_dat005.xls'\n",
        "data_orig = pd.read_excel(url, header=None)"
      ]
    },
    {
      "cell_type": "code",
      "execution_count": null,
      "metadata": {
        "id": "B-FsiNxdyJPL"
      },
      "outputs": [],
      "source": [
        "#データのフォーマットを見て，必要，不必要な行，列を判別する\n",
        "data = data_orig.drop([0,1,2,3,4],axis=0)\n",
        "# drop=True: indexの降り直し,  inplace=True: 書き換えは自身のメモリで行う\n",
        "data.reset_index(drop=True, inplace=True)\n",
        "data.head()"
      ]
    },
    {
      "cell_type": "markdown",
      "metadata": {
        "id": "w-JVZWn7yJPM"
      },
      "source": [
        "上記を見て，市の名前（カラム0），自然増加（カラム2），転入総数（カラム6），転出総数（カラム9）を用いることとし，これをDataFrame dfに結合する"
      ]
    },
    {
      "cell_type": "code",
      "execution_count": null,
      "metadata": {
        "id": "EZ7ONDOoyJPM"
      },
      "outputs": [],
      "source": [
        "df = pd.concat([data.iloc[:,0], data.iloc[0:,2], data.iloc[0:,6], data.iloc[0:,9]], axis=1)\n",
        "df.head()"
      ]
    },
    {
      "cell_type": "code",
      "execution_count": null,
      "metadata": {
        "id": "osmfal5syJPM"
      },
      "outputs": [],
      "source": [
        "#dfの各列にラベルを与える, city:市の名前，natural:自然増加, in:転入総数，out:転出総\n",
        "df.columns = ['city', 'natural', 'in', 'out']\n",
        "df.head()"
      ]
    },
    {
      "cell_type": "markdown",
      "metadata": {
        "id": "i92PgG9-yJPN"
      },
      "source": [
        "相関図（横軸：自然増加，縦軸：転入総数）をプロットする。このとき，各点に市の名前を付加する"
      ]
    },
    {
      "cell_type": "code",
      "source": [
        "!pip install japanize-matplotlib"
      ],
      "metadata": {
        "id": "k8OPpD1GTyzj"
      },
      "execution_count": null,
      "outputs": []
    },
    {
      "cell_type": "code",
      "execution_count": null,
      "metadata": {
        "id": "rc5tpIGcyJPN"
      },
      "outputs": [],
      "source": [
        "names = df.city\n",
        "city_labels = list(names) # dendrogramへの入力はリスト形式"
      ]
    },
    {
      "cell_type": "code",
      "execution_count": null,
      "metadata": {
        "id": "FKQLJtUayJPN"
      },
      "outputs": [],
      "source": [
        "import japanize_matplotlib\n",
        "fig = plt.subplots(figsize=(8,4)) # (22,18)\n",
        "#plt.rcParams['font.family'] ='IPAPGothic' # 日本語フォントを使うため\n",
        "plt.xlabel('natural')\n",
        "plt.ylabel('in')\n",
        "plt.scatter(df['natural'], df['in'])\n",
        "for i, text in enumerate(df.city):\n",
        "    plt.annotate(text, xy=(df['natural'][i], df['in'][i]), size=10 )\n"
      ]
    },
    {
      "cell_type": "markdown",
      "metadata": {
        "id": "8MW3qoPXyJPN"
      },
      "source": [
        "df2 は，クラスタ分析のために，cityを削除したデータフレームであ"
      ]
    },
    {
      "cell_type": "code",
      "execution_count": null,
      "metadata": {
        "id": "Whm6mHPqyJPO"
      },
      "outputs": [],
      "source": [
        "fig = plt.subplots(figsize=(8,4))\n",
        "df2 = df.drop('city',axis=1)\n",
        "Z = hierarchy.linkage(df2, 'ward')\n",
        "dn = hierarchy.dendrogram(Z, labels=city_labels, leaf_rotation=90.)\n"
      ]
    },
    {
      "cell_type": "markdown",
      "metadata": {
        "id": "N4VR-luvyJPO"
      },
      "source": [
        "#### 相関図\n",
        "念のため，各変数同士の相関図を見る。<br>\n",
        "seabornのプロットは，バージョン0.9.0から，この例のようなデータセットの種類の数に応じた色数を明示的に用意することが求められる。<br>\n",
        "そうでないと，次のエラーが現れる \"ValueError: color kwarg must have one color per dataset\"<br>\n",
        "ここでは，簡単に，hue='out'と指定した。ここに，'out'はdfのラベル名。幾つかのWarningが現れるが，気にしないことにする。"
      ]
    },
    {
      "cell_type": "code",
      "execution_count": null,
      "metadata": {
        "id": "1k0OZjgXyJPO"
      },
      "outputs": [],
      "source": [
        "sns.pairplot(df, hue='out')\n"
      ]
    },
    {
      "cell_type": "markdown",
      "metadata": {
        "id": "RTpxWwylyJPP"
      },
      "source": [
        "上記の結果を見て，in, outに強い相関が有ることが認められる。naturalと（in, out）にも負の相関が認められるが，若干，外れる市町村があり，この原因究明も興味深い調査となるであろう。"
      ]
    },
    {
      "cell_type": "markdown",
      "metadata": {
        "id": "KKAO2P95yJPP"
      },
      "source": [
        "## 主成分分析"
      ]
    },
    {
      "cell_type": "code",
      "execution_count": null,
      "metadata": {
        "id": "Ci4HEuA-yJPP"
      },
      "outputs": [],
      "source": [
        "%matplotlib inline\n",
        "import numpy as np\n",
        "import matplotlib.pyplot as plt\n",
        "import seaborn as sns; sns.set()"
      ]
    },
    {
      "cell_type": "markdown",
      "metadata": {
        "id": "YKaXyqLEyJPQ"
      },
      "source": [
        "データを作ります（make_blob)、数は200"
      ]
    },
    {
      "cell_type": "code",
      "execution_count": null,
      "metadata": {
        "id": "6E547tFiyJPQ"
      },
      "outputs": [],
      "source": [
        "rng = np.random.RandomState(1)\n",
        "X = np.dot(rng.rand(2, 2), rng.randn(2, 200)).T\n",
        "plt.scatter(X[:, 0], X[:, 1])\n",
        "plt.axis('equal');"
      ]
    },
    {
      "cell_type": "markdown",
      "metadata": {
        "id": "Y-2OoVbGyJPQ"
      },
      "source": [
        "2次元の主成分分析します。"
      ]
    },
    {
      "cell_type": "code",
      "execution_count": null,
      "metadata": {
        "id": "EVdEVQt-yJPR"
      },
      "outputs": [],
      "source": [
        "from sklearn.decomposition import PCA\n",
        "pca = PCA(n_components=2)\n",
        "pca.fit(X)"
      ]
    },
    {
      "cell_type": "markdown",
      "metadata": {
        "id": "HUn-ondqyJPR"
      },
      "source": [
        "得られた主成分を見ます。"
      ]
    },
    {
      "cell_type": "code",
      "execution_count": null,
      "metadata": {
        "id": "cgAKwaboyJPR"
      },
      "outputs": [],
      "source": [
        "print(pca.components_)"
      ]
    },
    {
      "cell_type": "code",
      "execution_count": null,
      "metadata": {
        "id": "iuAYdJgyyJPR"
      },
      "outputs": [],
      "source": [
        "print(pca.explained_variance_)"
      ]
    },
    {
      "cell_type": "code",
      "execution_count": null,
      "metadata": {
        "id": "3SDHiFX_yJPS"
      },
      "outputs": [],
      "source": [
        "def draw_vector(v0, v1, ax=None):\n",
        "    ax = ax or plt.gca()\n",
        "    arrowprops=dict(arrowstyle='->',\n",
        "                    linewidth=2,\n",
        "                    facecolor='red', edgecolor='red',\n",
        "                    shrinkA=0, shrinkB=0)\n",
        "    ax.annotate('', v1, v0, arrowprops=arrowprops)\n",
        "\n",
        "# plot data\n",
        "plt.scatter(X[:, 0], X[:, 1], alpha=0.2)\n",
        "for length, vector in zip(pca.explained_variance_, pca.components_):\n",
        "    v = vector * 3 * np.sqrt(length)\n",
        "    draw_vector(pca.mean_, pca.mean_ + v)\n",
        "plt.axis('equal');"
      ]
    },
    {
      "cell_type": "markdown",
      "metadata": {
        "id": "DmhvkggMyJPS"
      },
      "source": [
        "### PCA as dimensionality reduction\n",
        "\n",
        "次元圧縮をする例です。 2次元のデータを１次元に次元圧縮します。"
      ]
    },
    {
      "cell_type": "code",
      "execution_count": null,
      "metadata": {
        "id": "kD4kzHREyJPS"
      },
      "outputs": [],
      "source": [
        "pca = PCA(n_components=1)\n",
        "pca.fit(X)\n",
        "X_pca = pca.transform(X)\n",
        "print(\"original shape:   \", X.shape)\n",
        "print(\"transformed shape:\", X_pca.shape)"
      ]
    },
    {
      "cell_type": "code",
      "execution_count": null,
      "metadata": {
        "id": "o0j3n4PDyJPT"
      },
      "outputs": [],
      "source": [
        "X_pca"
      ]
    },
    {
      "cell_type": "markdown",
      "metadata": {
        "id": "xRfvjcPKyJPT"
      },
      "source": [
        "次元圧縮されたデータを、元の次元に戻して可視化します。\n",
        "\n",
        "一次元（斜め上になってますが）に射影されているような感じになってます。"
      ]
    },
    {
      "cell_type": "code",
      "execution_count": null,
      "metadata": {
        "id": "m7Hmc1vqyJPT"
      },
      "outputs": [],
      "source": [
        "X_new = pca.inverse_transform(X_pca)\n",
        "plt.scatter(X[:, 0], X[:, 1], alpha=0.2)\n",
        "plt.scatter(X_new[:, 0], X_new[:, 1], alpha=0.8)\n",
        "plt.axis('equal');"
      ]
    },
    {
      "cell_type": "markdown",
      "metadata": {
        "id": "rGtP15U6yJPU"
      },
      "source": [
        "### PCA for visualization: Hand-written digits"
      ]
    },
    {
      "cell_type": "code",
      "execution_count": null,
      "metadata": {
        "id": "x8oYuG7ayJPU"
      },
      "outputs": [],
      "source": [
        "from sklearn.datasets import load_digits\n",
        "digits = load_digits()\n",
        "digits.data.shape"
      ]
    },
    {
      "cell_type": "code",
      "execution_count": null,
      "metadata": {
        "id": "gcKsnRz9yJPV"
      },
      "outputs": [],
      "source": [
        "digits.data[1]"
      ]
    },
    {
      "cell_type": "code",
      "execution_count": null,
      "metadata": {
        "id": "ZkIZzNjTyJPV"
      },
      "outputs": [],
      "source": [
        "import matplotlib.pyplot as plt\n",
        "plt.gray()\n",
        "plt.matshow(digits.images[1])"
      ]
    },
    {
      "cell_type": "code",
      "execution_count": null,
      "metadata": {
        "id": "6sFxz37tyJPV"
      },
      "outputs": [],
      "source": [
        "pca = PCA(2)  # project from 64 to 2 dimensions\n",
        "projected = pca.fit_transform(digits.data)\n",
        "print(digits.data.shape)\n",
        "print(projected.shape)"
      ]
    },
    {
      "cell_type": "code",
      "execution_count": null,
      "metadata": {
        "id": "ajLgL6r4yJPV"
      },
      "outputs": [],
      "source": [
        "plt.scatter(projected[:, 0], projected[:, 1],\n",
        "            c=digits.target, edgecolor='none', alpha=0.5,\n",
        "            cmap=plt.cm.get_cmap('tab10', 10))\n",
        "plt.xlabel('component 1')\n",
        "plt.ylabel('component 2')\n",
        "plt.colorbar();"
      ]
    },
    {
      "cell_type": "code",
      "execution_count": null,
      "metadata": {
        "id": "CDMJx94FyJPW"
      },
      "outputs": [],
      "source": [
        "\n",
        "from sklearn.manifold import TSNE\n",
        "import sklearn.datasets\n",
        "\n",
        "digits, label = sklearn.datasets.load_digits(return_X_y=True)\n",
        "digits = digits / 255\n",
        "digits2d = TSNE(n_components=2).fit_transform(digits)\n",
        "\n",
        "from matplotlib import pylab as plt\n",
        "\n",
        "f, ax = plt.subplots(1, 1, figsize=(10, 10))\n",
        "for i in range(10):\n",
        "    target = digits2d[label == i]\n",
        "    ax.scatter(x=target[:, 0], y=target[:, 1], label=str(i), alpha=0.5)\n",
        "plt.legend(bbox_to_anchor=(1.02, 1), loc='upper left')"
      ]
    },
    {
      "cell_type": "markdown",
      "metadata": {
        "id": "BpoGmF86yJPW"
      },
      "source": [
        "## ガウス混合分布"
      ]
    },
    {
      "cell_type": "code",
      "execution_count": null,
      "metadata": {
        "id": "C2kT8vL9yJPW"
      },
      "outputs": [],
      "source": [
        "import numpy as np\n",
        "import pandas as pd\n",
        "import matplotlib.pyplot as plt\n",
        "import matplotlib.mlab as mlab\n",
        "import seaborn as sns\n",
        "\n",
        "from sklearn.mixture import GaussianMixture\n",
        "from sklearn.datasets import load_iris\n",
        "\n",
        "# irisデータセットのロード\n",
        "iris = load_iris()\n",
        "df = pd.DataFrame(iris.data, columns=iris.feature_names)\n",
        "df['label'] = iris.target\n",
        "\n",
        "# 種類 (ラベル) によって、サンプル数を変えます\n",
        "d1 = df[df['label'] == 0].sample(30)  # setosa\n",
        "d2 = df[df['label'] == 1].sample(50)  # versicolor\n",
        "d3 = df[df['label'] == 2].sample(40)  # virginica\n",
        "\n",
        "# 萼片長のデータのみを使う\n",
        "X = pd.concat([d1['sepal length (cm)'], d2['sepal length (cm)'], d3['sepal length (cm)']])\n",
        "Y = pd.concat([d1['label'], d2['label'], d3['label']])\n",
        "\n",
        "# ヒストグラム\n",
        "plt.hist([X[Y==0], X[Y==1], X[Y==2]], bins=np.arange(X.min(), X.max(), 0.2), stacked=True, label=iris.target_names)\n",
        "plt.title('sepal length histgram')\n",
        "plt.legend()"
      ]
    },
    {
      "cell_type": "code",
      "execution_count": null,
      "metadata": {
        "id": "2u1Sei9zyJPW"
      },
      "outputs": [],
      "source": [
        "d1.head()"
      ]
    },
    {
      "cell_type": "code",
      "execution_count": null,
      "metadata": {
        "id": "8x6BU8ymyJPX"
      },
      "outputs": [],
      "source": [
        "# GaussianMixtureの学習\n",
        "gmm = GaussianMixture(\n",
        "    n_components=3,\n",
        "    covariance_type='spherical'\n",
        ").fit(\n",
        "    np.array(X).reshape(-1, 1)  # 次元数2を入力とするため変形\n",
        ")\n",
        "\n",
        "# 重み\n",
        "print(gmm.weights_)\n",
        "# [0.309359   0.43752389 0.25311711]\n",
        "\n",
        "# 期待値\n",
        "print(gmm.means_)\n",
        "# [[5.80722255]\n",
        "#  [6.57885203]\n",
        "#  [4.93215112]]\n",
        "\n",
        "# 分散\n",
        "print(gmm.covariances_)\n",
        "# [0.10564111 0.32196481 0.06607687]"
      ]
    },
    {
      "cell_type": "code",
      "execution_count": null,
      "metadata": {
        "id": "R8T0VYPjyJPX"
      },
      "outputs": [],
      "source": [
        "from scipy.stats import norm\n",
        "x = np.linspace(3, 9, 600)\n",
        "\n",
        "gd1 = norm.pdf(x, gmm.means_[0, -1], np.sqrt(gmm.covariances_[0]))\n",
        "gd2 = norm.pdf(x, gmm.means_[1, -1], np.sqrt(gmm.covariances_[1]))\n",
        "gd3 = norm.pdf(x, gmm.means_[2, -1], np.sqrt(gmm.covariances_[2]))\n",
        "\n",
        "plt.plot(x, gmm.weights_[0] * gd1, label='gd1',color='C1')\n",
        "plt.plot(x, gmm.weights_[1] * gd2, label='gd2',color='C2')\n",
        "plt.plot(x, gmm.weights_[2] * gd3, label='gd3',color='C0')\n",
        "plt.legend()"
      ]
    },
    {
      "cell_type": "code",
      "execution_count": null,
      "metadata": {
        "id": "RVev1eQSyJPX"
      },
      "outputs": [],
      "source": [
        "%matplotlib inline\n",
        "import matplotlib.pyplot as plt\n",
        "import seaborn as sns; sns.set()\n",
        "import numpy as np"
      ]
    },
    {
      "cell_type": "code",
      "execution_count": null,
      "metadata": {
        "id": "LRIwh6nkyJPY"
      },
      "outputs": [],
      "source": [
        "from sklearn.datasets import make_blobs\n",
        "X, y_true = make_blobs(n_samples=400, centers=4,\n",
        "                       cluster_std=0.60, random_state=0)\n",
        "X = X[:, ::-1] # flip axes for better plotting"
      ]
    },
    {
      "cell_type": "code",
      "execution_count": null,
      "metadata": {
        "id": "FMiFHFHuyJPY"
      },
      "outputs": [],
      "source": [
        "# Plot the data with K Means Labels\n",
        "from sklearn.cluster import KMeans\n",
        "kmeans = KMeans(4, random_state=0)\n",
        "labels = kmeans.fit(X).predict(X)\n",
        "plt.scatter(X[:, 0], X[:, 1], c=labels, s=40, cmap='viridis');"
      ]
    },
    {
      "cell_type": "code",
      "execution_count": null,
      "metadata": {
        "id": "Beh2OQvlyJPY"
      },
      "outputs": [],
      "source": [
        "from sklearn.cluster import KMeans\n",
        "from scipy.spatial.distance import cdist\n",
        "\n",
        "def plot_kmeans(kmeans, X, n_clusters=4, rseed=0, ax=None):\n",
        "    labels = kmeans.fit_predict(X)\n",
        "\n",
        "    # plot the input data\n",
        "    ax = ax or plt.gca()\n",
        "    ax.axis('equal')\n",
        "    ax.scatter(X[:, 0], X[:, 1], c=labels, s=40, cmap='viridis', zorder=2)\n",
        "\n",
        "    # plot the representation of the KMeans model\n",
        "    centers = kmeans.cluster_centers_\n",
        "    radii = [cdist(X[labels == i], [center]).max()\n",
        "             for i, center in enumerate(centers)]\n",
        "    for c, r in zip(centers, radii):\n",
        "        ax.add_patch(plt.Circle(c, r, fc='#CCCCCC', lw=3, alpha=0.5, zorder=1))"
      ]
    },
    {
      "cell_type": "code",
      "execution_count": null,
      "metadata": {
        "id": "uATqPP42yJPY"
      },
      "outputs": [],
      "source": [
        "kmeans = KMeans(n_clusters=4, random_state=0)\n",
        "plot_kmeans(kmeans, X)"
      ]
    },
    {
      "cell_type": "code",
      "execution_count": null,
      "metadata": {
        "id": "aOAGXlT0yJPZ"
      },
      "outputs": [],
      "source": [
        "rng = np.random.RandomState(13)\n",
        "X_stretched = np.dot(X, rng.randn(2, 2))\n",
        "\n",
        "kmeans = KMeans(n_clusters=4, random_state=0)\n",
        "plot_kmeans(kmeans, X_stretched)"
      ]
    },
    {
      "cell_type": "markdown",
      "metadata": {
        "id": "zseD3dNRyJPZ"
      },
      "source": [
        "#### Generalizing E–M: Gaussian Mixture Models"
      ]
    },
    {
      "cell_type": "code",
      "execution_count": null,
      "metadata": {
        "id": "Cl9yq7LyyJPb"
      },
      "outputs": [],
      "source": [
        "from sklearn.mixture import GaussianMixture\n",
        "gmm = GaussianMixture(n_components=4).fit(X)\n",
        "labels = gmm.predict(X)\n",
        "plt.scatter(X[:, 0], X[:, 1], c=labels, s=40, cmap='viridis');"
      ]
    },
    {
      "cell_type": "code",
      "execution_count": null,
      "metadata": {
        "id": "P-fNHQP5yJPc"
      },
      "outputs": [],
      "source": [
        "probs = gmm.predict_proba(X)\n",
        "print(probs[:5].round(3))"
      ]
    },
    {
      "cell_type": "code",
      "execution_count": null,
      "metadata": {
        "id": "OrL7Da1syJPd"
      },
      "outputs": [],
      "source": [
        "size = 50 * probs.max(1) ** 2  # square emphasizes differences\n",
        "plt.scatter(X[:, 0], X[:, 1], c=labels, cmap='viridis', s=size);"
      ]
    },
    {
      "cell_type": "code",
      "execution_count": null,
      "metadata": {
        "id": "cFmfqpmgyJPd"
      },
      "outputs": [],
      "source": [
        "from matplotlib.patches import Ellipse\n",
        "\n",
        "def draw_ellipse(position, covariance, ax=None, **kwargs):\n",
        "    \"\"\"Draw an ellipse with a given position and covariance\"\"\"\n",
        "    ax = ax or plt.gca()\n",
        "\n",
        "    # Convert covariance to principal axes\n",
        "    if covariance.shape == (2, 2):\n",
        "        U, s, Vt = np.linalg.svd(covariance)\n",
        "        angle = np.degrees(np.arctan2(U[1, 0], U[0, 0]))\n",
        "        width, height = 2 * np.sqrt(s)\n",
        "    else:\n",
        "        angle = 0\n",
        "        width, height = 2 * np.sqrt(covariance)\n",
        "\n",
        "    # Draw the Ellipse\n",
        "    for nsig in range(1, 4):\n",
        "        # なぜか、陽に angle=をつけないと引数のミスカウントされてしまうのを修正2024.5.11\n",
        "        ax.add_patch(Ellipse(position, nsig * width, nsig * height,\n",
        "                             angle=angle, **kwargs))\n",
        "\n",
        "def plot_gmm(gmm, X, label=True, ax=None):\n",
        "    ax = ax or plt.gca()\n",
        "    labels = gmm.fit(X).predict(X)\n",
        "    if label:\n",
        "        ax.scatter(X[:, 0], X[:, 1], c=labels, s=40, cmap='viridis', zorder=2)\n",
        "    else:\n",
        "        ax.scatter(X[:, 0], X[:, 1], s=40, zorder=2)\n",
        "    ax.axis('equal')\n",
        "\n",
        "    w_factor = 0.2 / gmm.weights_.max()\n",
        "    for pos, covar, w in zip(gmm.means_, gmm.covariances_, gmm.weights_):\n",
        "        draw_ellipse(pos, covar, alpha=w * w_factor)"
      ]
    },
    {
      "cell_type": "code",
      "execution_count": null,
      "metadata": {
        "id": "RRd_WNRgyJPd"
      },
      "outputs": [],
      "source": [
        "gmm = GaussianMixture(n_components=4, random_state=42)\n",
        "plot_gmm(gmm, X)"
      ]
    },
    {
      "cell_type": "code",
      "execution_count": null,
      "metadata": {
        "id": "ynyVCuBSyJPd"
      },
      "outputs": [],
      "source": [
        "gmm = GaussianMixture(n_components=4, covariance_type='full', random_state=42)\n",
        "plot_gmm(gmm, X_stretched)"
      ]
    },
    {
      "cell_type": "markdown",
      "metadata": {
        "id": "M8JiVdHo_g3D"
      },
      "source": [
        "## 付録：カリフォルニア住宅価格 by ガウス混合分布\n",
        "\n",
        "---\n",
        "\n",
        "\n"
      ]
    },
    {
      "cell_type": "code",
      "execution_count": null,
      "metadata": {
        "id": "Lc5MJ588yJPd"
      },
      "outputs": [],
      "source": [
        "import pandas as pd\n",
        "#california_housing.csv\n",
        "url = 'https://raw.githubusercontent.com/miwamasa/DataScience2024/main/notebooks/data/california_housing.csv'\n",
        "home_data = pd.read_csv(url, usecols = ['longitude', 'latitude', 'median_house_value'])\n",
        "print(len(home_data))\n",
        "home_data.head()"
      ]
    },
    {
      "cell_type": "code",
      "execution_count": null,
      "metadata": {
        "id": "7lRoqr93AH1V"
      },
      "outputs": [],
      "source": [
        "from sklearn.model_selection import train_test_split\n",
        "\n",
        "X_train, X_test, y_train, y_test = train_test_split(home_data[['latitude', 'longitude']], home_data[['median_house_value']], test_size=0.33, random_state=0)"
      ]
    },
    {
      "cell_type": "code",
      "execution_count": null,
      "metadata": {
        "id": "3XTvd-gk_6Gs"
      },
      "outputs": [],
      "source": [
        "from sklearn.mixture import GaussianMixture\n",
        "from sklearn.metrics import silhouette_score\n",
        "\n",
        "# ガウス混合モデルによるクラスタリングを行う\n",
        "# 緯度と経度のデータを取り出す\n",
        "X = home_data[['longitude', 'latitude']].values\n",
        "\n",
        "gmm = GaussianMixture(n_components=5)\n",
        "gmm.fit(X)\n",
        "y_pred = gmm.predict(X)\n",
        "\n",
        "# クラスタリングの結果を可視化する\n",
        "sns.scatterplot(data = home_data, x = 'longitude', y = 'latitude', hue = y_pred)\n"
      ]
    },
    {
      "cell_type": "code",
      "execution_count": null,
      "metadata": {
        "id": "mjaq3M9-BL_E"
      },
      "outputs": [],
      "source": [
        "sns.boxplot(x = y_pred, y = home_data['median_house_value'])"
      ]
    }
  ],
  "metadata": {
    "colab": {
      "provenance": []
    },
    "interpreter": {
      "hash": "2db524e06e9f5f4ffedc911c917cb75e12dbc923643829bf417064a77eb14d37"
    },
    "kernelspec": {
      "display_name": "Python 3.8.3 64-bit",
      "language": "python",
      "name": "python3"
    },
    "language_info": {
      "codemirror_mode": {
        "name": "ipython",
        "version": 3
      },
      "file_extension": ".py",
      "mimetype": "text/x-python",
      "name": "python",
      "nbconvert_exporter": "python",
      "pygments_lexer": "ipython3",
      "version": "3.11.6"
    },
    "orig_nbformat": 4
  },
  "nbformat": 4,
  "nbformat_minor": 0
}