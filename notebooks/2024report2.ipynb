{
  "cells": [
    {
      "cell_type": "markdown",
      "metadata": {
        "id": "KShbCwqpEKDI"
      },
      "source": [
        "# レポート2(提出期限6/3)\n",
        "\n",
        "**必ず名前と学籍番号を書くこと**\n",
        "\n",
        "名前：\n",
        "\n",
        "学籍番号：\n",
        "\n",
        "## 2.1 線形回帰(10点)\n",
        "\n",
        "seaborn組み込みのダイアモンドの価格データをつかって重回帰分析を行い、\n",
        "適切だと思う説明変数の組み合わせをもとめなさい"
      ]
    },
    {
      "cell_type": "code",
      "execution_count": null,
      "metadata": {
        "id": "nc-kXAR6EKDO"
      },
      "outputs": [],
      "source": [
        "import pandas as pd\n",
        "import seaborn as sns\n",
        "import statsmodels.api as sm\n",
        "import statsmodels.formula.api as smf\n",
        "import matplotlib.pyplot as plt\n",
        "%matplotlib inline\n",
        "\n",
        "# データの取得・確認\n",
        "diamond = sns.load_dataset('diamonds')\n",
        "diamond"
      ]
    },
    {
      "cell_type": "code",
      "execution_count": null,
      "metadata": {
        "id": "zXVDH3NTEKDQ"
      },
      "outputs": [],
      "source": [
        "#　回帰の実施"
      ]
    },
    {
      "cell_type": "code",
      "execution_count": null,
      "metadata": {
        "id": "cNtslSrNEKDQ"
      },
      "outputs": [],
      "source": [
        "#予測とデータのお比較\n",
        "diamond['predict'] = fit.predict() #予測を行い，結果を'predict'列に追加\n",
        "diamond.plot.scatter(x='predict',y='price'); #描画"
      ]
    },
    {
      "cell_type": "markdown",
      "metadata": {
        "id": "zb9WnBPtEKDR"
      },
      "source": [
        "## 1.2 ロジスティック回帰(10点)\n",
        "\n",
        "seabornの組み込みデータtitnaicを用いて、生存者をロジスティック回帰を実施しなさい"
      ]
    },
    {
      "cell_type": "code",
      "execution_count": null,
      "metadata": {
        "id": "Sd0aiVVUEKDR"
      },
      "outputs": [],
      "source": [
        "import pandas as pd\n",
        "import seaborn as sns\n",
        "import statsmodels.api as sm\n",
        "import statsmodels.formula.api as smf\n",
        "import matplotlib.pyplot as plt\n",
        "%matplotlib inline\n",
        "\n",
        "# データの取得・確認\n",
        "dataset = sns.load_dataset('titanic')\n",
        "dataset"
      ]
    },
    {
      "cell_type": "markdown",
      "metadata": {
        "id": "yNv-hRkKEKDS"
      },
      "source": [
        "前処理は以下を用い、データセットはdataset1を利用してもよい。独自に前処理を行ってもよい"
      ]
    },
    {
      "cell_type": "code",
      "execution_count": null,
      "metadata": {
        "id": "GxOddTXSEKDT"
      },
      "outputs": [],
      "source": [
        "# 重複しているカラムと影響の少ない変数の削除\n",
        "df = [\"sibsp\",\"parch\",\"fare\",\"embarked\",\"class\",\"who\",\"adult_male\",\"deck\",\"embark_town\",\"alive\",\"alone\"]\n",
        "dataset1 = dataset.drop(df,axis = 1)\n",
        "dataset1.head()\n",
        "\n",
        "# 欠損値の確認\n",
        "dataset1.isnull().sum()\n",
        "\n",
        "# 欠損値に平均を補完し性別をダミー変数に変更（男性:1,女性:0）\n",
        "dataset1[\"age\"] = dataset1[\"age\"].fillna(dataset1[\"age\"].mean())\n",
        "dataset1[\"sex\"] = dataset1[\"sex\"].map({\"male\":1, \"female\":0})\n",
        "dataset1.isnull().sum()\n"
      ]
    },
    {
      "cell_type": "code",
      "execution_count": null,
      "metadata": {
        "id": "m0aM-KJ_EKDU"
      },
      "outputs": [],
      "source": [
        "dataset1"
      ]
    },
    {
      "cell_type": "code",
      "execution_count": null,
      "metadata": {
        "id": "6A2IBEk3EKDV"
      },
      "outputs": [],
      "source": [
        "#　回帰の実施"
      ]
    },
    {
      "cell_type": "code",
      "execution_count": null,
      "metadata": {
        "id": "VZ9WPfz6EKDW"
      },
      "outputs": [],
      "source": [
        "dataset1['predict'] = fit.predict() #予測を行い，結果を'predict'列に追加\n",
        "dataset1.plot.scatter(x='predict',y='survived'); #描画"
      ]
    },
    {
      "cell_type": "markdown",
      "metadata": {
        "id": "IgRS-0vXEKDW"
      },
      "source": [
        "## 2.3 クラスタリング(10点)\n",
        "- くずし字のデータを取得して、クラス分類や、クラスタリングを行います。\n",
        "- TSNEで学習したデータに対してクラスタリングを行うことをします。"
      ]
    },
    {
      "cell_type": "code",
      "execution_count": null,
      "metadata": {
        "id": "PBCUQhWUEKDX"
      },
      "outputs": [],
      "source": [
        "!pip install japanize-matplotlib"
      ]
    },
    {
      "cell_type": "markdown",
      "metadata": {
        "id": "c4dofgw0EKDX"
      },
      "source": [
        "まずはデータを取得します。"
      ]
    },
    {
      "cell_type": "code",
      "execution_count": null,
      "metadata": {
        "id": "ebZkEUhnEKDY"
      },
      "outputs": [],
      "source": [
        "!wget http://codh.rois.ac.jp/kmnist/dataset/kmnist/kmnist-train-imgs.npz -O kmnist-train-imgs.npz\n",
        "!wget http://codh.rois.ac.jp/kmnist/dataset/kmnist/kmnist-train-labels.npz -O kmnist-train-labels.npz\n",
        "!wget http://codh.rois.ac.jp/kmnist/dataset/kmnist/kmnist-test-imgs.npz -O kmnist-test-imgs.npz\n",
        "!wget http://codh.rois.ac.jp/kmnist/dataset/kmnist/kmnist-test-labels.npz -O kmnist-test-labels.npz\n",
        "!wget http://codh.rois.ac.jp/kmnist/dataset/kmnist/kmnist_classmap.csv"
      ]
    },
    {
      "cell_type": "markdown",
      "metadata": {
        "id": "s4aoT5OMEKDY"
      },
      "source": [
        "正解ラベル(0,...9)に対応するひらがなを得ます。最初がindex=1から始まるのに注意です。"
      ]
    },
    {
      "cell_type": "code",
      "execution_count": null,
      "metadata": {
        "id": "hTTMcwMkEKDZ"
      },
      "outputs": [],
      "source": [
        "import numpy as np\n",
        "names = np.loadtxt('kmnist_classmap.csv', dtype='str')\n",
        "names"
      ]
    },
    {
      "cell_type": "code",
      "execution_count": null,
      "metadata": {
        "id": "7tNdVMUQEKDZ"
      },
      "outputs": [],
      "source": [
        "import numpy as np\n",
        "import matplotlib.pyplot as plt\n",
        "import japanize_matplotlib\n",
        "\n",
        "#最初の5000だけ\n",
        "train_images = np.load('kmnist-train-imgs.npz')['arr_0'][:5000]\n",
        "train_labels = np.load('kmnist-train-labels.npz')['arr_0'][:5000]\n",
        "test_images = np.load('kmnist-test-imgs.npz')['arr_0'][:5000]\n",
        "test_labels = np.load('kmnist-test-labels.npz')['arr_0'][:5000]"
      ]
    },
    {
      "cell_type": "markdown",
      "metadata": {
        "id": "4cMq84aUEKDZ"
      },
      "source": [
        "train_imagesにどういうデータがあるかを確認します。"
      ]
    },
    {
      "cell_type": "code",
      "execution_count": null,
      "metadata": {
        "id": "KewBAeqFEKDa"
      },
      "outputs": [],
      "source": [
        "plt.gray()\n",
        "plt.matshow(train_images[5])"
      ]
    },
    {
      "cell_type": "markdown",
      "source": [
        "ラベル（正解値）を確認します。"
      ],
      "metadata": {
        "id": "PBzBD4Flg3_M"
      }
    },
    {
      "cell_type": "code",
      "source": [
        "train_labels[5]"
      ],
      "metadata": {
        "id": "MRnVYpmmgR7N"
      },
      "execution_count": null,
      "outputs": []
    },
    {
      "cell_type": "code",
      "execution_count": null,
      "metadata": {
        "id": "K79oZCfpEKDa"
      },
      "outputs": [],
      "source": [
        "train_data=train_images.reshape(-1, 784)\n",
        "test_data=test_images.reshape(-1, 784)\n",
        "train_data[1]"
      ]
    },
    {
      "cell_type": "code",
      "execution_count": null,
      "metadata": {
        "id": "fnUSosYgEKDa"
      },
      "outputs": [],
      "source": [
        "train_images[1].shape"
      ]
    },
    {
      "cell_type": "code",
      "execution_count": null,
      "metadata": {
        "id": "S_HNB_LREKDb"
      },
      "outputs": [],
      "source": [
        "train_data[1].shape"
      ]
    },
    {
      "cell_type": "code",
      "execution_count": null,
      "metadata": {
        "id": "8mExn3jxEKDb"
      },
      "outputs": [],
      "source": [
        "train_images.shape"
      ]
    },
    {
      "cell_type": "code",
      "execution_count": null,
      "metadata": {
        "id": "IdTA3OyuEKDb"
      },
      "outputs": [],
      "source": [
        "# とりあえず平均をとってみます。\n",
        "\n",
        "plt.figure(figsize=(12, 9))\n",
        "for label in range(10):\n",
        "    plt.subplot(3, 4, label + 1)\n",
        "    indices = np.where(train_labels == label)\n",
        "    mean_image = train_images[indices].mean(axis=0)\n",
        "    plt.imshow(mean_image, cmap='gray')\n",
        "    plt.title(names[label+1])\n",
        "    plt.axis('off')\n",
        "plt.tight_layout()"
      ]
    },
    {
      "cell_type": "code",
      "execution_count": null,
      "metadata": {
        "id": "WLLp2IKTEKDc"
      },
      "outputs": [],
      "source": [
        "import sklearn.neighbors\n",
        "import sklearn.ensemble\n",
        "import sklearn.metrics\n",
        "\n",
        "clf_knn = sklearn.neighbors.KNeighborsClassifier(\n",
        "    n_neighbors=4, weights='distance', n_jobs=7)\n",
        "clf_knn.fit(train_data, train_labels)\n",
        "y_pred = clf_knn.predict(test_data)\n",
        "\n",
        "print(sklearn.metrics.accuracy_score(test_labels, y_pred))\n",
        "print(sklearn.metrics.classification_report(test_labels, y_pred))\n",
        "print(sklearn.metrics.confusion_matrix(test_labels, y_pred))"
      ]
    },
    {
      "cell_type": "code",
      "execution_count": null,
      "metadata": {
        "id": "rL5oz8Z9EKDc"
      },
      "outputs": [],
      "source": [
        "from sklearn.decomposition import PCA\n",
        "pca = PCA(n_components=2)\n",
        "\n",
        "projected = pca.fit_transform(train_data)\n",
        "print(projected.shape)"
      ]
    },
    {
      "cell_type": "code",
      "execution_count": null,
      "metadata": {
        "id": "hNYC8nJxEKDc"
      },
      "outputs": [],
      "source": [
        "plt.scatter(projected[:, 0], projected[:, 1],\n",
        "            c=train_labels, edgecolor='none', alpha=0.5,\n",
        "            cmap=plt.cm.get_cmap('tab10', 10))\n",
        "plt.xlabel('component 1')\n",
        "plt.ylabel('component 2')\n",
        "plt.colorbar();"
      ]
    },
    {
      "cell_type": "markdown",
      "metadata": {
        "id": "QX_f8rR1EKDd"
      },
      "source": [
        "PCAの結果はイマイチ、、\n",
        "\n",
        "そこでTSNEの実施"
      ]
    },
    {
      "cell_type": "code",
      "execution_count": null,
      "metadata": {
        "id": "lzPu3UtNEKDe"
      },
      "outputs": [],
      "source": [
        "from sklearn.manifold import TSNE\n",
        "import sklearn.datasets\n",
        "import seaborn as sns\n",
        "import pandas as pd\n",
        "\n",
        "digits2d = TSNE(n_components=2).fit_transform(train_data)\n",
        "\n",
        "plt.scatter(digits2d[:,0], digits2d[:,1], edgecolors='k')"
      ]
    },
    {
      "cell_type": "markdown",
      "metadata": {
        "id": "Sg24I7m8EKDe"
      },
      "source": [
        "### 課題1：ここからが問題です。"
      ]
    },
    {
      "cell_type": "code",
      "execution_count": null,
      "metadata": {
        "id": "7HBpBAvoEKDe"
      },
      "outputs": [],
      "source": [
        "## K平均法をつかってクラスタリングして結果を表示せよ\n",
        "from sklearn.cluster import KMeans\n",
        "%matplotlib inline\n",
        "from matplotlib import cm\n",
        "\n",
        "#KMeanをつかう、lecture9_clustering.ipynb　を参考\n",
        "\n",
        "#クラスタリングした結果を表示するための色付けのための予測\n",
        "#y_train_est = kmeans.predict(digits2d)\n",
        "\n",
        "#描画はこのようになるはず。\n",
        "plt.scatter(digits2d[:,0], digits2d[:,1], c=y_train_est, cmap=cm.bwr, edgecolors='k')"
      ]
    },
    {
      "cell_type": "markdown",
      "metadata": {
        "id": "r5_tHJq0EKDf"
      },
      "source": [
        "# クラスタリングの結果と正解値を比較せよ"
      ]
    }
  ],
  "metadata": {
    "colab": {
      "provenance": []
    },
    "interpreter": {
      "hash": "2db524e06e9f5f4ffedc911c917cb75e12dbc923643829bf417064a77eb14d37"
    },
    "kernelspec": {
      "display_name": "Python 3.8.3 64-bit",
      "language": "python",
      "name": "python3"
    },
    "language_info": {
      "codemirror_mode": {
        "name": "ipython",
        "version": 3
      },
      "file_extension": ".py",
      "mimetype": "text/x-python",
      "name": "python",
      "nbconvert_exporter": "python",
      "pygments_lexer": "ipython3",
      "version": "3.8.3"
    },
    "orig_nbformat": 4
  },
  "nbformat": 4,
  "nbformat_minor": 0
}