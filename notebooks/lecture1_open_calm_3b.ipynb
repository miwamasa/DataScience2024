{
  "nbformat": 4,
  "nbformat_minor": 0,
  "metadata": {
    "colab": {
      "provenance": [],
      "gpuType": "T4"
    },
    "kernelspec": {
      "name": "python3",
      "display_name": "Python 3"
    },
    "language_info": {
      "name": "python"
    },
    "accelerator": "GPU"
  },
  "cells": [
    {
      "cell_type": "markdown",
      "source": [
        "## Lecture1: Google Colab(Python)で、LLMを動かしてみる\n",
        "\n",
        "Pythonを使えば、ChatGPTに代表されるLLM(大規模言語モデル)を動かして動作を確認することもできます（計算機の性能により動作しい場合もある）\n",
        "\n",
        "このnotebookは、CyberAgentが公開した日本語特化のLLM(大規模言語モデル)、OpenCALMをつかって、pythonで、LLMを動かす様子の簡単なデモです。**Colab無料枠**で動かすために軽量なモデル(3b)を選んでいます。\n",
        "\n",
        "モデルを7bにしてみるて、回答の変化を観察しましょう。\n",
        "\n",
        "参考：\n",
        "https://qiita.com/fukase6201/items/0359a23846759048b4bb"
      ],
      "metadata": {
        "id": "srfggFYjhh1B"
      }
    },
    {
      "cell_type": "code",
      "execution_count": null,
      "metadata": {
        "id": "1EPOL-SLhczS"
      },
      "outputs": [],
      "source": [
        "# 必要なパッケージのインストール\n",
        "!pip install transformers accelerate"
      ]
    },
    {
      "cell_type": "code",
      "source": [
        "# パッケージのインポート\n",
        "import torch\n",
        "from transformers import AutoModelForCausalLM, AutoTokenizer\n",
        "\n",
        "model_name= \"cyberagent/open-calm-3b\"\n",
        "#model_name = \"cyberagent/open-calm-7b\"\n",
        "\n",
        "# モデルとトークナイザーの準備\n",
        "model = AutoModelForCausalLM.from_pretrained(\n",
        "  model_name,\n",
        "   device_map=\"auto\",\n",
        "   torch_dtype=torch.float16\n",
        ")\n",
        "tokenizer = AutoTokenizer.from_pretrained(model_name)"
      ],
      "metadata": {
        "id": "CHOFULOghkqW"
      },
      "execution_count": null,
      "outputs": []
    },
    {
      "cell_type": "code",
      "source": [
        "# プロンプトの準備\n",
        "prompt = \"Q:睡眠で大事なのは、量、タイミング、質のどれ？\\nA:\"\n",
        "prompt = \"Q:江戸時代が約２００年続いた理由は？\\nA:\"\n",
        "\n",
        "# 推論の実行\n",
        "inputs = tokenizer(prompt, return_tensors=\"pt\").to(model.device)\n",
        "with torch.no_grad():\n",
        "    tokens = model.generate(\n",
        "        **inputs,\n",
        "        max_new_tokens=64,\n",
        "        do_sample=True,\n",
        "        temperature=0.7,\n",
        "        pad_token_id=tokenizer.pad_token_id,\n",
        "    )\n",
        "\n",
        "output = tokenizer.decode(tokens[0], skip_special_tokens=True)\n",
        "print(output)"
      ],
      "metadata": {
        "id": "maqkKPtQhsWX"
      },
      "execution_count": null,
      "outputs": []
    }
  ]
}