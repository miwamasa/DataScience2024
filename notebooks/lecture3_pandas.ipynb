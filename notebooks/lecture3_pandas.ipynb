{
 "cells": [
  {
   "attachments": {},
   "cell_type": "markdown",
   "metadata": {},
   "source": [
    "# Lecture4  - Pandas 入門 -\n",
    "<div dir='rtl'>\n",
    "2023.4岩政\n",
    "</div>\n",
    "\n",
    "この実習ではpandasの基本的な操作を実際に動かしながら確かめます。\n",
    "\n",
    "参考: \"Python Data Science Handbook\",Oreily\n",
    "\n",
    "https://jakevdp.github.io/PythonDataScienceHandbook/03.01-introducing-pandas-objects.html"
   ]
  },
  {
   "cell_type": "markdown",
   "metadata": {},
   "source": [
    "最初にnumpyとpandasパッケージをimportします"
   ]
  },
  {
   "cell_type": "code",
   "execution_count": null,
   "metadata": {},
   "outputs": [],
   "source": [
    "import numpy as np\n",
    "import pandas as pd"
   ]
  },
  {
   "cell_type": "markdown",
   "metadata": {},
   "source": [
    "## Series(シリーズ) オブジェクト\n",
    "Pandaにおけるシリーズ(Series)オブジェクトは、１次元のインデクス付きの配列です。リストや配列から次のように作成することができる。"
   ]
  },
  {
   "cell_type": "code",
   "execution_count": null,
   "metadata": {},
   "outputs": [],
   "source": [
    "data = pd.Series([0.25, 0.5, 0.75, 1.0])\n",
    "data"
   ]
  },
  {
   "cell_type": "markdown",
   "metadata": {},
   "source": [
    "値(values)やインデクス(index)を表示。Seriesオブジェクトの値は Numpyの配列になっている。"
   ]
  },
  {
   "cell_type": "code",
   "execution_count": null,
   "metadata": {},
   "outputs": [],
   "source": [
    "data.values"
   ]
  },
  {
   "cell_type": "markdown",
   "metadata": {},
   "source": [
    "一方、Seriesオブジェクトのインデクスは配列によく似た pd.Index型のオブジェクトになっている。"
   ]
  },
  {
   "cell_type": "code",
   "execution_count": null,
   "metadata": {},
   "outputs": [],
   "source": [
    "data.index"
   ]
  },
  {
   "cell_type": "markdown",
   "metadata": {},
   "source": [
    "Seriesオブジェクトに対して、インデクスを使って、要素へアクセスできます。"
   ]
  },
  {
   "cell_type": "code",
   "execution_count": null,
   "metadata": {},
   "outputs": [],
   "source": [
    "data[1], data[1:3]"
   ]
  },
  {
   "cell_type": "markdown",
   "metadata": {},
   "source": [
    "辞書からインデクス付きのSeriesをつくることもで作ることもできる"
   ]
  },
  {
   "cell_type": "code",
   "execution_count": null,
   "metadata": {},
   "outputs": [],
   "source": [
    "population_dict = {'California': 38332521,\n",
    "                   'Texas': 26448193,\n",
    "                   'New York': 19651127,\n",
    "                   'Florida': 19552860,\n",
    "                   'Illinois': 12882135}\n",
    "population = pd.Series(population_dict)\n",
    "population"
   ]
  },
  {
   "cell_type": "markdown",
   "metadata": {},
   "source": [
    "## DataFrame オブジェクト"
   ]
  },
  {
   "cell_type": "markdown",
   "metadata": {},
   "source": [
    "なんといっても、Pandasの中心となるオブジェクトはDataFrameです"
   ]
  },
  {
   "cell_type": "code",
   "execution_count": null,
   "metadata": {},
   "outputs": [],
   "source": [
    "area_dict = {'California': 423967, 'Texas': 695662, 'New York': 141297,\n",
    "             'Florida': 170312, 'Illinois': 149995}\n",
    "area = pd.Series(area_dict)\n",
    "area"
   ]
  },
  {
   "cell_type": "markdown",
   "metadata": {},
   "source": [
    "人口(population)と面積(area)の２つのSeriesをつかって、DataFrameであるstatesを作ります"
   ]
  },
  {
   "cell_type": "code",
   "execution_count": null,
   "metadata": {},
   "outputs": [],
   "source": [
    "states = pd.DataFrame({'population': population,\n",
    "                       'area': area})\n",
    "states"
   ]
  },
  {
   "cell_type": "markdown",
   "metadata": {},
   "source": [
    "DataFrameは インデクス(index)とカラムの配列(colums)を持っています。"
   ]
  },
  {
   "cell_type": "code",
   "execution_count": null,
   "metadata": {},
   "outputs": [],
   "source": [
    "states.index"
   ]
  },
  {
   "cell_type": "code",
   "execution_count": null,
   "metadata": {},
   "outputs": [],
   "source": [
    "states.columns"
   ]
  },
  {
   "cell_type": "markdown",
   "metadata": {},
   "source": [
    "### DataFrame を辞書(dictionary)の特別な場合として取り扱う\n",
    "DataFrameに対して、カラム名から、Seriesを抽出することができます。"
   ]
  },
  {
   "cell_type": "code",
   "execution_count": null,
   "metadata": {},
   "outputs": [],
   "source": [
    "states['area']"
   ]
  },
  {
   "cell_type": "markdown",
   "metadata": {},
   "source": [
    "## Seriesオブジェクトからデータを抽出する\n",
    "\n",
    "まず、'a',...'d'と文字列をインデクスとするSeriesオブジェクトを用意しますｌ。"
   ]
  },
  {
   "cell_type": "code",
   "execution_count": null,
   "metadata": {},
   "outputs": [],
   "source": [
    "import pandas as pd\n",
    "data = pd.Series([0.25, 0.5, 0.75, 1.0],\n",
    "                 index=['a', 'b', 'c', 'd'])\n",
    "data"
   ]
  },
  {
   "cell_type": "code",
   "execution_count": null,
   "metadata": {},
   "outputs": [],
   "source": [
    "data['b']"
   ]
  },
  {
   "cell_type": "markdown",
   "metadata": {},
   "source": [
    "Seriesオブジェクトに対してkeys()メソッドによりインデクスのリストを取得できます。"
   ]
  },
  {
   "cell_type": "code",
   "execution_count": null,
   "metadata": {},
   "outputs": [],
   "source": [
    "data.keys()"
   ]
  },
  {
   "cell_type": "markdown",
   "metadata": {},
   "source": [
    "Seriesオブジェクトの要素の値を、インデクスをつかって変更することができます。"
   ]
  },
  {
   "cell_type": "code",
   "execution_count": null,
   "metadata": {},
   "outputs": [],
   "source": [
    "data['e'] = 1.25\n",
    "data"
   ]
  },
  {
   "cell_type": "markdown",
   "metadata": {},
   "source": [
    "明示的にインデクスの値を使ってSeriesオブジェクトのスライスを得ることができます。\n",
    "ここで、'a':'b'はインデクス'a'から'b'までという意味です。\n",
    "\n",
    "１つの要素ではなくて部分Seriesが得られることに注意"
   ]
  },
  {
   "cell_type": "code",
   "execution_count": null,
   "metadata": {},
   "outputs": [],
   "source": [
    "# slicing by explicit index\n",
    "data['a':'c']"
   ]
  },
  {
   "cell_type": "markdown",
   "metadata": {},
   "source": [
    "スライスは、インデクスの番号で（非明示的に）行うこともできます。以下は0番目から2番目まで(2番目は入らない)"
   ]
  },
  {
   "cell_type": "code",
   "execution_count": null,
   "metadata": {},
   "outputs": [],
   "source": [
    "# slicing by implicit integer index\n",
    "data[0:2]"
   ]
  },
  {
   "cell_type": "markdown",
   "metadata": {},
   "source": [
    "Seriesオブジェクトに含まれる値に対する条件で、絞り込みを行うことができます。"
   ]
  },
  {
   "cell_type": "code",
   "execution_count": null,
   "metadata": {},
   "outputs": [],
   "source": [
    "# masking\n",
    "data[(data > 0.3) & (data < 0.8)]"
   ]
  },
  {
   "cell_type": "markdown",
   "metadata": {},
   "source": [
    "絞り込むの式(data >0.3)は条件の成立のTrue/Falseを表Seriesオブジェクトを返します。\n",
    "\n",
    "そして、このTrue/Falseの値をもつSeriesオブジェクト間で論理演算(&等)を行うことができます。"
   ]
  },
  {
   "cell_type": "code",
   "execution_count": null,
   "metadata": {},
   "outputs": [],
   "source": [
    "(data > 0.3)"
   ]
  },
  {
   "cell_type": "markdown",
   "metadata": {},
   "source": [
    "### DataFrameに対するインデクス指定: loc, iloc, ix\n",
    "\n",
    "まず最初にSeriesオブジェクトを準備します。インデクスとして[1,3,5]という整数を指定しています。"
   ]
  },
  {
   "cell_type": "code",
   "execution_count": null,
   "metadata": {},
   "outputs": [],
   "source": [
    "data = pd.Series(['a', 'b', 'c'], index=[1, 3, 5])\n",
    "data"
   ]
  },
  {
   "attachments": {},
   "cell_type": "markdown",
   "metadata": {},
   "source": [
    "このように、**明示的**にインデクスを、1,3,5と与えましたが。上から数えると、順番通りの0,1,2という**非明示的なインデクス**　が裏にあります。このあたりはインデクスを指定した、値の指示、loc,ilocのところで出てきます。"
   ]
  },
  {
   "cell_type": "code",
   "execution_count": null,
   "metadata": {},
   "outputs": [],
   "source": [
    "# explicit index when indexing\n",
    "data[1]"
   ]
  },
  {
   "cell_type": "code",
   "execution_count": null,
   "metadata": {},
   "outputs": [],
   "source": [
    "# implicit index when slicing\n",
    "data[1:3]"
   ]
  },
  {
   "cell_type": "markdown",
   "metadata": {},
   "source": [
    "まず最初に、Seriesオブジェクトに対する**loc** 属性は、インデクス値をつかった（**明示的なインデクス**)を使った値の参照に使います。"
   ]
  },
  {
   "cell_type": "code",
   "execution_count": null,
   "metadata": {},
   "outputs": [],
   "source": [
    "data.loc[1]"
   ]
  },
  {
   "cell_type": "code",
   "execution_count": null,
   "metadata": {},
   "outputs": [],
   "source": [
    "data.loc[1:3]"
   ]
  },
  {
   "cell_type": "markdown",
   "metadata": {},
   "source": [
    "そして、**iloc**属性は、インデクスの順番である(**非明示的なインデクス**) を使った参照に使います。\n",
    "\n",
    "同じ'1'でも**loc**と**iloc**では異なる値を指していることがわかります。"
   ]
  },
  {
   "cell_type": "code",
   "execution_count": null,
   "metadata": {},
   "outputs": [],
   "source": [
    "data.iloc[1]"
   ]
  },
  {
   "cell_type": "code",
   "execution_count": null,
   "metadata": {},
   "outputs": [],
   "source": [
    "data.iloc[1:3]"
   ]
  },
  {
   "attachments": {},
   "cell_type": "markdown",
   "metadata": {},
   "source": [
    "## DataFrameにおけるデータの選択について\n",
    "スライドより、\n",
    "\n",
    "<div>\n",
    "<img src=\"https://github.com/miwamasa/DataScience2023/blob/main/notebooks/figures/lec2_dataframe_headtail.png?raw=true\" width=\"500\"/>\n",
    "</div\n",
    "\n",
    "\n",
    "まず、２つのSeriesオブジェクトを作成し、これからDataFrameを作成します。"
   ]
  },
  {
   "cell_type": "code",
   "execution_count": null,
   "metadata": {},
   "outputs": [],
   "source": [
    "area = pd.Series({'California': 423967, 'Texas': 695662,\n",
    "                  'New York': 141297, 'Florida': 170312,\n",
    "                  'Illinois': 149995})\n",
    "pop = pd.Series({'California': 38332521, 'Texas': 26448193,\n",
    "                 'New York': 19651127, 'Florida': 19552860,\n",
    "                 'Illinois': 12882135})\n",
    "data = pd.DataFrame({'area':area, 'pop':pop})\n",
    "data"
   ]
  },
  {
   "cell_type": "code",
   "execution_count": null,
   "metadata": {},
   "outputs": [],
   "source": [
    "data['area']"
   ]
  },
  {
   "cell_type": "markdown",
   "metadata": {},
   "source": [
    "DataFrameに新しいコラムを追加するには、コラムを指定して、代入うを行うことで実現できます。\n",
    "\n",
    "以下の例では、'pop','area'の２つのSeriesオブジェクトの算術演算（ここでは割り算）した結果（もSeriesオブジェクト）を新しいコラム'dencity'として追加しています。所望の値をもったコラム'dencity'が増えていることが確認できます。"
   ]
  },
  {
   "cell_type": "code",
   "execution_count": null,
   "metadata": {},
   "outputs": [],
   "source": [
    "data['density'] = data['pop'] / data['area']\n",
    "data"
   ]
  },
  {
   "cell_type": "markdown",
   "metadata": {},
   "source": [
    "DataFrameに対して、転置をとることもできます。インデクスと、コラムが逆転しました"
   ]
  },
  {
   "cell_type": "code",
   "execution_count": null,
   "metadata": {},
   "outputs": [],
   "source": [
    "data.T"
   ]
  },
  {
   "cell_type": "markdown",
   "metadata": {},
   "source": [
    "配列のスライスと同様に部分DataFrameを抽出することができます。\n",
    "\n",
    "以下の例は**非明示的なインデクス**を使って、インデクスを最初の3つ、コラムを最初の2つ、と指定して、部分DataFrameを抽出しています。"
   ]
  },
  {
   "cell_type": "code",
   "execution_count": null,
   "metadata": {},
   "outputs": [],
   "source": [
    "data.iloc[:3, :2]"
   ]
  },
  {
   "cell_type": "markdown",
   "metadata": {},
   "source": [
    "**明示的なインデクス**を使っても同様のスライスができます。"
   ]
  },
  {
   "cell_type": "code",
   "execution_count": null,
   "metadata": {},
   "outputs": [],
   "source": [
    "data.loc[:'Illinois', :'pop']"
   ]
  },
  {
   "cell_type": "markdown",
   "metadata": {},
   "source": [
    "条件によるフィルタリングを行うことができます。data.dencityは'dencity'コラムの値が100より大きいという条件です。この条件にあう部分DataFrameのうち、さらに**明示的なインデクス**によりpop,dencityのみのコラムを絞り込んでいます。"
   ]
  },
  {
   "cell_type": "code",
   "execution_count": null,
   "metadata": {},
   "outputs": [],
   "source": [
    "data.loc[data.density > 100, ['pop', 'density']]"
   ]
  },
  {
   "cell_type": "markdown",
   "metadata": {},
   "source": [
    "**非明示的なインデクス**をつかって、値を書き換える例です。"
   ]
  },
  {
   "cell_type": "code",
   "execution_count": null,
   "metadata": {},
   "outputs": [],
   "source": [
    "data.iloc[0, 2] = 90\n",
    "data"
   ]
  },
  {
   "cell_type": "markdown",
   "metadata": {},
   "source": [
    "### その他のインデクスによる指定の仕方"
   ]
  },
  {
   "cell_type": "code",
   "execution_count": null,
   "metadata": {},
   "outputs": [],
   "source": [
    "data['Florida':'Illinois']"
   ]
  },
  {
   "cell_type": "code",
   "execution_count": null,
   "metadata": {},
   "outputs": [],
   "source": [
    "data[1:3]"
   ]
  },
  {
   "cell_type": "code",
   "execution_count": null,
   "metadata": {},
   "outputs": [],
   "source": [
    "data[data.density > 100]"
   ]
  },
  {
   "cell_type": "markdown",
   "metadata": {},
   "source": [
    "# ここから別の例\n",
    "\n",
    "\"A Cheatsheet for Data Wrangling using Pandas\"\n",
    "\n",
    "https://towardsdatascience.com/data-wrangling-in-pandas-a-downloadable-cheatsheet-84326d255a7b"
   ]
  },
  {
   "cell_type": "markdown",
   "metadata": {},
   "source": [
    "DataFrameの作成方法の例\n",
    "- 値の配列（リストのリスト）と明示的なインデクス、コラム名を与えて生成する例\n",
    "- コラム名をkey、値のリストをvalueとする辞書から生成する例"
   ]
  },
  {
   "cell_type": "code",
   "execution_count": null,
   "metadata": {},
   "outputs": [],
   "source": [
    "# Defining DataFrame by specifing a list of observations\n",
    "df_1= pd.DataFrame([['a', 'b', 'c'],\n",
    "                 ['d', 'e', 'f'],\n",
    "                 ['g', 'h', 'i']],\n",
    "                index = [1,2,3], columns = ['col1', 'col2', 'col3'])\n",
    "# Defining DataFrame by specifing a dictionary of columns \n",
    "df_2= pd.DataFrame({'col1': ['a', 'd', 'g'], \n",
    "                 'col2': ['b', 'e', 'h'],\n",
    "                 'col3': ['c', 'f', 'i']}, \n",
    "                 index = [1,2,3])\n",
    "df_1"
   ]
  },
  {
   "cell_type": "markdown",
   "metadata": {},
   "source": [
    "CSVから読む。irisの場合"
   ]
  },
  {
   "cell_type": "code",
   "execution_count": null,
   "metadata": {},
   "outputs": [],
   "source": [
    "iris=pd.read_csv('https://raw.githubusercontent.com/pandas-dev/pandas/main/pandas/tests/io/data/csv/iris.csv')\n",
    "iris"
   ]
  },
  {
   "cell_type": "markdown",
   "metadata": {},
   "source": [
    "**loc** をつかって明示的なインデクス、コラムにアクセスします。iris.loc[[0,1]] はインデクス=0と1の行を返します。"
   ]
  },
  {
   "cell_type": "code",
   "execution_count": null,
   "metadata": {},
   "outputs": [],
   "source": [
    "iris.loc[[0,1]]"
   ]
  },
  {
   "cell_type": "markdown",
   "metadata": {},
   "source": [
    "さらに、コラム名を明示的に与えてコラムを絞ることができます。必要なコラム名をリストで指定します。"
   ]
  },
  {
   "cell_type": "code",
   "execution_count": null,
   "metadata": {},
   "outputs": [],
   "source": [
    "iris.loc[[0,1], ['SepalLength', 'PetalLength']]"
   ]
  },
  {
   "cell_type": "markdown",
   "metadata": {},
   "source": [
    "**iloc**を使って、非明示的にインデクスを指定することもできます。整数でインデクスの位置を示します。"
   ]
  },
  {
   "cell_type": "code",
   "execution_count": null,
   "metadata": {},
   "outputs": [],
   "source": [
    "iris.iloc[1:4,0:3]"
   ]
  },
  {
   "cell_type": "code",
   "execution_count": null,
   "metadata": {},
   "outputs": [],
   "source": [
    "iris.loc[2]"
   ]
  },
  {
   "cell_type": "code",
   "execution_count": null,
   "metadata": {},
   "outputs": [],
   "source": [
    "iris.iloc[2]"
   ]
  },
  {
   "cell_type": "markdown",
   "metadata": {},
   "source": [
    "### データの統計的概要を表示する\n",
    "DataFrameにdescribe()メソッドを用いると、各コラムのデータの統計的概要を計算して出力します。"
   ]
  },
  {
   "cell_type": "code",
   "execution_count": null,
   "metadata": {},
   "outputs": [],
   "source": [
    "iris.describe()"
   ]
  },
  {
   "cell_type": "markdown",
   "metadata": {},
   "source": [
    "value_counts()メソッドでは、値毎の列の数を合計したものを、値種別ごとに表示します。"
   ]
  },
  {
   "cell_type": "code",
   "execution_count": null,
   "metadata": {},
   "outputs": [],
   "source": [
    "iris['Name'].value_counts()"
   ]
  },
  {
   "cell_type": "markdown",
   "metadata": {},
   "source": [
    "### 行・列・全体毎の統計量\n",
    "\n",
    "DataFrame, columns, Series, GroupBy,等のpandasのオブジェクトを操作する多くの要約関数が提供され、各グループに対して1つの値を出力する。DataFrame に適用した場合、結果は1列に対し1要素の Series で返される。\n",
    "\n",
    "要約関数の例\n",
    "\n",
    "|関数名|要約|\n",
    "|---|---|\n",
    "|sum()|各オブジェクトの値の合計値。\n",
    "|count()|各オブジェクトの NA/null でない値のカウント。\n",
    "|median()|各オブジェクトの中央値。\n",
    "|quantile([0.25,0.75])|各オブジェクトの分位点。\n",
    "|apply(function)|各オブジェクトに関数を適用。\n",
    "|min()|各オブジェクトの最小値。\n",
    "|max()|各オブジェクトの最大値。\n",
    "|mean()|各オブジェクトの平均値。\n",
    "|var()|各オブジェクトの分散値。\n",
    "|std()|各オブジェクトの標準偏差"
   ]
  },
  {
   "cell_type": "code",
   "execution_count": null,
   "metadata": {},
   "outputs": [],
   "source": [
    "iris['SepalLength'].mean()"
   ]
  },
  {
   "cell_type": "markdown",
   "metadata": {},
   "source": [
    "### クロス集計の例\n"
   ]
  },
  {
   "cell_type": "code",
   "execution_count": null,
   "metadata": {},
   "outputs": [],
   "source": [
    "titanic_url = \"http://s3.amazonaws.com/assets.datacamp.com/course/Kaggle/train.csv\" #トレニーングデータ読込み\n",
    "df = pd.read_csv(titanic_url) # df; DataFrame　の略\n",
    "df['Age'].fillna(df.Age.median(), inplace=True) #inplace=True は，処理軽減のため，元データを処理する\n",
    "df.head()"
   ]
  },
  {
   "cell_type": "markdown",
   "metadata": {},
   "source": [
    "crosstab()関数を使った簡単なカテゴリ分析"
   ]
  },
  {
   "cell_type": "code",
   "execution_count": null,
   "metadata": {},
   "outputs": [],
   "source": [
    "pd.crosstab(df['Sex'], df['Pclass'])"
   ]
  },
  {
   "cell_type": "markdown",
   "metadata": {},
   "source": [
    "引数index, columnsにはpandas.Seriesのリストを指定することもできる。結果はマルチインデックス（階層型インデックス）のpandas.DataFrameとして返される。"
   ]
  },
  {
   "cell_type": "code",
   "execution_count": null,
   "metadata": {},
   "outputs": [],
   "source": [
    "pd.crosstab([df['Sex'], df['Survived']], [df['Pclass'], df['Embarked']])"
   ]
  },
  {
   "cell_type": "markdown",
   "metadata": {},
   "source": [
    "引数marginsをTrueとすると、各カテゴリごとの小計および全体の総計が算出できる。"
   ]
  },
  {
   "cell_type": "code",
   "execution_count": null,
   "metadata": {},
   "outputs": [],
   "source": [
    "pd.crosstab([df['Sex'], df['Survived']], [df['Pclass'], df['Embarked']],\n",
    "                  margins=True)"
   ]
  },
  {
   "attachments": {},
   "cell_type": "markdown",
   "metadata": {},
   "source": [
    "## DATA WRANGLING\n",
    "###  DataFrames　を結合(Merge)する\n",
    "\n",
    "<div>\n",
    "<img src=\"https://github.com/miwamasa/DataScience2023/blob/main/notebooks/figures/lec2_dataframe_merge_cheatsheet.png?raw=true\" width=\"500\"/>\n",
    "</div"
   ]
  },
  {
   "cell_type": "code",
   "execution_count": null,
   "metadata": {},
   "outputs": [],
   "source": [
    "df_1 = iris.iloc[[1,51],3:]\n",
    "df_1"
   ]
  },
  {
   "cell_type": "code",
   "execution_count": null,
   "metadata": {},
   "outputs": [],
   "source": [
    "df_2=iris.iloc[[1,51,101],[0,2,4]]\n",
    "df_2"
   ]
  },
  {
   "cell_type": "markdown",
   "metadata": {},
   "source": [
    "２つのDataFrameをマージします。howにinnerを使用すると両方のデータに存在するキーのみで構成されます。outerではどちらか片方に存在するキーも使われます"
   ]
  },
  {
   "cell_type": "code",
   "execution_count": null,
   "metadata": {},
   "outputs": [],
   "source": [
    "pd.merge(df_1, df_2, how = 'outer', on= 'Name')"
   ]
  },
  {
   "cell_type": "code",
   "execution_count": null,
   "metadata": {},
   "outputs": [],
   "source": [
    "pd.merge(df_1, df_2, how = 'inner', on= 'Name')"
   ]
  },
  {
   "cell_type": "code",
   "execution_count": null,
   "metadata": {},
   "outputs": [],
   "source": [
    "df_3 = iris.iloc[[1,2,3,4,51,52,53,54],[0,2,4]]\n",
    "df_3"
   ]
  },
  {
   "cell_type": "markdown",
   "metadata": {},
   "source": [
    "goupebyメソッドは指定したコラムの値が同じもので、列をグループ化します。"
   ]
  },
  {
   "cell_type": "code",
   "execution_count": null,
   "metadata": {},
   "outputs": [],
   "source": [
    "a=df_3.groupby('Name')"
   ]
  },
  {
   "cell_type": "markdown",
   "metadata": {},
   "source": [
    "例えば、'Name'コラムが'Iris-versicolor'であるものの部分DataFrameをえるにはget_groupを使います。"
   ]
  },
  {
   "cell_type": "code",
   "execution_count": null,
   "metadata": {},
   "outputs": [],
   "source": [
    "a.get_group('Iris-versicolor')"
   ]
  },
  {
   "cell_type": "markdown",
   "metadata": {},
   "source": [
    "## Reshaping Dataframes"
   ]
  },
  {
   "cell_type": "code",
   "execution_count": null,
   "metadata": {},
   "outputs": [],
   "source": [
    "df_4 = iris.iloc[1:5,0:3]\n",
    "df_4"
   ]
  },
  {
   "cell_type": "markdown",
   "metadata": {},
   "source": [
    "新しいコラムを追加するには、代入をします。"
   ]
  },
  {
   "cell_type": "code",
   "execution_count": null,
   "metadata": {},
   "outputs": [],
   "source": [
    "df_4['Species'] = ['versicolor', 'versicolor', 'setosa', 'setosa']\n",
    "df_4"
   ]
  },
  {
   "cell_type": "markdown",
   "metadata": {},
   "source": [
    "新しい行を追加するには**loc**を使うことができます"
   ]
  },
  {
   "cell_type": "code",
   "execution_count": null,
   "metadata": {},
   "outputs": [],
   "source": [
    "df_4.loc[5] = [4.9, 1.4, 1.3, 'setosa']\n",
    "df_4"
   ]
  },
  {
   "cell_type": "markdown",
   "metadata": {},
   "source": [
    "コラムを削除する(axis=1)、行を削除する(axis=0){}"
   ]
  },
  {
   "cell_type": "code",
   "execution_count": null,
   "metadata": {},
   "outputs": [],
   "source": [
    "hoge=df_4.drop('Species', axis=1)\n",
    "hoge"
   ]
  },
  {
   "cell_type": "code",
   "execution_count": null,
   "metadata": {},
   "outputs": [],
   "source": [
    "hoge=df_4.drop(2, axis = 0)\n",
    "hoge"
   ]
  },
  {
   "cell_type": "markdown",
   "metadata": {},
   "source": [
    "コラムと行を同時に削除もできます"
   ]
  },
  {
   "cell_type": "code",
   "execution_count": null,
   "metadata": {},
   "outputs": [],
   "source": [
    "hoge=df_4.drop(index = 1, columns = ['Species'])\n",
    "hoge"
   ]
  },
  {
   "cell_type": "markdown",
   "metadata": {},
   "source": [
    "コピーを追加する方法としてconcatinateがあります。"
   ]
  },
  {
   "cell_type": "code",
   "execution_count": null,
   "metadata": {},
   "outputs": [],
   "source": [
    "hoge=pd.concat([df_4,df_4])\n",
    "hoge"
   ]
  },
  {
   "cell_type": "markdown",
   "metadata": {},
   "source": [
    "注）上記例では、インデクスも1-5が繰り返されました、インデクスをつけなおすにはignore_index=Trueオプションを指定します。"
   ]
  },
  {
   "attachments": {},
   "cell_type": "markdown",
   "metadata": {},
   "source": [
    "## DataFrameの構造を変える\n",
    "スライドより\n",
    "\n",
    "<div>\n",
    "<img src=\"https://github.com/miwamasa/DataScience2023/blob/main/notebooks/figures/lec2_dataframe_melt_concat.png?raw=true\" width=\"500\"/>\n",
    "</div"
   ]
  },
  {
   "cell_type": "code",
   "execution_count": null,
   "metadata": {},
   "outputs": [],
   "source": [
    "#'https://raw.githubusercontent.com/miwamasa/DataScience2022/main/notebooks/data/fortune500.csv'\n",
    "#df = pd.read_excel('./data/weather.xlsx')\n",
    "df = pd.read_excel('https://raw.githubusercontent.com/miwamasa/DataScience2023/main/notebooks/data/weather.xlsx')\n",
    "df"
   ]
  },
  {
   "cell_type": "markdown",
   "metadata": {},
   "source": [
    "pivotメソッドを使って、'city'の値をインデクス、'Day'の値がコラムとするDataFrameに変形できます。"
   ]
  },
  {
   "cell_type": "code",
   "execution_count": null,
   "metadata": {},
   "outputs": [],
   "source": [
    "df.pivot(index = 'city', columns= 'Day') "
   ]
  },
  {
   "cell_type": "markdown",
   "metadata": {},
   "source": [
    "## 多重インデクス等"
   ]
  },
  {
   "cell_type": "code",
   "execution_count": null,
   "metadata": {},
   "outputs": [],
   "source": [
    "import pandas as pd\n",
    "import numpy as np\n",
    "df_2 = pd.DataFrame(np.arange(16).reshape(4,4), \n",
    "                 index = [['A', 'A', 'B', 'B'],['a','b','c','d']],         \n",
    "                 columns = ['boston','newyork','london','tokyo'])\n",
    "df_2.index.names = ['Index1', 'Index2']\n",
    "df_2"
   ]
  },
  {
   "cell_type": "code",
   "execution_count": null,
   "metadata": {},
   "outputs": [],
   "source": [
    "df_2.loc[('A','b'),'tokyo']"
   ]
  },
  {
   "cell_type": "markdown",
   "metadata": {},
   "source": [
    "The hierarchical index and column labels are not uncommon in complex datasets especially when describing relationship between many different variables. We can now use the stack operation to re-structure this dataframe"
   ]
  },
  {
   "cell_type": "code",
   "execution_count": null,
   "metadata": {},
   "outputs": [],
   "source": [
    "df_2.stack()# 引数にlevel=0を与えたものと同じ"
   ]
  },
  {
   "cell_type": "code",
   "execution_count": null,
   "metadata": {},
   "outputs": [],
   "source": [
    "df_2.stack(level = 1)#コラムが階層である場合には１つ深いレベルを選べる"
   ]
  },
  {
   "cell_type": "markdown",
   "metadata": {},
   "source": [
    "## null値の扱い"
   ]
  },
  {
   "cell_type": "code",
   "execution_count": null,
   "metadata": {},
   "outputs": [],
   "source": [
    "npn = np.nan\n",
    "df_na_1 = pd.DataFrame([[1, 2, 3, 4], \n",
    "                     [4, 5, 6, npn], \n",
    "                     [6, npn, 7, 8], \n",
    "                     [9, npn, npn, npn]])\n",
    "df_na_1"
   ]
  },
  {
   "cell_type": "code",
   "execution_count": null,
   "metadata": {},
   "outputs": [],
   "source": [
    "df_na_1.isnull()"
   ]
  },
  {
   "cell_type": "code",
   "execution_count": null,
   "metadata": {},
   "outputs": [],
   "source": [
    "df_na_1.dropna() "
   ]
  },
  {
   "cell_type": "code",
   "execution_count": null,
   "metadata": {},
   "outputs": [],
   "source": [
    "df_na_1.dropna(axis=1)"
   ]
  },
  {
   "cell_type": "code",
   "execution_count": null,
   "metadata": {},
   "outputs": [],
   "source": [
    "df_na_1.fillna({1:100, 2:200, 3:300})"
   ]
  },
  {
   "cell_type": "markdown",
   "metadata": {},
   "source": [
    "## 時系列\n",
    "\n",
    "- data_range()関数で時刻インデクス列を生成できる、ここでfreqオプションとして時刻間隔を指定する\n",
    "```\n",
    "D: 毎日\n",
    "B: 毎営業日（月曜 - 金曜）\n",
    "W: 毎週（日曜始まり）\n",
    "M: 月末ごと\n",
    "SM: 15日と月末ごと\n",
    "Q: 四半期末ごと\n",
    "AまたはY: 年末ごと\n",
    "```"
   ]
  },
  {
   "cell_type": "code",
   "execution_count": null,
   "metadata": {},
   "outputs": [],
   "source": [
    "nobs=8\n",
    "ts=pd.date_range('1/1/2000',periods=nobs,freq='M')\n",
    "ts"
   ]
  },
  {
   "cell_type": "code",
   "execution_count": null,
   "metadata": {},
   "outputs": [],
   "source": [
    "y0=np.random.normal(loc=1.5,scale=2.0, size=nobs)\n",
    "y= pd.Series(y0,index=ts)\n",
    "y"
   ]
  },
  {
   "cell_type": "code",
   "execution_count": null,
   "metadata": {},
   "outputs": [],
   "source": [
    "y['31/3/2000':'31/7/2000']"
   ]
  },
  {
   "cell_type": "markdown",
   "metadata": {},
   "source": [
    "##　時間はここも見るべき\n",
    "https://jakevdp.github.io/PythonDataScienceHandbook/03.11-working-with-time-series.html"
   ]
  },
  {
   "cell_type": "code",
   "execution_count": null,
   "metadata": {},
   "outputs": [],
   "source": [
    "import pandas as pd\n",
    "import numpy as np\n",
    "date = pd.to_datetime(\"4th of July, 2015\")\n",
    "date"
   ]
  },
  {
   "cell_type": "code",
   "execution_count": null,
   "metadata": {},
   "outputs": [],
   "source": [
    "date + pd.to_timedelta(np.arange(12), 'D')"
   ]
  },
  {
   "cell_type": "markdown",
   "metadata": {},
   "source": [
    "### Resampling, Shifting, and Windowing"
   ]
  },
  {
   "attachments": {},
   "cell_type": "markdown",
   "metadata": {},
   "source": [
    "### (Tips)Colabにあらかじめ導入されているパッケージが古くて（例えば）外部サービスと接続できない場合\n",
    "- まずはパッケージのバージョンを確認する\n",
    ">!pip show pandas_datareader\n",
    "- バージョンが古かったら、バージョンを上げる\n",
    ">!pip install --upgrade pandas_datareader\n",
    "- セッションを再起動する"
   ]
  },
  {
   "cell_type": "code",
   "execution_count": null,
   "metadata": {},
   "outputs": [],
   "source": [
    "import pandas\n",
    "from pandas_datareader import data as pdr\n",
    "import yfinance as yfin\n",
    "\n",
    "\n",
    "yfin.pdr_override()\n",
    "\n",
    "spy = pdr.get_data_yahoo('SPY', start='2022-10-24', end='2022-12-23')\n",
    "\n",
    "spy.head()"
   ]
  },
  {
   "cell_type": "markdown",
   "metadata": {},
   "source": [
    "## pandas_datareaderのサンプル\n",
    "\n",
    "https://dev.classmethod.jp/articles/pandas_datareader-python/\n",
    "\n",
    "より"
   ]
  },
  {
   "cell_type": "code",
   "execution_count": null,
   "metadata": {},
   "outputs": [],
   "source": [
    "import pandas as pd\n",
    "import datetime as dt\n",
    "import numpy as np\n",
    "import pandas_datareader.data as web\n",
    "\n",
    "start = dt.date(2019,1,1)\n",
    "end = dt.date(2020,1,1)\n",
    "\n",
    "df_ntt = pdr.get_data_yahoo('9432.T', start=start, end=end)\n",
    "df_kddi = pdr.get_data_yahoo('9433.T', start=start, end=end)"
   ]
  },
  {
   "cell_type": "code",
   "execution_count": null,
   "metadata": {},
   "outputs": [],
   "source": [
    "df2=pd.DataFrame({'NTT':df_ntt['Close'],'KDDI':df_kddi['Close']})\n",
    "df2.plot(title= 'NTT and KDDI', grid=True)"
   ]
  },
  {
   "cell_type": "markdown",
   "metadata": {},
   "source": [
    "## DataFrame全体（部分）に対して一度に同じ処理を行うmap(),apply(),mapappy()等\n",
    "pandasではDataFrameの各要素に対する処理（変換等)をfor文を使わなくても、リストに対するmap()関数のように一気に適用することができます。for文を書かずに、やりたいことを**宣言的に**書くことができます。\n",
    "\n",
    "lec2_pandas_map_apply\n",
    "\n"
   ]
  },
  {
   "cell_type": "code",
   "execution_count": null,
   "metadata": {},
   "outputs": [],
   "source": [
    "df= pd.DataFrame([[11,12,13,14],\n",
    "                 [21,22,23,24],\n",
    "                 [31,32,33,34]],\n",
    "                index = [1,2,3], columns = ['a', 'b', 'c','d'])\n",
    "df"
   ]
  },
  {
   "cell_type": "code",
   "execution_count": null,
   "metadata": {},
   "outputs": [],
   "source": [
    "np.sqrt(df)"
   ]
  },
  {
   "cell_type": "code",
   "execution_count": null,
   "metadata": {},
   "outputs": [],
   "source": [
    "df"
   ]
  },
  {
   "cell_type": "markdown",
   "metadata": {},
   "source": [
    "### 行・列に適用\n",
    "NumPy配列の要素全体から値を算出する関数の引数にpandasオブジェクトを指定すると、デフォルトではpandasオブジェクトの各列に対して適用される。引数axis=1とすると各行に対して適用される。"
   ]
  },
  {
   "cell_type": "code",
   "execution_count": null,
   "metadata": {},
   "outputs": [],
   "source": [
    "np.mean(df, axis=1)"
   ]
  },
  {
   "attachments": {},
   "cell_type": "markdown",
   "metadata": {},
   "source": [
    "### pandasオブジェクトのメソッドで関数を適用\n",
    "pandasオブジェクトのメソッドを使って要素や行・列に関数を適用することが可能。Pythonの組み込み関数、自分で定義した関数を適用できる。NumPyの関数もOK。\n",
    "\n",
    "- Seriesの各要素に適用: map(), apply()\n",
    "- DataFrameの各要素に適用: applymap()\n",
    "- DataFrameの各行・各列に適用: apply()\n",
    "\n",
    "<div>\n",
    "<img src=\"https://github.com/miwamasa/DataScience2023/blob/main/notebooks/figures/lec2_pandas_map_apply.png?raw=true\" width=\"500\"/>\n",
    "</div"
   ]
  },
  {
   "cell_type": "markdown",
   "metadata": {},
   "source": [
    "Seriesの各要素に適用: map(), apply()"
   ]
  },
  {
   "cell_type": "code",
   "execution_count": null,
   "metadata": {},
   "outputs": [],
   "source": [
    "s=df['a']\n",
    "twice=lambda x: x*2\n",
    "s.map(twice)"
   ]
  },
  {
   "cell_type": "markdown",
   "metadata": {},
   "source": [
    "DataFrameの各要素に関数を適用: applymap()"
   ]
  },
  {
   "cell_type": "code",
   "execution_count": null,
   "metadata": {},
   "outputs": [],
   "source": [
    "df.applymap(twice)"
   ]
  },
  {
   "cell_type": "markdown",
   "metadata": {},
   "source": [
    "DataFrameの各行・各列に適用: apply()\n",
    "\n",
    "行や列の単位に適用します：例）リスト→最大値"
   ]
  },
  {
   "cell_type": "code",
   "execution_count": null,
   "metadata": {},
   "outputs": [],
   "source": [
    "f_maxmin = lambda x: max(x) - min(x)\n",
    "print(df.apply(f_maxmin))\n",
    "\n",
    "print(df.apply(f_maxmin, axis=1))"
   ]
  },
  {
   "attachments": {},
   "cell_type": "markdown",
   "metadata": {},
   "source": [
    "## ご参考：Pandas CheatSheet\n",
    "CheatSheetその１：\n",
    "<div>\n",
    "<img src=\"https://github.com/miwamasa/DataScience2023/blob/main/notebooks/figures/pandas_cheatsheet_ja1.png?raw=true\" width=\"500\"/>\n",
    "</div\n",
    "\n",
    "CheatSheetその2：\n",
    "<div>\n",
    "<img src=\"https://github.com/miwamasa/DataScience2023/blob/main/notebooks/figures/pandas_cheatsheet_ja2.png?raw=true\" width=\"500\"/>\n",
    "</div"
   ]
  },
  {
   "cell_type": "markdown",
   "metadata": {},
   "source": []
  }
 ],
 "metadata": {
  "interpreter": {
   "hash": "2db524e06e9f5f4ffedc911c917cb75e12dbc923643829bf417064a77eb14d37"
  },
  "kernelspec": {
   "display_name": "Python 3.8.3 64-bit",
   "language": "python",
   "name": "python3"
  },
  "language_info": {
   "codemirror_mode": {
    "name": "ipython",
    "version": 3
   },
   "file_extension": ".py",
   "mimetype": "text/x-python",
   "name": "python",
   "nbconvert_exporter": "python",
   "pygments_lexer": "ipython3",
   "version": "3.8.3"
  },
  "orig_nbformat": 4
 },
 "nbformat": 4,
 "nbformat_minor": 2
}
