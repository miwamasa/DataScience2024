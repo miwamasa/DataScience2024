{
  "cells": [
    {
      "cell_type": "markdown",
      "metadata": {
        "id": "NNJKNXgjVY49"
      },
      "source": [
        "# Lecture 12 状態空間モデル\n",
        "\n",
        "## ローカルレベルモデルを試してみる"
      ]
    },
    {
      "cell_type": "code",
      "execution_count": null,
      "metadata": {
        "id": "Sr2R4DO8VY5H"
      },
      "outputs": [],
      "source": [
        "%matplotlib inline\n",
        "import numpy as np\n",
        "import matplotlib.pyplot as plt\n",
        "import pandas as pd\n",
        "\n",
        "import io\n",
        "import requests\n",
        "import statsmodels.api as sm"
      ]
    },
    {
      "cell_type": "code",
      "execution_count": null,
      "metadata": {
        "id": "k-L4I5IJVY5L"
      },
      "outputs": [],
      "source": [
        "\n",
        "# 月ごとの飛行機の乗客数データ\n",
        "url = \"https://www.analyticsvidhya.com/wp-content/uploads/2016/02/AirPassengers.csv\"\n",
        "stream = requests.get(url).content\n",
        "df = pd.read_csv(io.StringIO(stream.decode('utf-8')),\n",
        "                   index_col=\"Month\",\n",
        "                   parse_dates=True,\n",
        "                   dtype=\"float\")\n",
        "df.head()"
      ]
    },
    {
      "cell_type": "code",
      "execution_count": null,
      "metadata": {
        "id": "eayP8AewVY5M"
      },
      "outputs": [],
      "source": [
        "df.plot()"
      ]
    },
    {
      "cell_type": "code",
      "execution_count": null,
      "metadata": {
        "id": "odUBNkJnVY5N"
      },
      "outputs": [],
      "source": [
        "df.columns"
      ]
    },
    {
      "cell_type": "code",
      "execution_count": null,
      "metadata": {
        "id": "UXIwK0r3VY5O"
      },
      "outputs": [],
      "source": [
        "# 学習と評価データに分割\n",
        "df_train = df[df.index < '1957-04-01']\n",
        "df_test = df[df.index >= '1957-04-01']"
      ]
    },
    {
      "cell_type": "code",
      "execution_count": null,
      "metadata": {
        "id": "VDTxsCfkVY5P"
      },
      "outputs": [],
      "source": [
        "\n",
        "\n",
        "# local level model\n",
        "local_level_model = sm.tsa.UnobservedComponents(df_train, 'llevel')\n",
        "# parameter estimation with maximum likelihood estimation\n",
        "local_level_params = local_level_model.fit(\n",
        "                        method='bfgs',\n",
        "                        maxiter=500)\n",
        "# plot summary\n",
        "fig = local_level_params.plot_components()"
      ]
    },
    {
      "cell_type": "code",
      "execution_count": null,
      "metadata": {
        "id": "o2J0jLNbVY5R"
      },
      "outputs": [],
      "source": [
        "st = pd.to_datetime(df_test.index[0])\n",
        "ed = pd.to_datetime(df_test.index[-1])\n",
        "# forecast future values\n",
        "local_level_pred = local_level_params.predict(st, ed)\n",
        "# plot results\n",
        "ax1 = df_test.plot(figsize=(16,4))\n",
        "df_test.plot(color=\"0.7\",\n",
        "          linestyle='dotted',\n",
        "          linewidth=\"5.0\",\n",
        "          ax=ax1)\n",
        "#sarima_pred.plot(ax=ax1)\n",
        "local_level_pred.plot(ax=ax1)\n",
        "#plt.legend(['train', 'original', 'SARIMA', 'State Space'])\n",
        "plt.legend(['train', 'original', 'State Space'])\n",
        "plt.xlabel('Duration (month)')\n",
        "plt.ylabel('# of Passengers')\n",
        "plt.show()"
      ]
    },
    {
      "cell_type": "code",
      "execution_count": null,
      "metadata": {
        "id": "LhOPUXDsVY5T"
      },
      "outputs": [],
      "source": [
        "# local level model with seasonality\n",
        "seasonal_model = sm.tsa.UnobservedComponents(df_train, 'lltrend', seasonal=12)\n",
        "# parameter estimation with maximum likelihood estimation\n",
        "seasonal_params = seasonal_model.fit(\n",
        "                        method='bfgs',\n",
        "                        maxiter=500)\n",
        "# plot summary\n",
        "fig = seasonal_params.plot_components()"
      ]
    },
    {
      "cell_type": "code",
      "execution_count": null,
      "metadata": {
        "id": "pHmjtgEEVY5U"
      },
      "outputs": [],
      "source": [
        "st = pd.to_datetime(df_test.index[0])\n",
        "ed = pd.to_datetime(df_test.index[-1])\n",
        "# forecast future values\n",
        "statespace_pred = seasonal_params.predict(st, ed)\n",
        "# plot results\n",
        "ax1 = df_test.plot(figsize=(16,4))\n",
        "df_test.plot(color=\"0.7\",\n",
        "          linestyle='dotted',\n",
        "          linewidth=\"5.0\",\n",
        "          ax=ax1)\n",
        "#sarima_pred.plot(ax=ax1)\n",
        "statespace_pred.plot(ax=ax1)\n",
        "#plt.legend(['train', 'original', 'SARIMA', 'State Space'])\n",
        "plt.legend(['train', 'original', 'State Space'])\n",
        "plt.xlabel('Duration (month)')\n",
        "plt.ylabel('# of Passengers')\n",
        "plt.show()"
      ]
    },
    {
      "cell_type": "markdown",
      "metadata": {
        "id": "FAEgUW2iVY5V"
      },
      "source": [
        "## ローカルレベルモデルで様々なモデル（トレンドや季節性の取り込みや分散の省略等）を試して精度を比較する。\n",
        "\n",
        "参考：https://logics-of-blue.com/wp-content/uploads/2017/05/python-state-space-models.html\n",
        "\n",
        "\n",
        "\n",
        "|\t|model|\t説明\n",
        "|---|---|---|\n",
        "|0\t|'local level'|ローカルレベルモデル\n",
        "|1\t|'local linear trend'|ローカル線形トレンドモデル\n",
        "|2\t|'local level',seasonal=12|季節変動ありローカルレベルモデル\n",
        "|3\t|'local linear trend',seasonal=12|\t季節変動ありローカル線形トレンドモデル\n",
        "|4\t|'local linear deterministic trend',seasonal=12|季節変動ありローカル線形トレンドモデル(トレンド分散なし)\n",
        "|5\t| 'random walk with drift',seasonal=12|季節変動ありローカル線形トレンドモデル(トレンド分散なし、観測誤差なし"
      ]
    },
    {
      "cell_type": "code",
      "execution_count": null,
      "metadata": {
        "id": "o4B_BJ81VY5W"
      },
      "outputs": [],
      "source": [
        "# 基本のライブラリを読み込む\n",
        "import numpy as np\n",
        "import pandas as pd\n",
        "from scipy import stats\n",
        "\n",
        "# グラフ描画\n",
        "from matplotlib import pylab as plt\n",
        "import seaborn as sns\n",
        "%matplotlib inline\n",
        "\n",
        "# グラフを横長にする\n",
        "from matplotlib.pylab import rcParams\n",
        "rcParams['figure.figsize'] = 15, 6\n",
        "\n",
        "# 統計モデル\n",
        "import statsmodels.api as sm"
      ]
    },
    {
      "cell_type": "code",
      "execution_count": null,
      "metadata": {
        "id": "rzmB8zWRVY5Z"
      },
      "outputs": [],
      "source": [
        "# プロット\n",
        "plt.plot(df)"
      ]
    },
    {
      "cell_type": "markdown",
      "metadata": {
        "id": "tt4dq_fnVY5Z"
      },
      "source": [
        "ローカルレベルモデルの推定\n"
      ]
    },
    {
      "cell_type": "code",
      "execution_count": null,
      "metadata": {
        "id": "_Uk4itOdVY5a"
      },
      "outputs": [],
      "source": [
        "# ローカルレベルモデルの推定\n",
        "mod_local_level = sm.tsa.UnobservedComponents(df, 'local level')\n",
        "\n",
        "# 最尤法によるパラメタの推定\n",
        "res_local_level = mod_local_level.fit()\n",
        "\n",
        "# 推定されたパラメタ一覧\n",
        "print(res_local_level.summary())\n",
        "\n",
        "# 推定された状態・トレンドの描画\n",
        "rcParams['figure.figsize'] = 15, 15\n",
        "fig = res_local_level.plot_components()"
      ]
    },
    {
      "cell_type": "markdown",
      "metadata": {
        "id": "ggfnEeKVVY5b"
      },
      "source": [
        "ローカル線形トレンドモデルの推定"
      ]
    },
    {
      "cell_type": "code",
      "execution_count": null,
      "metadata": {
        "id": "EkMZ84O8VY5b"
      },
      "outputs": [],
      "source": [
        "# ローカル線形トレンドモデル\n",
        "\n",
        "mod_trend = sm.tsa.UnobservedComponents(\n",
        "    df,\n",
        "    'local linear trend'\n",
        ")\n",
        "\n",
        "# 最尤法によるパラメタの推定\n",
        "# ワーニングが出たのでBFGS法で最適化する\n",
        "res_trend = mod_trend.fit(method='bfgs')\n",
        "\n",
        "# 推定されたパラメタ一覧\n",
        "print(res_trend.summary())\n",
        "\n",
        "# 推定された状態・トレンドの描画\n",
        "rcParams['figure.figsize'] = 15, 20\n",
        "fig = res_trend.plot_components()"
      ]
    },
    {
      "cell_type": "markdown",
      "metadata": {
        "id": "MYeO9T2BVY5c"
      },
      "source": [
        "季節変動の取り込み\n"
      ]
    },
    {
      "cell_type": "code",
      "execution_count": null,
      "metadata": {
        "id": "SnRpu-ueVY5d"
      },
      "outputs": [],
      "source": [
        "# 季節変動ありのローカルレベルモデル\n",
        "\n",
        "mod_season_local_level = sm.tsa.UnobservedComponents(\n",
        "    df,\n",
        "    'local level',\n",
        "    seasonal=12)\n",
        "\n",
        "# まずはNelder-Meadでパラメタを推定し、その結果を初期値としてまた最適化する。2回目はBFGSを使用。\n",
        "res_season_local_level = mod_season_local_level.fit(\n",
        "    method='bfgs',\n",
        "    maxiter=500,\n",
        "    start_params=mod_season_local_level.fit(method='nm', maxiter=500).params,\n",
        ")\n",
        "\n",
        "# 推定されたパラメタ一覧\n",
        "print(res_season_local_level.summary())\n",
        "\n",
        "# 推定された状態・トレンド・季節の影響の描画\n",
        "rcParams['figure.figsize'] = 15, 20\n",
        "fig = res_season_local_level.plot_components()"
      ]
    },
    {
      "cell_type": "code",
      "execution_count": null,
      "metadata": {
        "id": "jR65MYmnVY5d"
      },
      "outputs": [],
      "source": [
        "# 季節変動ありのローカル線形トレンドモデル\n",
        "\n",
        "mod_season_trend = sm.tsa.UnobservedComponents(\n",
        "    df,\n",
        "    'local linear trend',\n",
        "    seasonal=12)\n",
        "\n",
        "# まずはNelder-Meadでパラメタを推定し、その結果を初期値としてまた最適化する。2回目はBFGSを使用。\n",
        "res_season_trend = mod_season_trend.fit(\n",
        "    method='bfgs',\n",
        "    maxiter=500,\n",
        "    start_params=mod_season_trend.fit(method='nm', maxiter=500).params,\n",
        ")\n",
        "\n",
        "# 推定されたパラメタ一覧\n",
        "print(res_season_trend.summary())\n",
        "\n",
        "# 推定された状態・トレンド・季節の影響の描画\n",
        "rcParams['figure.figsize'] = 15, 20\n",
        "fig = res_season_trend.plot_components()"
      ]
    },
    {
      "cell_type": "markdown",
      "metadata": {
        "id": "qlfx7q6LVY5e"
      },
      "source": [
        "推定するパラメタの数を減らす"
      ]
    },
    {
      "cell_type": "code",
      "execution_count": null,
      "metadata": {
        "id": "_IYnQME1VY5e"
      },
      "outputs": [],
      "source": [
        "# 詳細は以下の資料を参照してください\n",
        "# http://www.statsmodels.org/stable/generated/statsmodels.tsa.statespace.structural.UnobservedComponents.html#statsmodels.tsa.statespace.structural.UnobservedComponents\n",
        "\n",
        "# 季節変動ありのローカル線形トレンドモデル\n",
        "# ただし、トレンドの分散は無し\n",
        "\n",
        "mod_season_trend_d = sm.tsa.UnobservedComponents(\n",
        "    df,\n",
        "    'local linear deterministic trend',\n",
        "    seasonal=12)\n",
        "\n",
        "# まずはNelder-Meadでパラメタを推定し、その結果を初期値としてまた最適化する。2回目はBFGSを使用。\n",
        "res_season_trend_d = mod_season_trend_d.fit(\n",
        "    method='bfgs',\n",
        "    maxiter=500,\n",
        "    start_params=mod_season_trend_d.fit(method='nm', maxiter=500).params,\n",
        ")\n",
        "\n",
        "# 推定されたパラメタ一覧\n",
        "print(res_season_trend_d.summary())\n",
        "\n",
        "# 推定された状態・トレンド・季節の影響の描画\n",
        "rcParams['figure.figsize'] = 15, 20\n",
        "fig = res_season_trend_d.plot_components()"
      ]
    },
    {
      "cell_type": "code",
      "execution_count": null,
      "metadata": {
        "id": "jYwllhSNVY5f"
      },
      "outputs": [],
      "source": [
        "# 詳細は以下の資料を参照してください\n",
        "# http://www.statsmodels.org/stable/generated/statsmodels.tsa.statespace.structural.UnobservedComponents.html#statsmodels.tsa.statespace.structural.UnobservedComponents\n",
        "\n",
        "# 季節変動ありのローカル線形トレンドモデル\n",
        "# ただし、トレンドの分散は無し\n",
        "\n",
        "mod_season_rw = sm.tsa.UnobservedComponents(\n",
        "    df,\n",
        "    'random walk with drift',\n",
        "    seasonal=12)\n",
        "\n",
        "# まずはNelder-Meadでパラメタを推定し、その結果を初期値としてまた最適化する。2回目はBFGSを使用。\n",
        "res_season_rw = mod_season_rw.fit(\n",
        "    method='bfgs',\n",
        "    maxiter=500,\n",
        "    start_params=mod_season_rw.fit(method='nm', maxiter=500).params,\n",
        ")\n",
        "\n",
        "# 推定されたパラメタ一覧\n",
        "print(res_season_rw.summary())\n",
        "\n",
        "# 推定された状態・トレンド・季節の影響の描画\n",
        "rcParams['figure.figsize'] = 15, 20\n",
        "fig = res_season_rw.plot_components()"
      ]
    },
    {
      "cell_type": "code",
      "execution_count": null,
      "metadata": {
        "id": "5FN9DruDVY5f"
      },
      "outputs": [],
      "source": [
        "# 今まで計算してきたモデルのAICを格納する\n",
        "aic_list = pd.DataFrame(index=range(6), columns=[\"model\", \"aic\"])\n",
        "\n",
        "aic_list.iloc[0][\"model\"] = \"res_local_level\"\n",
        "aic_list.iloc[0][\"aic\"] = res_local_level.aic\n",
        "\n",
        "aic_list.iloc[1][\"model\"] = \"res_trend\"\n",
        "aic_list.iloc[1][\"aic\"] = res_trend.aic\n",
        "\n",
        "aic_list.iloc[2][\"model\"] = \"res_season_local_level\"\n",
        "aic_list.iloc[2][\"aic\"] = res_season_local_level.aic\n",
        "\n",
        "aic_list.iloc[3][\"model\"] = \"res_season_trend\"\n",
        "aic_list.iloc[3][\"aic\"] = res_season_trend.aic\n",
        "\n",
        "aic_list.iloc[4][\"model\"] = \"res_season_trend_d\"\n",
        "aic_list.iloc[4][\"aic\"] = res_season_trend_d.aic\n",
        "\n",
        "aic_list.iloc[5][\"model\"] = \"res_season_rw\"\n",
        "aic_list.iloc[5][\"aic\"] = res_season_rw.aic\n",
        "\n",
        "\n",
        "# 結果の表示\n",
        "aic_list"
      ]
    },
    {
      "cell_type": "code",
      "execution_count": null,
      "metadata": {
        "id": "EaRGA32IVY5g"
      },
      "outputs": [],
      "source": [
        "# 予測\n",
        "pred = res_season_rw.predict('1960-01-01', '1961-12-01')\n",
        "\n",
        "# 実データと予測結果の図示\n",
        "rcParams['figure.figsize'] = 15, 6\n",
        "plt.plot(df)\n",
        "plt.plot(pred, \"r\")\n",
        "plt.title('res_season_rw')"
      ]
    },
    {
      "cell_type": "code",
      "execution_count": null,
      "metadata": {
        "id": "fBBU0mFYVY5g"
      },
      "outputs": [],
      "source": [
        "# 予測\n",
        "pred = res_local_level.predict('1960-01-01', '1961-12-01')\n",
        "\n",
        "# 実データと予測結果の図示\n",
        "rcParams['figure.figsize'] = 15, 6\n",
        "plt.plot(df)\n",
        "plt.plot(pred, \"r\")\n",
        "plt.title('res_local_level')"
      ]
    },
    {
      "cell_type": "code",
      "execution_count": null,
      "metadata": {
        "id": "9tvKbLNIVY5h"
      },
      "outputs": [],
      "source": [
        "# 予測\n",
        "pred = res_trend.predict('1960-01-01', '1961-12-01')\n",
        "\n",
        "# 実データと予測結果の図示\n",
        "rcParams['figure.figsize'] = 15, 6\n",
        "plt.plot(df)\n",
        "plt.plot(pred, \"r\")\n",
        "plt.title('res_trend')"
      ]
    },
    {
      "cell_type": "code",
      "execution_count": null,
      "metadata": {
        "id": "kO3Fs4dJVY5h"
      },
      "outputs": [],
      "source": [
        "# 予測\n",
        "pred = res_season_local_level.predict('1960-01-01', '1961-12-01')\n",
        "\n",
        "# 実データと予測結果の図示\n",
        "rcParams['figure.figsize'] = 15, 6\n",
        "plt.plot(df)\n",
        "plt.plot(pred, \"r\")\n",
        "plt.title('res_season_local_level')"
      ]
    },
    {
      "cell_type": "markdown",
      "metadata": {
        "id": "UBcwaxNvVY5h"
      },
      "source": [
        "## 線形ガウス型モデルの設計と解析([島田])\n",
        "\n",
        "- Pycalmanによるトレンドの推定モデル構築"
      ]
    },
    {
      "cell_type": "code",
      "execution_count": null,
      "metadata": {
        "id": "yO1yc6OrVxeP"
      },
      "outputs": [],
      "source": [
        "!pip install pykalman"
      ]
    },
    {
      "cell_type": "code",
      "execution_count": null,
      "metadata": {
        "id": "MbthXUmNVY5i"
      },
      "outputs": [],
      "source": [
        "%matplotlib inline\n",
        "import numpy as np\n",
        "np.random.seed(555)\n",
        "import matplotlib.pyplot as plt\n",
        "import seaborn as sns\n",
        "import pandas as pd"
      ]
    },
    {
      "cell_type": "code",
      "execution_count": null,
      "metadata": {
        "id": "wMSwladnVY5i"
      },
      "outputs": [],
      "source": [
        "import statsmodels as sm\n",
        "from statsmodels.graphics import tsaplots\n",
        "from statsmodels.tsa import stattools\n",
        "from pykalman import KalmanFilter"
      ]
    },
    {
      "cell_type": "code",
      "execution_count": null,
      "metadata": {
        "id": "ufLg0Uo1VY5i"
      },
      "outputs": [],
      "source": [
        "# 月ごとの飛行機の乗客数データ\n",
        "url = \"https://www.analyticsvidhya.com/wp-content/uploads/2016/02/AirPassengers.csv\"\n",
        "df.head()"
      ]
    },
    {
      "cell_type": "code",
      "execution_count": null,
      "metadata": {
        "id": "RR9vTEvsVY5j"
      },
      "outputs": [],
      "source": [
        "df.plot()"
      ]
    },
    {
      "cell_type": "code",
      "execution_count": null,
      "metadata": {
        "id": "fMMhSicpVY5k"
      },
      "outputs": [],
      "source": [
        "# 推移行列などの初期化\n",
        "## ここで n_dim_obs=1, n_dim_trend=2とする\n",
        "def FGHset(n_dim_trend, n_dim_obs=1, n_dim_series=0, Q_sigma2=10):\n",
        "    n_dim_Q=2\n",
        "    n_dim_state = n_dim_trend\n",
        "\n",
        "    # 行列の初期化\n",
        "    G = np.zeros((n_dim_state, n_dim_Q))\n",
        "    F = np.zeros((n_dim_state, n_dim_state))\n",
        "    H = np.zeros((n_dim_obs, n_dim_state))\n",
        "    Q = np.eye(n_dim_Q) * Q_sigma2\n",
        "\n",
        "    # 各行列のトレンド成分に対するブロック行列を構築\n",
        "    G[0,0] = 1\n",
        "    H[0,0] = 1\n",
        "\n",
        "    # トレンドモデルの推移行列の構築\n",
        "    # 非定常過程でも対応できる推移行列を構築\n",
        "    F[0,0] = 2\n",
        "    F[0,1] = -1\n",
        "    F[1,0] = 1\n",
        "\n",
        "    # PyKalmanのQはG.dot(Q).dot(G.T)を想定しているためQをupdate\n",
        "    Q = G.dot(Q).dot(G.T)\n",
        "\n",
        "    return n_dim_state, F, H, Q"
      ]
    },
    {
      "cell_type": "code",
      "execution_count": null,
      "metadata": {
        "id": "z4zLztUlVY5k"
      },
      "outputs": [],
      "source": [
        "# 観測値の次元数\n",
        "n_dim_obs = 1\n",
        "# トレンドの次元数\n",
        "n_dim_trend = 2\n",
        "\n",
        "# 推移行列などの定義\n",
        "n_dim_state, F, H, Q = FGHset(n_dim_trend, n_dim_obs)"
      ]
    },
    {
      "cell_type": "code",
      "execution_count": null,
      "metadata": {
        "id": "vJkOHaXHVY5l"
      },
      "outputs": [],
      "source": [
        " n_dim_state, F, H, Q"
      ]
    },
    {
      "cell_type": "code",
      "execution_count": null,
      "metadata": {
        "id": "pOhAbvGJVY5l"
      },
      "outputs": [],
      "source": [
        "# 状態の平均値ベクトルの初期値\n",
        "initial_state_mean = np.zeros(n_dim_state)\n",
        "# 状態の分散共分散行列の初期値\n",
        "initial_state_covariance = np.ones((n_dim_state, n_dim_state))\n",
        "\n",
        "# カルマンフィルタのモデル生成\n",
        "kf = KalmanFilter(\n",
        "    # l：観測値の次元数\n",
        "    n_dim_obs=n_dim_obs,\n",
        "    # k：状態の次元数\n",
        "    n_dim_state=n_dim_state,\n",
        "    # x_0：状態の平均値ベクトルの初期値（k次元）\n",
        "    initial_state_mean=initial_state_mean,\n",
        "    # V_0：状態の分散共分散行列の初期値（k×k次元）\n",
        "    initial_state_covariance=initial_state_covariance,\n",
        "    # F：推移行列（k×k次元）\n",
        "    transition_matrices=F,\n",
        "    # H：観測行列（l×k次元）\n",
        "    observation_matrices=H,\n",
        "    # R：観測ノイズwの分散共分散行列（l×l次元。観測値が一次元の場合はスカラ）\n",
        "    observation_covariance=1.0,\n",
        "    # Q：システムノイズvの分散共分散行列（m×m次元）\n",
        "    transition_covariance=Q)"
      ]
    },
    {
      "cell_type": "code",
      "execution_count": null,
      "metadata": {
        "id": "ejs763dJVY5m"
      },
      "outputs": [],
      "source": [
        "# 前半120時点を学習データに121時点以降のデータを検証用に使用\n",
        "n_train = 120\n",
        "train, test = df.values[:n_train], df.values[n_train:]"
      ]
    },
    {
      "cell_type": "code",
      "execution_count": null,
      "metadata": {
        "id": "R7a0rN7eVY5m"
      },
      "outputs": [],
      "source": [
        "smoothed_state_means, smoothed_state_covs = kf.smooth(train)\n",
        "pred_o_smoothed = smoothed_state_means.dot(H.T)"
      ]
    },
    {
      "cell_type": "code",
      "execution_count": null,
      "metadata": {
        "id": "tmKt9-W9VY5m"
      },
      "outputs": [],
      "source": [
        "plt.plot(train, label=\"observation\")\n",
        "plt.plot(pred_o_smoothed, '--', label=\"predict\")"
      ]
    },
    {
      "cell_type": "code",
      "execution_count": null,
      "metadata": {
        "id": "egfTA1E1VY5m"
      },
      "outputs": [],
      "source": [
        "plt.plot(df.values, label=\"observation\")\n",
        "\n",
        "# 長期予測格納用のベクトルを用意（値は全て入れ替わるため0で初期化しなくてよい）\n",
        "pred_y = np.empty(len(test))\n",
        "\n",
        "# 現在の状態と分散共分散行列を取得\n",
        "current_state = smoothed_state_means[-1]\n",
        "current_cov = smoothed_state_covs[-1]\n",
        "for i in range(len(test)):\n",
        "    # filter_updateは観測値を入力しなければ1期先予測のみを実行する\n",
        "    current_state, current_cov = kf.filter_update(current_state,\n",
        "                                                  current_cov,\n",
        "                                                  observation=None)\n",
        "    pred_y[i] = kf.observation_matrices.dot(current_state)\n",
        "\n",
        "# np.hstackはnp.concatenateでもよい\n",
        "plt.plot(np.hstack([pred_o_smoothed.flatten(), pred_y]), '--', label=\"forecast\")"
      ]
    },
    {
      "cell_type": "markdown",
      "metadata": {
        "id": "kWsnUchlVY5n"
      },
      "source": [
        "### Kalman by seasonal"
      ]
    },
    {
      "cell_type": "code",
      "execution_count": null,
      "metadata": {
        "id": "lxj1tO0uVY5n"
      },
      "outputs": [],
      "source": [
        "# 推移行列などの初期化\n",
        "def FGHset(n_dim_trend, n_dim_obs=1, n_dim_series=0, Q_sigma2=10):\n",
        "    n_dim_Q = (n_dim_trend!=0) + (n_dim_series!=0)\n",
        "    if n_dim_series>0:\n",
        "        n_dim_state = n_dim_trend + n_dim_series - 1\n",
        "    else:\n",
        "        n_dim_state = n_dim_trend\n",
        "\n",
        "    # 行列の初期化\n",
        "    G = np.zeros((n_dim_state, n_dim_Q))\n",
        "    F = np.zeros((n_dim_state, n_dim_state))\n",
        "    H = np.zeros((n_dim_obs, n_dim_state))\n",
        "    Q = np.eye(n_dim_Q) * Q_sigma2\n",
        "\n",
        "    ## トレンドモデルのブロック行列の構築\n",
        "    G[0,0] = 1\n",
        "    H[0,0] = 1\n",
        "    if n_dim_trend==1:\n",
        "        F[0,0] = 1\n",
        "    elif n_dim_trend==2:\n",
        "        F[0,0] = 2\n",
        "        F[0,1] = -1\n",
        "        F[1,0] = 1\n",
        "    elif n_dim_trend==3:\n",
        "        F[0,0] = 3\n",
        "        F[0,1] = -3\n",
        "        F[0,2] = 1\n",
        "        F[1,0] = 1\n",
        "        F[2,1] = 1\n",
        "\n",
        "    start_elem = n_dim_trend\n",
        "    start_col = n_dim_trend\n",
        "    # 季節調整成分のブロック行列の構築\n",
        "    if n_dim_series>0:\n",
        "        G[start_elem, 1] = 1\n",
        "        H[0, start_elem] = 1\n",
        "        for i in range(n_dim_series-1):\n",
        "            F[start_elem, start_elem+i] = -1\n",
        "        for i in range(n_dim_series-2):\n",
        "            F[start_elem+i+1, start_elem+i] = 1\n",
        "\n",
        "    # PyKalmanのQはG.dot(Q).dot(G.T)を想定しているためQをupdate\n",
        "    Q = G.dot(Q).dot(G.T)\n",
        "\n",
        "    return n_dim_state, F, H, Q"
      ]
    },
    {
      "cell_type": "code",
      "execution_count": null,
      "metadata": {
        "id": "1J0YAMMxVY5o"
      },
      "outputs": [],
      "source": [
        "# 観測値の次元数\n",
        "n_dim_obs = 1\n",
        "# トレンドの次元数\n",
        "n_dim_trend = 2\n",
        "# 季節成分の次元数\n",
        "n_dim_series = 12\n",
        "\n",
        "# 推移行列などの定義\n",
        "n_dim_state, F, H, Q = FGHset(n_dim_trend, n_dim_obs, n_dim_series)"
      ]
    },
    {
      "cell_type": "code",
      "execution_count": null,
      "metadata": {
        "id": "usExRWUIVY5o"
      },
      "outputs": [],
      "source": [
        "# 状態の平均値ベクトルの初期値\n",
        "initial_state_mean = np.zeros(n_dim_state)\n",
        "# 状態の分散共分散行列の初期値\n",
        "initial_state_covariance = np.ones((n_dim_state, n_dim_state))\n",
        "\n",
        "# カルマンフィルタのモデル生成\n",
        "kf = KalmanFilter(\n",
        "    # l：観測値の次元数\n",
        "    n_dim_obs=n_dim_obs,\n",
        "    # k：状態の次元数\n",
        "    n_dim_state=n_dim_state,\n",
        "    # x_0：状態の平均値ベクトルの初期値（k次元）\n",
        "    initial_state_mean=initial_state_mean,\n",
        "    # V_0：状態の分散共分散行列の初期値（k×k次元）\n",
        "    initial_state_covariance=initial_state_covariance,\n",
        "    # F：推移行列（k×k次元）\n",
        "    transition_matrices=F,\n",
        "    # H：観測行列（l×k次元）\n",
        "    observation_matrices=H,\n",
        "    # R：観測ノイズwの分散共分散行列（l×l次元。観測値が一次元の場合はスカラ）\n",
        "    observation_covariance=1.0,\n",
        "    # Q：システムノイズvの分散共分散行列（m×m次元）\n",
        "    transition_covariance=Q)"
      ]
    },
    {
      "cell_type": "code",
      "execution_count": null,
      "metadata": {
        "id": "33BLE64HVY5p"
      },
      "outputs": [],
      "source": [
        "# 前半120時点を学習データに121時点以降のデータを検証用に使用\n",
        "n_train = 120\n",
        "train, test = df.values[:n_train], df.values[n_train:]"
      ]
    },
    {
      "cell_type": "code",
      "execution_count": null,
      "metadata": {
        "id": "kKdAmtgCVY5q"
      },
      "outputs": [],
      "source": [
        "# フィルタ＋平滑化\n",
        "smoothed_state_means, smoothed_state_covs = kf.smooth(train)\n",
        "pred_o_smoothed = smoothed_state_means.dot(H.T)"
      ]
    },
    {
      "cell_type": "code",
      "execution_count": null,
      "metadata": {
        "id": "5pG5d-JbVY5q"
      },
      "outputs": [],
      "source": [
        "plt.plot(train, label=\"observation\")\n",
        "plt.plot(pred_o_smoothed, '--', label=\"predict\")"
      ]
    },
    {
      "cell_type": "code",
      "execution_count": null,
      "metadata": {
        "id": "wY606AuXVY5r"
      },
      "outputs": [],
      "source": [
        "plt.plot(df.values, label=\"observation\")\n",
        "\n",
        "pred_y = np.empty(len(test))\n",
        "current_state = smoothed_state_means[-1]\n",
        "current_cov = smoothed_state_covs[-1]\n",
        "for i in range(len(test)):\n",
        "    current_state, current_cov = kf.filter_update(current_state,\n",
        "                                                  current_cov,\n",
        "                                                  observation=None)\n",
        "    pred_y[i] = kf.observation_matrices.dot(current_state)\n",
        "\n",
        "plt.plot(np.hstack([pred_o_smoothed.flatten(), pred_y]), '--', label=\"forecast\")"
      ]
    },
    {
      "cell_type": "markdown",
      "metadata": {
        "id": "QrJucLnkVY5r"
      },
      "source": [
        "## EMアルゴリズムを用いたハイパーパラメタ最適化"
      ]
    },
    {
      "cell_type": "code",
      "execution_count": null,
      "metadata": {
        "id": "1Bqp_52CVY5s"
      },
      "outputs": [],
      "source": [
        "# 繰り返し回数は10回\n",
        "# ハイパーパラメタ更新の対象はF, H, Q, R\n",
        "emed_kf = kf.em(train, n_iter=10, em_vars='all')"
      ]
    },
    {
      "cell_type": "code",
      "execution_count": null,
      "metadata": {
        "id": "oOFXQli7VY5s"
      },
      "outputs": [],
      "source": [
        "# ハイパーパラメタF, H, Q, R更新後の平滑化系列\n",
        "em_smoothed_state_means, em_smoothed_state_covs = emed_kf.smooth(train)\n",
        "em_pred_o_smoothed = np.dot(em_smoothed_state_means, emed_kf.observation_matrices.T)\n",
        "plt.plot(df.values, label=\"observation\")\n",
        "\n",
        "current_state = em_smoothed_state_means[-1]\n",
        "current_cov = em_smoothed_state_covs[-1]\n",
        "\n",
        "pred_y = np.empty(len(test))\n",
        "for i in range(len(test)):\n",
        "    current_state, current_cov = emed_kf.filter_update(current_state, current_cov, observation=None)\n",
        "    pred_y[i] = kf.observation_matrices.dot(current_state)\n",
        "\n",
        "plt.plot(np.hstack([em_pred_o_smoothed.flatten(), pred_y]), '--', label=\"forecast\")"
      ]
    },
    {
      "cell_type": "code",
      "execution_count": null,
      "metadata": {
        "id": "sWL31fhpVY5s"
      },
      "outputs": [],
      "source": [
        "emed_kf.transition_matrices"
      ]
    },
    {
      "cell_type": "markdown",
      "metadata": {
        "id": "ecwA6f7dVY5t"
      },
      "source": [
        "### seasonal + AR"
      ]
    },
    {
      "cell_type": "code",
      "execution_count": null,
      "metadata": {
        "id": "cWj3U-RbVY5t"
      },
      "outputs": [],
      "source": [
        "# 推移行列などの初期化\n",
        "def FGHset(n_dim_trend,\n",
        "           n_dim_obs=1, n_dim_series=0, n_dim_ar=0, Q_sigma2=10):\n",
        "    n_dim_Q = (n_dim_trend!=0) + (n_dim_series!=0) + (n_dim_ar!=0)\n",
        "    if n_dim_series>0 or n_dim_ar>0:\n",
        "        n_dim_state = n_dim_trend + n_dim_series + n_dim_ar - 1\n",
        "    else:\n",
        "        n_dim_state = n_dim_trend\n",
        "\n",
        "    # 行列の初期化\n",
        "    G = np.zeros((n_dim_state, n_dim_Q))\n",
        "    F = np.zeros((n_dim_state, n_dim_state))\n",
        "    H = np.zeros((n_dim_obs, n_dim_state))\n",
        "    Q = np.eye(n_dim_Q) * Q_sigma2\n",
        "\n",
        "    ## トレンドモデルのブロック行列の構築\n",
        "    G[0,0] = 1\n",
        "    H[0,0] = 1\n",
        "    if n_dim_trend==1:\n",
        "        F[0,0] = 1\n",
        "    elif n_dim_trend==2:\n",
        "        F[0,0] = 2\n",
        "        F[0,1] = -1\n",
        "        F[1,0] = 1\n",
        "    elif n_dim_trend==3:\n",
        "        F[0,0] = 3\n",
        "        F[0,1] = -3\n",
        "        F[0,2] = 1\n",
        "        F[1,0] = 1\n",
        "        F[2,1] = 1\n",
        "\n",
        "    start_elem = n_dim_trend\n",
        "    start_col = n_dim_trend\n",
        "    # 季節調整成分のブロック行列の構築\n",
        "    if n_dim_series>0:\n",
        "        G[start_elem, 1] = 1\n",
        "        H[0, start_elem] = 1\n",
        "        for i in range(n_dim_series-1):\n",
        "            F[start_elem, start_elem+i] = -1\n",
        "        for i in range(n_dim_series-2):\n",
        "            F[start_elem+i+1, start_elem+i] = 1\n",
        "\n",
        "        start_elem = n_dim_trend + n_dim_series - 1\n",
        "        start_col = n_dim_trend + n_dim_series - 1\n",
        "\n",
        "    # AR成分のブロック行列の構築\n",
        "    if n_dim_ar>0:\n",
        "        G[start_elem, 2] = 1\n",
        "        H[0, start_elem] = 1\n",
        "        for i in range(n_dim_ar):\n",
        "            F[start_elem, start_elem+i] = 0\n",
        "        for i in range(n_dim_ar-1):\n",
        "            F[start_elem+i+1, start_elem+i] = 1\n",
        "\n",
        "\n",
        "    # PyKalmanのQはG.dot(Q).dot(G.T)を想定しているためQをupdate\n",
        "    Q = G.dot(Q).dot(G.T)\n",
        "\n",
        "    return n_dim_state, F, H, Q"
      ]
    },
    {
      "cell_type": "code",
      "execution_count": null,
      "metadata": {
        "id": "d8snOXSIVY5u"
      },
      "outputs": [],
      "source": [
        "# 観測値の次元数\n",
        "n_dim_obs = 1\n",
        "# トレンドの次元数\n",
        "n_dim_trend = 2\n",
        "# 季節成分の次元数\n",
        "n_dim_series = 12\n",
        "# AR成分の次元数\n",
        "n_dim_ar = 2\n",
        "\n",
        "# 推移行列などの定義\n",
        "n_dim_state, F, H, Q = FGHset(n_dim_trend, n_dim_obs, n_dim_series, n_dim_ar)"
      ]
    },
    {
      "cell_type": "code",
      "execution_count": null,
      "metadata": {
        "id": "7GkvbIIsVY5u"
      },
      "outputs": [],
      "source": [
        "# 状態の平均値ベクトルの初期値\n",
        "initial_state_mean = np.zeros(n_dim_state)\n",
        "# 状態の分散共分散行列の初期値\n",
        "initial_state_covariance = np.ones((n_dim_state, n_dim_state))\n",
        "\n",
        "# カルマンフィルタのモデル生成\n",
        "kf = KalmanFilter(\n",
        "    # l：観測値の次元数\n",
        "    n_dim_obs=n_dim_obs,\n",
        "    # k：状態の次元数\n",
        "    n_dim_state=n_dim_state,\n",
        "    # x_0：状態の平均値ベクトルの初期値（k次元）\n",
        "    initial_state_mean=initial_state_mean,\n",
        "    # V_0：状態の分散共分散行列の初期値（k×k次元）\n",
        "    initial_state_covariance=initial_state_covariance,\n",
        "    # F：推移行列（k×k次元）\n",
        "    transition_matrices=F,\n",
        "    # H：観測行列（l×k次元）\n",
        "    observation_matrices=H,\n",
        "    # R：観測ノイズwの分散共分散行列（l×l次元。観測値が一次元の場合はスカラ）\n",
        "    observation_covariance=1.0,\n",
        "    # Q：システムノイズvの分散共分散行列（m×m次元）\n",
        "    transition_covariance=Q)"
      ]
    },
    {
      "cell_type": "code",
      "execution_count": null,
      "metadata": {
        "id": "RHVNeCwgVY5v"
      },
      "outputs": [],
      "source": [
        "# フィルタ＋平滑化\n",
        "smoothed_state_means, smoothed_state_covs = kf.smooth(train)\n",
        "pred_o_smoothed = smoothed_state_means.dot(H.T)"
      ]
    },
    {
      "cell_type": "code",
      "execution_count": null,
      "metadata": {
        "id": "Vo8udTdGVY5v"
      },
      "outputs": [],
      "source": [
        "plt.plot(train, label=\"observation\")\n",
        "plt.plot(pred_o_smoothed, '--', label=\"predict\")"
      ]
    },
    {
      "cell_type": "code",
      "execution_count": null,
      "metadata": {
        "id": "slR5Cxl9VY5v"
      },
      "outputs": [],
      "source": [
        "plt.plot(df.values, label=\"observation\")\n",
        "\n",
        "pred_y = np.empty(len(test))\n",
        "current_state = smoothed_state_means[-1]\n",
        "current_cov = smoothed_state_covs[-1]\n",
        "for i in range(len(test)):\n",
        "    current_state, current_cov = kf.filter_update(current_state,\n",
        "                                                  current_cov,\n",
        "                                                  observation=None)\n",
        "    pred_y[i] = kf.observation_matrices.dot(current_state)\n",
        "\n",
        "plt.plot(np.hstack([pred_o_smoothed.flatten(), pred_y]), '--', label=\"forecast\")"
      ]
    },
    {
      "cell_type": "code",
      "execution_count": null,
      "metadata": {
        "id": "NPtirOlwVY5w"
      },
      "outputs": [],
      "source": []
    }
  ],
  "metadata": {
    "colab": {
      "provenance": []
    },
    "interpreter": {
      "hash": "9650cb4e16cdd4a8e8e2d128bf38d875813998db22a3c986335f89e0cb4d7bb2"
    },
    "kernelspec": {
      "display_name": "Python 3.8.3 64-bit",
      "language": "python",
      "name": "python3"
    },
    "language_info": {
      "codemirror_mode": {
        "name": "ipython",
        "version": 3
      },
      "file_extension": ".py",
      "mimetype": "text/x-python",
      "name": "python",
      "nbconvert_exporter": "python",
      "pygments_lexer": "ipython3",
      "version": "3.11.6"
    },
    "orig_nbformat": 4
  },
  "nbformat": 4,
  "nbformat_minor": 0
}