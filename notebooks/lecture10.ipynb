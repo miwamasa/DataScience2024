{
 "cells": [
  {
   "attachments": {},
   "cell_type": "markdown",
   "metadata": {},
   "source": [
    "# Lecture10 動的システム\n",
    "<div dir='rtl'>\n",
    "2024.5岩政\n",
    "</div>\n",
    "\n",
    "## ステップ応答（時間応答）\n",
    "1次系のステップ応答，インパルス応答  \n",
    "2次系のインパルス応答  \n",
    "\n",
    "最初にステップ応答を、微分方程式を数値的に解くことで求めます。数値積分関数scipy.integrate.odeintを用います。\n",
    "\n",
    "scipy.integrate.odeint https://docs.scipy.org/doc/scipy/reference/generated/scipy.integrate.odeint.html"
   ]
  },
  {
   "cell_type": "code",
   "execution_count": null,
   "metadata": {},
   "outputs": [],
   "source": [
    "# -*- coding: utf-8 -*-\n",
    "from scipy.integrate import odeint\n",
    "import numpy as np\n",
    "import matplotlib.pyplot as plt\n",
    "%matplotlib inline"
   ]
  },
  {
   "cell_type": "markdown",
   "metadata": {},
   "source": [
    "#### 1次系のステップ応答\n",
    "1次のODE (Ordinary Differential Equation)"
   ]
  },
  {
   "cell_type": "markdown",
   "metadata": {},
   "source": [
    "積分すべき微分方程式を定義しておきます。\n",
    "\n",
    "ここでは、\n",
    "\n",
    "$$\n",
    " \\frac{dx(t)}{dt}=-a\\times x(t)+u(t)\n",
    "$$\n",
    "\n",
    "であるとします。関数は 信号変数x(t),時刻刻み、そして、入力パラメータ、信号を引数とします。\n",
    "\n",
    "またa=2.0とします。"
   ]
  },
  {
   "cell_type": "code",
   "execution_count": null,
   "metadata": {},
   "outputs": [],
   "source": [
    "def dFunc_1(x, time, a, u):\n",
    "    dx = -a*x + u\n",
    "    return dx\n",
    "\n",
    "time = np.linspace(0,3,100) # time interval, 100 division\n",
    "a = 2.0"
   ]
  },
  {
   "cell_type": "markdown",
   "metadata": {},
   "source": [
    "初期値x(0)=0として、入力としてはu(t)=1というステップ関数を準備します。\n",
    "\n",
    "そして、odeintに対して、微分方程式（関数で定義した）、初期値、時間刻み、パラメータ、入力信号を渡します。\n",
    "\n",
    "odeintの結果プロットすると、微分方程式を積分した結果、すなわちステップ応答が得られます。"
   ]
  },
  {
   "cell_type": "code",
   "execution_count": null,
   "metadata": {},
   "outputs": [],
   "source": [
    "x0 = 0.0 # Initial value\n",
    "u = 1.0  # Step input\n",
    "sol_1 = odeint(dFunc_1, x0 ,time, args=(a,u))\n",
    "plt.plot(time, sol_1, '-k', linewidth=2)\n",
    "plt.xlabel('t', fontsize=20)\n",
    "plt.ylabel('x', fontsize=20, rotation='horizontal')\n",
    "plt.grid()\n"
   ]
  },
  {
   "cell_type": "markdown",
   "metadata": {},
   "source": [
    "#### 1次系のインパルス応答\n",
    "\n",
    "今度はインパルス応答を求めてみます。インパル信号を時間領域(tということ)で具体化するのは困難なので、時刻=0からずっと0となる入力信号をインパルス応答の代わりとします。"
   ]
  },
  {
   "cell_type": "code",
   "execution_count": null,
   "metadata": {},
   "outputs": [],
   "source": [
    "x0 = 1.0 # Initial value\n",
    "u = 0.0  # zero input\n",
    "sol_2 = odeint(dFunc_1, x0 ,time, args=(a,u))\n",
    "plt.plot(time, sol_2, '-b', linewidth=2)\n",
    "plt.xlabel('t', fontsize=20)\n",
    "plt.ylabel('x', fontsize=20, rotation='horizontal')\n",
    "plt.grid()\n"
   ]
  },
  {
   "cell_type": "markdown",
   "metadata": {},
   "source": [
    "#### 2次系のステップ応答\n",
    "質量(mass)，ばね定数（spring）の係数は一定として，ダンパ係数を変えてシミュレーションを実施"
   ]
  },
  {
   "cell_type": "code",
   "execution_count": null,
   "metadata": {},
   "outputs": [],
   "source": [
    "def dFunc_2(x, time, mass, damper, spring, u):\n",
    "    dx1 = x[1]\n",
    "    dx0 = (-1/mass)*(damper*x[1] + spring*x[0] - u) \n",
    "    return [dx1, dx0]\n",
    "\n",
    "time = np.linspace(0,20,100)\n",
    "u = 1.0  # input\n",
    "x0 = [0.0, 0.0]\n",
    "\n",
    "mass, damper, spring = 4.0, 0.4, 1.0 # damper; changeable\n",
    "\n",
    "sol_1 = odeint(dFunc_2, x0, time, args=(mass, 1.0, spring, u))\n",
    "sol_2 = odeint(dFunc_2, x0, time, args=(mass, 2.0, spring, u))\n",
    "sol_3 = odeint(dFunc_2, x0, time, args=(mass, 4.0, spring, u))\n",
    "sol_4 = odeint(dFunc_2, x0, time, args=(mass, 6.0, spring, u))\n",
    "\n",
    "plt.plot(time, sol_1[:,[0]], label='D=1')\n",
    "plt.plot(time, sol_2[:,[0]], label='D=2')\n",
    "plt.plot(time, sol_3[:,[0]], label='D=4')\n",
    "plt.plot(time, sol_4[:,[0]], label='D=6')\n",
    "\n",
    "plt.xlabel('t')\n",
    "#plt.ylabel('x', rotation='horizontal')\n",
    "plt.ylabel('x')\n",
    "plt.legend()\n",
    "plt.grid()\n"
   ]
  },
  {
   "cell_type": "markdown",
   "metadata": {},
   "source": [
    "## 伝達関数による記述\n",
    "\n",
    "'control'パッケージを利用します。"
   ]
  },
  {
   "cell_type": "code",
   "execution_count": null,
   "metadata": {},
   "outputs": [],
   "source": [
    "#インストールが必要かも。\n",
    "!pip install control"
   ]
  },
  {
   "cell_type": "code",
   "execution_count": null,
   "metadata": {},
   "outputs": [],
   "source": [
    "from control.matlab import *"
   ]
  },
  {
   "cell_type": "markdown",
   "metadata": {},
   "source": [
    "伝達関数モデルの記述\n",
    "\n",
    "ここでは、伝達関数\n",
    "$$\n",
    "\\mathcal{P}(s)=\\frac{1}{s^2+2s+3}\n",
    "$$\n",
    "\n",
    "をtf(分子、分母)により作成します。"
   ]
  },
  {
   "cell_type": "code",
   "execution_count": null,
   "metadata": {},
   "outputs": [],
   "source": [
    "Np = [0, 1]      # 伝達関数の分子多項式の係数 (0*s + 1)\n",
    "Dp = [1, 2, 3]   # 伝達関数の分母多項式の係数 (1*s^2 + 2*s + 3)\n",
    "P = tf(Np, Dp)\n",
    "print('P(s)=', P)"
   ]
  },
  {
   "cell_type": "markdown",
   "metadata": {},
   "source": [
    "直接分子、分母を与えてもできます。"
   ]
  },
  {
   "cell_type": "code",
   "execution_count": null,
   "metadata": {},
   "outputs": [],
   "source": [
    "P = tf([0, 1], [1, 2, 3])\n",
    "print('P(s)=', P)"
   ]
  },
  {
   "cell_type": "markdown",
   "metadata": {},
   "source": [
    "#### ステップ応答\n",
    "\n",
    "step()関数を使って、伝達関数に対するステップ応答を得ます。"
   ]
  },
  {
   "cell_type": "markdown",
   "metadata": {},
   "source": [
    "便利関数です。"
   ]
  },
  {
   "cell_type": "code",
   "execution_count": null,
   "metadata": {},
   "outputs": [],
   "source": [
    "def cross_lines(x, y, **kwargs):\n",
    "    ax = plt.gca()\n",
    "    ax.axhline(y, **kwargs)\n",
    "    ax.axvline(x, **kwargs)\n",
    "    ax.scatter(T, 0.632, **kwargs)"
   ]
  },
  {
   "cell_type": "markdown",
   "metadata": {},
   "source": [
    "伝達関数でモデルを定義して、ステップ応答をみてみます。tf([0, 1], [0.5, 1])とは\n",
    "\n",
    "$$\n",
    " \\mathcal{P}(s)=\\frac{1}{0.5s+1}\n",
    "$$\n",
    "\n",
    "一次系の伝達関数が\n",
    "\n",
    "$$G(s)=\\frac{K}{Ts+1}$$\n",
    "\n",
    "- Tは時定数(time constraint)、Kは定常ゲイン(steady-state gain)と呼ばれる\n",
    "- ステップ応答は、単位ステップ信号のラプラス変換が$1/s$であることから、\n",
    "\n",
    "Kが1、Tが0.5となります。t=0.5のときに、K*0.632=0.632に立ち上がるはずです。"
   ]
  },
  {
   "cell_type": "code",
   "execution_count": null,
   "metadata": {},
   "outputs": [],
   "source": [
    "from control.matlab import * #︓伝達関数モデルの定義\n",
    "import matplotlib.pyplot as plt\n",
    "import numpy as np\n",
    "fig, ax = plt.subplots(figsize=(3, 2.3))\n",
    "P = tf([0, 1], [0.5, 1])\n",
    "y, t = step(P, np.arange(0, 5, 0.01))\n",
    "T=0.5\n",
    "ax.plot(t, y, color='k')\n",
    "cross_lines(T, 0.632, color='k',lw=0.5)\n",
    "ax.annotate('$(0.5, 0.632)$', xy=(0.7, 0.5))\n",
    "ax.set_xticks(np.linspace(0, 5, 6))\n",
    "ax.grid(ls=':')\n",
    "#stepinfo(P)"
   ]
  },
  {
   "cell_type": "markdown",
   "metadata": {},
   "source": [
    "時間応答"
   ]
  },
  {
   "cell_type": "code",
   "execution_count": null,
   "metadata": {},
   "outputs": [],
   "source": [
    "from control.matlab import *\n",
    "import matplotlib.pyplot as plt\n",
    "import numpy as np"
   ]
  },
  {
   "cell_type": "code",
   "execution_count": null,
   "metadata": {},
   "outputs": [],
   "source": [
    "#便利関数\n",
    "def plot_set(fig_ax, *args):\n",
    "    fig_ax.set_xlabel(args[0])\n",
    "    fig_ax.set_ylabel(args[1])\n",
    "    fig_ax.grid(ls=':')\n",
    "    if len(args)==3:\n",
    "        fig_ax.legend(loc=args[2])\n",
    "\n",
    "def linestyle_generator():\n",
    "    linestyle = ['-', '--', '-.', ':']\n",
    "    lineID = 0\n",
    "    while True:\n",
    "        yield linestyle[lineID]\n",
    "        lineID = (lineID + 1) % len(linestyle)"
   ]
  },
  {
   "cell_type": "markdown",
   "metadata": {},
   "source": [
    "#### １次系\n",
    "一次遅れ系（再掲）\n",
    "\n",
    "\n",
    "$$G(s)=\\frac{K}{Ts+1}$$\n",
    "\n",
    "- Tは時定数(time constraint)、Kは定常ゲイン(steady-state gain)と呼ばれる\n",
    "- ステップ応答は、単位ステップ信号のラプラス変換が$1/s$であることから、"
   ]
  },
  {
   "cell_type": "code",
   "execution_count": null,
   "metadata": {},
   "outputs": [],
   "source": [
    "def cross_lines(x, y, **kwargs):\n",
    "    ax = plt.gca()\n",
    "    ax.axhline(y, **kwargs)\n",
    "    ax.axvline(x, **kwargs)\n",
    "    ax.scatter(T, 0.632, **kwargs)\n",
    "    \n",
    "fig, ax = plt.subplots(figsize=(3, 2.3))\n",
    "\n",
    "(T, K) = (0.5, 1)\n",
    "P = tf([0, K], [T, 1])\n",
    "y, t = step(P, np.arange(0, 5, 0.01))\n",
    "ax.plot(t,y, color='k')\n",
    "\n",
    "cross_lines(T, 0.632, color='k',lw=0.5)\n",
    "ax.annotate('$(0.5, 0.632)$', xy=(0.7, 0.5))\n",
    "\n",
    "ax.set_xticks(np.linspace(0, 5, 6))\n",
    "plot_set(ax, 't', 'y')\n",
    "ax.set_title('Step Response(T=0.5,K=1)')"
   ]
  },
  {
   "cell_type": "markdown",
   "metadata": {},
   "source": [
    "Tを色々変えてみると、反応の速度がかわることがわかります。"
   ]
  },
  {
   "cell_type": "code",
   "execution_count": null,
   "metadata": {},
   "outputs": [],
   "source": [
    "fig, ax = plt.subplots(figsize=(3, 2.3))\n",
    "LS = linestyle_generator()\n",
    "\n",
    "K = 1\n",
    "T = (1, 0.5, 0.1)\n",
    "for i in range(len(T)):\n",
    "    y, t = step(tf([0, K], [T[i], 1]), np.arange(0, 5, 0.01))\n",
    "    ax.plot(t, y, ls = next(LS), label='T='+str(T[i]))\n",
    "\n",
    "\n",
    "ax.set_xticks(np.linspace(0, 5, 6))\n",
    "ax.set_yticks(np.linspace(0, 1, 6))\n",
    "plot_set(ax, 't', 'y', 'best')"
   ]
  },
  {
   "cell_type": "markdown",
   "metadata": {},
   "source": [
    "#### 2次系\n",
    "\n",
    "２次系の、伝達関数は、\n",
    "\n",
    "$$\n",
    "G(s)=K\\frac{\\omega_n^2}{s^2+2\\zeta \\omega_n s+\\omega_n^2}\n",
    "$$\n",
    "\n",
    "\n",
    "- K=1、$\\zeta=0.4,\\omega_n=5$の場合のステップ応答\n",
    "- 時刻Tpで、最大値ymaxとなる\n",
    "  - $Tp=\\pi/(\\omega_n\\sqrt{1-\\zeta^2})$\n",
    "  - $y_{max}=K(1+e^{-\\zeta \\omega_n T_p})$\n"
   ]
  },
  {
   "cell_type": "code",
   "execution_count": null,
   "metadata": {},
   "outputs": [],
   "source": [
    "def cross_lines(x, y, **kwargs):\n",
    "    plt.gca()\n",
    "    ax.axhline(y, **kwargs)\n",
    "    ax.axvline(x, **kwargs)\n",
    "    ax.scatter(x, y, **kwargs)\n",
    "    \n",
    "(zeta, omega_n) = (0.4, 5)\n",
    "\n",
    "fig, ax = plt.subplots(figsize=(3, 2.3))\n",
    "\n",
    "P = tf([0,omega_n**2], [1, 2*zeta*omega_n, omega_n**2])\n",
    "y, t = step(P, np.arange(0,5,0.01))\n",
    "ax.plot(t,y, color='k')\n",
    "\n",
    "ymax = 1 + 1 * np.exp(-(np.pi*zeta)/np.sqrt(1-zeta**2))\n",
    "Tp = np.pi/omega_n/np.sqrt(1-zeta**2)\n",
    "cross_lines(Tp, ymax, color='k',lw=0.5)\n",
    "\n",
    "ax.annotate('$(T_P, y_{max})$', xy=(1.2, 1.1))\n",
    "\n",
    "print('ymax=',ymax)\n",
    "print('Tp=', Tp)\n",
    "\n",
    "ax.set_xticks(np.arange(0, 5.2, step=1.0))\n",
    "ax.set_yticks(np.arange(0, 1.3, step=0.25))\n",
    "plot_set(ax, 't', 'y')\n",
    "ax.set_title('Step Response(zeta=0.4,omega_n=5)')\n"
   ]
  },
  {
   "cell_type": "markdown",
   "metadata": {},
   "source": [
    "- $\\zeta$の値でステップ応答がどう変わるか（$\\omega_n$は速応性をきめる)\n",
    "  - $\\zeta \\gt 0$: 過減衰、$\\zeta =1$: 臨界減衰\n",
    "  - $0 \\lt \\zeta \\lt 1$: 減衰振動、$\\zeta=0$:持続振動、$\\zeta \\lt 0$:発散"
   ]
  },
  {
   "cell_type": "code",
   "execution_count": null,
   "metadata": {},
   "outputs": [],
   "source": [
    "fig, ax = plt.subplots(figsize=(3, 2.3))\n",
    "\n",
    "LS = linestyle_generator()\n",
    "\n",
    "zeta = [2,1, 0.7, 0.4]\n",
    "omega_n = 5\n",
    "for i in range(len(zeta)):\n",
    "    P = tf([0, omega_n**2], [1, 2*zeta[i]*omega_n, omega_n**2])\n",
    "    y, t = step(P, np.arange(0, 5, 0.01))\n",
    "    \n",
    "    pltargs = {'ls': next(LS), 'label': '$\\zeta$='+str(zeta[i]) }\n",
    "    ax.plot(t, y, **pltargs)\n",
    "\n",
    "ax.set_xticks(np.arange(0, 5.2, step=1.0))\n",
    "ax.set_yticks(np.arange(0, 1.3, step=0.25))\n",
    "plot_set(ax, 't', 'y', 'best')    "
   ]
  },
  {
   "cell_type": "code",
   "execution_count": null,
   "metadata": {},
   "outputs": [],
   "source": [
    "fig, ax = plt.subplots(figsize=(3, 2.3))\n",
    "\n",
    "LS = linestyle_generator()\n",
    "\n",
    "zeta = [0.1, 0, -0.05]\n",
    "omega_n = 5\n",
    "for i in range(len(zeta)):\n",
    "    P = tf([0, omega_n**2], [1, 2*zeta[i]*omega_n, omega_n**2])\n",
    "    y, t = step(P, np.arange(0, 5, 0.01))\n",
    "    \n",
    "    pltargs = {'ls': next(LS), 'label': '$\\zeta$='+str(zeta[i])}\n",
    "    ax.plot(t, y, **pltargs)\n",
    " \n",
    "ax.set_xticks(np.arange(0, 5.2, step=1.0))\n",
    "ax.set_yticks(np.arange(-4, 5, step=2))\n",
    "\n",
    "plot_set(ax, 't', 'y', 'lower left')"
   ]
  },
  {
   "cell_type": "code",
   "execution_count": null,
   "metadata": {},
   "outputs": [],
   "source": [
    "fig, ax = plt.subplots(figsize=(3, 2.3))\n",
    "\n",
    "LS = linestyle_generator()\n",
    "\n",
    "zeta = 0.7\n",
    "omega_n = [1, 5, 10]\n",
    "for i in range(len(omega_n)):\n",
    "    P = tf([0, omega_n[i]**2], [1, 2*zeta*omega_n[i], omega_n[i]**2])\n",
    "    y, t = step(P, np.arange(0, 5, 0.01))\n",
    "    \n",
    "    pltargs = {'ls': next(LS)}\n",
    "    pltargs['label'] = '$\\omega_n$='+str(omega_n[i])\n",
    "    ax.plot(t, y, **pltargs)\n",
    "\n",
    "ax.set_xticks(np.arange(0, 5.2, step=1.0))\n",
    "plot_set(ax, 't', 'y', 'best')"
   ]
  },
  {
   "cell_type": "markdown",
   "metadata": {},
   "source": [
    "#### 状態空間モデルとステップ応答\n",
    "\n",
    "- pythonによる状態空間モデルの表現とステップ応答を求める例\n",
    "- $A=\\begin{bmatrix} 0& 1\\\\-4 & -5\\end{bmatrix},B=\\begin{bmatrix} 0\\\\ 1\\end{bmatrix},C=\\begin{bmatrix} 1& 0\\\\0 & 1\\end{bmatrix},D=\\begin{bmatrix} 0\\\\ 0\\end{bmatrix}$としたときの応答\n"
   ]
  },
  {
   "cell_type": "code",
   "execution_count": null,
   "metadata": {},
   "outputs": [],
   "source": [
    "A = [[0, 1],[-4, -5]]\n",
    "B = [[0], [1]]\n",
    "C = np.eye(2)\n",
    "D = np.zeros([2, 1])\n",
    "P = ss(A, B, C, D)\n",
    "\n",
    "Td = np.arange(0, 5, 0.01)\n",
    "x, t = step(P, Td) #ゼロ状態応答\n",
    "\n",
    "fig, ax = plt.subplots()\n",
    "ax.plot(t, x[:,0], label='$x_1$')\n",
    "ax.plot(t, x[:,1], ls='-.', label='$x_2$')\n",
    "ax.set_xticks(np.linspace(0, 5, 6))\n",
    "ax.set_yticks(np.linspace(-0.4, 0.6, 6))\n",
    "plot_set(ax,'t','x','best')"
   ]
  },
  {
   "cell_type": "markdown",
   "metadata": {},
   "source": [
    "#### 安定性\n",
    "- 伝達関数から極、零点、\n",
    "- 極(pole):伝達関数の分母の根(root)、全ての極の実部が負ならば安定\n",
    "- 'sys'パッケージのpole(モデル)関数を用いて極を求められる。\n"
   ]
  },
  {
   "cell_type": "code",
   "execution_count": null,
   "metadata": {},
   "outputs": [],
   "source": [
    "P1 = tf([0,1],[1, 1])\n",
    "print('P1:', pole(P1))\n",
    "P2 = tf([0,1],[-1, 1])\n",
    "print('P2:', pole(P2))\n",
    "P3 = tf([0,1],[1, 0.05, 1])\n",
    "print('P3:', pole(P3))\n",
    "P4 = tf([0,1],[1, -0.05, 1])\n",
    "print('P4:', pole(P4))"
   ]
  },
  {
   "cell_type": "code",
   "execution_count": null,
   "metadata": {},
   "outputs": [],
   "source": [
    "fig, ax = plt.subplots(figsize=(3, 3))\n",
    "\n",
    "P1pole = pole(P1)\n",
    "P2pole = pole(P2)\n",
    "P3pole = pole(P3)\n",
    "P4pole = pole(P4)\n",
    "ax.scatter(P1pole.real, P1pole.imag, s=50, marker='o',label='$P_1$', color='k')\n",
    "ax.scatter(P2pole.real, P2pole.imag, s=50, marker='^',label='$P_2$', color='k')\n",
    "ax.scatter(P3pole.real, P3pole.imag, s=50, marker='x',label='$P_3$', color='k')\n",
    "ax.scatter(P4pole.real, P4pole.imag, s=50, marker='*',label='$P_4$', color='k')\n",
    "\n",
    "ax.set_xlim(-1.2,1.2)\n",
    "ax.set_ylim(-1.2,1.2)\n",
    "plot_set(ax, 'Re', 'Im', 'best')"
   ]
  },
  {
   "cell_type": "code",
   "execution_count": null,
   "metadata": {},
   "outputs": [],
   "source": [
    "fig, ax = plt.subplots(figsize=(3, 3))\n",
    "y, t = step(P1, np.arange(0,5,0.01))\n",
    "ax.plot(t,y, color='k')\n",
    "ax.set_xticks(np.linspace(0, 5, 6))\n",
    "plot_set(ax, 't', 'y')\n",
    "ax.set_title('P1 = tf([0,1],[1, 1])')"
   ]
  },
  {
   "cell_type": "code",
   "execution_count": null,
   "metadata": {},
   "outputs": [],
   "source": [
    "fig, ax = plt.subplots(figsize=(3, 3))\n",
    "y, t = step(P2, np.arange(0,5,0.01))\n",
    "ax.plot(t,y, color='k')\n",
    "ax.set_xticks(np.linspace(0, 5, 6))\n",
    "plot_set(ax, 't', 'y')\n",
    "ax.set_title('P2 = tf([0,1],[-1, 1])')"
   ]
  },
  {
   "cell_type": "code",
   "execution_count": null,
   "metadata": {},
   "outputs": [],
   "source": [
    "fig, ax = plt.subplots(figsize=(3, 3))\n",
    "y, t = step(P3, np.arange(0,20,0.01))\n",
    "ax.plot(t,y, color='k')\n",
    "ax.set_xticks(np.linspace(0, 20, 21))\n",
    "plot_set(ax, 't', 'y')\n",
    "ax.set_title('tf([0,1],[1, 0.05, 1])')"
   ]
  },
  {
   "cell_type": "code",
   "execution_count": null,
   "metadata": {},
   "outputs": [],
   "source": [
    "fig, ax = plt.subplots(figsize=(3, 3))\n",
    "y, t = step(P4, np.arange(0,20,0.01))\n",
    "ax.plot(t,y, color='k')\n",
    "ax.set_xticks(np.linspace(0, 20, 21))\n",
    "plot_set(ax, 't', 'y')\n",
    "ax.set_title('tf([0,1],[1, -0.05, 1])')"
   ]
  },
  {
   "cell_type": "markdown",
   "metadata": {},
   "source": [
    "## ラプラス変換・逆変換"
   ]
  },
  {
   "cell_type": "markdown",
   "metadata": {},
   "source": [
    "### ラプラス変換\n",
    "'sympy'パッケージの laplace_transform関数を用いてラプラス変換を実行できます。\n",
    "\n",
    "laplace_transform(関数 ,t,s)\n",
    "\n",
    "例えば、 定数関数は $\\frac{1}{s}$に変換されます。ここでt,sは最初にSymbolとして定義する必要があります。"
   ]
  },
  {
   "cell_type": "code",
   "execution_count": null,
   "metadata": {},
   "outputs": [],
   "source": [
    "import sympy as sp\n",
    "s = sp.Symbol('s')\n",
    "t = sp.Symbol('t', positive=True)\n",
    "sp.init_printing()\n",
    "sp.laplace_transform(1, t, s)[0]"
   ]
  },
  {
   "cell_type": "code",
   "execution_count": null,
   "metadata": {},
   "outputs": [],
   "source": [
    "alpha=sp.Symbol('alpha')\n",
    "sp.laplace_transform(sp.exp(alpha*t),t,s)[0]"
   ]
  },
  {
   "cell_type": "markdown",
   "metadata": {},
   "source": [
    "ラプラス変換テーブルを、実際に、まとめてやってみる"
   ]
  },
  {
   "cell_type": "code",
   "execution_count": null,
   "metadata": {},
   "outputs": [],
   "source": [
    "import sympy as sp\n",
    "sp.init_printing()\n",
    "t, s = sp.symbols('t, s')\n",
    "a = sp.symbols('a', real=True, positive=True)\n",
    "omega = sp.Symbol('omega', real=True)\n",
    "exp = sp.exp\n",
    "sin = sp.sin\n",
    "cos = sp.cos\n",
    "functions = [1,\n",
    "         t,\n",
    "         exp(-a*t),\n",
    "         t*exp(-a*t),\n",
    "         t**2*exp(-a*t),\n",
    "         sin(omega*t),\n",
    "         cos(omega*t),\n",
    "         1 - exp(-a*t),\n",
    "         exp(-a*t)*sin(omega*t),\n",
    "         exp(-a*t)*cos(omega*t),\n",
    "         ]\n",
    "functions"
   ]
  },
  {
   "cell_type": "code",
   "execution_count": null,
   "metadata": {},
   "outputs": [],
   "source": [
    "def L(f):\n",
    "    return sp.laplace_transform(f, t, s, noconds=True)"
   ]
  },
  {
   "cell_type": "code",
   "execution_count": null,
   "metadata": {},
   "outputs": [],
   "source": [
    "[L(f) for f in functions]"
   ]
  },
  {
   "cell_type": "markdown",
   "metadata": {},
   "source": [
    "#### 1次系のステップ応答を解く\n",
    "\n",
    "制御対象$\\mathcal{P}(s)$の出力は、$y(s)=\\mathcal{P}(s)u(s)$\n",
    "\n",
    "ステップ入力の場合は$u(s)=\\frac{1}{s}$になるので、$y(s)=\\frac{\\mathcal{P}(s)}{s}$となる\n",
    "\n",
    "１次遅れ系の場合は、\n",
    "\n",
    "$$\n",
    "y(s)=\\frac{K}{Ts+1}\\frac{1}{s}=K\\Big(\\frac{1}{s}-\\frac{T}{1+Ts}\\Big)=k\\Big( \\frac{1}{s}-\\frac{1}{s+\\frac{1}{T}} \\Big)\n",
    "$$\n",
    "\n",
    "$y(T)=1-e^{-1}=0.632$である\n",
    "\n",
    "'sympy.apart'は部分分数展開を得る"
   ]
  },
  {
   "cell_type": "code",
   "execution_count": null,
   "metadata": {},
   "outputs": [],
   "source": [
    "import sympy as sp\n",
    "sp.init_printing()\n",
    "s= sp.Symbol('s')\n",
    "T= sp.Symbol('T',real=True)\n",
    "P = 1/((1+T*s)*s)\n",
    "sp.apart(P,s)"
   ]
  },
  {
   "cell_type": "markdown",
   "metadata": {},
   "source": [
    "また逆ラプラス変換は"
   ]
  },
  {
   "cell_type": "code",
   "execution_count": null,
   "metadata": {},
   "outputs": [],
   "source": [
    "import sympy as sp\n",
    "sp.init_printing()\n",
    "s=sp.Symbol('s')\n",
    "t=sp.Symbol('t', positive=True)\n",
    "T=sp.Symbol('T',real=True)\n",
    "sp.inverse_laplace_transform(1/s-1/(s+1/t),s,t)"
   ]
  },
  {
   "cell_type": "markdown",
   "metadata": {},
   "source": [
    "２つをまとめると"
   ]
  },
  {
   "cell_type": "code",
   "execution_count": null,
   "metadata": {},
   "outputs": [],
   "source": [
    "import sympy as sp\n",
    "sp.init_printing()\n",
    "#sp.init_printing(False, str_printer=lambda x: sp.latex(x))\n",
    "s= sp.Symbol('s')\n",
    "t=sp.Symbol('t', positive=True)\n",
    "T= sp.Symbol('T',real=True)\n",
    "P = 1/(1+T*s)*(1/s) # １次系のステップ応答\n",
    "Papart=sp.apart(P,s) # 部分分数展開\n",
    "print(Papart)\n",
    "ret= sp.inverse_laplace_transform(Papart,s,t) #逆ラプラス変換\n",
    "ret.subs([(t,T)])# tにTを代入"
   ]
  },
  {
   "cell_type": "markdown",
   "metadata": {},
   "source": [
    "２次系のステップ応答は、$\\zeta=1$のときは、\n",
    "\n",
    "$$\n",
    "K\\frac{\\omega_n^2}{s^2+2\\omega_n s+\\omega_n^2}=K\\frac{\\omega_n^2}{s(s+\\omega_n)^2}\n",
    "$$\n",
    "\n",
    "これを部分分数分解すると（ラプラス変換しやすくするため）\n",
    "\n",
    "$$\n",
    "y(s)=K\\Big(\\frac{1}{s}-\\frac{1}{s+\\omega_n}-\\frac{\\omega_n}{(s+\\omega_n)^2}\\Big)\n",
    "$$\n",
    "\n",
    "となり、これを逆ラプラス変換して\n",
    "\n",
    "$$\n",
    " y(t)=K\\Big(1-e^{-\\omega_n t}-\\omega_n te^{-\\omega_n t}\\Big)\n",
    "$$\n",
    "\n",
    "となる、これより$y(0)=0,y(\\infin)=K$であることがわかる。\n",
    "\n",
    "この変換をSympyでおkなう。"
   ]
  },
  {
   "cell_type": "code",
   "execution_count": null,
   "metadata": {},
   "outputs": [],
   "source": [
    "import sympy as sp\n",
    "sp.init_printing()\n",
    "s=sp.Symbol('s')\n",
    "t=sp.Symbol('t', positive=True)\n",
    "w=sp.Symbol('w',real=True)\n",
    "P=sp.apart(w**2/s/(s+w)**2,s)\n",
    "sp.inverse_laplace_transform(P,s,t)"
   ]
  },
  {
   "cell_type": "markdown",
   "metadata": {},
   "source": []
  }
 ],
 "metadata": {
  "interpreter": {
   "hash": "9650cb4e16cdd4a8e8e2d128bf38d875813998db22a3c986335f89e0cb4d7bb2"
  },
  "kernelspec": {
   "display_name": "Python 3.8.3 64-bit",
   "language": "python",
   "name": "python3"
  },
  "language_info": {
   "codemirror_mode": {
    "name": "ipython",
    "version": 3
   },
   "file_extension": ".py",
   "mimetype": "text/x-python",
   "name": "python",
   "nbconvert_exporter": "python",
   "pygments_lexer": "ipython3",
   "version": "3.11.6"
  },
  "orig_nbformat": 4
 },
 "nbformat": 4,
 "nbformat_minor": 2
}
