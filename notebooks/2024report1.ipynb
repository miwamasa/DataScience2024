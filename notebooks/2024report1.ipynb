{
 "cells": [
  {
   "attachments": {},
   "cell_type": "markdown",
   "metadata": {},
   "source": [
    "# レポート１(提出期限5/20)\n",
    "<div dir='rtl'>\n",
    "2024.5岩政\n",
    "</div>\n",
    "\n",
    "**必ず名前と学籍番号を書くこと**\n",
    "\n",
    "名前：\n",
    "\n",
    "学籍番号：\n",
    "\n",
    "**注意** ChatGPTを用いた回答をそのまま流用したものは０点とする。\n",
    "\n",
    "## 1.1 可視化(10点)\n",
    "\n",
    "ここでは、「マンガと学ぶデータビジュアライゼーション」掲載のデータを使って、左のメニューにある、可視化について、講義（棒グラフ）以外の可視化を選択して実行し(7点)、考察しなさい(3点)\n",
    "\n",
    "\n",
    "https://kakeami.github.io/viz-madb/index.html\n",
    "\n",
    "\n",
    "- 各々「MADB Labを用いた作図例」以降が可視化事例になっている\n",
    "- データ読み込みのセルは、スキップする(df = pd.read_csv(PATH_DATA))\n",
    "- コラム名が、元のデータと異なるなどの、エラーが出る場合もあるので、都度修正する。"
   ]
  },
  {
   "cell_type": "code",
   "execution_count": null,
   "metadata": {},
   "outputs": [],
   "source": [
    "#Colabならいらない\n",
    "#!pip install plotly"
   ]
  },
  {
   "cell_type": "code",
   "execution_count": null,
   "metadata": {},
   "outputs": [],
   "source": [
    "import itertools\n",
    "import pandas as pd\n",
    "import plotly.express as px\n",
    "\n",
    "import warnings\n",
    "warnings.filterwarnings('ignore')\n",
    "RENDERER = \"colab\""
   ]
  },
  {
   "attachments": {},
   "cell_type": "markdown",
   "metadata": {},
   "source": [
    "データを読み込みます。dfを壊してしまった場合も以下を、再実行すれば、dataframeが回復する"
   ]
  },
  {
   "cell_type": "code",
   "execution_count": null,
   "metadata": {},
   "outputs": [],
   "source": [
    "#df = pd.read_csv(PATH_DATA)\n",
    "df=pd.read_csv('https://raw.githubusercontent.com/miwamasa/DataScience2024/main/notebooks/data/preprocess/out/episodes.csv')\n",
    "df.head()"
   ]
  },
  {
   "attachments": {},
   "cell_type": "markdown",
   "metadata": {},
   "source": [
    "### ここから、回答"
   ]
  },
  {
   "attachments": {},
   "cell_type": "markdown",
   "metadata": {},
   "source": [
    "## 1.2 点推定と信頼区間(10点)\n",
    "\n",
    "2014 年ニューヨーク市で，エボラ出血熱の患者をギニアで治療した1 人の医師が微熱のため病院に行き，その後にエボラ出血熱と診断された．その直後のメディアによる世論調査ではニューヨーク市民の82% は「エボラ出血熱患者と接触した人全員に強制的な21 日間の隔離」を望んでいることがわかった．この調査は２日間にわたり、ニューヨーク市民の成人1,042 人からの回答によるものである．"
   ]
  },
  {
   "attachments": {},
   "cell_type": "markdown",
   "metadata": {},
   "source": [
    "エボラ患者との接触者全員の隔離を支持したニューヨーク市民の比率pの点推定値は、p=0.82といえる。"
   ]
  },
  {
   "attachments": {},
   "cell_type": "markdown",
   "metadata": {},
   "source": [
    "### 問1(5点)：\n",
    "隔離を支持したニューヨーク市民の比率が正規分布をしているとして、pの標準誤差を推計せよ．\n",
    "\n",
    "ヒント：講義資料の「母比率の信頼区間(つづき)」"
   ]
  },
  {
   "attachments": {},
   "cell_type": "markdown",
   "metadata": {},
   "source": [
    "### 問2(5点)：\n",
    "p の95%信頼区間を作成せよ．"
   ]
  },
  {
   "attachments": {},
   "cell_type": "markdown",
   "metadata": {},
   "source": [
    "# 1.3  仮説検定(10点)\n",
    "世界で，何らかの病気に対して予防接種を受けている1 歳児は現在どのくらいいるか．について\n",
    "大学生の成人に、以下の選択肢から、選択させる。\n",
    "\n",
    "a. 20% ,</br>\n",
    "b. 50% ,</br>\n",
    "c. 80%\n",
    "\n",
    "この時、以下の仮説を立てる。\n",
    "</br>\n",
    "　帰無仮説(H0)：  彼らの回答は単なるあてずっぽうと同等だろう。</br>\n",
    "　対立仮設(H1)： 人々は正答率をよりよくするために役立つ知識を持っている\n",
    "\n",
    "帰無仮説では、1 歳児の80%は何らかの病気に対して予防接種を受けているという正解を選んだ回答者の比率p は約33.3%(つまり1/3)。ということになる。\n",
    "\n",
    "H0: p  =  0:333</br>\n",
    "H1: p  != 0:333\n",
    "\n",
    "質問された大学卒の成人の答えが正しい比率が33.3%と異なるかどうかを評価するための仮説検定をする。このデータは50 人の大学卒の成人の回答をまとめたものである．\n",
    "\n",
    "集めた解答では、50 人の大学院成人のうち，24%の回答が1 歳児の80%は何らかの病気に対して予防接種を受けているという正解であった。このデータは母比率が33.3%と異なる強力な証拠となるかどうかを仮説検定を行え。\n",
    "\n",
    "ヒント：この標本データに基づく95%信頼区間を求めて、帰無仮説( p = 0:333)が棄却できるかどうかを調べます。"
   ]
  },
  {
   "cell_type": "code",
   "execution_count": null,
   "metadata": {},
   "outputs": [],
   "source": []
  }
 ],
 "metadata": {
  "interpreter": {
   "hash": "2db524e06e9f5f4ffedc911c917cb75e12dbc923643829bf417064a77eb14d37"
  },
  "kernelspec": {
   "display_name": "Python 3.8.3 64-bit",
   "language": "python",
   "name": "python3"
  },
  "language_info": {
   "codemirror_mode": {
    "name": "ipython",
    "version": 3
   },
   "file_extension": ".py",
   "mimetype": "text/x-python",
   "name": "python",
   "nbconvert_exporter": "python",
   "pygments_lexer": "ipython3",
   "version": "3.11.6"
  },
  "orig_nbformat": 4
 },
 "nbformat": 4,
 "nbformat_minor": 2
}
