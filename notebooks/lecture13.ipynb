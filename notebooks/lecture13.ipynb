{
  "cells": [
    {
      "cell_type": "markdown",
      "metadata": {
        "id": "WlGfndrypIZs"
      },
      "source": [
        "# Lecture13 画像処理"
      ]
    },
    {
      "cell_type": "markdown",
      "metadata": {
        "id": "YHI4F2xypIZv"
      },
      "source": [
        "matplotlibで指定可能な色"
      ]
    },
    {
      "cell_type": "code",
      "execution_count": null,
      "metadata": {
        "id": "fUhxvwK5pIZw"
      },
      "outputs": [],
      "source": [
        "import matplotlib\n",
        "matplotlib.colors.cnames\n",
        "\n",
        "FLAG_fig=False"
      ]
    },
    {
      "cell_type": "markdown",
      "metadata": {
        "id": "qmcPWVwUpIZy"
      },
      "source": [
        "## 16 進数のカラーコードで指定\n",
        "#ff0000 (赤), #000000 (黒) のような、HTML や CSS で用いられる 16 進数で指定することもできます"
      ]
    },
    {
      "cell_type": "code",
      "execution_count": null,
      "metadata": {
        "id": "ElSrGtRVpIZy"
      },
      "outputs": [],
      "source": [
        "import matplotlib.pyplot as plt\n",
        "import numpy as np\n",
        "\n",
        "fig = plt.figure()\n",
        "fig.patch.set_facecolor('white')\n",
        "\n",
        "colorlist = ['#e41a1c', '#377eb8', '#4daf4a', '#984ea3', '#ff7f00', '#ffff33', '#a65628', '#f781bf']\n",
        "x = np.arange(1, 9)\n",
        "height = np.arange(1, 9)\n",
        "plt.barh(x, height, color=colorlist, tick_label=colorlist, align=\"center\")\n",
        "\n"
      ]
    },
    {
      "cell_type": "markdown",
      "metadata": {
        "id": "h91njuzJpIZ0"
      },
      "source": [
        "## RGB で指定\n",
        "RGB それぞれのを色の要素を 0.0 ～ 1.0 のタプルで指定することも可能です。"
      ]
    },
    {
      "cell_type": "code",
      "execution_count": null,
      "metadata": {
        "id": "Bg1JpSr_pIZ1"
      },
      "outputs": [],
      "source": [
        "import matplotlib.pyplot as plt\n",
        "import numpy as np\n",
        "\n",
        "fig = plt.figure()\n",
        "fig.patch.set_facecolor('white')\n",
        "\n",
        "col1 = [0.0, 0.0, 0.0]\n",
        "col2 = [1.0, 0.0, 0.0]\n",
        "col3 = [0.0, 1.0, 0.0]\n",
        "col4 = [0.0, 0.0, 1.0]\n",
        "colorlist = [col1, col2, col3, col4]\n",
        "\n",
        "x = np.arange(1, 5)\n",
        "height = np.arange(1, 5)\n",
        "#plt.bar(x, height, color=colorlist, tick_label=colorlist, align=\"center\")\n",
        "plt.bar(x, height, color=colorlist,  align=\"center\")"
      ]
    },
    {
      "cell_type": "markdown",
      "metadata": {
        "id": "thR2gbSXpIZ2"
      },
      "source": [
        "### グレースケールで指定\n",
        "‘0.0’ (黒) ～ ‘1.0’ (白) のグレースケールで指定することもできます。作成した資料を白黒印刷する場合に便利です"
      ]
    },
    {
      "cell_type": "code",
      "execution_count": null,
      "metadata": {
        "id": "S9qllHivpIZ2"
      },
      "outputs": [],
      "source": [
        "import matplotlib.pyplot as plt\n",
        "\n",
        "x = [10, 10, 10, 10, 10, 10, 10, 10, 10, 10]\n",
        "colorlist = [\"0.1\", \"0.2\", \"0.3\", \"0.4\", \"0.5\", \"0.6\", \"0.7\", \"0.8\", \"0.9\", \"1.0\"]\n",
        "plt.pie(x, labels=colorlist, counterclock=False, startangle=90, colors=colorlist)"
      ]
    },
    {
      "cell_type": "markdown",
      "metadata": {
        "id": "XKPpKRBaL3jg"
      },
      "source": [
        "## Scikit-Imageによる画像入力"
      ]
    },
    {
      "cell_type": "code",
      "execution_count": null,
      "metadata": {
        "id": "M5TJcK9zL3jh"
      },
      "outputs": [],
      "source": [
        "! pip install scikit-image"
      ]
    },
    {
      "cell_type": "code",
      "execution_count": null,
      "metadata": {
        "id": "mbo6k4EjL3ji"
      },
      "outputs": [],
      "source": [
        "from skimage import data, io, filters, color, img_as_ubyte\n",
        "import numpy as np\n",
        "import matplotlib.pyplot as plt"
      ]
    },
    {
      "cell_type": "code",
      "execution_count": null,
      "metadata": {
        "id": "E1bbOFppL3ji"
      },
      "outputs": [],
      "source": [
        "#img = io.imread(\"data/baboon.jpg\")\n",
        "img = io.imread('https://github.com/miwamasa/DataScience2024/blob/main/notebooks/data/baboon.jpg?raw=true')"
      ]
    },
    {
      "cell_type": "code",
      "execution_count": null,
      "metadata": {
        "id": "0qekY1dQL3jj"
      },
      "outputs": [],
      "source": [
        "img.shape #読み込んだinstance画像のサイズ（タテ・ヨコ・次元）を確認 (次元：RGB画像なので，3次元)"
      ]
    },
    {
      "cell_type": "code",
      "execution_count": null,
      "metadata": {
        "id": "zoVvB7OJL3jj"
      },
      "outputs": [],
      "source": [
        "img #読み込んだインスタンスについて，データ表示"
      ]
    },
    {
      "cell_type": "markdown",
      "metadata": {
        "id": "MrTPbjQIL3jk"
      },
      "source": [
        "表示"
      ]
    },
    {
      "cell_type": "code",
      "execution_count": null,
      "metadata": {
        "id": "evmgmYBGL3jl"
      },
      "outputs": [],
      "source": [
        "io.imshow(img)"
      ]
    },
    {
      "cell_type": "markdown",
      "metadata": {
        "id": "kWWCzS-IL3jl"
      },
      "source": [
        "グレイ変換"
      ]
    },
    {
      "cell_type": "code",
      "execution_count": null,
      "metadata": {
        "id": "Yp4BjFtvL3jl"
      },
      "outputs": [],
      "source": [
        "imgGray = color.rgb2gray(img)\n",
        "imgGray = img_as_ubyte(imgGray)\n",
        "io.imshow(imgGray)\n",
        "imgGray"
      ]
    },
    {
      "cell_type": "markdown",
      "metadata": {
        "id": "BYUYVKWmL3jm"
      },
      "source": [
        "統計量"
      ]
    },
    {
      "cell_type": "code",
      "execution_count": null,
      "metadata": {
        "id": "-jwqBJERL3jm"
      },
      "outputs": [],
      "source": [
        "#print('pixel num', np.count(img_yiq[:, :, 0]))\n",
        "print('pixel sum', np.sum(imgGray[:, :]))\n",
        "print('pixel mean', np.mean(imgGray[:,:]))\n",
        "print('pixel variance', np.var(imgGray[:,:]))\n",
        "print('pixel stddev', np.std(imgGray[:,:]))"
      ]
    },
    {
      "cell_type": "markdown",
      "metadata": {
        "id": "CkDKaGqBL3jn"
      },
      "source": [
        "ヒストグラムを表示"
      ]
    },
    {
      "cell_type": "code",
      "execution_count": null,
      "metadata": {
        "id": "VVeVJY4rL3jn"
      },
      "outputs": [],
      "source": [
        "hists, bins=np.histogram(imgGray, 255, [0, 255])"
      ]
    },
    {
      "cell_type": "code",
      "execution_count": null,
      "metadata": {
        "id": "xMGTXDqkL3jo"
      },
      "outputs": [],
      "source": [
        "plt.plot(hists)"
      ]
    },
    {
      "cell_type": "markdown",
      "metadata": {
        "id": "FB_cItv0L3jo"
      },
      "source": [
        "ネガポジ反転"
      ]
    },
    {
      "cell_type": "code",
      "execution_count": null,
      "metadata": {
        "id": "l2uJ9osKL3jp"
      },
      "outputs": [],
      "source": [
        "ImNega = 255 - imgGray # ネガポジはこれだけ\n",
        "plt.imshow(ImNega)\n",
        "plt.gray()"
      ]
    },
    {
      "cell_type": "markdown",
      "metadata": {
        "id": "QO_YQu4XL3jp"
      },
      "source": [
        "２値化"
      ]
    },
    {
      "cell_type": "code",
      "execution_count": null,
      "metadata": {
        "id": "27UHC4f7L3jp"
      },
      "outputs": [],
      "source": [
        "height,width= imgGray.shape\n",
        "ret = filters.threshold_otsu(imgGray) #しきい値を自動で判別\n",
        "imgBinary = np.zeros((height, width))\n",
        "imgBinary = imgGray > ret #しきい値にもとづいて，2値化処理実行\n",
        "ret"
      ]
    },
    {
      "cell_type": "code",
      "execution_count": null,
      "metadata": {
        "id": "-Wv1Fj6sL3jq"
      },
      "outputs": [],
      "source": [
        "plt.imshow(imgBinary)"
      ]
    },
    {
      "cell_type": "markdown",
      "metadata": {
        "id": "qQ8SKkb1pIZ3"
      },
      "source": [
        "## OpenCV\n",
        "\n",
        "https://tellusxdp.github.io/start-python-with-tellus/lesson8.html\n",
        "\n",
        "とかみている"
      ]
    },
    {
      "cell_type": "markdown",
      "metadata": {
        "id": "CWTK-P_RpIZ4"
      },
      "source": [
        " pip install opencv-python"
      ]
    },
    {
      "cell_type": "code",
      "execution_count": null,
      "metadata": {
        "id": "X2cv18mFpIZ4"
      },
      "outputs": [],
      "source": [
        "# -*- coding: utf-8 -*-\n",
        "import cv2\n",
        "import numpy as np"
      ]
    },
    {
      "cell_type": "markdown",
      "metadata": {
        "id": "52w5LGbIpIZ4"
      },
      "source": [
        "画像ファイルを読んで表示します。\n",
        "\n",
        "cv2は直接URLで示す画像を読み取れないので、いったんダウンロードして読みます。"
      ]
    },
    {
      "cell_type": "code",
      "execution_count": null,
      "metadata": {
        "id": "im4IX6hFpIZ5"
      },
      "outputs": [],
      "source": [
        "import urllib.request\n",
        "import cv2\n",
        "\n",
        "url = 'https://github.com/miwamasa/DataScience2024/blob/main/notebooks/data/lena_std.tif?raw=true'\n",
        "url = 'https://github.com/miwamasa/DataScience2024/blob/main/notebooks/data/lena_replacement.jpg?raw=true'\n",
        "filename = 'lena_replacement.jpg'\n",
        "\n",
        "# 画像ファイルをダウンロード\n",
        "urllib.request.urlretrieve(url, filename)\n",
        "\n",
        "img_org = cv2.imread(filename) # オリジナル画像の入力\n",
        "\n",
        "plt.imshow(img_org)"
      ]
    },
    {
      "cell_type": "markdown",
      "metadata": {
        "id": "0Y7IiICzpIZ5"
      },
      "source": [
        "OpenCVでimreadを使って読み込む場合、既定では、画像を「BGR」（青・緑・赤）の順の配列として読み込みます。対して、表示するためのmatplotlib.imshow()では、画像が「RGB」（赤・緑・青）の順の配列として構成されていることを前提としています。そのため、このまま表示すると、青と赤が入れ替わってしまうため、先に表示したように色がおかしくなってしまうのです。"
      ]
    },
    {
      "cell_type": "code",
      "execution_count": null,
      "metadata": {
        "id": "Ixi6pNADpIZ5"
      },
      "outputs": [],
      "source": [
        "# BGRの画像をRGBに変換\n",
        "rgb_img_org = cv2.cvtColor(img_org, cv2.COLOR_BGR2RGB)\n",
        "plt.imshow(rgb_img_org)"
      ]
    },
    {
      "cell_type": "markdown",
      "metadata": {
        "id": "ripjghyrpIZ6"
      },
      "source": []
    },
    {
      "cell_type": "code",
      "execution_count": null,
      "metadata": {
        "id": "IhOZKjTwpIZ6"
      },
      "outputs": [],
      "source": [
        "\n",
        "\n",
        "url = 'https://github.com/miwamasa/DataScience2024/blob/main/notebooks/data/lec12_sample.png?raw=true'\n",
        "filename = 'lec12_sample.png'\n",
        "\n",
        "# 画像ファイルをダウンロード\n",
        "urllib.request.urlretrieve(url, filename)\n",
        "\n",
        "img_org = cv2.imread(filename) # オリジナル画像の入力\n",
        "\n",
        "rgb_img_org = cv2.cvtColor(img_org, cv2.COLOR_BGR2RGB)\n",
        "\n",
        "plt.figure(figsize = (10,8))\n",
        "plt.imshow(rgb_img_org)"
      ]
    },
    {
      "cell_type": "code",
      "execution_count": null,
      "metadata": {
        "id": "IESH3NgppIZ6"
      },
      "outputs": [],
      "source": [
        "# グレースケール変換\n",
        "img_gray = cv2.cvtColor(img_org, cv2.COLOR_BGR2GRAY)\n",
        "plt.figure(figsize = (10,8))\n",
        "plt.imshow( img_gray, cmap='gray')"
      ]
    },
    {
      "cell_type": "code",
      "execution_count": null,
      "metadata": {
        "id": "sl5ePlhjpIZ7"
      },
      "outputs": [],
      "source": [
        "#平均値フィルタ\n",
        "\n",
        "kernel_mean_3x3 = np.array([\n",
        "                            [1/9,  1/9, 1/9],\n",
        "                            [1/9,  1/9, 1/9],\n",
        "                            [1/9,  1/9, 1/9]\n",
        "                            ], np.float32)\n",
        "img_mean_3x3 = cv2.filter2D(img_gray, -1, kernel_mean_3x3)\n",
        "plt.figure(figsize = (10,8))\n",
        "plt.imshow( img_mean_3x3, cmap='gray')"
      ]
    },
    {
      "cell_type": "markdown",
      "metadata": {
        "id": "1iGkJtlrpIZ7"
      },
      "source": []
    },
    {
      "cell_type": "code",
      "execution_count": null,
      "metadata": {
        "id": "6hciClsapIZ7"
      },
      "outputs": [],
      "source": [
        "# ラプラシアン フィルタ（３×３）\n",
        "kernel_laplacian_3x3 = np.array([\n",
        "                            [1,  1, 1],\n",
        "                            [1, -8, 1],\n",
        "                            [1,  1, 1]\n",
        "                            ], np.float32)\n",
        "img_laplacian_3x3 = cv2.filter2D(img_gray, -1, kernel_laplacian_3x3)\n",
        "plt.figure(figsize = (10,8))\n",
        "plt.imshow( img_laplacian_3x3, cmap='gray')"
      ]
    },
    {
      "cell_type": "code",
      "execution_count": null,
      "metadata": {
        "id": "3Ce5t-VHpIZ8"
      },
      "outputs": [],
      "source": [
        "# 鮮鋭化 フィルタ（３×３）\n",
        "kernel_sharp_3x3 = np.array([\n",
        "                            [0,  -1, 0],\n",
        "                            [-1, 5, -1],\n",
        "                            [0,  -1, 0]\n",
        "                            ], np.float32)\n",
        "img_sharp_3x3 = cv2.filter2D(img_gray, -1, kernel_sharp_3x3)\n",
        "plt.figure(figsize = (10,8))\n",
        "plt.imshow( img_sharp_3x3, cmap='gray')"
      ]
    },
    {
      "cell_type": "code",
      "execution_count": null,
      "metadata": {
        "id": "ySxQBugLpIZ8"
      },
      "outputs": [],
      "source": [
        "# ガウシアン フィルタ\n",
        "kernel_gaussian = np.array([\n",
        "                            [1,  2, 1],\n",
        "                            [2,  4, 2],\n",
        "                            [1,  2, 1]\n",
        "                            ], np.float32) / 16\n",
        "img_gaussian = cv2.filter2D(img_gray, -1, kernel_gaussian)\n",
        "plt.figure(figsize = (10,8))\n",
        "plt.imshow( img_gaussian, cmap='gray')"
      ]
    },
    {
      "cell_type": "code",
      "execution_count": null,
      "metadata": {
        "id": "IYodBek-pIZ8"
      },
      "outputs": [],
      "source": [
        "#エッジ抽出\n",
        "#edge_sob_x = cv2.Sobel(img_gray,cv2.CV_32F,1,0,ksize=5)\n",
        "kernel_gaussian = np.array([\n",
        "                            [1,  0, -1],\n",
        "                            [2,  0, -2],\n",
        "                            [1,  0, -1]\n",
        "                            ], np.float32) / 16\n",
        "img_gaussian = cv2.filter2D(img_gray, -1, kernel_gaussian)\n",
        "plt.figure(figsize = (10,8))\n",
        "plt.imshow(img_gaussian, cmap='gray')"
      ]
    },
    {
      "cell_type": "markdown",
      "metadata": {
        "id": "_QCdFEBkpIZ9"
      },
      "source": [
        "## GrayScale\n",
        "matplotlibの既定のカラーマップ設定によるものです。既定では、グレースケール画像の場合、色味が暗いほど青く、明るくなるにつれて 青 → 緑 → 黄色 の色味で表示されるという設定になっています。\n",
        "\n",
        "そのため、JupyterLabで正しく 黒 → グレー → 白 の色味でモノクロ画像を表示するには、imshow() に、黒 → グレー → 白 の色味で表示できるよう、カラーマップの設定を追加する必要があります。具体的なコードの記述方法としては、 imshow() に cmap=\"gray\" というキーワード引数を追記します。"
      ]
    },
    {
      "cell_type": "code",
      "execution_count": null,
      "metadata": {
        "id": "5x2IMnfCpIZ9"
      },
      "outputs": [],
      "source": [
        "img_gry = cv2.cvtColor(img_org, cv2.COLOR_BGR2GRAY) # グレイスケールに変換\n",
        "plt.imshow(img_gry, cmap='gray')\n",
        "\n"
      ]
    },
    {
      "cell_type": "markdown",
      "metadata": {
        "id": "SImv1csNpIZ9"
      },
      "source": [
        "スレッシュホールド値をへんかさせてみます。"
      ]
    },
    {
      "cell_type": "code",
      "execution_count": null,
      "metadata": {
        "id": "m236CTCvpIZ9"
      },
      "outputs": [],
      "source": [
        "DEFAULT_THRESH_VAL = 128 # 閾値処理のデフォルト値\n",
        "MAX_VAL = 255            # 8bit 階調を表す\n",
        "\n",
        "threshVal = 50\n",
        "retVal, img_bin = cv2.threshold(img_gry, threshVal, MAX_VAL, type=cv2.THRESH_BINARY)\n",
        "plt.imshow(img_bin, cmap='gray')"
      ]
    },
    {
      "cell_type": "code",
      "execution_count": null,
      "metadata": {
        "id": "3hdS8OKEpIZ-"
      },
      "outputs": [],
      "source": [
        "threshVal = 128\n",
        "retVal, img_bin = cv2.threshold(img_gry, threshVal, MAX_VAL, type=cv2.THRESH_BINARY)\n",
        "plt.imshow(img_bin, cmap='gray')\n",
        "if FLAG_fig: plt.savefig('IMG_GrayTh_128.png')"
      ]
    },
    {
      "cell_type": "code",
      "execution_count": null,
      "metadata": {
        "id": "nu4Pdw71pIZ-"
      },
      "outputs": [],
      "source": [
        "threshVal = 164\n",
        "retVal, img_bin = cv2.threshold(img_gry, threshVal, MAX_VAL, type=cv2.THRESH_BINARY)\n",
        "plt.imshow(img_bin, cmap='gray')\n",
        "if FLAG_fig: plt.savefig('IMG_GrayTh_164.png')"
      ]
    },
    {
      "cell_type": "markdown",
      "metadata": {
        "id": "-9H41yiJpIZ-"
      },
      "source": []
    },
    {
      "cell_type": "markdown",
      "metadata": {
        "id": "0yXpgn4UpIZ-"
      },
      "source": [
        "## エッジ検出"
      ]
    },
    {
      "cell_type": "code",
      "execution_count": null,
      "metadata": {
        "id": "w6wjQjpPpIZ-"
      },
      "outputs": [],
      "source": [
        "\n",
        "filename = 'test.jpg'\n",
        "url = 'https://github.com/miwamasa/DataScience2024/blob/main/notebooks/data/'+filename+'?raw=true'\n",
        "\n",
        "# 画像ファイルをダウンロード\n",
        "urllib.request.urlretrieve(url, filename)\n",
        "\n",
        "img_org = cv2.imread(filename) # オリジナル画像の入力\n",
        "img = cv2.cvtColor(img_org, cv2.COLOR_BGR2GRAY) # グレイスケールに変換\n",
        "\n",
        "edge_sob_x = cv2.Sobel(img,cv2.CV_32F,1,0,ksize=5)\n",
        "plt.imshow(edge_sob_x, cmap='gray')\n",
        "if FLAG_fig: plt.savefig('IMG_edge_sob_x.png')"
      ]
    },
    {
      "cell_type": "code",
      "execution_count": null,
      "metadata": {
        "id": "Lutj6M4rpIZ-"
      },
      "outputs": [],
      "source": [
        "edge_lapl = cv2.Laplacian(img, cv2.CV_32F)\n",
        "plt.imshow(edge_lapl, cmap='gray')\n",
        "if FLAG_fig: plt.savefig('IMG_edge_lapl.png')"
      ]
    },
    {
      "cell_type": "markdown",
      "metadata": {
        "id": "9X68B04kpIZ_"
      },
      "source": []
    },
    {
      "cell_type": "code",
      "execution_count": null,
      "metadata": {
        "id": "iUOGER7-pIZ_"
      },
      "outputs": [],
      "source": [
        "edge_cann = cv2.Canny(img, 80, 120)\n",
        "plt.imshow(edge_cann, cmap='gray')\n",
        "if FLAG_fig: plt.savefig('IMG_edge_cann.png')"
      ]
    },
    {
      "cell_type": "markdown",
      "metadata": {
        "id": "8EPAVQoBpIZ_"
      },
      "source": [
        "## 周波数フィルタリング"
      ]
    },
    {
      "cell_type": "code",
      "execution_count": null,
      "metadata": {
        "id": "TebJl6t6pIZ_"
      },
      "outputs": [],
      "source": [
        "import numpy as np\n",
        "import cv2\n",
        "from matplotlib import pyplot as plt"
      ]
    },
    {
      "cell_type": "code",
      "execution_count": null,
      "metadata": {
        "id": "87jMaTvapIZ_"
      },
      "outputs": [],
      "source": [
        "\n",
        "filename = 'baboon.jpg'\n",
        "url = 'https://github.com/miwamasa/DataScience2024/blob/main/notebooks/data/'+filename+'?raw=true'\n",
        "\n",
        "# 画像ファイルをダウンロード\n",
        "urllib.request.urlretrieve(url, filename)\n",
        "\n",
        "img = cv2.imread(filename,0)\n",
        "\n",
        "dft = cv2.dft(np.float32(img), flags = cv2.DFT_COMPLEX_OUTPUT)\n",
        "dft_shift = np.fft.fftshift(dft)\n",
        "\n",
        "magnitude_spectrum = 20*np.log(cv2.magnitude(dft_shift[:,:,0],dft_shift[:,:,1]))\n",
        "\n",
        "rows, cols = img.shape\n",
        "crow,ccol = int(rows/2) , int(cols/2)\n",
        "\n",
        "isize=10 # マスクの半分のサイズ\n",
        "\n",
        "# ローパスフィルタ用マスクの作成，中心正方領域は1，それ以外は0\n",
        "mask = np.zeros((rows,cols,2),np.uint8)\n",
        "mask[crow-isize:crow+isize, ccol-isize:ccol+isize] = 1\n",
        "# apply mask and inverse DFT\n",
        "fshift = dft_shift*mask\n",
        "f_ishift = np.fft.ifftshift(fshift)\n",
        "img_back1 = cv2.idft(f_ishift)\n",
        "img_back1 = cv2.magnitude(img_back1[:,:,0],img_back1[:,:,1])\n",
        "\n",
        "# ハイパスフィルタ用マスクの作成，中心正方領域は0，それ以外は1\n",
        "mask = np.ones((rows,cols,2),np.uint8)\n",
        "mask[crow-isize:crow+isize, ccol-isize:ccol+isize] = 0\n",
        "# apply mask and inverse DFT\n",
        "fshift = dft_shift*mask\n",
        "f_ishift = np.fft.ifftshift(fshift)\n",
        "img_back2 = cv2.idft(f_ishift)\n",
        "img_back2 = cv2.magnitude(img_back2[:,:,0],img_back2[:,:,1])\n",
        "\n",
        "\n",
        "fig, ((axLU, axRU), (axLL, axRL)) = plt.subplots(nrows=2, ncols=2, figsize=(10,6))\n",
        "\n",
        "axLU.imshow(img, cmap = 'gray')\n",
        "axLU.set_title('Input image'),\n",
        "axLU.set_xticks([]), axLU.set_yticks([]) # Remove ticks\n",
        "\n",
        "axRU.imshow(magnitude_spectrum, cmap = 'gray')\n",
        "axRU.set_title('Magnitude Spectrum')\n",
        "axRU.set_xticks([])\n",
        "axRU.set_yticks([])\n",
        "\n",
        "axLL.imshow(img_back1, cmap = 'gray')\n",
        "axLL.set_title('Inverse FFT with Lowpass '),\n",
        "axLL.set_xticks([])\n",
        "axLL.set_yticks([]) # Remove ticks\n",
        "\n",
        "axRL.imshow(img_back2, cmap = 'gray')\n",
        "axRL.set_title('Inverse FFT with Highpass')\n",
        "axRL.set_xticks([])\n",
        "axRL.set_yticks([])\n",
        "if FLAG_fig: plt.savefig('IMG_DFT.png')\n",
        "plt.show()\n"
      ]
    },
    {
      "cell_type": "markdown",
      "metadata": {
        "id": "plW6rTKNpIaA"
      },
      "source": [
        "## 特徴点抽出"
      ]
    },
    {
      "cell_type": "code",
      "execution_count": null,
      "metadata": {
        "id": "cMdkqMSspIaA"
      },
      "outputs": [],
      "source": [
        "import cv2\n",
        "import sys\n",
        "\n",
        "face_filename = 'haarcascade_frontalface_default.xml'\n",
        "face_url = 'https://github.com/miwamasa/DataScience2024/blob/main/notebooks/data/haarcascades/'+face_filename+'?raw=true'\n",
        "\n",
        "eye_filename = 'haarcascade_frontalface_default.xml'\n",
        "eye_url = 'https://github.com/miwamasa/DataScience2024/blob/main/notebooks/data/haarcascades/'+eye_filename+'?raw=true'\n",
        "\n",
        "# 画像ファイルをダウンロード\n",
        "urllib.request.urlretrieve(face_url, face_filename)\n",
        "urllib.request.urlretrieve(eye_url, eye_filename)\n",
        "\n",
        "# Haar-like特徴分類器の読み込み\n",
        "face_cascade = cv2.CascadeClassifier(face_filename)\n",
        "eye_cascade = cv2.CascadeClassifier(eye_filename)\n",
        "\n",
        "# 顔データの読込み\n",
        "filename = 'face.png'\n",
        "url = 'https://github.com/miwamasa/DataScience2024/blob/main/notebooks/data/'+filename+'?raw=true'\n",
        "\n",
        "# 画像ファイルをダウンロード\n",
        "urllib.request.urlretrieve(url, filename)\n",
        "img = cv2.imread(filename)\n",
        "\n",
        "# グレースケール変換\n",
        "gray = cv2.cvtColor(img, cv2.COLOR_BGR2GRAY)\n",
        "\n",
        "# 顔を検知\n",
        "faces = face_cascade.detectMultiScale(gray)"
      ]
    },
    {
      "cell_type": "code",
      "execution_count": null,
      "metadata": {
        "id": "cMe6IHh2pIaA"
      },
      "outputs": [],
      "source": [
        "for (x,y,w,h) in faces:\n",
        "    # 検知した顔を矩形で囲む\n",
        "    cv2.rectangle(img,(x,y),(x+w,y+h),(255,0,0),2)\n",
        "    # 顔画像（グレースケール）\n",
        "    roi_gray = gray[y:y+h, x:x+w]\n",
        "    # 顔画像（カラースケール）\n",
        "    roi_color = img[y:y+h, x:x+w]\n",
        "    # 顔の中から目を検知\n",
        "    eyes = eye_cascade.detectMultiScale(roi_gray)\n",
        "    for (ex,ey,ew,eh) in eyes:\n",
        "        # 検知した目を矩形で囲む\n",
        "        cv2.rectangle(roi_color,(ex,ey),(ex+ew,ey+eh),(0,255,0),2)"
      ]
    },
    {
      "cell_type": "code",
      "execution_count": null,
      "metadata": {
        "id": "NkiQQnd9pIaA"
      },
      "outputs": [],
      "source": [
        "# 画像表示\n",
        "plt.imshow(img, cmap='gray')"
      ]
    },
    {
      "cell_type": "markdown",
      "metadata": {
        "id": "vt9H_R7P1qAp"
      },
      "source": [
        "### コーナー検出"
      ]
    },
    {
      "cell_type": "code",
      "execution_count": null,
      "metadata": {
        "id": "WtKDzXQ1pIaA"
      },
      "outputs": [],
      "source": [
        "filename = 'lec12_sample.png'\n",
        "url = 'https://github.com/miwamasa/DataScience2024/blob/main/notebooks/data/'+filename+'?raw=true'\n",
        "\n",
        "# 画像ファイルをダウンロード\n",
        "urllib.request.urlretrieve(url, filename)\n",
        "\n",
        "img_org = cv2.imread(filename) # オリジナル画像の入力\n",
        "img_gray = cv2.cvtColor(img_org, cv2.COLOR_BGR2GRAY)\n",
        "\n",
        "#コーナーの検出\n",
        "corners = cv2.cornerHarris(img_gray, 3,1,0.04)\n",
        "plt.imshow(corners, cmap='gray')"
      ]
    },
    {
      "cell_type": "markdown",
      "metadata": {
        "id": "PUV5ReBd2eOe"
      },
      "source": [
        "### SHIFT特徴量\n",
        "\n",
        "は、特許権利関連で、使えない(2022に特許が切れるといううわさもある）\n"
      ]
    },
    {
      "cell_type": "code",
      "execution_count": null,
      "metadata": {
        "id": "Or_zCIjs1_p4"
      },
      "outputs": [],
      "source": [
        "sift = cv2.xfeatures2d.SIFT_create()\n",
        "keypoints, descriptors = sift.detectAndCompute(img_gray, None)\n",
        "img_sift = cv2.drawKeypoints(img_gray, keypoints, None, flags=4)\n",
        "plt.imshow(img_sift, cmap='gray')"
      ]
    },
    {
      "cell_type": "code",
      "execution_count": null,
      "metadata": {
        "id": "BQRO1Sxk57An"
      },
      "outputs": [],
      "source": [
        "print(cv2.__version__)"
      ]
    },
    {
      "cell_type": "code",
      "execution_count": null,
      "metadata": {
        "id": "Qa59iIx46J3H"
      },
      "outputs": [],
      "source": [
        "!pip install opencv-contrib-python==4.4.0.44"
      ]
    },
    {
      "cell_type": "code",
      "execution_count": null,
      "metadata": {
        "id": "bIboOXqs6Poh"
      },
      "outputs": [],
      "source": [
        "import cv2\n",
        "import numpy as np\n",
        "import matplotlib.pyplot as plt\n",
        "\n",
        "img_org = cv2.imread('lec12_sample.png') # オリジナル画像の入力\n",
        "img_gray = cv2.cvtColor(img_org, cv2.COLOR_BGR2GRAY)\n",
        "#sift = cv2.xfeatures2d.SIFT_create()\n",
        "sift = cv2.SIFT_create ()\n",
        "keypoints, descriptors = sift.detectAndCompute(img_gray, None)\n",
        "img_sift = cv2.drawKeypoints(img_gray, keypoints, None, flags=4)\n",
        "plt.imshow(img_sift, cmap='gray')"
      ]
    },
    {
      "cell_type": "markdown",
      "metadata": {
        "id": "mqCIOH6J30Oi"
      },
      "source": [
        "### Hough変換で直線を見つける\n"
      ]
    },
    {
      "cell_type": "code",
      "execution_count": null,
      "metadata": {
        "id": "ClgNq0Pu2pm5"
      },
      "outputs": [],
      "source": [
        "# Canny 法で2値化する。\n",
        "edges = cv2.Canny(img_gray, 150, 300, L2gradient=True)\n",
        "plt.imshow(edges, cmap='gray')"
      ]
    },
    {
      "cell_type": "code",
      "execution_count": null,
      "metadata": {
        "id": "V9GjSrwi38w0"
      },
      "outputs": [],
      "source": [
        "# ハフ変換で直線検出する。\n",
        "lines = cv2.HoughLines(edges, 1, np.pi / 180, 100)\n",
        "print(lines)"
      ]
    },
    {
      "cell_type": "code",
      "execution_count": null,
      "metadata": {
        "id": "hf3Z7WMw4CLZ"
      },
      "outputs": [],
      "source": [
        "def draw_line(img, theta, rho):\n",
        "    h, w = img.shape[:2]\n",
        "    if np.isclose(np.sin(theta), 0):\n",
        "        x1, y1 = rho, 0\n",
        "        x2, y2 = rho, h\n",
        "    else:\n",
        "        calc_y = lambda x: rho / np.sin(theta) - x * np.cos(theta) / np.sin(theta)\n",
        "        x1, y1 = 0, calc_y(0)\n",
        "        x2, y2 = w, calc_y(w)\n",
        "\n",
        "    # float -> int\n",
        "    x1, y1, x2, y2 = list(map(int, [x1, y1, x2, y2]))\n",
        "\n",
        "    cv2.line(img, (x1, y1), (x2, y2), (0, 255, 255), 2,)\n",
        "\n",
        "\n",
        "# 直線を描画する。\n",
        "if lines is not None:\n",
        "    for rho, theta in lines.squeeze(axis=1):\n",
        "        draw_line(img_gray, theta, rho)\n",
        "plt.imshow(img_gray)"
      ]
    },
    {
      "cell_type": "markdown",
      "metadata": {
        "id": "KtiRlrpuL3kC"
      },
      "source": [
        "## KNNによる領域分割"
      ]
    },
    {
      "cell_type": "code",
      "execution_count": null,
      "metadata": {
        "id": "MhcTbDX6L3kD"
      },
      "outputs": [],
      "source": [
        "from skimage import data,io,color, img_as_ubyte\n",
        "import numpy as np\n",
        "import matplotlib.cm as cm\n",
        "from sklearn.cluster import KMeans\n",
        "from sklearn.decomposition import PCA\n",
        "import matplotlib.pyplot as plt\n",
        "\n",
        "%matplotlib inline"
      ]
    },
    {
      "cell_type": "code",
      "execution_count": null,
      "metadata": {
        "id": "axNjB7-VL3kD"
      },
      "outputs": [],
      "source": [
        "#img_org = cv2.imread('data/lena_std.tif') # オリジナル画像の入力\n",
        "img = io.imread('lena_replacement.jpg')\n",
        "imgG = color.rgb2gray(img) # rangeが0-1にしかなりません\n",
        "imgG = img_as_ubyte(imgG)  # なので，0-255に値を変更します"
      ]
    },
    {
      "cell_type": "code",
      "execution_count": null,
      "metadata": {
        "id": "OF2-iX4qL3kD"
      },
      "outputs": [],
      "source": [
        "ClsNum = 4\n",
        "vec=imgG.reshape(-1, 1).astype(float)\n",
        "VecCls = np.zeros((img.shape[0]*img.shape[1]))\n",
        "modelGray = KMeans(n_clusters = ClsNum).fit(vec)\n",
        "\n",
        "ClsGraypred = modelGray.predict(vec)\n",
        "clsLabel = modelGray.labels_"
      ]
    },
    {
      "cell_type": "code",
      "execution_count": null,
      "metadata": {
        "id": "Uo-0QWs_L3kE"
      },
      "outputs": [],
      "source": [
        "modelGray.cluster_centers_"
      ]
    },
    {
      "cell_type": "code",
      "execution_count": null,
      "metadata": {
        "id": "TI-tiwmgL3kE"
      },
      "outputs": [],
      "source": [
        "for k in range(ClsNum):\n",
        "    VecCls[ClsGraypred == k]= modelGray.cluster_centers_[k]\n",
        "\n",
        "imgCls =VecCls.astype(np.uint8).reshape(1024, 1024)"
      ]
    },
    {
      "cell_type": "code",
      "execution_count": null,
      "metadata": {
        "id": "R56LKTVUL3kE"
      },
      "outputs": [],
      "source": [
        "imgKCls = np.zeros((img.shape[0], img.shape[1], ClsNum))\n",
        "tmp = ClsGraypred.reshape(img.shape[0], img.shape[1])\n",
        "\n",
        "for k in range(ClsNum):\n",
        "    t = np.zeros((img.shape[0], img.shape[1]))\n",
        "    i, j = np.where(tmp == k) # 各クラスの領域を示す画素を求める\n",
        "    t[i,j] = 255                # 得られた画素の情報に対し，対象領域として画素値を与える\n",
        "    imgKCls[:,:,k] = t          # 対象領域画像へ分類"
      ]
    },
    {
      "cell_type": "code",
      "execution_count": null,
      "metadata": {
        "id": "yGGvSJyJL3kF"
      },
      "outputs": [],
      "source": [
        "plt.subplot(221), plt.imshow(imgKCls[:,:,0])\n",
        "plt.title('Region 1'), plt.xticks([]), plt.yticks([])\n",
        "\n",
        "plt.subplot(222), plt.imshow(imgKCls[:,:,1])\n",
        "plt.title('Region 2'), plt.xticks([]), plt.yticks([])\n",
        "\n",
        "plt.subplot(223), plt.imshow(imgKCls[:,:,2])\n",
        "plt.title('Region 3'), plt.xticks([]), plt.yticks([])\n",
        "\n",
        "plt.subplot(224), plt.imshow(imgKCls[:,:,3])\n",
        "plt.title('Region 4'), plt.xticks([]), plt.yticks([])"
      ]
    },
    {
      "cell_type": "markdown",
      "metadata": {
        "id": "KEnhs26JL3kF"
      },
      "source": [
        "## YOLOによる物体認識\n",
        "\n",
        "オープンソースのCNNであるdarkentをcloneして、ビルドします。"
      ]
    },
    {
      "cell_type": "code",
      "execution_count": null,
      "metadata": {
        "id": "6wXjXNtc4H5e"
      },
      "outputs": [],
      "source": [
        "%%bash\n",
        "git clone https://github.com/pjreddie/darknet\n",
        "cd darknet\n",
        "make"
      ]
    },
    {
      "cell_type": "markdown",
      "metadata": {
        "id": "Wcf99qNzL3kG"
      },
      "source": [
        "YOLOv3のweightをダウンロードします。"
      ]
    },
    {
      "cell_type": "code",
      "execution_count": null,
      "metadata": {
        "id": "pXk3vS5rL3kG"
      },
      "outputs": [],
      "source": [
        "%%bash\n",
        "cd ./darknet\n",
        "wget https://pjreddie.com/media/files/yolov3.weights"
      ]
    },
    {
      "cell_type": "markdown",
      "metadata": {
        "id": "0vQT19ldL3kG"
      },
      "source": [
        "サンプルで入っている画像（giraffe.jpg）に物体検知をかけます"
      ]
    },
    {
      "cell_type": "code",
      "execution_count": null,
      "metadata": {
        "id": "AMdK4AIXL3kG"
      },
      "outputs": [],
      "source": [
        "%%bash\n",
        "cd ./darknet/\n",
        "./darknet detect cfg/yolov3.cfg yolov3.weights data/giraffe.jpg\n"
      ]
    },
    {
      "cell_type": "code",
      "execution_count": null,
      "metadata": {
        "id": "pxF5lnbLL3kH"
      },
      "outputs": [],
      "source": [
        "from IPython.display import Image,display_jpeg\n",
        "display_jpeg(Image('darknet/predictions.jpg'))"
      ]
    },
    {
      "cell_type": "code",
      "execution_count": null,
      "metadata": {
        "id": "KmcKHB8-L3kH"
      },
      "outputs": [],
      "source": []
    }
  ],
  "metadata": {
    "colab": {
      "provenance": []
    },
    "interpreter": {
      "hash": "9650cb4e16cdd4a8e8e2d128bf38d875813998db22a3c986335f89e0cb4d7bb2"
    },
    "kernelspec": {
      "display_name": "Python 3.8.3 64-bit",
      "language": "python",
      "name": "python3"
    },
    "language_info": {
      "codemirror_mode": {
        "name": "ipython",
        "version": 3
      },
      "file_extension": ".py",
      "mimetype": "text/x-python",
      "name": "python",
      "nbconvert_exporter": "python",
      "pygments_lexer": "ipython3",
      "version": "3.8.3"
    },
    "orig_nbformat": 4
  },
  "nbformat": 4,
  "nbformat_minor": 0
}