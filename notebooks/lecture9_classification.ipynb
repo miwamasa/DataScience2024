{
  "cells": [
    {
      "cell_type": "markdown",
      "metadata": {
        "id": "_pTgSd4sMMzP"
      },
      "source": [
        "# Lecture9　パターン認識2(クラス分類)\n",
        "<div dir='rtl'>\n",
        "2024.5岩政\n",
        "</div>\n",
        "\n",
        "# クラス分類（続き）"
      ]
    },
    {
      "cell_type": "markdown",
      "metadata": {
        "id": "NPzs8M0iMMzQ"
      },
      "source": [
        "## kNN(k近傍法)\n",
        "k近傍法（k-nearest neighbors algorithm）  \n",
        "1.6. Nearest Neighbors http://scikit-learn.org/stable/modules/neighbors.html<br>\n",
        "sklearn.neighbors.KNeighborsClassifier http://scikit-learn.org/stable/modules/generated/sklearn.neighbors.KNeighborsClassifier.html  \n",
        "距離の種類 http://scikit-learn.org/stable/modules/generated/sklearn.neighbors.DistanceMetric.html"
      ]
    },
    {
      "cell_type": "code",
      "execution_count": null,
      "metadata": {
        "id": "WP-5_kqTMMzR"
      },
      "outputs": [],
      "source": [
        "# -*- coding: utf-8 -*-\n",
        "import numpy as np\n",
        "import matplotlib.pyplot as plt\n",
        "%matplotlib inline\n",
        "from matplotlib import cm # maplotlibのカラーマップを使用\n",
        "\n",
        "from sklearn.neighbors import KNeighborsClassifier\n"
      ]
    },
    {
      "cell_type": "markdown",
      "metadata": {
        "id": "D2C7KabRMMzS"
      },
      "source": [
        "データを用意します"
      ]
    },
    {
      "cell_type": "code",
      "execution_count": null,
      "metadata": {
        "id": "oslj9oXqMMzS"
      },
      "outputs": [],
      "source": [
        "X = np.array([ [-3.0, -2.0], [-2.0, -1.0], [-1.0, -1.0], [1.0, 1.0], [2.0, 1.0], [3.0, 2.0]])\n",
        "y = np.array([0, 0, 1, 1, 1, 1])"
      ]
    },
    {
      "cell_type": "code",
      "execution_count": null,
      "metadata": {
        "id": "4sey2WlGMMzS"
      },
      "outputs": [],
      "source": [
        "plt.scatter(X[:,0], X[:,1], c=y, cmap=cm.bwr)\n"
      ]
    },
    {
      "cell_type": "markdown",
      "metadata": {
        "id": "Q3xnWZFgMMzS"
      },
      "source": [
        "近傍=3で計算をします（fit()関数)。"
      ]
    },
    {
      "cell_type": "code",
      "execution_count": null,
      "metadata": {
        "id": "-c_qS820MMzT"
      },
      "outputs": [],
      "source": [
        "neigh = KNeighborsClassifier(n_neighbors=3)\n",
        "neigh.fit(X, y)"
      ]
    },
    {
      "cell_type": "markdown",
      "metadata": {
        "id": "UeLXVMCYMMzT"
      },
      "source": [
        "テスト用の、データ点２を２つ用意し、予測をします。"
      ]
    },
    {
      "cell_type": "code",
      "execution_count": null,
      "metadata": {
        "id": "5G0chJWAMMzT"
      },
      "outputs": [],
      "source": [
        "X_test = np.array([ [-1.5, -1.0], [0.0, 0.5]])\n",
        "print('Estimated class: ', neigh.predict(X_test))"
      ]
    },
    {
      "cell_type": "markdown",
      "metadata": {
        "id": "xvdmbQ_3MMzT"
      },
      "source": [
        "テスト用データに対する３点と、距離を表示します。"
      ]
    },
    {
      "cell_type": "code",
      "execution_count": null,
      "metadata": {
        "id": "GsMK6Fz1MMzT"
      },
      "outputs": [],
      "source": [
        "distances, indices = neigh.kneighbors(X_test)\n",
        "print('Nearest index \\n',indices)\n",
        "print('Distance \\n',distances)"
      ]
    },
    {
      "cell_type": "markdown",
      "metadata": {
        "id": "vF1ONQHvMMzT"
      },
      "source": [
        "予測値を重ねてみます。"
      ]
    },
    {
      "cell_type": "code",
      "execution_count": null,
      "metadata": {
        "id": "KpWLAhvhMMzU"
      },
      "outputs": [],
      "source": [
        "plt.scatter(X[:,0], X[:,1], c=y, cmap=cm.bwr)\n",
        "plt.scatter(X_test[:,0], X_test[:,1],c=neigh.predict(X_test),cmap=cm.bwr,  marker=\"*\",s=300,alpha=0.2,linewidths=2, edgecolors=\"orange\")"
      ]
    },
    {
      "cell_type": "markdown",
      "metadata": {
        "id": "WcxvJQkqMMzU"
      },
      "source": [
        "### kNN irisデータの分類"
      ]
    },
    {
      "cell_type": "code",
      "execution_count": null,
      "metadata": {
        "id": "8-GR5-60MMzU"
      },
      "outputs": [],
      "source": [
        "# -*- coding: utf-8 -*-\n",
        "import numpy as np\n",
        "import matplotlib.pyplot as plt\n",
        "%matplotlib inline\n",
        "from matplotlib import cm\n",
        "\n",
        "from sklearn.neighbors import KNeighborsClassifier\n",
        "from sklearn import datasets\n",
        "from sklearn.metrics import  accuracy_score, classification_report\n",
        "from sklearn.model_selection import train_test_split\n"
      ]
    },
    {
      "cell_type": "markdown",
      "metadata": {
        "id": "wT-WM6QkMMzU"
      },
      "source": [
        "#### Xは2次元\n",
        "iris変量の内，sepal（がく）と petal（花びら）の長さ[cm]を見るため\n",
        "0番目と2番目のデータをXに格納"
      ]
    },
    {
      "cell_type": "code",
      "execution_count": null,
      "metadata": {
        "id": "DaXvbLcLMMzU"
      },
      "outputs": [],
      "source": [
        "# Load iris data, 150 sample\n",
        "iris = datasets.load_iris()\n",
        "X = iris.data[:, [0, 2]]\n",
        "y = iris.target\n",
        "\n",
        "# Split into training and test\n",
        "X_train, X_test, y_train, y_test = train_test_split(X, y, test_size=2/15, random_state=123)\n",
        "#X_train, X_test, y_train, y_test = train_test_split(X, y, test_size=10/15,)\n",
        "\n",
        "fig = plt.subplots(figsize=(8,4))\n",
        "plt.xlim(4.0, 8.0)\n",
        "plt.ylim(0.5, 7.5)\n",
        "plt.scatter(X_train[:,0], X_train[:,1], c=y_train, cmap=cm.bwr, edgecolors='k')\n",
        "plt.title('Training, Blue:0, White:1, Red:2')\n",
        "plt.grid()\n"
      ]
    },
    {
      "cell_type": "markdown",
      "metadata": {
        "id": "ObLyFRW7MMzU"
      },
      "source": [
        "近傍点の数kを3,7,9と変えてみて試します。"
      ]
    },
    {
      "cell_type": "code",
      "execution_count": null,
      "metadata": {
        "id": "GaIPeCfaMMzU"
      },
      "outputs": [],
      "source": [
        "k_range=(3, 7, 9)\n",
        "for k in k_range:\n",
        "\n",
        "    neigh = KNeighborsClassifier(n_neighbors=k)\n",
        "    neigh.fit(X_train, y_train)\n",
        "\n",
        "    y_test_pred = neigh.predict(X_test)\n",
        "    acc = accuracy_score(y_test, y_test_pred)\n",
        "    print('Accuracy =',acc)\n",
        "    print(classification_report(y_test, y_test_pred))\n",
        "\n",
        "    fig = plt.subplots(figsize=(8,4))\n",
        "    plt.xlim(4.0, 8.0)\n",
        "    plt.ylim(0.5, 7.5)\n",
        "    plt.scatter(X_test[:,0], X_test[:,1], c=y_test_pred, cmap=cm.bwr, edgecolors='k')\n",
        "    plt.grid()\n",
        "    plt.title('Predicttion, Blue:0, White:1, Red:2; with k='+str(k))\n",
        ""
      ]
    },
    {
      "cell_type": "markdown",
      "metadata": {
        "id": "UOk5L4ujMMzU"
      },
      "source": [
        "どのデータが誤っているかを調べる。"
      ]
    },
    {
      "cell_type": "code",
      "execution_count": null,
      "metadata": {
        "id": "E1r6Ikq0MMzU"
      },
      "outputs": [],
      "source": [
        "print('Real       =',y_test)\n",
        "print('Prediction =',y_test_pred)"
      ]
    },
    {
      "cell_type": "code",
      "execution_count": null,
      "metadata": {
        "id": "u6gFIH3jMMzU"
      },
      "outputs": [],
      "source": [
        "#上のグラフと比較してｋNNの性能を推測する。\n",
        "print('  0:',X_test[0],'\\n  5:',X_test[5],'\\n 10:',X_test[10])"
      ]
    },
    {
      "cell_type": "markdown",
      "metadata": {
        "id": "14cbSmIEMMzU"
      },
      "source": [
        "誤分類された点を表示します。"
      ]
    },
    {
      "cell_type": "code",
      "execution_count": null,
      "metadata": {
        "id": "qPPYv0ZIMMzU"
      },
      "outputs": [],
      "source": [
        "miss=X_test[[0,5,10]]\n",
        "missy=y_test_pred[[0,5,10]]\n",
        "\n",
        "plt.scatter(X_test[:,0], X_test[:,1], c=y_test_pred, cmap=cm.bwr, edgecolors='k')\n",
        "plt.scatter(miss[:,0], miss[:,1],c=missy,cmap=cm.bwr,  marker=\"*\",s=300,alpha=0.2,linewidths=2, edgecolors=\"orange\")"
      ]
    },
    {
      "cell_type": "markdown",
      "metadata": {
        "id": "FdAUyVHAMMzU"
      },
      "source": [
        "#### 説明変数の特徴量を4次元（全て）にして，kNNを実施\n",
        "ただし，splitする際にrandom_stateを省いているため，試行ごとにトレーニングデータとテストデータの性質が異なる。"
      ]
    },
    {
      "cell_type": "code",
      "execution_count": null,
      "metadata": {
        "id": "5nbELgYLMMzU"
      },
      "outputs": [],
      "source": [
        "# random_state be not set. random division\n",
        "X_train, X_test, y_train, y_test = train_test_split(iris.data, iris.target, test_size=2/15)\n",
        "\n",
        "print(X_train.shape, y_train.shape)\n",
        "print(X_test.shape, y_test.shape)\n",
        "\n",
        "neigh = KNeighborsClassifier(n_neighbors=3)\n",
        "neigh.fit(X_train, y_train)"
      ]
    },
    {
      "cell_type": "code",
      "execution_count": null,
      "metadata": {
        "id": "z-SLAGcDMMzU"
      },
      "outputs": [],
      "source": [
        "_test_predt = neigh.predict(X_test)\n",
        "acc = accuracy_score(y_test, _test_predt)\n",
        "print('Accuracy =',acc)\n",
        "print('Real       =',y_test)\n",
        "print('Prediction =',_test_predt)"
      ]
    },
    {
      "cell_type": "markdown",
      "metadata": {
        "id": "IUgF0Oh5MMzV"
      },
      "source": [
        "結果を可視化してみます。最初に誤判定した部分を抽出します。"
      ]
    },
    {
      "cell_type": "code",
      "execution_count": null,
      "metadata": {
        "id": "xrCzT9KXMMzV"
      },
      "outputs": [],
      "source": [
        "miss_list = np.where(y_test != _test_predt)[0]\n",
        "miss_list"
      ]
    },
    {
      "cell_type": "markdown",
      "metadata": {
        "id": "vKCEG8biMMzV"
      },
      "source": [
        "結果を表示します。"
      ]
    },
    {
      "cell_type": "code",
      "execution_count": null,
      "metadata": {
        "id": "-GpdXSckMMzV"
      },
      "outputs": [],
      "source": [
        "miss=X_test[miss_list]\n",
        "missy=y_test_pred[miss_list]\n",
        "\n",
        "fig = plt.subplots(figsize=(8,4))\n",
        "plt.xlim(4.0, 8.0)\n",
        "plt.ylim(0.5, 7.5)\n",
        "plt.scatter(X_test[:,0], X_test[:,1], c=y_test, cmap=cm.bwr, edgecolors='k')\n",
        "plt.scatter(miss[:,0], miss[:,1],c=missy,cmap=cm.bwr,  marker=\"*\",s=300,alpha=0.2,linewidths=2, edgecolors=\"orange\")\n",
        "plt.title('y_test, Blue:0, White:1, Red:2')\n",
        "plt.grid()"
      ]
    },
    {
      "cell_type": "markdown",
      "metadata": {
        "id": "AuTMGjxGMMzV"
      },
      "source": [
        "## 決定木・ランダムフォレスト"
      ]
    },
    {
      "cell_type": "code",
      "execution_count": null,
      "metadata": {
        "id": "KsNiPm3jMMzV"
      },
      "outputs": [],
      "source": [
        "%matplotlib inline\n",
        "import numpy as np\n",
        "import matplotlib.pyplot as plt\n",
        "import seaborn as sns; sns.set()"
      ]
    },
    {
      "cell_type": "markdown",
      "metadata": {
        "id": "dlKPcjBPMMzV"
      },
      "source": [
        "人工的なデータをmake_blobsで作ります。"
      ]
    },
    {
      "cell_type": "code",
      "execution_count": null,
      "metadata": {
        "id": "pUg84OiKMMzV"
      },
      "outputs": [],
      "source": [
        "from sklearn.datasets import make_blobs\n",
        "\n",
        "X, y = make_blobs(n_samples=300, centers=4,\n",
        "                  random_state=0, cluster_std=1.0)\n",
        "plt.scatter(X[:, 0], X[:, 1], c=y, s=50, cmap='rainbow');"
      ]
    },
    {
      "cell_type": "code",
      "execution_count": null,
      "metadata": {
        "id": "E8dj3rzLMMzV"
      },
      "outputs": [],
      "source": [
        "from sklearn.tree import DecisionTreeClassifier\n",
        "tree = DecisionTreeClassifier().fit(X, y)"
      ]
    },
    {
      "cell_type": "code",
      "execution_count": null,
      "metadata": {
        "id": "bXi6DokQMMzV"
      },
      "outputs": [],
      "source": [
        "def visualize_classifier(model, X, y, ax=None, cmap='rainbow'):\n",
        "    ax = ax or plt.gca()\n",
        "\n",
        "    # Plot the training points\n",
        "    ax.scatter(X[:, 0], X[:, 1], c=y, s=30, cmap=cmap,\n",
        "               clim=(y.min(), y.max()), zorder=3)\n",
        "    ax.axis('tight')\n",
        "    ax.axis('off')\n",
        "    xlim = ax.get_xlim()\n",
        "    ylim = ax.get_ylim()\n",
        "\n",
        "    # fit the estimator\n",
        "    model.fit(X, y)\n",
        "    xx, yy = np.meshgrid(np.linspace(*xlim, num=200),\n",
        "                         np.linspace(*ylim, num=200))\n",
        "    Z = model.predict(np.c_[xx.ravel(), yy.ravel()]).reshape(xx.shape)\n",
        "\n",
        "    # Create a color plot with the results\n",
        "    n_classes = len(np.unique(y))\n",
        "    contours = ax.contourf(xx, yy, Z, alpha=0.3,\n",
        "                           levels=np.arange(n_classes + 1) - 0.5,\n",
        "                           cmap=cmap, clim=(y.min(), y.max()),\n",
        "                           zorder=1)\n",
        "\n",
        "    ax.set(xlim=xlim, ylim=ylim)"
      ]
    },
    {
      "cell_type": "code",
      "execution_count": null,
      "metadata": {
        "id": "R4OUd4X1MMzV"
      },
      "outputs": [],
      "source": [
        "\n",
        "visualize_classifier(DecisionTreeClassifier(max_depth=8), X, y)\n"
      ]
    },
    {
      "cell_type": "markdown",
      "metadata": {
        "id": "sdn-UqUrMMzZ"
      },
      "source": [
        "決定木を可視化してみます。"
      ]
    },
    {
      "cell_type": "code",
      "execution_count": null,
      "metadata": {
        "id": "1PMGjYSNMMzZ"
      },
      "outputs": [],
      "source": [
        "from sklearn import tree\n",
        "clf=DecisionTreeClassifier(max_depth=8).fit(X, y)\n",
        "tree.plot_tree(clf)\n",
        "#plt.savefig(\"lec8_decision_tree_plot.png\",  dpi=300)"
      ]
    },
    {
      "cell_type": "markdown",
      "source": [
        "### 注意\n",
        "分類の様子を可視化します、manabaで配布した、helpers_05_08.py をgoogle colab環境にアップロードして使います。"
      ],
      "metadata": {
        "id": "qkzSpgFxRFrr"
      }
    },
    {
      "cell_type": "code",
      "execution_count": null,
      "metadata": {
        "id": "k0ayhlMKMMzZ"
      },
      "outputs": [],
      "source": [
        "from helpers_05_08 import visualize_tree\n",
        "from sklearn.tree import DecisionTreeClassifier\n",
        "from sklearn.datasets import make_blobs\n",
        "\n",
        "\n",
        "fig, ax = plt.subplots(1, 2, figsize=(16, 6))\n",
        "fig.subplots_adjust(left=0.02, right=0.98, wspace=0.1)\n",
        "\n",
        "X, y = make_blobs(n_samples=300, centers=4,\n",
        "                  random_state=0, cluster_std=1.0)\n",
        "\n",
        "for axi, depth in zip(ax, range(1, 3)):\n",
        "    model = DecisionTreeClassifier(max_depth=depth)\n",
        "    visualize_tree(model, X, y, ax=axi)\n",
        "    axi.set_title('depth = {0}'.format(depth))"
      ]
    },
    {
      "cell_type": "code",
      "execution_count": null,
      "metadata": {
        "id": "ssF70yjTMMzZ"
      },
      "outputs": [],
      "source": [
        "fig, ax = plt.subplots(1, 2, figsize=(16, 6))\n",
        "fig.subplots_adjust(left=0.02, right=0.98, wspace=0.1)\n",
        "\n",
        "for axi, depth in zip(ax, range(3, 5)):\n",
        "    model = DecisionTreeClassifier(max_depth=depth)\n",
        "    visualize_tree(model, X, y, ax=axi)\n",
        "    axi.set_title('depth = {0}'.format(depth))"
      ]
    },
    {
      "cell_type": "code",
      "execution_count": null,
      "metadata": {
        "id": "b8O-OBKXMMzZ"
      },
      "outputs": [],
      "source": [
        "# helpers_05_08 is found in the online appendix\n",
        "import helpers_05_08\n",
        "helpers_05_08.plot_tree_interactive(X, y);"
      ]
    },
    {
      "cell_type": "code",
      "execution_count": null,
      "metadata": {
        "id": "Xi9QHBNyMMzZ"
      },
      "outputs": [],
      "source": [
        "# helpers_05_08 is found in the online appendix\n",
        "import helpers_05_08\n",
        "helpers_05_08.randomized_tree_interactive(X, y);"
      ]
    },
    {
      "cell_type": "markdown",
      "metadata": {
        "id": "NHAKs5-iMMzZ"
      },
      "source": [
        "### ランダムフォレスト"
      ]
    },
    {
      "cell_type": "markdown",
      "metadata": {
        "id": "WWajzUmGMMzZ"
      },
      "source": [
        "単純にたくさん単独の決定木をあつめて予測するには、BaggingClassifierを使います。"
      ]
    },
    {
      "cell_type": "code",
      "execution_count": null,
      "metadata": {
        "id": "gp_j3q67MMzZ"
      },
      "outputs": [],
      "source": [
        "from sklearn.tree import DecisionTreeClassifier\n",
        "from sklearn.ensemble import BaggingClassifier\n",
        "\n",
        "tree = DecisionTreeClassifier()\n",
        "bag = BaggingClassifier(tree, n_estimators=100, max_samples=0.8,\n",
        "                        random_state=1)\n",
        "\n",
        "bag.fit(X, y)\n",
        "visualize_classifier(bag, X, y)"
      ]
    },
    {
      "cell_type": "markdown",
      "metadata": {
        "id": "L4n_3-07MMzZ"
      },
      "source": [
        "それぞれの木を作るとき、ランダムにデータを間引くなどをして、過適合を避けながら、木の集合（森）をつくのがRandomForestClassifier"
      ]
    },
    {
      "cell_type": "code",
      "execution_count": null,
      "metadata": {
        "id": "WyF6-QkEMMzZ"
      },
      "outputs": [],
      "source": [
        "from sklearn.ensemble import RandomForestClassifier\n",
        "\n",
        "model = RandomForestClassifier(n_estimators=100, random_state=0)\n",
        "visualize_classifier(model, X, y);"
      ]
    },
    {
      "cell_type": "markdown",
      "metadata": {
        "id": "58KPd-rXMMzZ"
      },
      "source": [
        "#### Example: Random Forest for Classifying Digits"
      ]
    },
    {
      "cell_type": "markdown",
      "metadata": {
        "id": "XW9YoJ6yMMzZ"
      },
      "source": [
        "手書き文字の画像分類にランダムフォレストを使う例紹介します。"
      ]
    },
    {
      "cell_type": "code",
      "execution_count": null,
      "metadata": {
        "id": "2ZcZseY-MMzZ"
      },
      "outputs": [],
      "source": [
        "from sklearn.datasets import load_digits\n",
        "digits = load_digits()\n",
        "digits.keys()"
      ]
    },
    {
      "cell_type": "code",
      "execution_count": null,
      "metadata": {
        "id": "vzwXXjkrMMza"
      },
      "outputs": [],
      "source": [
        "# set up the figure\n",
        "fig = plt.figure(figsize=(6, 6))  # figure size in inches\n",
        "fig.subplots_adjust(left=0, right=1, bottom=0, top=1, hspace=0.05, wspace=0.05)\n",
        "\n",
        "# plot the digits: each image is 8x8 pixels\n",
        "for i in range(64):\n",
        "    ax = fig.add_subplot(8, 8, i + 1, xticks=[], yticks=[])\n",
        "    ax.imshow(digits.images[i], cmap=plt.cm.binary, interpolation='nearest')\n",
        "\n",
        "    # label the image with the target value\n",
        "    ax.text(0, 7, str(digits.target[i]))"
      ]
    },
    {
      "cell_type": "code",
      "execution_count": null,
      "metadata": {
        "id": "zBl7cmcFMMza"
      },
      "outputs": [],
      "source": [
        "from sklearn.model_selection import train_test_split\n",
        "\n",
        "Xtrain, Xtest, ytrain, ytest = train_test_split(digits.data, digits.target,\n",
        "                                                random_state=0)\n",
        "model = RandomForestClassifier(n_estimators=1000)\n",
        "model.fit(Xtrain, ytrain)\n",
        "ypred = model.predict(Xtest)"
      ]
    },
    {
      "cell_type": "markdown",
      "metadata": {
        "id": "KNmZKNNGMMza"
      },
      "source": [
        "予測結果(ypred)は数値になります。"
      ]
    },
    {
      "cell_type": "code",
      "execution_count": null,
      "metadata": {
        "id": "BS49kcagMMza"
      },
      "outputs": [],
      "source": [
        "ypred"
      ]
    },
    {
      "cell_type": "code",
      "execution_count": null,
      "metadata": {
        "id": "8KuhmJPKMMza"
      },
      "outputs": [],
      "source": [
        "from sklearn import metrics\n",
        "print(metrics.classification_report(ypred, ytest))"
      ]
    },
    {
      "cell_type": "markdown",
      "metadata": {
        "id": "ncsDs0UZMMza"
      },
      "source": [
        "予測値がどれだけ正解と当たったかはずれたか、外れたら、何になったかをconfusion_matrixにより計算します。\n",
        "\n",
        "結構あたっていることがわかります。"
      ]
    },
    {
      "cell_type": "code",
      "execution_count": null,
      "metadata": {
        "id": "5vzQXj2rMMza"
      },
      "outputs": [],
      "source": [
        "from sklearn.metrics import confusion_matrix\n",
        "mat = confusion_matrix(ytest, ypred)\n",
        "sns.heatmap(mat.T, square=True, annot=True, fmt='d', cbar=False)\n",
        "plt.xlabel('true label')\n",
        "plt.ylabel('predicted label');"
      ]
    },
    {
      "cell_type": "markdown",
      "metadata": {
        "id": "AS-LV_9EMMza"
      },
      "source": [
        "## ナイーブベイズ(Naive Bays)"
      ]
    },
    {
      "cell_type": "code",
      "execution_count": null,
      "metadata": {
        "id": "w8JhO9HVMMza"
      },
      "outputs": [],
      "source": [
        "%matplotlib inline\n",
        "import numpy as np\n",
        "import matplotlib.pyplot as plt\n",
        "import seaborn as sns; sns.set()"
      ]
    },
    {
      "cell_type": "markdown",
      "metadata": {
        "id": "t5eJiwoxMMzb"
      },
      "source": [
        "### Gaussian Naive Bayes"
      ]
    },
    {
      "cell_type": "code",
      "execution_count": null,
      "metadata": {
        "id": "VOcrG-5QMMzb"
      },
      "outputs": [],
      "source": [
        "from sklearn.datasets import make_blobs\n",
        "X, y = make_blobs(100, 2, centers=2, random_state=2, cluster_std=1.5)\n",
        "plt.scatter(X[:, 0], X[:, 1], c=y, s=50, cmap='RdBu');"
      ]
    },
    {
      "cell_type": "code",
      "execution_count": null,
      "metadata": {
        "id": "Ac0SpU50MMzb"
      },
      "outputs": [],
      "source": [
        "from sklearn.naive_bayes import GaussianNB\n",
        "model = GaussianNB()\n",
        "model.fit(X, y);"
      ]
    },
    {
      "cell_type": "code",
      "execution_count": null,
      "metadata": {
        "id": "eMhTMFSnMMzb"
      },
      "outputs": [],
      "source": [
        "rng = np.random.RandomState(0)\n",
        "Xnew = [-6, -14] + [14, 18] * rng.rand(2000, 2)\n",
        "ynew = model.predict(Xnew)"
      ]
    },
    {
      "cell_type": "code",
      "execution_count": null,
      "metadata": {
        "id": "Jd-_a8WtMMzb"
      },
      "outputs": [],
      "source": [
        "ynew"
      ]
    },
    {
      "cell_type": "code",
      "execution_count": null,
      "metadata": {
        "id": "StatGY2tMMzb"
      },
      "outputs": [],
      "source": [
        "plt.scatter(X[:, 0], X[:, 1], c=y, s=50, cmap='RdBu')\n",
        "lim = plt.axis()\n",
        "plt.scatter(Xnew[:, 0], Xnew[:, 1], c=ynew, s=20, cmap='RdBu', alpha=0.1)\n",
        "plt.axis(lim);"
      ]
    },
    {
      "cell_type": "code",
      "execution_count": null,
      "metadata": {
        "id": "YRCRfsJsMMzb"
      },
      "outputs": [],
      "source": [
        "from sklearn.datasets import make_blobs\n",
        "\n",
        "X, y = make_blobs(n_samples=300, centers=4,\n",
        "                  random_state=0, cluster_std=1.0)\n",
        "plt.scatter(X[:, 0], X[:, 1], c=y, s=50, cmap='rainbow');"
      ]
    },
    {
      "cell_type": "code",
      "execution_count": null,
      "metadata": {
        "id": "X6MKsmaIMMzb"
      },
      "outputs": [],
      "source": [
        "from sklearn.naive_bayes import GaussianNB\n",
        "model = GaussianNB()\n",
        "model.fit(X, y);"
      ]
    },
    {
      "cell_type": "code",
      "execution_count": null,
      "metadata": {
        "id": "rWazJt0vMMzb"
      },
      "outputs": [],
      "source": [
        "rng = np.random.RandomState(0)\n",
        "Xnew = [-4, -2] + [8, 12] * rng.rand(2000, 2)\n",
        "ynew = model.predict(Xnew)"
      ]
    },
    {
      "cell_type": "code",
      "execution_count": null,
      "metadata": {
        "id": "jHKFWs8qMMzb"
      },
      "outputs": [],
      "source": [
        "#plt.scatter(X[:, 0], X[:, 1], c=y, s=50, cmap='RdBu')\n",
        "plt.scatter(X[:, 0], X[:, 1], c=y, s=50, cmap='rainbow');\n",
        "lim = plt.axis()\n",
        "plt.scatter(Xnew[:, 0], Xnew[:, 1], c=ynew, s=20, cmap='rainbow', alpha=0.1)\n",
        "plt.axis(lim);"
      ]
    },
    {
      "cell_type": "code",
      "execution_count": null,
      "metadata": {
        "id": "hFuEf-8pMMzb"
      },
      "outputs": [],
      "source": []
    }
  ],
  "metadata": {
    "interpreter": {
      "hash": "2db524e06e9f5f4ffedc911c917cb75e12dbc923643829bf417064a77eb14d37"
    },
    "kernelspec": {
      "display_name": "Python 3.8.3 64-bit",
      "language": "python",
      "name": "python3"
    },
    "language_info": {
      "codemirror_mode": {
        "name": "ipython",
        "version": 3
      },
      "file_extension": ".py",
      "mimetype": "text/x-python",
      "name": "python",
      "nbconvert_exporter": "python",
      "pygments_lexer": "ipython3",
      "version": "3.11.6"
    },
    "orig_nbformat": 4,
    "colab": {
      "provenance": []
    }
  },
  "nbformat": 4,
  "nbformat_minor": 0
}