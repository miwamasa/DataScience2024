{
 "cells": [
  {
   "attachments": {},
   "cell_type": "markdown",
   "metadata": {},
   "source": [
    "# Lecture4  - データの取得と操作 -\n",
    "<div dir='rtl'>\n",
    "2023.4岩政\n",
    "</div>\n",
    "\n",
    "このJupyter notebookは第４回目のスライドに乗っているコードを再現したものです。スライドと合わせて動作を行わせて確認してください。\n",
    "\n",
    "特にpythonコードに説明は付けていませんが、スライドの説明を参照のこと。"
   ]
  },
  {
   "attachments": {},
   "cell_type": "markdown",
   "metadata": {},
   "source": [
    "最初に https://raw.githubusercontent.com/miwamasa/DataScience2023/main/notebooks/data/fortune500.csv\n",
    "\n",
    "を ローカルディスクにコピーします（ここではtmpフォルダの下にfortune500.csvとして保存します)\n",
    "\n",
    "https://raw.githubusercontent.com/miwamasa/DataScience2023/main/notebooks/data/fortune500.csv\n",
    "をブラウザで開けて、右クリックで「名前を付けて保存」でPCのローカルディスクにコピーします。"
   ]
  },
  {
   "cell_type": "markdown",
   "metadata": {},
   "source": [
    "## Recap\n",
    "ファイルのアップロードの仕方が少しわかりにくかったのでもう一度おさらいします。\n",
    "- ファイルをアップロードする\n",
    "  - Colab画面の左にある「ファイル」アイコンをクリックするとフォルダ構成画面が表示する\n",
    "  - フォルダ構成画面の上方に、「セッションストレージにアップロード」アイコンをクリックし、ファイルを選択する\n",
    "  - フォルダ画面にアップロードしたファイルが見えることを確認\n",
    "  - notebookのコードcellからファイルにアクセスできるようになる。\n",
    "- ファイルを次に残したい場合\n",
    "  - Colabではセッションが終了すると、アップロードしたファイルは消える（セッションに再接続してみえることもある）\n",
    "  - ファイルを次のセッション（翌日起動など）に残したい場合は、Google DriveをマウントしてGoogle Driveにファイルをアップロードすると使える。\n",
    "## Google Driveのマウント\n",
    "### フォルダ構造を表示\n",
    "- ドライブにnotebookをコピーした後\n",
    "- 左のバーにあるフォルダのアイコンをクリックすると、フォルダ構成が表示されます。\n",
    "\n",
    "<img src=\"figures/lec2_colab_drive0.png\" width=\"50%\">"
   ]
  },
  {
   "cell_type": "markdown",
   "metadata": {},
   "source": [
    "### ドライブをマウント\n",
    "- 「ドライブをマウント」ボタンを押すと、notebookにマウントを行うcellが挿入される\n",
    "\n",
    "\n",
    "<img src=\"figures/lec2_colab_drive1.png\" width=\"50%\">\n",
    "\n",
    "- cellを実行すると、'drive'がマウントされて、ファイル構造に反映される\n",
    "\n",
    "<img src=\"figures/lec2_colab_drive2.png\" width=\"50%\">"
   ]
  },
  {
   "cell_type": "markdown",
   "metadata": {},
   "source": [
    "#### ファイルをアップロード\n",
    "- Chromeの新しいタブを開き、GoogleメニューからGoogle Driveを開きます。\n",
    "- 最初にローカルPCに保存したfortune500.csvを「マイドライブ」の直下にアップロードします\n",
    "- 右クリックで「ファイルをアップロード」を選択してファイルアップロードします\n",
    "\n",
    "<img src=\"figures/lec2_colab_drive3.png\" width=\"50%\">\n",
    "\n",
    "- ファイルがアップロードされたことを確認します。\n",
    "\n",
    "<img src=\"figures/lec2_colab_drive4.png\" width=\"50%\">\n",
    "\n",
    "- Colabに戻ると、ファイル構成に'fortune500.csv'が反映されてます。\n",
    "\n",
    "<img src=\"figures/lec2_colab_drive5.png\" width=\"50%\">"
   ]
  },
  {
   "cell_type": "markdown",
   "metadata": {},
   "source": [
    "#### ファイルパスを修正してファイル読み込みのcellを実行\n",
    "\n",
    "<img src=\"figures/lec2_colab_drive6.png\" width=\"50%\">"
   ]
  },
  {
   "cell_type": "markdown",
   "metadata": {},
   "source": [
    "それではやってみましょう。"
   ]
  },
  {
   "cell_type": "code",
   "execution_count": null,
   "metadata": {},
   "outputs": [],
   "source": [
    "# csvパッケージを使う場合\n",
    "import csv\n",
    "filename = 'data/fortune500.csv'\n",
    "with open(filename, encoding='utf8', newline='') as f:\n",
    "    csvreader = csv.reader(f)\n",
    "    for row in csvreader:\n",
    "        print(row)"
   ]
  },
  {
   "cell_type": "code",
   "execution_count": null,
   "metadata": {},
   "outputs": [],
   "source": [
    "# pandasパッケージを使う場合\n",
    "import pandas as pd\n",
    "df = pd.read_csv('data/fortune500.csv')\n",
    "df.head()"
   ]
  },
  {
   "cell_type": "markdown",
   "metadata": {},
   "source": [
    "## numpyとndarray\n",
    "pythonのnumpyパッケージ付属のn次元配列を生成するクラス\n",
    "- 同じ型しか格納できない、型が決まっている＝安全\n",
    "- 多次元配列を表現できる\n",
    "- 数値計算のためのメソッド・関数が豊富で、高速な演算が可能\n"
   ]
  },
  {
   "cell_type": "code",
   "execution_count": null,
   "metadata": {},
   "outputs": [],
   "source": [
    "import numpy as np\n",
    "x = np.array([[1,2,3],[4,5,6]], dtype=np.float64)\n",
    "print('type(x):',type(x),'x.shape:',x.shape,'x.dtype:',x.dtype)"
   ]
  },
  {
   "cell_type": "markdown",
   "metadata": {},
   "source": [
    "numpyのloadtext、savetextの例"
   ]
  },
  {
   "cell_type": "code",
   "execution_count": null,
   "metadata": {},
   "outputs": [],
   "source": [
    "import numpy as np\n",
    "a=np.array([[2,3,4],[5,6,7],[8,9,10]])\n",
    "a"
   ]
  },
  {
   "cell_type": "code",
   "execution_count": null,
   "metadata": {},
   "outputs": [],
   "source": [
    "np.savetxt('test.txt', a)"
   ]
  },
  {
   "attachments": {},
   "cell_type": "markdown",
   "metadata": {},
   "source": [
    "ファイルを読み込みます。"
   ]
  },
  {
   "cell_type": "code",
   "execution_count": null,
   "metadata": {},
   "outputs": [],
   "source": [
    "np.loadtxt('test.txt')"
   ]
  },
  {
   "attachments": {},
   "cell_type": "markdown",
   "metadata": {},
   "source": [
    "## Pandas\n",
    "- DataFrameを作る（値のリストのリストから作る、コラムの辞書から作る）"
   ]
  },
  {
   "cell_type": "code",
   "execution_count": null,
   "metadata": {},
   "outputs": [],
   "source": [
    "import pandas as pd # pandasをpdとしてインポートします\n",
    "# Defining DataFrame by specifing a list of observations\n",
    "df_1= pd.DataFrame([['a', 'b', 'c'], # リスト（１行分）のリスト（行数分）\n",
    "                 ['d', 'e', 'f'],\n",
    "                 ['g', 'h', 'i']],\n",
    "                index = [1,2,3], columns = ['col1', 'col2', 'col3'])\n",
    "# Defining DataFrame by specifing a dictionary of columns \n",
    "df_2= pd.DataFrame({'col1': ['a', 'd', 'g'], #コラム名と一列文のリスト\n",
    "                 'col2': ['b', 'e', 'h'],\n",
    "                 'col3': ['c', 'f', 'i']}, \n",
    "                 index = [1,2,3])"
   ]
  },
  {
   "cell_type": "code",
   "execution_count": null,
   "metadata": {},
   "outputs": [],
   "source": [
    "df_1"
   ]
  },
  {
   "cell_type": "code",
   "execution_count": null,
   "metadata": {},
   "outputs": [],
   "source": [
    "df_2"
   ]
  },
  {
   "attachments": {},
   "cell_type": "markdown",
   "metadata": {},
   "source": [
    "### csvからDataFrameを読む(read_csv関数の利用)\n",
    "- 例）時刻をインデクスとしてもつテーブルをcsvファイルから読み込む例\n",
    "  - 時刻(テキスト)をdatetimeオブジェクトに変換しながら読み込む"
   ]
  },
  {
   "attachments": {},
   "cell_type": "markdown",
   "metadata": {},
   "source": [
    "最初にデータ(foo.csv)を準備します。ここではnumpyを使って作ります。"
   ]
  },
  {
   "cell_type": "code",
   "execution_count": null,
   "metadata": {},
   "outputs": [],
   "source": [
    "import pandas as pd\n",
    "import numpy as np\n",
    "\n",
    "# DataFrameの作成\n",
    "dates = pd.date_range('2022-01-01', periods=5)\n",
    "items = ['apple', 'banana', 'orange', 'grape', 'kiwi']\n",
    "expenses = np.random.randint(1, 10, size=5)\n",
    "days = [date.day_name() for date in dates]  # 日付から曜日を生成\n",
    "df = pd.DataFrame({'Date': dates, 'Day': days, 'Item': items, 'Expense': expenses})\n",
    "\n",
    "# CSVファイルとして保存\n",
    "df.to_csv('foo.csv', index=False)"
   ]
  },
  {
   "attachments": {},
   "cell_type": "markdown",
   "metadata": {},
   "source": [
    "ファイルの中身を表示します"
   ]
  },
  {
   "cell_type": "code",
   "execution_count": null,
   "metadata": {},
   "outputs": [],
   "source": [
    "with open('foo.csv', 'r') as f:\n",
    "    print(f.read())"
   ]
  },
  {
   "attachments": {},
   "cell_type": "markdown",
   "metadata": {},
   "source": [
    "pandasのread_csvを使って、dataframeに読み込みます。"
   ]
  },
  {
   "cell_type": "code",
   "execution_count": null,
   "metadata": {},
   "outputs": [],
   "source": [
    "import pandas as pd\n",
    "df=pd.read_csv('foo.csv',index_col='Date',parse_dates=['Date'],\n",
    "      encoding='SHIFT-JIS',names=('Date','Day','Item','Expense'))"
   ]
  },
  {
   "cell_type": "code",
   "execution_count": null,
   "metadata": {},
   "outputs": [],
   "source": [
    "df"
   ]
  },
  {
   "cell_type": "code",
   "execution_count": null,
   "metadata": {},
   "outputs": [],
   "source": [
    "iris=pd.read_csv('https://raw.githubusercontent.com/pandas-dev/pandas/main/pandas/tests/io/data/csv/iris.csv')\n",
    "iris"
   ]
  },
  {
   "attachments": {},
   "cell_type": "markdown",
   "metadata": {},
   "source": [
    "### 要素の選択：行、列による指定\n",
    "\n",
    "- loc:コラム名を使って要素を選択、df.loc[行インデックス,列名]\n",
    "- iloc:自然数インデクスを使って要素を選択、df.iloc[行番号,列番号]"
   ]
  },
  {
   "cell_type": "code",
   "execution_count": null,
   "metadata": {},
   "outputs": [],
   "source": [
    "iris.loc[[0,1]] # ラベル0,1のみを得る "
   ]
  },
  {
   "cell_type": "code",
   "execution_count": null,
   "metadata": {},
   "outputs": [],
   "source": [
    "iris.iloc[1:4,0:3] # 行がindex=1から3まで、列が0から3までを抽出"
   ]
  },
  {
   "attachments": {},
   "cell_type": "markdown",
   "metadata": {},
   "source": [
    "### 列や行の一部を取り出す\n",
    "- 行の取り出し：条件抽出、head/tail、列の取り出し：コラム名、正規表現\n"
   ]
  },
  {
   "attachments": {},
   "cell_type": "markdown",
   "metadata": {},
   "source": [
    "### DataFrameの結合の例\n",
    "- ２つのDataFrameをマージします。\n",
    "- 入力とする２つのDataFrameを作ります"
   ]
  },
  {
   "cell_type": "code",
   "execution_count": null,
   "metadata": {},
   "outputs": [],
   "source": [
    "df_1 = iris.iloc[[1,51],3:]\n",
    "df_2= iris.iloc[[1,51,101],[0,2,4]]"
   ]
  },
  {
   "attachments": {},
   "cell_type": "markdown",
   "metadata": {},
   "source": [
    "howにouterを指定するとonで示す列に対し、どちらか片方に存在するキーも使われます(例ではon='Name'"
   ]
  },
  {
   "cell_type": "code",
   "execution_count": null,
   "metadata": {},
   "outputs": [],
   "source": [
    "pd.merge(df_1, df_2, how = 'outer', on= 'Name')"
   ]
  },
  {
   "attachments": {},
   "cell_type": "markdown",
   "metadata": {},
   "source": [
    "howにinnerを指定するとonで示す列に対し、両方のデータに存在するキーのみで構成されます(例ではon='Name')"
   ]
  },
  {
   "cell_type": "code",
   "execution_count": null,
   "metadata": {},
   "outputs": [],
   "source": [
    "pd.merge(df_1, df_2, how = 'inner', on= 'Name')\n"
   ]
  },
  {
   "attachments": {},
   "cell_type": "markdown",
   "metadata": {},
   "source": [
    "### 時系列データ\n",
    "- 時系列データを生成する\n",
    "  - 2000年1月1日を開始時刻として、nobs=8か月（freqは周期、'M':毎月末)"
   ]
  },
  {
   "cell_type": "code",
   "execution_count": null,
   "metadata": {},
   "outputs": [],
   "source": [
    "nobs=8\n",
    "ts=pd.date_range('1/1/2000',periods=nobs,freq='M')"
   ]
  },
  {
   "cell_type": "code",
   "execution_count": null,
   "metadata": {},
   "outputs": [],
   "source": [
    "ts"
   ]
  },
  {
   "attachments": {},
   "cell_type": "markdown",
   "metadata": {},
   "source": [
    "- 時間インデクスを使った列(Series)のスライスの例"
   ]
  },
  {
   "cell_type": "code",
   "execution_count": null,
   "metadata": {},
   "outputs": [],
   "source": [
    "# 時系列データをインデクスとしてSeriesを作成\n",
    "y0=np.random.normal(loc=1.5,scale=2.0, size=nobs)\n",
    "y= pd.Series(y0,index=ts)\n",
    "y"
   ]
  },
  {
   "cell_type": "code",
   "execution_count": null,
   "metadata": {},
   "outputs": [],
   "source": [
    "y['31/3/2000':'31/7/2000']"
   ]
  },
  {
   "attachments": {},
   "cell_type": "markdown",
   "metadata": {},
   "source": [
    "## ndarrayとDataFrame間の変換\n",
    "\n",
    "numpyのndarray型は、配列ですが、\n",
    "- 同じ型しか格納できない\n",
    "- 多次元配列を表現できる\n",
    "- 数値計算のためのメソッド・関数が豊富で、高速な演算が可能\n"
   ]
  },
  {
   "cell_type": "code",
   "execution_count": null,
   "metadata": {},
   "outputs": [],
   "source": [
    "#numpy.ndarrayを作ります。\n",
    "x=np.random.normal(size=10)\n",
    "print(type(x))\n",
    "print(x)"
   ]
  },
  {
   "cell_type": "code",
   "execution_count": null,
   "metadata": {},
   "outputs": [],
   "source": [
    "#一端、pandasのSeries型に変換します。\n",
    "y=pd.Series(x)\n",
    "print(type(y))\n",
    "print(y)"
   ]
  },
  {
   "cell_type": "code",
   "execution_count": null,
   "metadata": {},
   "outputs": [],
   "source": [
    "# dataframeにします。\n",
    "df=pd.DataFrame(x)\n",
    "print(type(df))\n",
    "df"
   ]
  },
  {
   "attachments": {},
   "cell_type": "markdown",
   "metadata": {},
   "source": [
    "カラム名をつけます"
   ]
  },
  {
   "cell_type": "code",
   "execution_count": null,
   "metadata": {},
   "outputs": [],
   "source": [
    "# dataframeにするときに Head,Tailの２つのカラムを作ります。\n",
    "df=pd.DataFrame({'Head':x,'Tail':x*2})\n",
    "df"
   ]
  },
  {
   "attachments": {},
   "cell_type": "markdown",
   "metadata": {},
   "source": [
    "列をえるには、カラム名を指定します。"
   ]
  },
  {
   "cell_type": "code",
   "execution_count": null,
   "metadata": {},
   "outputs": [],
   "source": [
    "df['Head']"
   ]
  },
  {
   "attachments": {},
   "cell_type": "markdown",
   "metadata": {},
   "source": [
    "arrayに戻すには、valuesを使います。"
   ]
  },
  {
   "cell_type": "code",
   "execution_count": null,
   "metadata": {},
   "outputs": [],
   "source": [
    "df['Head'].values"
   ]
  },
  {
   "attachments": {},
   "cell_type": "markdown",
   "metadata": {},
   "source": [
    "#### データの統計的な概要を表示するdescribe()"
   ]
  },
  {
   "cell_type": "code",
   "execution_count": null,
   "metadata": {},
   "outputs": [],
   "source": [
    "iris=pd.read_csv('https://raw.githubusercontent.com/pandas-dev/pandas/main/pandas/tests/io/data/csv/iris.csv')\n",
    "iris.describe()"
   ]
  },
  {
   "attachments": {},
   "cell_type": "markdown",
   "metadata": {},
   "source": [
    "### グループ化\n",
    "goupebyメソッドは指定したコラムの値が同じもので、列をグループ化します。"
   ]
  },
  {
   "cell_type": "code",
   "execution_count": null,
   "metadata": {},
   "outputs": [],
   "source": [
    "df_3 = iris.iloc[[1,2,3,4,51,52,53,54],[0,2,4]]\n",
    "a=df_3.groupby('Name')\n",
    "a"
   ]
  },
  {
   "cell_type": "code",
   "execution_count": null,
   "metadata": {},
   "outputs": [],
   "source": [
    "#例えば、'Name'コラムが'Iris-versicolor'であるものの部分DataFrameをえるにはget_groupを使います。\n",
    "a.get_group('Iris-versicolor')"
   ]
  },
  {
   "attachments": {},
   "cell_type": "markdown",
   "metadata": {},
   "source": [
    "### マルチインデクス"
   ]
  },
  {
   "cell_type": "code",
   "execution_count": null,
   "metadata": {},
   "outputs": [],
   "source": [
    "df_2 = pd.DataFrame(np.arange(16).reshape(4,4), \n",
    "                 index = [['A', 'A', 'B', 'B'],['a','b','c','d']],         \n",
    "                 columns = ['boston','newyork','london','tokyo'])\n",
    "df_2.index.names = ['Idx1', 'Idx2']\n",
    "df_2"
   ]
  },
  {
   "attachments": {},
   "cell_type": "markdown",
   "metadata": {},
   "source": [
    "### 値でないものはNaN(非数Not a Number)、np.nanを用いる"
   ]
  },
  {
   "cell_type": "code",
   "execution_count": null,
   "metadata": {},
   "outputs": [],
   "source": [
    "df_na_1 = pd.DataFrame([[1, 2, 3, 4], \n",
    "                     [4, 5, 6, np.nan], \n",
    "                     [6, np.nan, 7, 8], \n",
    "                     [9, np.nan, np.nan, np.nan]])\n",
    "df_na_1.dropna() "
   ]
  },
  {
   "attachments": {},
   "cell_type": "markdown",
   "metadata": {},
   "source": [
    "#### メソッドチェーン\n",
    "最初に普通に\n",
    "\n",
    "- 最初に3列のDataFrameを作成し\n",
    "- 次に、pd.melt()関数を使用して、DataFrameの形式を変更し\n",
    "- その後、rename()メソッドを使用して列名を変更し、\n",
    "- query()メソッドを使用して、val列が200以上の行を抽出しています。"
   ]
  },
  {
   "cell_type": "code",
   "execution_count": null,
   "metadata": {},
   "outputs": [],
   "source": [
    "import pandas as pd\n",
    "\n",
    "# DataFrameの作成\n",
    "df = pd.DataFrame({'A': [1, 2, 3], 'B': [400, 500, 600], 'C': [7, 800, 900]})\n",
    "print('元のデータフレーム:\\n', df)\n",
    "\n",
    "# データフレームの形式を変更\n",
    "df = pd.melt(df).rename(columns={'variable': 'var', 'value': 'val'})\n",
    "print('形式変更後のデータフレーム:\\n', df)\n",
    "\n",
    "# valが200以上の行を抽出\n",
    "df = df.query('val >= 200')\n",
    "print('valが200以上の行を抽出したデータフレーム:\\n', df)\n"
   ]
  },
  {
   "attachments": {},
   "cell_type": "markdown",
   "metadata": {},
   "source": [
    "これをメソッドチェーンでやると"
   ]
  },
  {
   "cell_type": "code",
   "execution_count": null,
   "metadata": {},
   "outputs": [],
   "source": [
    "df = pd.DataFrame({'A': [1, 2, 3], 'B': [400, 500, 600], 'C': [7, 800, 900]})\n",
    "print('元のデータフレーム:\\n', df)\n",
    "\n",
    "df = (pd.melt(df)\n",
    "        .rename(columns={\n",
    "                'variable' : 'var',  \n",
    "                'value' : 'val'})\n",
    "        .query('val >= 200')\n",
    "     )\n",
    "df"
   ]
  },
  {
   "attachments": {},
   "cell_type": "markdown",
   "metadata": {},
   "source": [
    "## Pandas クイズ\n",
    "ここでは、Pandasに関するクイズを2つ紹介します。\n",
    "\n",
    "クイズ１： dfというデータフレームがあり、col1とcol2という列があります。col1列が[1, 2, 3]でcol2列が[4, 5, 6]である場合、以下のコードは何を出力しますか？\n",
    "\n",
    "```python\n",
    "df['col3'] = df.apply(lambda row: row['col1'] + row['col2'], axis=1)\n",
    "print(df)\n",
    "```"
   ]
  },
  {
   "cell_type": "code",
   "execution_count": null,
   "metadata": {},
   "outputs": [],
   "source": [
    "#やってみましょう。\n",
    "df=pd.DataFrame({\"col1\":[1, 2, 3],\"col2\":[4, 5, 6]})"
   ]
  },
  {
   "attachments": {},
   "cell_type": "markdown",
   "metadata": {},
   "source": [
    "クイズ２：\n",
    "次のようなdataframeがあります。\n",
    "\n",
    "\n",
    "```python\n",
    "import pandas as pd\n",
    "\n",
    "df = pd.DataFrame({'A': [1, 2, 3, 4], 'B': [4, 5, 6, 7], 'C': [7, 8, 9, 10]})\n",
    "```\n",
    "\n",
    "つぎは何になりますか？\n",
    "```\n",
    "print(df.iloc[1:3, 0:2])\n",
    "```"
   ]
  },
  {
   "cell_type": "code",
   "execution_count": null,
   "metadata": {},
   "outputs": [],
   "source": [
    "#やってみましょう"
   ]
  },
  {
   "attachments": {},
   "cell_type": "markdown",
   "metadata": {},
   "source": [
    "クイズ３：次のようなデータフレームdfがあります。\n",
    "\n",
    "```python\n",
    "import pandas as pd\n",
    "\n",
    "df = pd.DataFrame({'A': [1, 2, 3, 4], 'B': [4, 5, 6, 7], 'C': [7, 8, 9, 10]})\n",
    "```\n",
    "\n",
    "つぎは何になりますか？\n",
    "\n",
    "```\n",
    "print(df.loc[df['B'] > 5])\n",
    "```"
   ]
  },
  {
   "cell_type": "code",
   "execution_count": null,
   "metadata": {},
   "outputs": [],
   "source": [
    "#やってみましょう"
   ]
  }
 ],
 "metadata": {
  "interpreter": {
   "hash": "2db524e06e9f5f4ffedc911c917cb75e12dbc923643829bf417064a77eb14d37"
  },
  "kernelspec": {
   "display_name": "Python 3.8.3 64-bit",
   "language": "python",
   "name": "python3"
  },
  "language_info": {
   "codemirror_mode": {
    "name": "ipython",
    "version": 3
   },
   "file_extension": ".py",
   "mimetype": "text/x-python",
   "name": "python",
   "nbconvert_exporter": "python",
   "pygments_lexer": "ipython3",
   "version": "3.8.3"
  },
  "orig_nbformat": 4
 },
 "nbformat": 4,
 "nbformat_minor": 2
}
