{
 "cells": [
  {
   "attachments": {},
   "cell_type": "markdown",
   "metadata": {},
   "source": [
    "# Lecture5 実習\n",
    "\n",
    "ここでは、「マンガと学ぶデータビジュアライゼーション」掲載のデータを使って様々な可視化を実習します。\n",
    "\n",
    "https://kakeami.github.io/viz-madb/index.html\n",
    "\n",
    "\n",
    "```\n",
    "データビジュアライゼーションとは，数値や文章などのデータに基づいた情報を，人間が理解しやすい形に視覚化する技術を指します．\n",
    "\n",
    "このサイトは，文化庁のメディア芸術データベース・ラボ（MADB Lab）で公開されている四大少年誌（ 週刊少年サンデー， 週刊少年ジャンプ， 週刊少年チャンピオン， 週刊少年マガジン ）のデータを用いて，データビジュアライゼーションの学習を手助けすることを目指しています\n",
    "```"
   ]
  },
  {
   "cell_type": "markdown",
   "metadata": {},
   "source": [
    "# 1.棒グラフ"
   ]
  },
  {
   "cell_type": "code",
   "execution_count": null,
   "metadata": {},
   "outputs": [],
   "source": [
    "#Colabならいらない\n",
    "#!pip install plotly"
   ]
  },
  {
   "cell_type": "code",
   "execution_count": null,
   "metadata": {},
   "outputs": [],
   "source": [
    "import itertools\n",
    "import pandas as pd\n",
    "import plotly.express as px\n",
    "\n",
    "import warnings\n",
    "warnings.filterwarnings('ignore')"
   ]
  },
  {
   "cell_type": "code",
   "execution_count": null,
   "metadata": {},
   "outputs": [],
   "source": [
    "# 前処理の結果，以下に分析対象ファイルが格納されていることを想定\n",
    "#PATH_DATA = 'data/preprocess/out/episodes.csv'\n",
    "# Jupyter Book用のPlotlyのrenderer\n",
    "#RENDERER = 'plotly_mimetype+notebook'\n",
    "RENDERER = \"colab\""
   ]
  },
  {
   "cell_type": "code",
   "execution_count": null,
   "metadata": {},
   "outputs": [],
   "source": [
    "def show_fig(fig):\n",
    "    \"\"\"Jupyter Bookでも表示可能なようRendererを指定\"\"\"\n",
    "    fig.update_layout(margin=dict(t=50, l=25, r=25, b=25))\n",
    "    fig.show(renderer=RENDERER)"
   ]
  },
  {
   "cell_type": "code",
   "execution_count": null,
   "metadata": {},
   "outputs": [],
   "source": [
    "def add_years_to_df(df, unit_years=10):\n",
    "    \"\"\"unit_years単位で区切ったyears列を追加\"\"\"\n",
    "    df_new = df.copy()\n",
    "    df_new['years'] = \\\n",
    "        pd.to_datetime(df['datePublished']).dt.year \\\n",
    "        // unit_years * unit_years\n",
    "    df_new['years'] = df_new['years'].astype(str)\n",
    "    return df_new"
   ]
  },
  {
   "cell_type": "code",
   "execution_count": null,
   "metadata": {},
   "outputs": [],
   "source": [
    "def resample_df_by_cname_and_years(df):\n",
    "    \"\"\"cnameとyearsのすべての組み合わせが存在するように0埋め\n",
    "    この処理を実施しないと作図時にX軸方向の順序が変わってしまう\"\"\"\n",
    "    df_new = df.copy()\n",
    "    yearss = df['years'].unique()\n",
    "    cnames = df['cname'].unique()\n",
    "    for cname, years in itertools.product(cnames, yearss):\n",
    "        df_tmp = df_new[\n",
    "            (df_new['cname'] == cname)&\\\n",
    "            (df_new['years'] == years)]\n",
    "        if df_tmp.shape[0] == 0:\n",
    "            s = pd.Series(\n",
    "                {'cname': cname,\n",
    "                 'years': years,\n",
    "                 'weeks': 0,},\n",
    "                index=df_tmp.columns)\n",
    "            df_new = df_new.append(\n",
    "                s, ignore_index=True)\n",
    "    return df_new"
   ]
  },
  {
   "cell_type": "code",
   "execution_count": null,
   "metadata": {},
   "outputs": [],
   "source": [
    "def resample_df_by_creator_and_years(df):\n",
    "    \"\"\"creatorとyearsのすべての組み合わせが存在するように0埋め\n",
    "    この処理を実施しないと作図時にX軸方向の順序が変わってしまう\"\"\"\n",
    "    df_new = df.copy()\n",
    "    yearss = df['years'].unique()\n",
    "    creators = df['creator'].unique()\n",
    "    for creator, years in itertools.product(creators, yearss):\n",
    "        df_tmp = df_new[\n",
    "            (df_new['creator'] == creator)&\\\n",
    "            (df_new['years'] == years)]\n",
    "        if df_tmp.shape[0] == 0:\n",
    "            s = pd.Series(\n",
    "                {'creator': creator,\n",
    "                 'years': years,\n",
    "                 'weeks': 0,},\n",
    "                index=df_tmp.columns)\n",
    "            df_new = df_new.append(\n",
    "                s, ignore_index=True)\n",
    "    return df_new"
   ]
  },
  {
   "cell_type": "markdown",
   "metadata": {},
   "source": [
    "あらかじめ[前処理](https://kakeami.github.io/viz-madb/appendix/preprocess.html)に従って作成したデータを使います。"
   ]
  },
  {
   "cell_type": "code",
   "execution_count": null,
   "metadata": {},
   "outputs": [],
   "source": [
    "#df = pd.read_csv(PATH_DATA)\n",
    "df=pd.read_csv('https://raw.githubusercontent.com/miwamasa/DataScience2023/main/notebooks/data/preprocess/out/episodes.csv')"
   ]
  },
  {
   "cell_type": "code",
   "execution_count": null,
   "metadata": {},
   "outputs": [],
   "source": [
    "df.head()"
   ]
  },
  {
   "cell_type": "markdown",
   "metadata": {},
   "source": [
    "### 1.3.2. 作品別の掲載週数（上位20作品）\n",
    "まずは，作品ごとの掲載週数を見てみましょう．"
   ]
  },
  {
   "cell_type": "code",
   "execution_count": null,
   "metadata": {},
   "outputs": [],
   "source": [
    "df_plot = df.value_counts('cname').reset_index(name='weeks').head(20)\n",
    "fig = px.bar(df_plot, x='cname', y='weeks', \n",
    "             title='作品別の掲載週数')\n",
    "fig.update_xaxes(title='作品名')\n",
    "fig.update_yaxes(title='掲載週数')\n",
    "show_fig(fig)"
   ]
  },
  {
   "cell_type": "markdown",
   "metadata": {},
   "source": [
    "### 1.3.3. 作品別・年代別の掲載週数（上位20作品）\n",
    "では，上記の作品はいつ頃掲載されたものなのでしょうか？ここでは：\n",
    "\n",
    "- 集合棒グラフ（グループ化された棒グラフ）\n",
    "- 積上げ棒グラフ\n",
    "\n",
    "を使って，作品別・年代別の合計掲載週を可視化します"
   ]
  },
  {
   "cell_type": "code",
   "execution_count": null,
   "metadata": {},
   "outputs": [],
   "source": [
    "# dfに10年区切りの年代情報を追加\n",
    "df = add_years_to_df(df)"
   ]
  },
  {
   "cell_type": "code",
   "execution_count": null,
   "metadata": {},
   "outputs": [],
   "source": [
    "# プロット用に集計\n",
    "df_plot = df.groupby('cname')['years'].value_counts().\\\n",
    "    reset_index(name='weeks')\n",
    "# 連載週数上位10作品を抽出\n",
    "cnames = list(df.value_counts('cname').head(20).index)\n",
    "df_plot = df_plot[df_plot['cname'].isin(cnames)].\\\n",
    "    reset_index(drop=True)\n",
    "# cname，yearsでアップサンプリング\n",
    "df_plot = resample_df_by_cname_and_years(df_plot)"
   ]
  },
  {
   "cell_type": "code",
   "execution_count": null,
   "metadata": {},
   "outputs": [],
   "source": [
    "# 合計連載週数で降順ソート\n",
    "df_plot['order'] = df_plot['cname'].apply(\n",
    "    lambda x: cnames.index(x))\n",
    "df_plot = df_plot.sort_values(\n",
    "    ['order', 'years'], ignore_index=True)"
   ]
  },
  {
   "cell_type": "code",
   "execution_count": null,
   "metadata": {},
   "outputs": [],
   "source": [
    "# 作図\n",
    "fig = px.bar(\n",
    "    df_plot, x='cname', y='weeks', color='years',\n",
    "    color_discrete_sequence= px.colors.diverging.Portland,\n",
    "    barmode='group', \n",
    "    title='作品別・年代別の合計掲載週数（集合棒グラフ）')\n",
    "fig.update_xaxes(title='作品名')\n",
    "fig.update_yaxes(title='合計連載週数')\n",
    "show_fig(fig)"
   ]
  },
  {
   "cell_type": "markdown",
   "metadata": {},
   "source": [
    "冒頭の棒グラフを年代ごとに分割し，作品ごとに横に並べました．このようなグラフを集合棒グラフと呼びます．\n",
    "\n",
    "長所：\n",
    "- 各作品・各年代の絶対値を比較しやすい\n",
    "  - 例：1970年代はダメおやじ，1980年代はこちら葛飾区亀有公園前派出所が代表的\n",
    "- 各作品がどの年代に掲載されたか定性的にわかりやすい\n",
    "  - 例：ダメおやじ等は1970-1980年代，MAJORは1990-2010年代に掲載された\n",
    "\n",
    "課題：\n",
    "- 年代の数に比例して凡例の数が増えてしまうため，全体的に棒が細くなり，視認性が悪くなる\n",
    "- 年代をまたがった**合計掲載週数**の比較がしづらい"
   ]
  },
  {
   "cell_type": "code",
   "execution_count": null,
   "metadata": {},
   "outputs": [],
   "source": [
    "# 作図\n",
    "fig = px.bar(\n",
    "    df_plot, x='cname', y='weeks', color='years',\n",
    "    color_discrete_sequence= px.colors.diverging.Portland,\n",
    "    barmode='stack', \n",
    "    title='作品別・年代別の合計連載週数（積上げ棒グラフ）')\n",
    "fig.update_xaxes(title='作品名')\n",
    "fig.update_yaxes(title='合計連載週数')\n",
    "show_fig(fig)"
   ]
  },
  {
   "cell_type": "markdown",
   "metadata": {},
   "source": [
    "同じ情報を積上げ棒グラフで可視化したものです． 積上げ棒グラフは，年代ごとの掲載数を横に並べるのではなく，縦に積上げていることにご注意ください．\n",
    "\n",
    "積上げ棒グラフの長所：\n",
    "\n",
    "- 各作品の年代ごとの比率を比較しやすい\n",
    "- 各作品の合計掲載週を比較しやすい\n",
    "\n",
    "積上げ棒グラフの短所は：\n",
    "- 各作品・各年代の絶対値を比較しづらい\n"
   ]
  },
  {
   "cell_type": "markdown",
   "metadata": {},
   "source": [
    "### 1.3.4. 作家別の掲載週数（上位20名）\n",
    "同様に，作家別に掲載週数を可視化してみましょう．"
   ]
  },
  {
   "cell_type": "code",
   "execution_count": null,
   "metadata": {},
   "outputs": [],
   "source": [
    "df_plot = df.value_counts('creator').reset_index(name='weeks').head(20)\n",
    "fig = px.bar(df_plot, x='creator', y='weeks', title='作者別の掲載週数')\n",
    "fig.update_xaxes(title='作家名')\n",
    "fig.update_yaxes(title='掲載週数')\n",
    "show_fig(fig)"
   ]
  },
  {
   "cell_type": "markdown",
   "metadata": {},
   "source": [
    "### 1.3.5. 作家別・年代別の掲載週数（上位20名）"
   ]
  },
  {
   "cell_type": "code",
   "execution_count": null,
   "metadata": {},
   "outputs": [],
   "source": [
    "# 10年単位で区切ったyearsを追加\n",
    "df = add_years_to_df(df)"
   ]
  },
  {
   "cell_type": "code",
   "execution_count": null,
   "metadata": {},
   "outputs": [],
   "source": [
    "# プロット用に集計\n",
    "df_plot = df.groupby('creator')['years'].value_counts().\\\n",
    "    reset_index(name='weeks')\n",
    "# 連載週刊上位20作品を抽出\n",
    "creators = list(df.value_counts('creator').head(20).index)\n",
    "df_plot = df_plot[df_plot['creator'].isin(creators)].\\\n",
    "    reset_index(drop=True)\n",
    "# creator，yearsでアップサンプリング\n",
    "df_plot = resample_df_by_creator_and_years(df_plot)"
   ]
  },
  {
   "cell_type": "code",
   "execution_count": null,
   "metadata": {},
   "outputs": [],
   "source": [
    "# 合計連載週数で降順ソート\n",
    "df_plot['order'] = df_plot['creator'].apply(\n",
    "    lambda x: creators.index(x))\n",
    "df_plot = df_plot.sort_values(\n",
    "    ['order', 'years'], ignore_index=True)"
   ]
  },
  {
   "cell_type": "code",
   "execution_count": null,
   "metadata": {},
   "outputs": [],
   "source": [
    "# 作図\n",
    "fig = px.bar(\n",
    "    df_plot, x='creator', y='weeks', color='years',\n",
    "    color_discrete_sequence= px.colors.diverging.Portland,\n",
    "    barmode='group', title='作家別・年代別の掲載週数')\n",
    "fig.update_xaxes(title='作家名')\n",
    "fig.update_yaxes(title='掲載週数')\n",
    "show_fig(fig)"
   ]
  },
  {
   "cell_type": "code",
   "execution_count": null,
   "metadata": {},
   "outputs": [],
   "source": [
    "# 作図\n",
    "fig = px.bar(\n",
    "    df_plot, x='creator', y='weeks', color='years',\n",
    "    color_discrete_sequence= px.colors.diverging.Portland,\n",
    "    barmode='stack', title='作家別・年代別の掲載週数')\n",
    "fig.update_xaxes(title='作家名')\n",
    "fig.update_yaxes(title='掲載週数')\n",
    "show_fig(fig)"
   ]
  },
  {
   "cell_type": "markdown",
   "metadata": {},
   "source": [
    "## 1.4. 練習問題\n",
    "1. 掲載週（datePublished）数ではなく，作品（cname）数が多い作家を可視化してみましょう．掲載週数と比較して言えることはありますか？\n",
    "2. 年代別・作品数別に積上げ棒グラフを作成して，作家毎の特徴を考察してみましょう"
   ]
  },
  {
   "cell_type": "code",
   "execution_count": null,
   "metadata": {},
   "outputs": [],
   "source": []
  }
 ],
 "metadata": {
  "interpreter": {
   "hash": "2db524e06e9f5f4ffedc911c917cb75e12dbc923643829bf417064a77eb14d37"
  },
  "kernelspec": {
   "display_name": "Python 3.8.3 64-bit",
   "language": "python",
   "name": "python3"
  },
  "language_info": {
   "codemirror_mode": {
    "name": "ipython",
    "version": 3
   },
   "file_extension": ".py",
   "mimetype": "text/x-python",
   "name": "python",
   "nbconvert_exporter": "python",
   "pygments_lexer": "ipython3",
   "version": "3.8.3"
  },
  "orig_nbformat": 4
 },
 "nbformat": 4,
 "nbformat_minor": 2
}
