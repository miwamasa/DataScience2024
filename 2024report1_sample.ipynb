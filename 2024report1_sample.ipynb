{
 "cells": [
  {
   "attachments": {},
   "cell_type": "markdown",
   "metadata": {},
   "source": [
    "# レポート１(提出期限5/9)\n",
    "<div dir='rtl'>\n",
    "2023.4岩政\n",
    "</div>\n",
    "\n",
    "**必ず名前と学籍番号を書くこと**\n",
    "\n",
    "名前：\n",
    "\n",
    "学籍番号：\n",
    "\n",
    "**注意** ChatGPTを用いた回答をそのまま流用したものは０点とする。\n",
    "\n",
    "## 1.1 可視化(10点)\n",
    "\n",
    "ここでは、「マンガと学ぶデータビジュアライゼーション」掲載のデータを使って、左のメニューにある、可視化について、講義（棒グラフ）以外の可視化を選択して実行し(7点)、考察しなさい(3点)\n",
    "\n",
    "\n",
    "https://kakeami.github.io/viz-madb/index.html\n",
    "\n",
    "\n",
    "- 各々「MADB Labを用いた作図例」以降が可視化事例になっている\n",
    "- データ読み込みのセルは、スキップする(df = pd.read_csv(PATH_DATA))\n",
    "- コラム名が、元のデータと異なるなどの、エラーが出る場合もあるので、都度修正する。"
   ]
  },
  {
   "cell_type": "code",
   "execution_count": 1,
   "metadata": {},
   "outputs": [],
   "source": [
    "#Colabならいらない\n",
    "#!pip install plotly"
   ]
  },
  {
   "cell_type": "code",
   "execution_count": 2,
   "metadata": {},
   "outputs": [],
   "source": [
    "import itertools\n",
    "import pandas as pd\n",
    "import plotly.express as px\n",
    "\n",
    "import warnings\n",
    "warnings.filterwarnings('ignore')\n",
    "RENDERER = \"colab\""
   ]
  },
  {
   "attachments": {},
   "cell_type": "markdown",
   "metadata": {},
   "source": [
    "データを読み込みます。dfを壊してしまった場合も以下を、再実行すれば、dataframeが回復する"
   ]
  },
  {
   "cell_type": "code",
   "execution_count": 5,
   "metadata": {},
   "outputs": [
    {
     "data": {
      "text/html": [
       "<div>\n",
       "<style scoped>\n",
       "    .dataframe tbody tr th:only-of-type {\n",
       "        vertical-align: middle;\n",
       "    }\n",
       "\n",
       "    .dataframe tbody tr th {\n",
       "        vertical-align: top;\n",
       "    }\n",
       "\n",
       "    .dataframe thead th {\n",
       "        text-align: right;\n",
       "    }\n",
       "</style>\n",
       "<table border=\"1\" class=\"dataframe\">\n",
       "  <thead>\n",
       "    <tr style=\"text-align: right;\">\n",
       "      <th></th>\n",
       "      <th>mcname</th>\n",
       "      <th>miid</th>\n",
       "      <th>miname</th>\n",
       "      <th>cid</th>\n",
       "      <th>cname</th>\n",
       "      <th>epname</th>\n",
       "      <th>creator</th>\n",
       "      <th>pageStart</th>\n",
       "      <th>pageEnd</th>\n",
       "      <th>numberOfPages</th>\n",
       "      <th>datePublished</th>\n",
       "      <th>price</th>\n",
       "      <th>publisher</th>\n",
       "      <th>editor</th>\n",
       "    </tr>\n",
       "  </thead>\n",
       "  <tbody>\n",
       "    <tr>\n",
       "      <th>0</th>\n",
       "      <td>週刊少年ジャンプ</td>\n",
       "      <td>M616363</td>\n",
       "      <td>週刊少年ジャンプ 1970年 表示号数31</td>\n",
       "      <td>C88180</td>\n",
       "      <td>男一匹ガキ大将</td>\n",
       "      <td>土佐の源蔵の巻</td>\n",
       "      <td>本宮ひろ志</td>\n",
       "      <td>7.0</td>\n",
       "      <td>37.0</td>\n",
       "      <td>280.0</td>\n",
       "      <td>1970-07-27</td>\n",
       "      <td>80.0</td>\n",
       "      <td>集英社</td>\n",
       "      <td>長野規</td>\n",
       "    </tr>\n",
       "    <tr>\n",
       "      <th>1</th>\n",
       "      <td>週刊少年チャンピオン</td>\n",
       "      <td>M558279</td>\n",
       "      <td>週刊少年チャンピオン 1970年 表示号数14</td>\n",
       "      <td>C94272</td>\n",
       "      <td>朝日の恋人</td>\n",
       "      <td>NaN</td>\n",
       "      <td>かざま鋭二</td>\n",
       "      <td>15.0</td>\n",
       "      <td>43.0</td>\n",
       "      <td>292.0</td>\n",
       "      <td>1970-07-27</td>\n",
       "      <td>80.0</td>\n",
       "      <td>秋田書店　∥　アキタショテン</td>\n",
       "      <td>成田清美</td>\n",
       "    </tr>\n",
       "    <tr>\n",
       "      <th>2</th>\n",
       "      <td>週刊少年ジャンプ</td>\n",
       "      <td>M616363</td>\n",
       "      <td>週刊少年ジャンプ 1970年 表示号数31</td>\n",
       "      <td>C87448</td>\n",
       "      <td>ど根性ガエル</td>\n",
       "      <td>男はつらいよの巻</td>\n",
       "      <td>吉沢やすみ</td>\n",
       "      <td>39.0</td>\n",
       "      <td>53.0</td>\n",
       "      <td>280.0</td>\n",
       "      <td>1970-07-27</td>\n",
       "      <td>80.0</td>\n",
       "      <td>集英社</td>\n",
       "      <td>長野規</td>\n",
       "    </tr>\n",
       "    <tr>\n",
       "      <th>3</th>\n",
       "      <td>週刊少年チャンピオン</td>\n",
       "      <td>M558279</td>\n",
       "      <td>週刊少年チャンピオン 1970年 表示号数14</td>\n",
       "      <td>C94289</td>\n",
       "      <td>あばしり一家</td>\n",
       "      <td>アバシリ吉三の美人地獄編</td>\n",
       "      <td>永井豪</td>\n",
       "      <td>48.0</td>\n",
       "      <td>66.0</td>\n",
       "      <td>292.0</td>\n",
       "      <td>1970-07-27</td>\n",
       "      <td>80.0</td>\n",
       "      <td>秋田書店　∥　アキタショテン</td>\n",
       "      <td>成田清美</td>\n",
       "    </tr>\n",
       "    <tr>\n",
       "      <th>4</th>\n",
       "      <td>週刊少年ジャンプ</td>\n",
       "      <td>M616363</td>\n",
       "      <td>週刊少年ジャンプ 1970年 表示号数31</td>\n",
       "      <td>C88021</td>\n",
       "      <td>あらし!三匹</td>\n",
       "      <td>ミヒル登場の巻</td>\n",
       "      <td>池沢さとし</td>\n",
       "      <td>56.0</td>\n",
       "      <td>70.0</td>\n",
       "      <td>280.0</td>\n",
       "      <td>1970-07-27</td>\n",
       "      <td>80.0</td>\n",
       "      <td>集英社</td>\n",
       "      <td>長野規</td>\n",
       "    </tr>\n",
       "  </tbody>\n",
       "</table>\n",
       "</div>"
      ],
      "text/plain": [
       "       mcname     miid                   miname     cid    cname  \\\n",
       "0    週刊少年ジャンプ  M616363    週刊少年ジャンプ 1970年 表示号数31  C88180  男一匹ガキ大将   \n",
       "1  週刊少年チャンピオン  M558279  週刊少年チャンピオン 1970年 表示号数14  C94272    朝日の恋人   \n",
       "2    週刊少年ジャンプ  M616363    週刊少年ジャンプ 1970年 表示号数31  C87448   ど根性ガエル   \n",
       "3  週刊少年チャンピオン  M558279  週刊少年チャンピオン 1970年 表示号数14  C94289   あばしり一家   \n",
       "4    週刊少年ジャンプ  M616363    週刊少年ジャンプ 1970年 表示号数31  C88021   あらし!三匹   \n",
       "\n",
       "         epname creator  pageStart  pageEnd  numberOfPages datePublished  \\\n",
       "0       土佐の源蔵の巻   本宮ひろ志        7.0     37.0          280.0    1970-07-27   \n",
       "1           NaN   かざま鋭二       15.0     43.0          292.0    1970-07-27   \n",
       "2      男はつらいよの巻   吉沢やすみ       39.0     53.0          280.0    1970-07-27   \n",
       "3  アバシリ吉三の美人地獄編     永井豪       48.0     66.0          292.0    1970-07-27   \n",
       "4       ミヒル登場の巻   池沢さとし       56.0     70.0          280.0    1970-07-27   \n",
       "\n",
       "   price       publisher editor  \n",
       "0   80.0             集英社    長野規  \n",
       "1   80.0  秋田書店　∥　アキタショテン   成田清美  \n",
       "2   80.0             集英社    長野規  \n",
       "3   80.0  秋田書店　∥　アキタショテン   成田清美  \n",
       "4   80.0             集英社    長野規  "
      ]
     },
     "execution_count": 5,
     "metadata": {},
     "output_type": "execute_result"
    }
   ],
   "source": [
    "#df = pd.read_csv(PATH_DATA)\n",
    "df=pd.read_csv('https://raw.githubusercontent.com/miwamasa/DataScience2023/main/notebooks/data/preprocess/out/episodes.csv')\n",
    "df.head()"
   ]
  },
  {
   "attachments": {},
   "cell_type": "markdown",
   "metadata": {},
   "source": [
    "### ここから、回答"
   ]
  },
  {
   "attachments": {},
   "cell_type": "markdown",
   "metadata": {},
   "source": [
    "## 1.2 点推定と信頼区間(10点)\n",
    "\n",
    "2014 年ニューヨーク市で，エボラ出血熱の患者をギニアで治療した1 人の医師が微熱のため病院に行き，その後にエボラ出血熱と診断された．その直後のメディアによる世論調査ではニューヨーク市民の82% は「エボラ出血熱患者と接触した人全員に強制的な21 日間の隔離」を望んでいることがわかった．この調査は２日間にわたり、ニューヨーク市民の成人1,042 人からの回答によるものである．"
   ]
  },
  {
   "attachments": {},
   "cell_type": "markdown",
   "metadata": {},
   "source": [
    "エボラ患者との接触者全員の隔離を支持したニューヨーク市民の比率pの点推定値は、p=0.82といえる。"
   ]
  },
  {
   "attachments": {},
   "cell_type": "markdown",
   "metadata": {},
   "source": [
    "### 問1(5点)：\n",
    "隔離を支持したニューヨーク市民の比率が正規分布をしているとして、pの標準誤差を推計せよ．\n",
    "\n",
    "ヒント：講義資料の「母比率の信頼区間(つづき)」"
   ]
  },
  {
   "attachments": {},
   "cell_type": "markdown",
   "metadata": {},
   "source": [
    "隔離を指示した比率は82%であるので、この比率に関する標準誤算（分散をNで割ったもの）を求める。\n",
    "\n",
    "講義資料(P38)より、標本比率 $\\hat{p}=X/N$とすると、$z=\\frac{\\hat{p}-p}{\\sqrt{p(1-p)/N}}$が正規分布$N(0,1)$に従う、\n",
    "\n",
    "頼度$(1-\\alpha)$の信頼区間は、\n",
    "\n",
    "$$(1-\\alpha)=P(-z_{\\alpha/2}\\le z \\le z_{\\alpha/2})$$\n",
    "\n",
    "となるので、$\\hat{p}$が信頼区間$(1-\\alpha)$に入る範囲は、\n",
    "\n",
    "$$\\Big[\\hat{p}-z_{\\alpha/2}\\sqrt{\\frac{\\hat{p}(1-\\hat{p})}{N}},\\hat{p}+z_{\\alpha/2}\\sqrt{\\frac{\\hat{p}(1-\\hat{p})}{N}}\\Big]$$\n",
    "\n",
    "\n",
    "であった、ここで$\\hat{p}\\approx p$と近似し、p=0.82 を代入すると、\n",
    "\n",
    "\n",
    "$$\n",
    "SE = \\sqrt{\\frac{\\hat{p}(1-\\hat{p})}{N}}=\\sqrt{\\frac{0.82(1-0.82)}{1042}}=0.012\n",
    "$$"
   ]
  },
  {
   "attachments": {},
   "cell_type": "markdown",
   "metadata": {},
   "source": [
    "### 問2(5点)：\n",
    "p の95%信頼区間を作成せよ．"
   ]
  },
  {
   "attachments": {},
   "cell_type": "markdown",
   "metadata": {},
   "source": [
    "標準誤差 SE = 0.012，点推定値 0.82 そして \n",
    "\n",
    "z* = 1.96 を用いると(両側とすると za=zb=1.96)\n",
    "\n",
    "信頼区間は次のようになる．\n",
    "\n",
    "点推定値 ± z*× SE → 0.82 ± 1.96 × 0.012 → (0.796, 0.844) ."
   ]
  },
  {
   "attachments": {},
   "cell_type": "markdown",
   "metadata": {},
   "source": [
    "# 1.3  仮説検定(10点)\n",
    "世界で，何らかの病気に対して予防接種を受けている1 歳児は現在どのくらいいるか．について\n",
    "大学生の成人に、以下の選択肢から、選択させる。\n",
    "\n",
    "a. 20% ,</br>\n",
    "b. 50% ,</br>\n",
    "c. 80%\n",
    "\n",
    "この時、以下の仮説を立てる。\n",
    "</br>\n",
    "　帰無仮説(H0)：  彼らの回答は単なるあてずっぽうと同等だろう。</br>\n",
    "　対立仮設(H1)： 人々は正答率をよりよくするために役立つ知識を持っている\n",
    "\n",
    "帰無仮説では、1 歳児の80%は何らかの病気に対して予防接種を受けているという正解を選んだ回答者の比率p は約33.3%(つまり1/3)。ということになる。\n",
    "\n",
    "H0: p  =  0:333</br>\n",
    "H1: p  != 0:333\n",
    "\n",
    "質問された大学卒の成人の答えが正しい比率が33.3%と異なるかどうかを評価するための仮説検定をする。このデータは50 人の大学卒の成人の回答をまとめたものである．\n",
    "\n",
    "集めた解答では、50 人の大学院成人のうち，24%の回答が1 歳児の80%は何らかの病気に対して予防接種を受けているという正解であった。このデータは母比率が33.3%と異なる強力な証拠となるかどうかを仮説検定を行え。\n",
    "\n",
    "ヒント：この標本データに基づく95%信頼区間を求めて、帰無仮説( p = 0:333)が棄却できるかどうかを調べます。"
   ]
  },
  {
   "attachments": {},
   "cell_type": "markdown",
   "metadata": {},
   "source": [
    "点推定値 ($\\hat{p} = 0.24$)，\n",
    "\n",
    "95% 信頼水準のための臨界値 (z⋆ = 1.96),\n",
    "\n",
    "$\\hat{p}$ の標準誤差 ($SE_{\\hat{p}} = \\sqrt{\\hat{p}(1 − \\hat{p})/n} = 0.060$) を求める必要がある\n",
    "\n",
    "信頼区間を計算すると、\n",
    "\n",
    "$$\n",
    "\\hat{p}± z⋆ × SE_{\\hat{p}} \n",
    "$$\n",
    "\n",
    "\n",
    "0.24 ± 1.96 × 0.060 ,\n",
    "よって、信頼区間は\n",
    "(0.122, 0.358) .\n",
    "\n",
    "\n",
    "大学卒のすべての成人が乳児の予防接種について正しく回答する比率が 12.2% と 35.8%の間であるこ\n",
    "とには 95%の信頼性の範囲なので、帰無仮説は棄却できない。\n",
    "\n",
    "すなわち，大学卒の成人の正答率はあてずっぽうとは違うという見解を棄却するには十分な証拠にはなっていない。帰無仮説が真であることを指していないことに注意。"
   ]
  },
  {
   "cell_type": "code",
   "execution_count": null,
   "metadata": {},
   "outputs": [],
   "source": []
  }
 ],
 "metadata": {
  "interpreter": {
   "hash": "2db524e06e9f5f4ffedc911c917cb75e12dbc923643829bf417064a77eb14d37"
  },
  "kernelspec": {
   "display_name": "Python 3.8.3 64-bit",
   "language": "python",
   "name": "python3"
  },
  "language_info": {
   "codemirror_mode": {
    "name": "ipython",
    "version": 3
   },
   "file_extension": ".py",
   "mimetype": "text/x-python",
   "name": "python",
   "nbconvert_exporter": "python",
   "pygments_lexer": "ipython3",
   "version": "3.8.3"
  },
  "orig_nbformat": 4
 },
 "nbformat": 4,
 "nbformat_minor": 2
}
